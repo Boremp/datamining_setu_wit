{
 "cells": [
  {
   "cell_type": "code",
   "execution_count": 39,
   "metadata": {},
   "outputs": [],
   "source": [
    "#!/usr/bin/env python\n",
    " \n",
    "import pandas as pd\n",
    "import numpy as np\n",
    "import featuretools as ft"
   ]
  },
  {
   "cell_type": "code",
   "execution_count": 40,
   "metadata": {},
   "outputs": [],
   "source": [
    "clients = pd.read_csv(\"data/clients.csv\", \n",
    "    parse_dates = [\"joined\"])\n",
    "loans = pd.read_csv(\"data/loans.csv\", \n",
    "    parse_dates = [\"loan_start\", \"loan_end\"])\n",
    "payments = pd.read_csv(\"data/payments.csv\", \n",
    "    parse_dates = [\"payment_date\"])\n"
   ]
  },
  {
   "cell_type": "code",
   "execution_count": 41,
   "metadata": {},
   "outputs": [],
   "source": [
    "es = ft.EntitySet(id=\"loanRepayment\")"
   ]
  },
  {
   "cell_type": "code",
   "execution_count": 42,
   "metadata": {},
   "outputs": [
    {
     "name": "stdout",
     "output_type": "stream",
     "text": [
      "Entityset: loanRepayment\n",
      "  DataFrames:\n",
      "    clients [Rows: 25, Columns: 4]\n",
      "  Relationships:\n",
      "    No relationships\n"
     ]
    }
   ],
   "source": [
    "# Create an entity from the client dataframe\n",
    "# This dataframe already has an index and a time index\n",
    "es = es.add_dataframe(dataframe_name = \"clients\", \n",
    "    dataframe = clients, \n",
    "    index = \"client_id\", \n",
    "    time_index = \"joined\")\n",
    "print(es)"
   ]
  },
  {
   "cell_type": "code",
   "execution_count": 43,
   "metadata": {},
   "outputs": [
    {
     "name": "stdout",
     "output_type": "stream",
     "text": [
      "Entityset: loanRepayment\n",
      "  DataFrames:\n",
      "    clients [Rows: 25, Columns: 4]\n",
      "    loans [Rows: 443, Columns: 8]\n",
      "  Relationships:\n",
      "    No relationships\n"
     ]
    }
   ],
   "source": [
    "# Create an entity from the loans dataframe\n",
    "# This dataframe already has an index and a time index\n",
    "es = es.add_dataframe(dataframe_name = \"loans\", \n",
    "    dataframe = loans, \n",
    "    logical_types = {\"repaid\":\"Categorical\"},\n",
    "    index = \"loan_id\", \n",
    "    time_index = \"loan_start\")\n",
    "print(es)"
   ]
  },
  {
   "cell_type": "code",
   "execution_count": 44,
   "metadata": {},
   "outputs": [
    {
     "name": "stdout",
     "output_type": "stream",
     "text": [
      "Entityset: loanRepayment\n",
      "  DataFrames:\n",
      "    clients [Rows: 25, Columns: 4]\n",
      "    loans [Rows: 443, Columns: 8]\n",
      "    payments [Rows: 3456, Columns: 5]\n",
      "  Relationships:\n",
      "    No relationships\n"
     ]
    }
   ],
   "source": [
    "# Create an entity from the payments dataframe\n",
    "# This does not yet have a unique index\n",
    "es = es.add_dataframe(dataframe_name=\"payments\",\n",
    "dataframe = payments,\n",
    "logical_types = {\"missed\": \"Categorical\"},\n",
    "time_index = \"payment_date\",\n",
    "make_index = True,\n",
    "index = \"payment_id\")\n",
    "print(es)"
   ]
  },
  {
   "cell_type": "code",
   "execution_count": 45,
   "metadata": {},
   "outputs": [
    {
     "name": "stdout",
     "output_type": "stream",
     "text": [
      "      payment_id  loan_id  payment_amount payment_date missed\n",
      "2113        2113    11988            2053   2000-03-05      0\n",
      "726          726    11140             402   2000-03-19      0\n",
      "2114        2114    11988            2627   2000-03-30      0\n",
      "3223        3223    11430            1284   2000-04-05      0\n",
      "2115        2115    11988            1911   2000-04-11      1\n",
      "...          ...      ...             ...          ...    ...\n",
      "1415        1415    11072             957   2015-07-01      0\n",
      "1308        1308    10684             115   2015-07-06      0\n",
      "1416        1416    11072             988   2015-07-14      1\n",
      "1417        1417    11072             940   2015-07-29      0\n",
      "1418        1418    11072             932   2015-08-21      1\n",
      "\n",
      "[3456 rows x 5 columns]\n"
     ]
    }
   ],
   "source": [
    "#print(es[\"clients\"])\n",
    "#print(es[\"loans\"])\n",
    "print(es[\"payments\"])"
   ]
  },
  {
   "cell_type": "code",
   "execution_count": 46,
   "metadata": {},
   "outputs": [
    {
     "name": "stdout",
     "output_type": "stream",
     "text": [
      "Entityset: loanRepayment\n",
      "  DataFrames:\n",
      "    clients [Rows: 25, Columns: 4]\n",
      "    loans [Rows: 443, Columns: 8]\n",
      "    payments [Rows: 3456, Columns: 5]\n",
      "  Relationships:\n",
      "    loans.client_id -> clients.client_id\n"
     ]
    }
   ],
   "source": [
    "# Relationship between clients and previous loans\n",
    "es.add_relationship(\n",
    "parent_dataframe_name=\"clients\",\n",
    "parent_column_name=\"client_id\",\n",
    "child_dataframe_name=\"loans\",\n",
    "child_column_name=\"client_id\",\n",
    ")\n",
    "print(es)"
   ]
  },
  {
   "cell_type": "code",
   "execution_count": 47,
   "metadata": {},
   "outputs": [
    {
     "name": "stdout",
     "output_type": "stream",
     "text": [
      "Entityset: loanRepayment\n",
      "  DataFrames:\n",
      "    clients [Rows: 25, Columns: 4]\n",
      "    loans [Rows: 443, Columns: 8]\n",
      "    payments [Rows: 3456, Columns: 5]\n",
      "  Relationships:\n",
      "    loans.client_id -> clients.client_id\n",
      "    payments.loan_id -> loans.loan_id\n"
     ]
    }
   ],
   "source": [
    "# Relationship between previous loans and previous payments\n",
    "es.add_relationship(\n",
    "parent_dataframe_name=\"loans\",\n",
    "parent_column_name=\"loan_id\",\n",
    "child_dataframe_name=\"payments\",\n",
    "child_column_name=\"loan_id\",\n",
    ")\n",
    "print(es)"
   ]
  },
  {
   "cell_type": "code",
   "execution_count": 48,
   "metadata": {},
   "outputs": [
    {
     "name": "stdout",
     "output_type": "stream",
     "text": [
      "Number of features 288\n"
     ]
    }
   ],
   "source": [
    "# Create new features using specified primitives\n",
    "features, feature_names = ft.dfs(\n",
    "entityset = es,\n",
    "target_dataframe_name = \"clients\",\n",
    "agg_primitives = [\"mean\", \"max\", \"last\"],\n",
    "trans_primitives = [\"year\", \"month\", \"subtract_numeric\", \"divide_numeric\"])\n",
    "print(\"Number of features\", len(features.columns))"
   ]
  },
  {
   "cell_type": "code",
   "execution_count": 49,
   "metadata": {},
   "outputs": [
    {
     "data": {
      "text/html": [
       "<div>\n",
       "<style scoped>\n",
       "    .dataframe tbody tr th:only-of-type {\n",
       "        vertical-align: middle;\n",
       "    }\n",
       "\n",
       "    .dataframe tbody tr th {\n",
       "        vertical-align: top;\n",
       "    }\n",
       "\n",
       "    .dataframe thead th {\n",
       "        text-align: right;\n",
       "    }\n",
       "</style>\n",
       "<table border=\"1\" class=\"dataframe\">\n",
       "  <thead>\n",
       "    <tr style=\"text-align: right;\">\n",
       "      <th></th>\n",
       "      <th>MONTH(joined)</th>\n",
       "    </tr>\n",
       "    <tr>\n",
       "      <th>client_id</th>\n",
       "      <th></th>\n",
       "    </tr>\n",
       "  </thead>\n",
       "  <tbody>\n",
       "    <tr>\n",
       "      <th>42320</th>\n",
       "      <td>4</td>\n",
       "    </tr>\n",
       "    <tr>\n",
       "      <th>39384</th>\n",
       "      <td>6</td>\n",
       "    </tr>\n",
       "    <tr>\n",
       "      <th>26945</th>\n",
       "      <td>11</td>\n",
       "    </tr>\n",
       "    <tr>\n",
       "      <th>41472</th>\n",
       "      <td>11</td>\n",
       "    </tr>\n",
       "    <tr>\n",
       "      <th>46180</th>\n",
       "      <td>11</td>\n",
       "    </tr>\n",
       "  </tbody>\n",
       "</table>\n",
       "</div>"
      ],
      "text/plain": [
       "          MONTH(joined)\n",
       "client_id              \n",
       "42320                 4\n",
       "39384                 6\n",
       "26945                11\n",
       "41472                11\n",
       "46180                11"
      ]
     },
     "execution_count": 49,
     "metadata": {},
     "output_type": "execute_result"
    }
   ],
   "source": [
    "pd.DataFrame(features[\"MONTH(joined)\"].head())"
   ]
  },
  {
   "cell_type": "code",
   "execution_count": 50,
   "metadata": {},
   "outputs": [
    {
     "data": {
      "text/html": [
       "<div>\n",
       "<style scoped>\n",
       "    .dataframe tbody tr th:only-of-type {\n",
       "        vertical-align: middle;\n",
       "    }\n",
       "\n",
       "    .dataframe tbody tr th {\n",
       "        vertical-align: top;\n",
       "    }\n",
       "\n",
       "    .dataframe thead th {\n",
       "        text-align: right;\n",
       "    }\n",
       "</style>\n",
       "<table border=\"1\" class=\"dataframe\">\n",
       "  <thead>\n",
       "    <tr style=\"text-align: right;\">\n",
       "      <th></th>\n",
       "      <th>MEAN(payments.payment_amount)</th>\n",
       "    </tr>\n",
       "    <tr>\n",
       "      <th>client_id</th>\n",
       "      <th></th>\n",
       "    </tr>\n",
       "  </thead>\n",
       "  <tbody>\n",
       "    <tr>\n",
       "      <th>42320</th>\n",
       "      <td>1021.483333</td>\n",
       "    </tr>\n",
       "    <tr>\n",
       "      <th>39384</th>\n",
       "      <td>1193.630137</td>\n",
       "    </tr>\n",
       "    <tr>\n",
       "      <th>26945</th>\n",
       "      <td>1109.473214</td>\n",
       "    </tr>\n",
       "    <tr>\n",
       "      <th>41472</th>\n",
       "      <td>1129.076190</td>\n",
       "    </tr>\n",
       "    <tr>\n",
       "      <th>46180</th>\n",
       "      <td>1186.550336</td>\n",
       "    </tr>\n",
       "  </tbody>\n",
       "</table>\n",
       "</div>"
      ],
      "text/plain": [
       "           MEAN(payments.payment_amount)\n",
       "client_id                               \n",
       "42320                        1021.483333\n",
       "39384                        1193.630137\n",
       "26945                        1109.473214\n",
       "41472                        1129.076190\n",
       "46180                        1186.550336"
      ]
     },
     "execution_count": 50,
     "metadata": {},
     "output_type": "execute_result"
    }
   ],
   "source": [
    "pd.DataFrame(features['MEAN(payments.payment_amount)'].head())"
   ]
  },
  {
   "cell_type": "code",
   "execution_count": 51,
   "metadata": {},
   "outputs": [
    {
     "data": {
      "text/html": [
       "<div>\n",
       "<style scoped>\n",
       "    .dataframe tbody tr th:only-of-type {\n",
       "        vertical-align: middle;\n",
       "    }\n",
       "\n",
       "    .dataframe tbody tr th {\n",
       "        vertical-align: top;\n",
       "    }\n",
       "\n",
       "    .dataframe thead th {\n",
       "        text-align: right;\n",
       "    }\n",
       "</style>\n",
       "<table border=\"1\" class=\"dataframe\">\n",
       "  <thead>\n",
       "    <tr style=\"text-align: right;\">\n",
       "      <th></th>\n",
       "      <th>income</th>\n",
       "      <th>credit_score</th>\n",
       "      <th>LAST(loans.loan_amount)</th>\n",
       "      <th>LAST(loans.loan_id)</th>\n",
       "      <th>LAST(loans.loan_type)</th>\n",
       "      <th>LAST(loans.rate)</th>\n",
       "      <th>LAST(loans.repaid)</th>\n",
       "      <th>MAX(loans.loan_amount)</th>\n",
       "      <th>MAX(loans.rate)</th>\n",
       "      <th>MEAN(loans.loan_amount)</th>\n",
       "      <th>...</th>\n",
       "      <th>income - LAST(payments.payment_id)</th>\n",
       "      <th>income - MAX(loans.loan_amount)</th>\n",
       "      <th>income - MAX(loans.rate)</th>\n",
       "      <th>income - MAX(payments.payment_amount)</th>\n",
       "      <th>income - MEAN(loans.loan_amount)</th>\n",
       "      <th>income - MEAN(loans.rate)</th>\n",
       "      <th>income - MEAN(payments.payment_amount)</th>\n",
       "      <th>YEAR(LAST(loans.loan_end))</th>\n",
       "      <th>YEAR(LAST(loans.loan_start))</th>\n",
       "      <th>YEAR(LAST(payments.payment_date))</th>\n",
       "    </tr>\n",
       "    <tr>\n",
       "      <th>client_id</th>\n",
       "      <th></th>\n",
       "      <th></th>\n",
       "      <th></th>\n",
       "      <th></th>\n",
       "      <th></th>\n",
       "      <th></th>\n",
       "      <th></th>\n",
       "      <th></th>\n",
       "      <th></th>\n",
       "      <th></th>\n",
       "      <th></th>\n",
       "      <th></th>\n",
       "      <th></th>\n",
       "      <th></th>\n",
       "      <th></th>\n",
       "      <th></th>\n",
       "      <th></th>\n",
       "      <th></th>\n",
       "      <th></th>\n",
       "      <th></th>\n",
       "      <th></th>\n",
       "    </tr>\n",
       "  </thead>\n",
       "  <tbody>\n",
       "    <tr>\n",
       "      <th>42320</th>\n",
       "      <td>229481</td>\n",
       "      <td>563</td>\n",
       "      <td>8090</td>\n",
       "      <td>10156</td>\n",
       "      <td>home</td>\n",
       "      <td>3.18</td>\n",
       "      <td>0</td>\n",
       "      <td>13887.0</td>\n",
       "      <td>6.74</td>\n",
       "      <td>7062.066667</td>\n",
       "      <td>...</td>\n",
       "      <td>227939.0</td>\n",
       "      <td>215594.0</td>\n",
       "      <td>229474.26</td>\n",
       "      <td>226712.0</td>\n",
       "      <td>222418.933333</td>\n",
       "      <td>229478.542667</td>\n",
       "      <td>228459.516667</td>\n",
       "      <td>2015</td>\n",
       "      <td>2012</td>\n",
       "      <td>2013</td>\n",
       "    </tr>\n",
       "    <tr>\n",
       "      <th>39384</th>\n",
       "      <td>191204</td>\n",
       "      <td>617</td>\n",
       "      <td>14654</td>\n",
       "      <td>11735</td>\n",
       "      <td>other</td>\n",
       "      <td>2.26</td>\n",
       "      <td>0</td>\n",
       "      <td>14654.0</td>\n",
       "      <td>9.23</td>\n",
       "      <td>7865.473684</td>\n",
       "      <td>...</td>\n",
       "      <td>188642.0</td>\n",
       "      <td>176550.0</td>\n",
       "      <td>191194.77</td>\n",
       "      <td>188382.0</td>\n",
       "      <td>183338.526316</td>\n",
       "      <td>191200.461579</td>\n",
       "      <td>190010.369863</td>\n",
       "      <td>2016</td>\n",
       "      <td>2014</td>\n",
       "      <td>2015</td>\n",
       "    </tr>\n",
       "    <tr>\n",
       "      <th>26945</th>\n",
       "      <td>214516</td>\n",
       "      <td>806</td>\n",
       "      <td>9249</td>\n",
       "      <td>11482</td>\n",
       "      <td>cash</td>\n",
       "      <td>2.86</td>\n",
       "      <td>1</td>\n",
       "      <td>14593.0</td>\n",
       "      <td>5.65</td>\n",
       "      <td>7125.933333</td>\n",
       "      <td>...</td>\n",
       "      <td>211176.0</td>\n",
       "      <td>199923.0</td>\n",
       "      <td>214510.35</td>\n",
       "      <td>211748.0</td>\n",
       "      <td>207390.066667</td>\n",
       "      <td>214513.144667</td>\n",
       "      <td>213406.526786</td>\n",
       "      <td>2016</td>\n",
       "      <td>2013</td>\n",
       "      <td>2014</td>\n",
       "    </tr>\n",
       "    <tr>\n",
       "      <th>41472</th>\n",
       "      <td>152214</td>\n",
       "      <td>638</td>\n",
       "      <td>10122</td>\n",
       "      <td>11936</td>\n",
       "      <td>cash</td>\n",
       "      <td>1.03</td>\n",
       "      <td>0</td>\n",
       "      <td>13657.0</td>\n",
       "      <td>9.82</td>\n",
       "      <td>7510.812500</td>\n",
       "      <td>...</td>\n",
       "      <td>149085.0</td>\n",
       "      <td>138557.0</td>\n",
       "      <td>152204.18</td>\n",
       "      <td>149778.0</td>\n",
       "      <td>144703.187500</td>\n",
       "      <td>152210.018750</td>\n",
       "      <td>151084.923810</td>\n",
       "      <td>2016</td>\n",
       "      <td>2014</td>\n",
       "      <td>2015</td>\n",
       "    </tr>\n",
       "    <tr>\n",
       "      <th>46180</th>\n",
       "      <td>43851</td>\n",
       "      <td>562</td>\n",
       "      <td>3834</td>\n",
       "      <td>10887</td>\n",
       "      <td>other</td>\n",
       "      <td>1.38</td>\n",
       "      <td>0</td>\n",
       "      <td>14081.0</td>\n",
       "      <td>9.26</td>\n",
       "      <td>7700.850000</td>\n",
       "      <td>...</td>\n",
       "      <td>43414.0</td>\n",
       "      <td>29770.0</td>\n",
       "      <td>43841.74</td>\n",
       "      <td>41191.0</td>\n",
       "      <td>36150.150000</td>\n",
       "      <td>43847.497500</td>\n",
       "      <td>42664.449664</td>\n",
       "      <td>2016</td>\n",
       "      <td>2014</td>\n",
       "      <td>2015</td>\n",
       "    </tr>\n",
       "  </tbody>\n",
       "</table>\n",
       "<p>5 rows × 288 columns</p>\n",
       "</div>"
      ],
      "text/plain": [
       "           income  credit_score  LAST(loans.loan_amount)  LAST(loans.loan_id)  \\\n",
       "client_id                                                                       \n",
       "42320      229481           563                     8090                10156   \n",
       "39384      191204           617                    14654                11735   \n",
       "26945      214516           806                     9249                11482   \n",
       "41472      152214           638                    10122                11936   \n",
       "46180       43851           562                     3834                10887   \n",
       "\n",
       "          LAST(loans.loan_type)  LAST(loans.rate) LAST(loans.repaid)  \\\n",
       "client_id                                                              \n",
       "42320                      home              3.18                  0   \n",
       "39384                     other              2.26                  0   \n",
       "26945                      cash              2.86                  1   \n",
       "41472                      cash              1.03                  0   \n",
       "46180                     other              1.38                  0   \n",
       "\n",
       "           MAX(loans.loan_amount)  MAX(loans.rate)  MEAN(loans.loan_amount)  \\\n",
       "client_id                                                                     \n",
       "42320                     13887.0             6.74              7062.066667   \n",
       "39384                     14654.0             9.23              7865.473684   \n",
       "26945                     14593.0             5.65              7125.933333   \n",
       "41472                     13657.0             9.82              7510.812500   \n",
       "46180                     14081.0             9.26              7700.850000   \n",
       "\n",
       "           ...  income - LAST(payments.payment_id)  \\\n",
       "client_id  ...                                       \n",
       "42320      ...                            227939.0   \n",
       "39384      ...                            188642.0   \n",
       "26945      ...                            211176.0   \n",
       "41472      ...                            149085.0   \n",
       "46180      ...                             43414.0   \n",
       "\n",
       "          income - MAX(loans.loan_amount)  income - MAX(loans.rate)  \\\n",
       "client_id                                                             \n",
       "42320                            215594.0                 229474.26   \n",
       "39384                            176550.0                 191194.77   \n",
       "26945                            199923.0                 214510.35   \n",
       "41472                            138557.0                 152204.18   \n",
       "46180                             29770.0                  43841.74   \n",
       "\n",
       "           income - MAX(payments.payment_amount)  \\\n",
       "client_id                                          \n",
       "42320                                   226712.0   \n",
       "39384                                   188382.0   \n",
       "26945                                   211748.0   \n",
       "41472                                   149778.0   \n",
       "46180                                    41191.0   \n",
       "\n",
       "           income - MEAN(loans.loan_amount)  income - MEAN(loans.rate)  \\\n",
       "client_id                                                                \n",
       "42320                         222418.933333              229478.542667   \n",
       "39384                         183338.526316              191200.461579   \n",
       "26945                         207390.066667              214513.144667   \n",
       "41472                         144703.187500              152210.018750   \n",
       "46180                          36150.150000               43847.497500   \n",
       "\n",
       "           income - MEAN(payments.payment_amount)  YEAR(LAST(loans.loan_end))  \\\n",
       "client_id                                                                       \n",
       "42320                               228459.516667                        2015   \n",
       "39384                               190010.369863                        2016   \n",
       "26945                               213406.526786                        2016   \n",
       "41472                               151084.923810                        2016   \n",
       "46180                                42664.449664                        2016   \n",
       "\n",
       "          YEAR(LAST(loans.loan_start))  YEAR(LAST(payments.payment_date))  \n",
       "client_id                                                                  \n",
       "42320                             2012                               2013  \n",
       "39384                             2014                               2015  \n",
       "26945                             2013                               2014  \n",
       "41472                             2014                               2015  \n",
       "46180                             2014                               2015  \n",
       "\n",
       "[5 rows x 288 columns]"
      ]
     },
     "execution_count": 51,
     "metadata": {},
     "output_type": "execute_result"
    }
   ],
   "source": [
    "features.head()"
   ]
  }
 ],
 "metadata": {
  "kernelspec": {
   "display_name": "Python 3",
   "language": "python",
   "name": "python3"
  },
  "language_info": {
   "codemirror_mode": {
    "name": "ipython",
    "version": 3
   },
   "file_extension": ".py",
   "mimetype": "text/x-python",
   "name": "python",
   "nbconvert_exporter": "python",
   "pygments_lexer": "ipython3",
   "version": "3.10.6"
  },
  "orig_nbformat": 4,
  "vscode": {
   "interpreter": {
    "hash": "c3503f95e0e8f4afdf6702396a7a2a29cae9f67572acfe092405dcaa2579b817"
   }
  }
 },
 "nbformat": 4,
 "nbformat_minor": 2
}
