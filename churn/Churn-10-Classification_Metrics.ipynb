{
 "cells": [
  {
   "attachments": {},
   "cell_type": "markdown",
   "metadata": {},
   "source": [
    "## Setup"
   ]
  },
  {
   "cell_type": "code",
   "execution_count": 3,
   "metadata": {},
   "outputs": [],
   "source": [
    "import pandas as pd\n",
    "import numpy as np\n",
    "import matplotlib.pyplot as plt\n",
    "import seaborn as sns\n",
    "\n",
    "from IPython.display import display, Markdown\n",
    "plt.style.use(\"seaborn-darkgrid\")\n",
    "pd.set_option('display.max_columns', None)  \n",
    "\n",
    "import sys, os, yaml\n",
    "\n",
    "DATASET = \"Churn\"\n",
    "COLAB = 'google.colab' in sys.modules\n",
    "DEBUG = False\n",
    "SEED = 666"
   ]
  },
  {
   "cell_type": "code",
   "execution_count": 4,
   "metadata": {},
   "outputs": [],
   "source": [
    "COLAB = 'google.colab' in sys.modules\n",
    "\n",
    "if COLAB:\n",
    "  from google.colab import drive\n",
    "  if not os.path.isdir(\"/content/gdrive\"):\n",
    "    drive.mount(\"/content/gdrive\")\n",
    "    d = \"/content/gdrive/MyDrive/datasets\"\n",
    "    if not os.path.isdir(ROOT+d): os.makedirs(ROOT+d)\n",
    "  ROOT = f\"/content/gdrive/MyDrive/datasets/{DATASET.replace(' ','_')}/\"\n",
    "  if not os.path.isdir(ROOT): os.makedirs(ROOT)\n",
    "else:\n",
    "  ROOT = \"./\"\n",
    "\n",
    "def makedirs(d):\n",
    "  if COLAB:\n",
    "    if not os.path.isdir(ROOT+d): os.makedirs(ROOT+d)\n",
    "  else:\n",
    "    if not os.path.isdir(ROOT+d): os.makedirs(ROOT+d, mode=0o777, exist_ok=True)\n",
    "\n",
    "for d in ['orig','data','output']: makedirs(d)"
   ]
  },
  {
   "attachments": {},
   "cell_type": "markdown",
   "metadata": {},
   "source": [
    "## Load Dataset"
   ]
  },
  {
   "cell_type": "code",
   "execution_count": 5,
   "metadata": {},
   "outputs": [
    {
     "name": "stdout",
     "output_type": "stream",
     "text": [
      "(7032, 20)\n"
     ]
    },
    {
     "data": {
      "text/html": [
       "<div>\n",
       "<style scoped>\n",
       "    .dataframe tbody tr th:only-of-type {\n",
       "        vertical-align: middle;\n",
       "    }\n",
       "\n",
       "    .dataframe tbody tr th {\n",
       "        vertical-align: top;\n",
       "    }\n",
       "\n",
       "    .dataframe thead th {\n",
       "        text-align: right;\n",
       "    }\n",
       "</style>\n",
       "<table border=\"1\" class=\"dataframe\">\n",
       "  <thead>\n",
       "    <tr style=\"text-align: right;\">\n",
       "      <th></th>\n",
       "      <th>Gender</th>\n",
       "      <th>SeniorCitizen</th>\n",
       "      <th>Partner</th>\n",
       "      <th>Dependents</th>\n",
       "      <th>Tenure</th>\n",
       "      <th>PhoneService</th>\n",
       "      <th>MultipleLines</th>\n",
       "      <th>InternetService</th>\n",
       "      <th>OnlineSecurity</th>\n",
       "      <th>OnlineBackup</th>\n",
       "      <th>DeviceProtection</th>\n",
       "      <th>TechSupport</th>\n",
       "      <th>StreamingTV</th>\n",
       "      <th>StreamingMovies</th>\n",
       "      <th>Contract</th>\n",
       "      <th>PaperlessBilling</th>\n",
       "      <th>PaymentMethod</th>\n",
       "      <th>MonthlyCharges</th>\n",
       "      <th>TotalCharges</th>\n",
       "      <th>Churn</th>\n",
       "    </tr>\n",
       "  </thead>\n",
       "  <tbody>\n",
       "    <tr>\n",
       "      <th>0</th>\n",
       "      <td>Female</td>\n",
       "      <td>No</td>\n",
       "      <td>Yes</td>\n",
       "      <td>No</td>\n",
       "      <td>1</td>\n",
       "      <td>No</td>\n",
       "      <td>No</td>\n",
       "      <td>DSL</td>\n",
       "      <td>No</td>\n",
       "      <td>Yes</td>\n",
       "      <td>No</td>\n",
       "      <td>No</td>\n",
       "      <td>No</td>\n",
       "      <td>No</td>\n",
       "      <td>Month-to-month</td>\n",
       "      <td>Yes</td>\n",
       "      <td>Electronic check</td>\n",
       "      <td>29.85</td>\n",
       "      <td>29.85</td>\n",
       "      <td>No</td>\n",
       "    </tr>\n",
       "    <tr>\n",
       "      <th>1</th>\n",
       "      <td>Male</td>\n",
       "      <td>No</td>\n",
       "      <td>No</td>\n",
       "      <td>No</td>\n",
       "      <td>34</td>\n",
       "      <td>Yes</td>\n",
       "      <td>No</td>\n",
       "      <td>DSL</td>\n",
       "      <td>Yes</td>\n",
       "      <td>No</td>\n",
       "      <td>Yes</td>\n",
       "      <td>No</td>\n",
       "      <td>No</td>\n",
       "      <td>No</td>\n",
       "      <td>One year</td>\n",
       "      <td>No</td>\n",
       "      <td>Mailed check</td>\n",
       "      <td>56.95</td>\n",
       "      <td>1889.50</td>\n",
       "      <td>No</td>\n",
       "    </tr>\n",
       "  </tbody>\n",
       "</table>\n",
       "</div>"
      ],
      "text/plain": [
       "   Gender SeniorCitizen Partner Dependents  Tenure PhoneService MultipleLines  \\\n",
       "0  Female            No     Yes         No       1           No            No   \n",
       "1    Male            No      No         No      34          Yes            No   \n",
       "\n",
       "  InternetService OnlineSecurity OnlineBackup DeviceProtection TechSupport  \\\n",
       "0             DSL             No          Yes               No          No   \n",
       "1             DSL            Yes           No              Yes          No   \n",
       "\n",
       "  StreamingTV StreamingMovies        Contract PaperlessBilling  \\\n",
       "0          No              No  Month-to-month              Yes   \n",
       "1          No              No        One year               No   \n",
       "\n",
       "      PaymentMethod  MonthlyCharges  TotalCharges Churn  \n",
       "0  Electronic check           29.85         29.85    No  \n",
       "1      Mailed check           56.95       1889.50    No  "
      ]
     },
     "execution_count": 5,
     "metadata": {},
     "output_type": "execute_result"
    }
   ],
   "source": [
    "df = pd.read_pickle(f\"{ROOT}/data/data.pkl\")\n",
    "print(df.shape)\n",
    "df.head(2)"
   ]
  },
  {
   "cell_type": "code",
   "execution_count": 6,
   "metadata": {},
   "outputs": [
    {
     "name": "stdout",
     "output_type": "stream",
     "text": [
      "<class 'pandas.core.frame.DataFrame'>\n",
      "Int64Index: 7032 entries, 0 to 7042\n",
      "Data columns (total 20 columns):\n",
      " #   Column            Non-Null Count  Dtype   \n",
      "---  ------            --------------  -----   \n",
      " 0   Gender            7032 non-null   category\n",
      " 1   SeniorCitizen     7032 non-null   category\n",
      " 2   Partner           7032 non-null   category\n",
      " 3   Dependents        7032 non-null   category\n",
      " 4   Tenure            7032 non-null   int64   \n",
      " 5   PhoneService      7032 non-null   category\n",
      " 6   MultipleLines     7032 non-null   category\n",
      " 7   InternetService   7032 non-null   category\n",
      " 8   OnlineSecurity    7032 non-null   category\n",
      " 9   OnlineBackup      7032 non-null   category\n",
      " 10  DeviceProtection  7032 non-null   category\n",
      " 11  TechSupport       7032 non-null   category\n",
      " 12  StreamingTV       7032 non-null   category\n",
      " 13  StreamingMovies   7032 non-null   category\n",
      " 14  Contract          7032 non-null   category\n",
      " 15  PaperlessBilling  7032 non-null   category\n",
      " 16  PaymentMethod     7032 non-null   category\n",
      " 17  MonthlyCharges    7032 non-null   float64 \n",
      " 18  TotalCharges      7032 non-null   float64 \n",
      " 19  Churn             7032 non-null   category\n",
      "dtypes: category(17), float64(2), int64(1)\n",
      "memory usage: 336.8 KB\n"
     ]
    }
   ],
   "source": [
    "df.info()"
   ]
  },
  {
   "attachments": {},
   "cell_type": "markdown",
   "metadata": {},
   "source": [
    "## Preprocessing Dataset"
   ]
  },
  {
   "attachments": {},
   "cell_type": "markdown",
   "metadata": {},
   "source": [
    "### Identify target and features"
   ]
  },
  {
   "cell_type": "code",
   "execution_count": 7,
   "metadata": {},
   "outputs": [
    {
     "name": "stdout",
     "output_type": "stream",
     "text": [
      "target = Churn\n",
      "\n",
      "Categorical features (16): ['Gender', 'SeniorCitizen', 'Partner', 'Dependents', 'PhoneService', 'MultipleLines', 'InternetService', 'OnlineSecurity', 'OnlineBackup', 'DeviceProtection', 'TechSupport', 'StreamingTV', 'StreamingMovies', 'Contract', 'PaperlessBilling', 'PaymentMethod']\n",
      "\n",
      "Numerical features (3): ['Tenure', 'MonthlyCharges', 'TotalCharges']\n"
     ]
    }
   ],
   "source": [
    "target = \"Churn\"\n",
    "print(f\"target = {target}\")\n",
    "\n",
    "cat_features = [c for c in df.select_dtypes(\"category\").columns if c!= target]\n",
    "print(f\"\\nCategorical features ({len(cat_features)}): {cat_features}\")\n",
    "\n",
    "num_features = [c for c in df.select_dtypes([\"int\",\"float\"]).columns if c!= target]\n",
    "print(f\"\\nNumerical features ({len(num_features)}): {num_features}\")\n",
    "\n"
   ]
  },
  {
   "attachments": {},
   "cell_type": "markdown",
   "metadata": {},
   "source": [
    "### Train/Test split"
   ]
  },
  {
   "attachments": {},
   "cell_type": "markdown",
   "metadata": {},
   "source": [
    "* Split data train/test -> this time (60% train/40% test)"
   ]
  },
  {
   "cell_type": "code",
   "execution_count": 8,
   "metadata": {},
   "outputs": [
    {
     "data": {
      "text/plain": [
       "No     0.734215\n",
       "Yes    0.265785\n",
       "Name: Churn, dtype: float64"
      ]
     },
     "execution_count": 8,
     "metadata": {},
     "output_type": "execute_result"
    }
   ],
   "source": [
    "df.Churn.value_counts(normalize=True)"
   ]
  },
  {
   "attachments": {},
   "cell_type": "markdown",
   "metadata": {},
   "source": [
    "* `train_size` -> % must use float / num_of_rows must use int\n",
    "* `randon_state` -> \n",
    "* `stratify` -> divide most equally the rate of yes/no between train and test"
   ]
  },
  {
   "cell_type": "code",
   "execution_count": 9,
   "metadata": {},
   "outputs": [
    {
     "name": "stdout",
     "output_type": "stream",
     "text": [
      "(4219, 20) (2813, 20)\n"
     ]
    }
   ],
   "source": [
    "from sklearn.model_selection import train_test_split\n",
    "\n",
    "df_train,df_test = train_test_split(df, train_size=0.60, stratify=df[target], random_state=SEED)\n",
    "\n",
    "print(df_train.shape,df_test.shape)"
   ]
  },
  {
   "cell_type": "code",
   "execution_count": 10,
   "metadata": {},
   "outputs": [
    {
     "data": {
      "text/plain": [
       "No     0.734297\n",
       "Yes    0.265703\n",
       "Name: Churn, dtype: float64"
      ]
     },
     "execution_count": 10,
     "metadata": {},
     "output_type": "execute_result"
    }
   ],
   "source": [
    "df_train.Churn.value_counts(normalize=True)"
   ]
  },
  {
   "cell_type": "code",
   "execution_count": 11,
   "metadata": {},
   "outputs": [
    {
     "data": {
      "text/plain": [
       "No     0.734092\n",
       "Yes    0.265908\n",
       "Name: Churn, dtype: float64"
      ]
     },
     "execution_count": 11,
     "metadata": {},
     "output_type": "execute_result"
    }
   ],
   "source": [
    "df_test.Churn.value_counts(normalize=True)"
   ]
  },
  {
   "attachments": {},
   "cell_type": "markdown",
   "metadata": {},
   "source": [
    "### Encode target"
   ]
  },
  {
   "attachments": {},
   "cell_type": "markdown",
   "metadata": {},
   "source": [
    "* `LabelEncoder` takes a column with strings (categorical) and change to numerical by a Map"
   ]
  },
  {
   "cell_type": "code",
   "execution_count": 12,
   "metadata": {},
   "outputs": [],
   "source": [
    "from sklearn.preprocessing import LabelEncoder\n",
    "\n",
    "le = LabelEncoder()\n",
    "\n",
    "le.fit(df_train[target])\n",
    "\n",
    "y_train = le.transform(df_train[target])\n",
    "y_test = le.transform(df_test[target])"
   ]
  },
  {
   "cell_type": "code",
   "execution_count": 13,
   "metadata": {},
   "outputs": [
    {
     "data": {
      "text/plain": [
       "193      No\n",
       "6108     No\n",
       "3580    Yes\n",
       "2195     No\n",
       "3809     No\n",
       "Name: Churn, dtype: category\n",
       "Categories (2, object): ['No', 'Yes']"
      ]
     },
     "execution_count": 13,
     "metadata": {},
     "output_type": "execute_result"
    }
   ],
   "source": [
    "df_train[target].head()"
   ]
  },
  {
   "cell_type": "code",
   "execution_count": 14,
   "metadata": {},
   "outputs": [
    {
     "data": {
      "text/plain": [
       "array([0, 0, 1, 0, 0])"
      ]
     },
     "execution_count": 14,
     "metadata": {},
     "output_type": "execute_result"
    }
   ],
   "source": [
    "y_train[:5]"
   ]
  },
  {
   "cell_type": "code",
   "execution_count": 15,
   "metadata": {},
   "outputs": [
    {
     "data": {
      "text/plain": [
       "array(['No', 'No', 'Yes', 'No', 'No'], dtype=object)"
      ]
     },
     "execution_count": 15,
     "metadata": {},
     "output_type": "execute_result"
    }
   ],
   "source": [
    "le.inverse_transform(y_train[:5])"
   ]
  },
  {
   "attachments": {},
   "cell_type": "markdown",
   "metadata": {},
   "source": [
    "### Encode Categorical features"
   ]
  },
  {
   "cell_type": "code",
   "execution_count": 16,
   "metadata": {},
   "outputs": [
    {
     "name": "stdout",
     "output_type": "stream",
     "text": [
      "(4219, 36) (2813, 36)\n"
     ]
    },
    {
     "data": {
      "text/html": [
       "<div>\n",
       "<style scoped>\n",
       "    .dataframe tbody tr th:only-of-type {\n",
       "        vertical-align: middle;\n",
       "    }\n",
       "\n",
       "    .dataframe tbody tr th {\n",
       "        vertical-align: top;\n",
       "    }\n",
       "\n",
       "    .dataframe thead th {\n",
       "        text-align: right;\n",
       "    }\n",
       "</style>\n",
       "<table border=\"1\" class=\"dataframe\">\n",
       "  <thead>\n",
       "    <tr style=\"text-align: right;\">\n",
       "      <th></th>\n",
       "      <th>Gender_Female</th>\n",
       "      <th>Gender_Male</th>\n",
       "      <th>SeniorCitizen_No</th>\n",
       "      <th>SeniorCitizen_Yes</th>\n",
       "      <th>Partner_No</th>\n",
       "      <th>Partner_Yes</th>\n",
       "      <th>Dependents_No</th>\n",
       "      <th>Dependents_Yes</th>\n",
       "      <th>PhoneService_No</th>\n",
       "      <th>PhoneService_Yes</th>\n",
       "      <th>MultipleLines_No</th>\n",
       "      <th>MultipleLines_Yes</th>\n",
       "      <th>InternetService_DSL</th>\n",
       "      <th>InternetService_Fiber optic</th>\n",
       "      <th>InternetService_No</th>\n",
       "      <th>OnlineSecurity_No</th>\n",
       "      <th>OnlineSecurity_Yes</th>\n",
       "      <th>OnlineBackup_No</th>\n",
       "      <th>OnlineBackup_Yes</th>\n",
       "      <th>DeviceProtection_No</th>\n",
       "      <th>DeviceProtection_Yes</th>\n",
       "      <th>TechSupport_No</th>\n",
       "      <th>TechSupport_Yes</th>\n",
       "      <th>StreamingTV_No</th>\n",
       "      <th>StreamingTV_Yes</th>\n",
       "      <th>StreamingMovies_No</th>\n",
       "      <th>StreamingMovies_Yes</th>\n",
       "      <th>Contract_Month-to-month</th>\n",
       "      <th>Contract_One year</th>\n",
       "      <th>Contract_Two year</th>\n",
       "      <th>PaperlessBilling_No</th>\n",
       "      <th>PaperlessBilling_Yes</th>\n",
       "      <th>PaymentMethod_Bank transfer (automatic)</th>\n",
       "      <th>PaymentMethod_Credit card (automatic)</th>\n",
       "      <th>PaymentMethod_Electronic check</th>\n",
       "      <th>PaymentMethod_Mailed check</th>\n",
       "    </tr>\n",
       "  </thead>\n",
       "  <tbody>\n",
       "    <tr>\n",
       "      <th>0</th>\n",
       "      <td>1.0</td>\n",
       "      <td>0.0</td>\n",
       "      <td>1.0</td>\n",
       "      <td>0.0</td>\n",
       "      <td>0.0</td>\n",
       "      <td>1.0</td>\n",
       "      <td>0.0</td>\n",
       "      <td>1.0</td>\n",
       "      <td>0.0</td>\n",
       "      <td>1.0</td>\n",
       "      <td>0.0</td>\n",
       "      <td>1.0</td>\n",
       "      <td>0.0</td>\n",
       "      <td>1.0</td>\n",
       "      <td>0.0</td>\n",
       "      <td>0.0</td>\n",
       "      <td>1.0</td>\n",
       "      <td>0.0</td>\n",
       "      <td>1.0</td>\n",
       "      <td>0.0</td>\n",
       "      <td>1.0</td>\n",
       "      <td>1.0</td>\n",
       "      <td>0.0</td>\n",
       "      <td>0.0</td>\n",
       "      <td>1.0</td>\n",
       "      <td>0.0</td>\n",
       "      <td>1.0</td>\n",
       "      <td>0.0</td>\n",
       "      <td>0.0</td>\n",
       "      <td>1.0</td>\n",
       "      <td>1.0</td>\n",
       "      <td>0.0</td>\n",
       "      <td>0.0</td>\n",
       "      <td>1.0</td>\n",
       "      <td>0.0</td>\n",
       "      <td>0.0</td>\n",
       "    </tr>\n",
       "    <tr>\n",
       "      <th>1</th>\n",
       "      <td>0.0</td>\n",
       "      <td>1.0</td>\n",
       "      <td>1.0</td>\n",
       "      <td>0.0</td>\n",
       "      <td>1.0</td>\n",
       "      <td>0.0</td>\n",
       "      <td>1.0</td>\n",
       "      <td>0.0</td>\n",
       "      <td>1.0</td>\n",
       "      <td>0.0</td>\n",
       "      <td>1.0</td>\n",
       "      <td>0.0</td>\n",
       "      <td>1.0</td>\n",
       "      <td>0.0</td>\n",
       "      <td>0.0</td>\n",
       "      <td>1.0</td>\n",
       "      <td>0.0</td>\n",
       "      <td>1.0</td>\n",
       "      <td>0.0</td>\n",
       "      <td>1.0</td>\n",
       "      <td>0.0</td>\n",
       "      <td>1.0</td>\n",
       "      <td>0.0</td>\n",
       "      <td>1.0</td>\n",
       "      <td>0.0</td>\n",
       "      <td>1.0</td>\n",
       "      <td>0.0</td>\n",
       "      <td>1.0</td>\n",
       "      <td>0.0</td>\n",
       "      <td>0.0</td>\n",
       "      <td>1.0</td>\n",
       "      <td>0.0</td>\n",
       "      <td>0.0</td>\n",
       "      <td>0.0</td>\n",
       "      <td>0.0</td>\n",
       "      <td>1.0</td>\n",
       "    </tr>\n",
       "  </tbody>\n",
       "</table>\n",
       "</div>"
      ],
      "text/plain": [
       "   Gender_Female  Gender_Male  SeniorCitizen_No  SeniorCitizen_Yes  \\\n",
       "0            1.0          0.0               1.0                0.0   \n",
       "1            0.0          1.0               1.0                0.0   \n",
       "\n",
       "   Partner_No  Partner_Yes  Dependents_No  Dependents_Yes  PhoneService_No  \\\n",
       "0         0.0          1.0            0.0             1.0              0.0   \n",
       "1         1.0          0.0            1.0             0.0              1.0   \n",
       "\n",
       "   PhoneService_Yes  MultipleLines_No  MultipleLines_Yes  InternetService_DSL  \\\n",
       "0               1.0               0.0                1.0                  0.0   \n",
       "1               0.0               1.0                0.0                  1.0   \n",
       "\n",
       "   InternetService_Fiber optic  InternetService_No  OnlineSecurity_No  \\\n",
       "0                          1.0                 0.0                0.0   \n",
       "1                          0.0                 0.0                1.0   \n",
       "\n",
       "   OnlineSecurity_Yes  OnlineBackup_No  OnlineBackup_Yes  DeviceProtection_No  \\\n",
       "0                 1.0              0.0               1.0                  0.0   \n",
       "1                 0.0              1.0               0.0                  1.0   \n",
       "\n",
       "   DeviceProtection_Yes  TechSupport_No  TechSupport_Yes  StreamingTV_No  \\\n",
       "0                   1.0             1.0              0.0             0.0   \n",
       "1                   0.0             1.0              0.0             1.0   \n",
       "\n",
       "   StreamingTV_Yes  StreamingMovies_No  StreamingMovies_Yes  \\\n",
       "0              1.0                 0.0                  1.0   \n",
       "1              0.0                 1.0                  0.0   \n",
       "\n",
       "   Contract_Month-to-month  Contract_One year  Contract_Two year  \\\n",
       "0                      0.0                0.0                1.0   \n",
       "1                      1.0                0.0                0.0   \n",
       "\n",
       "   PaperlessBilling_No  PaperlessBilling_Yes  \\\n",
       "0                  1.0                   0.0   \n",
       "1                  1.0                   0.0   \n",
       "\n",
       "   PaymentMethod_Bank transfer (automatic)  \\\n",
       "0                                      0.0   \n",
       "1                                      0.0   \n",
       "\n",
       "   PaymentMethod_Credit card (automatic)  PaymentMethod_Electronic check  \\\n",
       "0                                    1.0                             0.0   \n",
       "1                                    0.0                             0.0   \n",
       "\n",
       "   PaymentMethod_Mailed check  \n",
       "0                         0.0  \n",
       "1                         1.0  "
      ]
     },
     "execution_count": 16,
     "metadata": {},
     "output_type": "execute_result"
    }
   ],
   "source": [
    "from sklearn.preprocessing import OneHotEncoder\n",
    "\n",
    "ohe = OneHotEncoder()\n",
    "\n",
    "ohe.fit(df_train[cat_features])\n",
    "\n",
    "X_cat_train = ohe.transform(df_train[cat_features])\n",
    "X_cat_test = ohe.transform(df_test[cat_features])\n",
    "\n",
    "df_cat_train = pd.DataFrame(X_cat_train.toarray(), columns=ohe.get_feature_names_out())\n",
    "df_cat_test = pd.DataFrame(X_cat_test.toarray(), columns=ohe.get_feature_names_out())\n",
    "print(df_cat_train.shape, df_cat_test.shape)\n",
    "\n",
    "df_cat_train.head(2)"
   ]
  },
  {
   "attachments": {},
   "cell_type": "markdown",
   "metadata": {},
   "source": [
    "### Scale / Transform numerical features"
   ]
  },
  {
   "cell_type": "code",
   "execution_count": 17,
   "metadata": {},
   "outputs": [
    {
     "name": "stdout",
     "output_type": "stream",
     "text": [
      "(4219, 3) (2813, 3)\n"
     ]
    },
    {
     "data": {
      "text/html": [
       "<div>\n",
       "<style scoped>\n",
       "    .dataframe tbody tr th:only-of-type {\n",
       "        vertical-align: middle;\n",
       "    }\n",
       "\n",
       "    .dataframe tbody tr th {\n",
       "        vertical-align: top;\n",
       "    }\n",
       "\n",
       "    .dataframe thead th {\n",
       "        text-align: right;\n",
       "    }\n",
       "</style>\n",
       "<table border=\"1\" class=\"dataframe\">\n",
       "  <thead>\n",
       "    <tr style=\"text-align: right;\">\n",
       "      <th></th>\n",
       "      <th>Tenure</th>\n",
       "      <th>MonthlyCharges</th>\n",
       "      <th>TotalCharges</th>\n",
       "    </tr>\n",
       "  </thead>\n",
       "  <tbody>\n",
       "    <tr>\n",
       "      <th>0</th>\n",
       "      <td>1.597275</td>\n",
       "      <td>1.487874</td>\n",
       "      <td>2.557942</td>\n",
       "    </tr>\n",
       "    <tr>\n",
       "      <th>1</th>\n",
       "      <td>-0.596193</td>\n",
       "      <td>-1.323820</td>\n",
       "      <td>-0.804777</td>\n",
       "    </tr>\n",
       "  </tbody>\n",
       "</table>\n",
       "</div>"
      ],
      "text/plain": [
       "     Tenure  MonthlyCharges  TotalCharges\n",
       "0  1.597275        1.487874      2.557942\n",
       "1 -0.596193       -1.323820     -0.804777"
      ]
     },
     "execution_count": 17,
     "metadata": {},
     "output_type": "execute_result"
    }
   ],
   "source": [
    "from sklearn.preprocessing import StandardScaler\n",
    "\n",
    "ss = StandardScaler()\n",
    "\n",
    "ss.fit(df_train[num_features])\n",
    "\n",
    "X_num_train = ss.transform(df_train[num_features])\n",
    "X_num_test = ss.transform(df_test[num_features])\n",
    "\n",
    "df_num_train = pd.DataFrame(X_num_train, columns=ss.get_feature_names_out())\n",
    "df_num_test = pd.DataFrame(X_num_test, columns=ss.get_feature_names_out())\n",
    "print(df_num_train.shape, df_num_test.shape)\n",
    "\n",
    "df_num_train.head(2)\n",
    "\n"
   ]
  },
  {
   "attachments": {},
   "cell_type": "markdown",
   "metadata": {},
   "source": [
    "### Construct dataframe for model features"
   ]
  },
  {
   "cell_type": "code",
   "execution_count": 18,
   "metadata": {},
   "outputs": [
    {
     "name": "stdout",
     "output_type": "stream",
     "text": [
      "(4219, 39) (2813, 39)\n"
     ]
    }
   ],
   "source": [
    "df_model_train = pd.concat([df_cat_train, df_num_train], axis=1)\n",
    "df_model_test = pd.concat([df_cat_test, df_num_test], axis=1)\n",
    "print(df_model_train.shape, df_model_test.shape)"
   ]
  },
  {
   "attachments": {},
   "cell_type": "markdown",
   "metadata": {},
   "source": [
    "## Model Selection"
   ]
  },
  {
   "cell_type": "code",
   "execution_count": 19,
   "metadata": {},
   "outputs": [],
   "source": [
    "from sklearn.neighbors import KNeighborsClassifier\n",
    "from sklearn.tree import DecisionTreeClassifier\n",
    "from sklearn.linear_model import LogisticRegression\n",
    "from sklearn.ensemble import RandomForestClassifier, AdaBoostClassifier\n",
    "\n",
    "classifiers = {\n",
    "    \"KNN\" : KNeighborsClassifier(),\n",
    "    \"KNN(3)\" : KNeighborsClassifier(3),\n",
    "    \"DT\" : DecisionTreeClassifier(),\n",
    "    \"DT(max_depth=5)\" : DecisionTreeClassifier(max_depth=5),\n",
    "    \"LR\" : LogisticRegression(max_iter=1000),\n",
    "    \"RF\" : RandomForestClassifier(),\n",
    "    \"AdaBoost\" : AdaBoostClassifier(),\n",
    "}"
   ]
  },
  {
   "cell_type": "code",
   "execution_count": 20,
   "metadata": {},
   "outputs": [],
   "source": [
    "from sklearn.metrics import accuracy_score, recall_score, precision_score, roc_auc_score, f1_score\n",
    "\n",
    "metrics = {\n",
    "    'accuracy' : accuracy_score,\n",
    "    'precision' : precision_score,\n",
    "    'recall' : recall_score,\n",
    "    'f1' : f1_score,\n",
    "    'roc_auc' : roc_auc_score,\n",
    "}"
   ]
  },
  {
   "cell_type": "code",
   "execution_count": 21,
   "metadata": {},
   "outputs": [
    {
     "name": "stdout",
     "output_type": "stream",
     "text": [
      "KNN ...\n",
      "KNN(3) ...\n",
      "DT ...\n",
      "DT(max_depth=5) ...\n",
      "LR ...\n",
      "RF ...\n",
      "AdaBoost ...\n",
      "(7, 11)\n"
     ]
    },
    {
     "data": {
      "text/html": [
       "<div>\n",
       "<style scoped>\n",
       "    .dataframe tbody tr th:only-of-type {\n",
       "        vertical-align: middle;\n",
       "    }\n",
       "\n",
       "    .dataframe tbody tr th {\n",
       "        vertical-align: top;\n",
       "    }\n",
       "\n",
       "    .dataframe thead th {\n",
       "        text-align: right;\n",
       "    }\n",
       "</style>\n",
       "<table border=\"1\" class=\"dataframe\">\n",
       "  <thead>\n",
       "    <tr style=\"text-align: right;\">\n",
       "      <th></th>\n",
       "      <th>Model</th>\n",
       "      <th>train_accuracy</th>\n",
       "      <th>test_accuracy</th>\n",
       "      <th>train_precision</th>\n",
       "      <th>test_precision</th>\n",
       "      <th>train_recall</th>\n",
       "      <th>test_recall</th>\n",
       "      <th>train_f1</th>\n",
       "      <th>test_f1</th>\n",
       "      <th>train_roc_auc</th>\n",
       "      <th>test_roc_auc</th>\n",
       "    </tr>\n",
       "  </thead>\n",
       "  <tbody>\n",
       "    <tr>\n",
       "      <th>0</th>\n",
       "      <td>KNN</td>\n",
       "      <td>0.841432</td>\n",
       "      <td>0.757554</td>\n",
       "      <td>0.720273</td>\n",
       "      <td>0.544000</td>\n",
       "      <td>0.659233</td>\n",
       "      <td>0.545455</td>\n",
       "      <td>0.688402</td>\n",
       "      <td>0.544726</td>\n",
       "      <td>0.783296</td>\n",
       "      <td>0.689919</td>\n",
       "    </tr>\n",
       "    <tr>\n",
       "      <th>1</th>\n",
       "      <td>KNN(3)</td>\n",
       "      <td>0.871059</td>\n",
       "      <td>0.747600</td>\n",
       "      <td>0.780369</td>\n",
       "      <td>0.525333</td>\n",
       "      <td>0.716325</td>\n",
       "      <td>0.526738</td>\n",
       "      <td>0.746977</td>\n",
       "      <td>0.526035</td>\n",
       "      <td>0.821687</td>\n",
       "      <td>0.677170</td>\n",
       "    </tr>\n",
       "    <tr>\n",
       "      <th>2</th>\n",
       "      <td>DT</td>\n",
       "      <td>0.997867</td>\n",
       "      <td>0.724493</td>\n",
       "      <td>0.999102</td>\n",
       "      <td>0.482581</td>\n",
       "      <td>0.992864</td>\n",
       "      <td>0.500000</td>\n",
       "      <td>0.995973</td>\n",
       "      <td>0.491136</td>\n",
       "      <td>0.996270</td>\n",
       "      <td>0.652906</td>\n",
       "    </tr>\n",
       "    <tr>\n",
       "      <th>3</th>\n",
       "      <td>DT(max_depth=5)</td>\n",
       "      <td>0.802797</td>\n",
       "      <td>0.787416</td>\n",
       "      <td>0.622561</td>\n",
       "      <td>0.589286</td>\n",
       "      <td>0.654773</td>\n",
       "      <td>0.661765</td>\n",
       "      <td>0.638261</td>\n",
       "      <td>0.623426</td>\n",
       "      <td>0.755566</td>\n",
       "      <td>0.747347</td>\n",
       "    </tr>\n",
       "    <tr>\n",
       "      <th>4</th>\n",
       "      <td>LR</td>\n",
       "      <td>0.804693</td>\n",
       "      <td>0.803768</td>\n",
       "      <td>0.660888</td>\n",
       "      <td>0.649847</td>\n",
       "      <td>0.544157</td>\n",
       "      <td>0.568182</td>\n",
       "      <td>0.596869</td>\n",
       "      <td>0.606277</td>\n",
       "      <td>0.721562</td>\n",
       "      <td>0.728643</td>\n",
       "    </tr>\n",
       "  </tbody>\n",
       "</table>\n",
       "</div>"
      ],
      "text/plain": [
       "             Model  train_accuracy  test_accuracy  train_precision  \\\n",
       "0              KNN        0.841432       0.757554         0.720273   \n",
       "1           KNN(3)        0.871059       0.747600         0.780369   \n",
       "2               DT        0.997867       0.724493         0.999102   \n",
       "3  DT(max_depth=5)        0.802797       0.787416         0.622561   \n",
       "4               LR        0.804693       0.803768         0.660888   \n",
       "\n",
       "   test_precision  train_recall  test_recall  train_f1   test_f1  \\\n",
       "0        0.544000      0.659233     0.545455  0.688402  0.544726   \n",
       "1        0.525333      0.716325     0.526738  0.746977  0.526035   \n",
       "2        0.482581      0.992864     0.500000  0.995973  0.491136   \n",
       "3        0.589286      0.654773     0.661765  0.638261  0.623426   \n",
       "4        0.649847      0.544157     0.568182  0.596869  0.606277   \n",
       "\n",
       "   train_roc_auc  test_roc_auc  \n",
       "0       0.783296      0.689919  \n",
       "1       0.821687      0.677170  \n",
       "2       0.996270      0.652906  \n",
       "3       0.755566      0.747347  \n",
       "4       0.721562      0.728643  "
      ]
     },
     "execution_count": 21,
     "metadata": {},
     "output_type": "execute_result"
    }
   ],
   "source": [
    "def generate_metrics():\n",
    "    \n",
    "    data = []\n",
    "    \n",
    "    for model_name, model in classifiers.items():\n",
    "        \n",
    "        print (f\"{model_name} ...\")\n",
    "        \n",
    "        row = {'Model': model_name}\n",
    "        model.fit(df_model_train, y_train)\n",
    "        \n",
    "        for metric_name, metric in metrics.items():\n",
    "            # Scoring on SEEN data - effectively \"useless\"\n",
    "            y_pred = model.predict(df_model_train)\n",
    "            row['train_'+metric_name] = metric(y_train, y_pred)\n",
    "        \n",
    "            # Scoring on UNSEEN data - important\n",
    "            y_pred = model.predict(df_model_test)\n",
    "            row['test_'+metric_name] = metric(y_test, y_pred)\n",
    "            \n",
    "        data.append(row)\n",
    "        #print(f\"{name:20s} accuracy\\ttrain = {train_accuracy:.2%} \\ttest = {test_accuracy:.2%}\")\n",
    "    return pd.DataFrame(data)\n",
    "\n",
    "df_results = generate_metrics()\n",
    "print(df_results.shape)\n",
    "df_results.head()"
   ]
  },
  {
   "cell_type": "code",
   "execution_count": 22,
   "metadata": {},
   "outputs": [
    {
     "data": {
      "text/plain": [
       "11"
      ]
     },
     "execution_count": 22,
     "metadata": {},
     "output_type": "execute_result"
    }
   ],
   "source": [
    "len(df_results.columns)"
   ]
  },
  {
   "cell_type": "code",
   "execution_count": 23,
   "metadata": {},
   "outputs": [
    {
     "data": {
      "text/html": [
       "<style type=\"text/css\">\n",
       "#T_e646d_row0_col0, #T_e646d_row1_col0, #T_e646d_row2_col0, #T_e646d_row3_col0, #T_e646d_row4_col0, #T_e646d_row5_col0, #T_e646d_row6_col0 {\n",
       "  background-color: lightgreen;\n",
       "}\n",
       "#T_e646d_row0_col1, #T_e646d_row0_col2, #T_e646d_row0_col5, #T_e646d_row0_col6, #T_e646d_row0_col9, #T_e646d_row0_col10, #T_e646d_row1_col1, #T_e646d_row1_col2, #T_e646d_row1_col5, #T_e646d_row1_col6, #T_e646d_row1_col9, #T_e646d_row1_col10, #T_e646d_row2_col1, #T_e646d_row2_col2, #T_e646d_row2_col5, #T_e646d_row2_col6, #T_e646d_row2_col9, #T_e646d_row2_col10, #T_e646d_row3_col1, #T_e646d_row3_col2, #T_e646d_row3_col5, #T_e646d_row3_col6, #T_e646d_row3_col9, #T_e646d_row3_col10, #T_e646d_row4_col1, #T_e646d_row4_col2, #T_e646d_row4_col5, #T_e646d_row4_col6, #T_e646d_row4_col9, #T_e646d_row4_col10, #T_e646d_row5_col1, #T_e646d_row5_col2, #T_e646d_row5_col5, #T_e646d_row5_col6, #T_e646d_row5_col9, #T_e646d_row5_col10, #T_e646d_row6_col1, #T_e646d_row6_col2, #T_e646d_row6_col5, #T_e646d_row6_col6, #T_e646d_row6_col9, #T_e646d_row6_col10 {\n",
       "  background-color: lightblue;\n",
       "}\n",
       "#T_e646d_row0_col3, #T_e646d_row0_col4, #T_e646d_row0_col7, #T_e646d_row0_col8, #T_e646d_row1_col3, #T_e646d_row1_col4, #T_e646d_row1_col7, #T_e646d_row1_col8, #T_e646d_row2_col3, #T_e646d_row2_col4, #T_e646d_row2_col7, #T_e646d_row2_col8, #T_e646d_row3_col3, #T_e646d_row3_col4, #T_e646d_row3_col7, #T_e646d_row3_col8, #T_e646d_row4_col3, #T_e646d_row4_col4, #T_e646d_row4_col7, #T_e646d_row4_col8, #T_e646d_row5_col3, #T_e646d_row5_col4, #T_e646d_row5_col7, #T_e646d_row5_col8, #T_e646d_row6_col3, #T_e646d_row6_col4, #T_e646d_row6_col7, #T_e646d_row6_col8 {\n",
       "  background-color: lightyellow;\n",
       "}\n",
       "</style>\n",
       "<table id=\"T_e646d\">\n",
       "  <thead>\n",
       "    <tr>\n",
       "      <th class=\"blank level0\" >&nbsp;</th>\n",
       "      <th id=\"T_e646d_level0_col0\" class=\"col_heading level0 col0\" >Model</th>\n",
       "      <th id=\"T_e646d_level0_col1\" class=\"col_heading level0 col1\" >train_accuracy</th>\n",
       "      <th id=\"T_e646d_level0_col2\" class=\"col_heading level0 col2\" >test_accuracy</th>\n",
       "      <th id=\"T_e646d_level0_col3\" class=\"col_heading level0 col3\" >train_precision</th>\n",
       "      <th id=\"T_e646d_level0_col4\" class=\"col_heading level0 col4\" >test_precision</th>\n",
       "      <th id=\"T_e646d_level0_col5\" class=\"col_heading level0 col5\" >train_recall</th>\n",
       "      <th id=\"T_e646d_level0_col6\" class=\"col_heading level0 col6\" >test_recall</th>\n",
       "      <th id=\"T_e646d_level0_col7\" class=\"col_heading level0 col7\" >train_f1</th>\n",
       "      <th id=\"T_e646d_level0_col8\" class=\"col_heading level0 col8\" >test_f1</th>\n",
       "      <th id=\"T_e646d_level0_col9\" class=\"col_heading level0 col9\" >train_roc_auc</th>\n",
       "      <th id=\"T_e646d_level0_col10\" class=\"col_heading level0 col10\" >test_roc_auc</th>\n",
       "    </tr>\n",
       "  </thead>\n",
       "  <tbody>\n",
       "    <tr>\n",
       "      <th id=\"T_e646d_level0_row0\" class=\"row_heading level0 row0\" >0</th>\n",
       "      <td id=\"T_e646d_row0_col0\" class=\"data row0 col0\" >KNN</td>\n",
       "      <td id=\"T_e646d_row0_col1\" class=\"data row0 col1\" >0.841432</td>\n",
       "      <td id=\"T_e646d_row0_col2\" class=\"data row0 col2\" >0.757554</td>\n",
       "      <td id=\"T_e646d_row0_col3\" class=\"data row0 col3\" >0.720273</td>\n",
       "      <td id=\"T_e646d_row0_col4\" class=\"data row0 col4\" >0.544000</td>\n",
       "      <td id=\"T_e646d_row0_col5\" class=\"data row0 col5\" >0.659233</td>\n",
       "      <td id=\"T_e646d_row0_col6\" class=\"data row0 col6\" >0.545455</td>\n",
       "      <td id=\"T_e646d_row0_col7\" class=\"data row0 col7\" >0.688402</td>\n",
       "      <td id=\"T_e646d_row0_col8\" class=\"data row0 col8\" >0.544726</td>\n",
       "      <td id=\"T_e646d_row0_col9\" class=\"data row0 col9\" >0.783296</td>\n",
       "      <td id=\"T_e646d_row0_col10\" class=\"data row0 col10\" >0.689919</td>\n",
       "    </tr>\n",
       "    <tr>\n",
       "      <th id=\"T_e646d_level0_row1\" class=\"row_heading level0 row1\" >1</th>\n",
       "      <td id=\"T_e646d_row1_col0\" class=\"data row1 col0\" >KNN(3)</td>\n",
       "      <td id=\"T_e646d_row1_col1\" class=\"data row1 col1\" >0.871059</td>\n",
       "      <td id=\"T_e646d_row1_col2\" class=\"data row1 col2\" >0.747600</td>\n",
       "      <td id=\"T_e646d_row1_col3\" class=\"data row1 col3\" >0.780369</td>\n",
       "      <td id=\"T_e646d_row1_col4\" class=\"data row1 col4\" >0.525333</td>\n",
       "      <td id=\"T_e646d_row1_col5\" class=\"data row1 col5\" >0.716325</td>\n",
       "      <td id=\"T_e646d_row1_col6\" class=\"data row1 col6\" >0.526738</td>\n",
       "      <td id=\"T_e646d_row1_col7\" class=\"data row1 col7\" >0.746977</td>\n",
       "      <td id=\"T_e646d_row1_col8\" class=\"data row1 col8\" >0.526035</td>\n",
       "      <td id=\"T_e646d_row1_col9\" class=\"data row1 col9\" >0.821687</td>\n",
       "      <td id=\"T_e646d_row1_col10\" class=\"data row1 col10\" >0.677170</td>\n",
       "    </tr>\n",
       "    <tr>\n",
       "      <th id=\"T_e646d_level0_row2\" class=\"row_heading level0 row2\" >2</th>\n",
       "      <td id=\"T_e646d_row2_col0\" class=\"data row2 col0\" >DT</td>\n",
       "      <td id=\"T_e646d_row2_col1\" class=\"data row2 col1\" >0.997867</td>\n",
       "      <td id=\"T_e646d_row2_col2\" class=\"data row2 col2\" >0.724493</td>\n",
       "      <td id=\"T_e646d_row2_col3\" class=\"data row2 col3\" >0.999102</td>\n",
       "      <td id=\"T_e646d_row2_col4\" class=\"data row2 col4\" >0.482581</td>\n",
       "      <td id=\"T_e646d_row2_col5\" class=\"data row2 col5\" >0.992864</td>\n",
       "      <td id=\"T_e646d_row2_col6\" class=\"data row2 col6\" >0.500000</td>\n",
       "      <td id=\"T_e646d_row2_col7\" class=\"data row2 col7\" >0.995973</td>\n",
       "      <td id=\"T_e646d_row2_col8\" class=\"data row2 col8\" >0.491136</td>\n",
       "      <td id=\"T_e646d_row2_col9\" class=\"data row2 col9\" >0.996270</td>\n",
       "      <td id=\"T_e646d_row2_col10\" class=\"data row2 col10\" >0.652906</td>\n",
       "    </tr>\n",
       "    <tr>\n",
       "      <th id=\"T_e646d_level0_row3\" class=\"row_heading level0 row3\" >3</th>\n",
       "      <td id=\"T_e646d_row3_col0\" class=\"data row3 col0\" >DT(max_depth=5)</td>\n",
       "      <td id=\"T_e646d_row3_col1\" class=\"data row3 col1\" >0.802797</td>\n",
       "      <td id=\"T_e646d_row3_col2\" class=\"data row3 col2\" >0.787416</td>\n",
       "      <td id=\"T_e646d_row3_col3\" class=\"data row3 col3\" >0.622561</td>\n",
       "      <td id=\"T_e646d_row3_col4\" class=\"data row3 col4\" >0.589286</td>\n",
       "      <td id=\"T_e646d_row3_col5\" class=\"data row3 col5\" >0.654773</td>\n",
       "      <td id=\"T_e646d_row3_col6\" class=\"data row3 col6\" >0.661765</td>\n",
       "      <td id=\"T_e646d_row3_col7\" class=\"data row3 col7\" >0.638261</td>\n",
       "      <td id=\"T_e646d_row3_col8\" class=\"data row3 col8\" >0.623426</td>\n",
       "      <td id=\"T_e646d_row3_col9\" class=\"data row3 col9\" >0.755566</td>\n",
       "      <td id=\"T_e646d_row3_col10\" class=\"data row3 col10\" >0.747347</td>\n",
       "    </tr>\n",
       "    <tr>\n",
       "      <th id=\"T_e646d_level0_row4\" class=\"row_heading level0 row4\" >4</th>\n",
       "      <td id=\"T_e646d_row4_col0\" class=\"data row4 col0\" >LR</td>\n",
       "      <td id=\"T_e646d_row4_col1\" class=\"data row4 col1\" >0.804693</td>\n",
       "      <td id=\"T_e646d_row4_col2\" class=\"data row4 col2\" >0.803768</td>\n",
       "      <td id=\"T_e646d_row4_col3\" class=\"data row4 col3\" >0.660888</td>\n",
       "      <td id=\"T_e646d_row4_col4\" class=\"data row4 col4\" >0.649847</td>\n",
       "      <td id=\"T_e646d_row4_col5\" class=\"data row4 col5\" >0.544157</td>\n",
       "      <td id=\"T_e646d_row4_col6\" class=\"data row4 col6\" >0.568182</td>\n",
       "      <td id=\"T_e646d_row4_col7\" class=\"data row4 col7\" >0.596869</td>\n",
       "      <td id=\"T_e646d_row4_col8\" class=\"data row4 col8\" >0.606277</td>\n",
       "      <td id=\"T_e646d_row4_col9\" class=\"data row4 col9\" >0.721562</td>\n",
       "      <td id=\"T_e646d_row4_col10\" class=\"data row4 col10\" >0.728643</td>\n",
       "    </tr>\n",
       "    <tr>\n",
       "      <th id=\"T_e646d_level0_row5\" class=\"row_heading level0 row5\" >5</th>\n",
       "      <td id=\"T_e646d_row5_col0\" class=\"data row5 col0\" >RF</td>\n",
       "      <td id=\"T_e646d_row5_col1\" class=\"data row5 col1\" >0.997867</td>\n",
       "      <td id=\"T_e646d_row5_col2\" class=\"data row5 col2\" >0.788482</td>\n",
       "      <td id=\"T_e646d_row5_col3\" class=\"data row5 col3\" >0.994662</td>\n",
       "      <td id=\"T_e646d_row5_col4\" class=\"data row5 col4\" >0.629881</td>\n",
       "      <td id=\"T_e646d_row5_col5\" class=\"data row5 col5\" >0.997324</td>\n",
       "      <td id=\"T_e646d_row5_col6\" class=\"data row5 col6\" >0.495989</td>\n",
       "      <td id=\"T_e646d_row5_col7\" class=\"data row5 col7\" >0.995991</td>\n",
       "      <td id=\"T_e646d_row5_col8\" class=\"data row5 col8\" >0.554974</td>\n",
       "      <td id=\"T_e646d_row5_col9\" class=\"data row5 col9\" >0.997694</td>\n",
       "      <td id=\"T_e646d_row5_col10\" class=\"data row5 col10\" >0.695210</td>\n",
       "    </tr>\n",
       "    <tr>\n",
       "      <th id=\"T_e646d_level0_row6\" class=\"row_heading level0 row6\" >6</th>\n",
       "      <td id=\"T_e646d_row6_col0\" class=\"data row6 col0\" >AdaBoost</td>\n",
       "      <td id=\"T_e646d_row6_col1\" class=\"data row6 col1\" >0.808011</td>\n",
       "      <td id=\"T_e646d_row6_col2\" class=\"data row6 col2\" >0.798791</td>\n",
       "      <td id=\"T_e646d_row6_col3\" class=\"data row6 col3\" >0.672204</td>\n",
       "      <td id=\"T_e646d_row6_col4\" class=\"data row6 col4\" >0.646302</td>\n",
       "      <td id=\"T_e646d_row6_col5\" class=\"data row6 col5\" >0.541481</td>\n",
       "      <td id=\"T_e646d_row6_col6\" class=\"data row6 col6\" >0.537433</td>\n",
       "      <td id=\"T_e646d_row6_col7\" class=\"data row6 col7\" >0.599802</td>\n",
       "      <td id=\"T_e646d_row6_col8\" class=\"data row6 col8\" >0.586861</td>\n",
       "      <td id=\"T_e646d_row6_col9\" class=\"data row6 col9\" >0.722968</td>\n",
       "      <td id=\"T_e646d_row6_col10\" class=\"data row6 col10\" >0.715448</td>\n",
       "    </tr>\n",
       "  </tbody>\n",
       "</table>\n"
      ],
      "text/plain": [
       "<pandas.io.formats.style.Styler at 0x26957e27ee0>"
      ]
     },
     "execution_count": 23,
     "metadata": {},
     "output_type": "execute_result"
    }
   ],
   "source": [
    "def highlight_col(x):\n",
    "    model_color = 'background-color: lightgreen'\n",
    "    alt_color = ['background-color: lightblue','background-color: lightyellow']\n",
    "    \n",
    "    df1 = pd.DataFrame('', index=x.index, columns=x.columns)  \n",
    "    df1.iloc[:, 0] = model_color\n",
    "    for k in range (1,df.shape[1],2):\n",
    "        df1.iloc[:,k:k+2] = alt_color[(k//2)%2] \n",
    "    return df1 \n",
    "   \n",
    "df_results.style.apply(highlight_col, axis=None)"
   ]
  },
  {
   "cell_type": "code",
   "execution_count": 24,
   "metadata": {},
   "outputs": [
    {
     "data": {
      "text/plain": [
       "738.3333333333334"
      ]
     },
     "execution_count": 24,
     "metadata": {},
     "output_type": "execute_result"
    }
   ],
   "source": [
    "import numpy as np\n",
    "from sklearn.metrics import make_scorer\n",
    "def business_benefit_score(y_true, y_pred, **kwargs):\n",
    "    from sklearn.metrics import confusion_matrix\n",
    "    cm = confusion_matrix(y_true, y_pred)\n",
    "    # entries order to match confusion matrix (tn, fp, fn, tp)\n",
    "    # profit for each type of customer\n",
    "    # tn - loyal customer and predicted correctly so customer just stays and company gets 1000\n",
    "    # fp - loyal customer but predicted to churn so is offered scheme, some will take it up, all stay with company.\n",
    "    # fn - churning customer but not predicted so customer just leaves and company gets nothing from them\n",
    "    # tp - churning customer and predicted correctly so offered scheme etc\n",
    "    profit = np.array([\n",
    "    [1000, -0.6*25+1000],\n",
    "    # 985.0\n",
    "    [0, -0.9*25 + 0.9*0.7*1000]])\n",
    "    # (0.9 * 0.7 * 975) + (0.9 * 0.3 * -25) + (0.1 * 0) = 607.5\n",
    "    #print (cm, profit, (profit*cm).sum(), cm.sum() )\n",
    "    return (profit*cm).sum() / cm.sum()\n",
    "\n",
    "business_benefit_score([1,1,0],[1,1,0])"
   ]
  },
  {
   "cell_type": "code",
   "execution_count": 25,
   "metadata": {},
   "outputs": [],
   "source": [
    "metrics['business_benefit'] = business_benefit_score"
   ]
  },
  {
   "cell_type": "code",
   "execution_count": 26,
   "metadata": {},
   "outputs": [
    {
     "data": {
      "text/plain": [
       "821.0191988622896"
      ]
     },
     "execution_count": 26,
     "metadata": {},
     "output_type": "execute_result"
    }
   ],
   "source": [
    "model = classifiers['LR']\n",
    "model.fit(df_model_train, y_train)\n",
    "y_pred = model.predict(df_model_train)\n",
    "business_benefit_score(y_train, y_pred)"
   ]
  }
 ],
 "metadata": {
  "kernelspec": {
   "display_name": "Python 3",
   "language": "python",
   "name": "python3"
  },
  "language_info": {
   "codemirror_mode": {
    "name": "ipython",
    "version": 3
   },
   "file_extension": ".py",
   "mimetype": "text/x-python",
   "name": "python",
   "nbconvert_exporter": "python",
   "pygments_lexer": "ipython3",
   "version": "3.10.6"
  },
  "orig_nbformat": 4,
  "vscode": {
   "interpreter": {
    "hash": "c3503f95e0e8f4afdf6702396a7a2a29cae9f67572acfe092405dcaa2579b817"
   }
  }
 },
 "nbformat": 4,
 "nbformat_minor": 2
}
