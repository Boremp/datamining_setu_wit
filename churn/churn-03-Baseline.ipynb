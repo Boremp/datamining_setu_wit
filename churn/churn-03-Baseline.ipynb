{
 "cells": [
  {
   "attachments": {},
   "cell_type": "markdown",
   "metadata": {},
   "source": [
    "## Setup"
   ]
  },
  {
   "cell_type": "code",
   "execution_count": 1,
   "metadata": {},
   "outputs": [],
   "source": [
    "import pandas as pd\n",
    "import numpy as np\n",
    "import matplotlib.pyplot as plt\n",
    "import seaborn as sns\n",
    "\n",
    "from IPython.display import display, Markdown\n",
    "plt.style.use(\"seaborn-darkgrid\")\n",
    "pd.set_option('display.max_columns', None)  \n",
    "\n",
    "import sys, os, yaml\n",
    "\n",
    "DATASET = \"Churn\"\n",
    "COLAB = 'google.colab' in sys.modules\n",
    "DEBUG = False\n",
    "SEED = 666"
   ]
  },
  {
   "cell_type": "code",
   "execution_count": 2,
   "metadata": {},
   "outputs": [],
   "source": [
    "COLAB = 'google.colab' in sys.modules\n",
    "\n",
    "if COLAB:\n",
    "  from google.colab import drive\n",
    "  if not os.path.isdir(\"/content/gdrive\"):\n",
    "    drive.mount(\"/content/gdrive\")\n",
    "    d = \"/content/gdrive/MyDrive/datasets\"\n",
    "    if not os.path.isdir(ROOT+d): os.makedirs(ROOT+d)\n",
    "  ROOT = f\"/content/gdrive/MyDrive/datasets/{DATASET.replace(' ','_')}/\"\n",
    "  if not os.path.isdir(ROOT): os.makedirs(ROOT)\n",
    "else:\n",
    "  ROOT = \"./\"\n",
    "\n",
    "def makedirs(d):\n",
    "  if COLAB:\n",
    "    if not os.path.isdir(ROOT+d): os.makedirs(ROOT+d)\n",
    "  else:\n",
    "    if not os.path.isdir(ROOT+d): os.makedirs(ROOT+d, mode=0o777, exist_ok=True)\n",
    "\n",
    "for d in ['orig','data','output']: makedirs(d)"
   ]
  },
  {
   "cell_type": "code",
   "execution_count": null,
   "metadata": {},
   "outputs": [],
   "source": []
  },
  {
   "attachments": {},
   "cell_type": "markdown",
   "metadata": {},
   "source": [
    "## Load Dataset"
   ]
  },
  {
   "cell_type": "code",
   "execution_count": 3,
   "metadata": {},
   "outputs": [
    {
     "name": "stdout",
     "output_type": "stream",
     "text": [
      "(7032, 20)\n"
     ]
    },
    {
     "data": {
      "text/html": [
       "<div>\n",
       "<style scoped>\n",
       "    .dataframe tbody tr th:only-of-type {\n",
       "        vertical-align: middle;\n",
       "    }\n",
       "\n",
       "    .dataframe tbody tr th {\n",
       "        vertical-align: top;\n",
       "    }\n",
       "\n",
       "    .dataframe thead th {\n",
       "        text-align: right;\n",
       "    }\n",
       "</style>\n",
       "<table border=\"1\" class=\"dataframe\">\n",
       "  <thead>\n",
       "    <tr style=\"text-align: right;\">\n",
       "      <th></th>\n",
       "      <th>Gender</th>\n",
       "      <th>SeniorCitizen</th>\n",
       "      <th>Partner</th>\n",
       "      <th>Dependents</th>\n",
       "      <th>Tenure</th>\n",
       "      <th>PhoneService</th>\n",
       "      <th>MultipleLines</th>\n",
       "      <th>InternetService</th>\n",
       "      <th>OnlineSecurity</th>\n",
       "      <th>OnlineBackup</th>\n",
       "      <th>DeviceProtection</th>\n",
       "      <th>TechSupport</th>\n",
       "      <th>StreamingTV</th>\n",
       "      <th>StreamingMovies</th>\n",
       "      <th>Contract</th>\n",
       "      <th>PaperlessBilling</th>\n",
       "      <th>PaymentMethod</th>\n",
       "      <th>MonthlyCharges</th>\n",
       "      <th>TotalCharges</th>\n",
       "      <th>Churn</th>\n",
       "    </tr>\n",
       "  </thead>\n",
       "  <tbody>\n",
       "    <tr>\n",
       "      <th>0</th>\n",
       "      <td>Female</td>\n",
       "      <td>No</td>\n",
       "      <td>Yes</td>\n",
       "      <td>No</td>\n",
       "      <td>1</td>\n",
       "      <td>No</td>\n",
       "      <td>No</td>\n",
       "      <td>DSL</td>\n",
       "      <td>No</td>\n",
       "      <td>Yes</td>\n",
       "      <td>No</td>\n",
       "      <td>No</td>\n",
       "      <td>No</td>\n",
       "      <td>No</td>\n",
       "      <td>Month-to-month</td>\n",
       "      <td>Yes</td>\n",
       "      <td>Electronic check</td>\n",
       "      <td>29.85</td>\n",
       "      <td>29.85</td>\n",
       "      <td>No</td>\n",
       "    </tr>\n",
       "    <tr>\n",
       "      <th>1</th>\n",
       "      <td>Male</td>\n",
       "      <td>No</td>\n",
       "      <td>No</td>\n",
       "      <td>No</td>\n",
       "      <td>34</td>\n",
       "      <td>Yes</td>\n",
       "      <td>No</td>\n",
       "      <td>DSL</td>\n",
       "      <td>Yes</td>\n",
       "      <td>No</td>\n",
       "      <td>Yes</td>\n",
       "      <td>No</td>\n",
       "      <td>No</td>\n",
       "      <td>No</td>\n",
       "      <td>One year</td>\n",
       "      <td>No</td>\n",
       "      <td>Mailed check</td>\n",
       "      <td>56.95</td>\n",
       "      <td>1889.50</td>\n",
       "      <td>No</td>\n",
       "    </tr>\n",
       "  </tbody>\n",
       "</table>\n",
       "</div>"
      ],
      "text/plain": [
       "   Gender SeniorCitizen Partner Dependents  Tenure PhoneService MultipleLines  \\\n",
       "0  Female            No     Yes         No       1           No            No   \n",
       "1    Male            No      No         No      34          Yes            No   \n",
       "\n",
       "  InternetService OnlineSecurity OnlineBackup DeviceProtection TechSupport  \\\n",
       "0             DSL             No          Yes               No          No   \n",
       "1             DSL            Yes           No              Yes          No   \n",
       "\n",
       "  StreamingTV StreamingMovies        Contract PaperlessBilling  \\\n",
       "0          No              No  Month-to-month              Yes   \n",
       "1          No              No        One year               No   \n",
       "\n",
       "      PaymentMethod  MonthlyCharges  TotalCharges Churn  \n",
       "0  Electronic check           29.85         29.85    No  \n",
       "1      Mailed check           56.95       1889.50    No  "
      ]
     },
     "execution_count": 3,
     "metadata": {},
     "output_type": "execute_result"
    }
   ],
   "source": [
    "df = pd.read_pickle(f\"{ROOT}/data/data.pkl\")\n",
    "print(df.shape)\n",
    "df.head(2)"
   ]
  },
  {
   "cell_type": "code",
   "execution_count": 4,
   "metadata": {},
   "outputs": [
    {
     "name": "stdout",
     "output_type": "stream",
     "text": [
      "<class 'pandas.core.frame.DataFrame'>\n",
      "Int64Index: 7032 entries, 0 to 7042\n",
      "Data columns (total 20 columns):\n",
      " #   Column            Non-Null Count  Dtype   \n",
      "---  ------            --------------  -----   \n",
      " 0   Gender            7032 non-null   category\n",
      " 1   SeniorCitizen     7032 non-null   category\n",
      " 2   Partner           7032 non-null   category\n",
      " 3   Dependents        7032 non-null   category\n",
      " 4   Tenure            7032 non-null   int64   \n",
      " 5   PhoneService      7032 non-null   category\n",
      " 6   MultipleLines     7032 non-null   category\n",
      " 7   InternetService   7032 non-null   category\n",
      " 8   OnlineSecurity    7032 non-null   category\n",
      " 9   OnlineBackup      7032 non-null   category\n",
      " 10  DeviceProtection  7032 non-null   category\n",
      " 11  TechSupport       7032 non-null   category\n",
      " 12  StreamingTV       7032 non-null   category\n",
      " 13  StreamingMovies   7032 non-null   category\n",
      " 14  Contract          7032 non-null   category\n",
      " 15  PaperlessBilling  7032 non-null   category\n",
      " 16  PaymentMethod     7032 non-null   category\n",
      " 17  MonthlyCharges    7032 non-null   float64 \n",
      " 18  TotalCharges      7032 non-null   float64 \n",
      " 19  Churn             7032 non-null   category\n",
      "dtypes: category(17), float64(2), int64(1)\n",
      "memory usage: 336.8 KB\n"
     ]
    }
   ],
   "source": [
    "df.info()"
   ]
  },
  {
   "attachments": {},
   "cell_type": "markdown",
   "metadata": {},
   "source": [
    "## Preprocessing Dataset"
   ]
  },
  {
   "attachments": {},
   "cell_type": "markdown",
   "metadata": {},
   "source": [
    "### Identify target and features"
   ]
  },
  {
   "cell_type": "code",
   "execution_count": 5,
   "metadata": {},
   "outputs": [
    {
     "name": "stdout",
     "output_type": "stream",
     "text": [
      "target = Churn\n",
      "\n",
      "Categorical features (16): ['Gender', 'SeniorCitizen', 'Partner', 'Dependents', 'PhoneService', 'MultipleLines', 'InternetService', 'OnlineSecurity', 'OnlineBackup', 'DeviceProtection', 'TechSupport', 'StreamingTV', 'StreamingMovies', 'Contract', 'PaperlessBilling', 'PaymentMethod']\n",
      "\n",
      "Numerical features (3): ['Tenure', 'MonthlyCharges', 'TotalCharges']\n"
     ]
    }
   ],
   "source": [
    "target = \"Churn\"\n",
    "print(f\"target = {target}\")\n",
    "\n",
    "cat_features = [c for c in df.select_dtypes(\"category\").columns if c!= target]\n",
    "print(f\"\\nCategorical features ({len(cat_features)}): {cat_features}\")\n",
    "\n",
    "num_features = [c for c in df.select_dtypes([\"int\",\"float\"]).columns if c!= target]\n",
    "print(f\"\\nNumerical features ({len(num_features)}): {num_features}\")\n",
    "\n"
   ]
  },
  {
   "attachments": {},
   "cell_type": "markdown",
   "metadata": {},
   "source": [
    "### Train/Test split"
   ]
  },
  {
   "attachments": {},
   "cell_type": "markdown",
   "metadata": {},
   "source": [
    "* Split data train/test -> this time (60% train/40% test)"
   ]
  },
  {
   "cell_type": "code",
   "execution_count": 6,
   "metadata": {},
   "outputs": [
    {
     "data": {
      "text/plain": [
       "No     0.734215\n",
       "Yes    0.265785\n",
       "Name: Churn, dtype: float64"
      ]
     },
     "execution_count": 6,
     "metadata": {},
     "output_type": "execute_result"
    }
   ],
   "source": [
    "df.Churn.value_counts(normalize=True)"
   ]
  },
  {
   "attachments": {},
   "cell_type": "markdown",
   "metadata": {},
   "source": [
    "* `train_size` -> % must use float / num_of_rows must use int\n",
    "* `randon_state` -> \n",
    "* `stratify` -> divide most equally the rate of yes/no between train and test"
   ]
  },
  {
   "cell_type": "code",
   "execution_count": 7,
   "metadata": {},
   "outputs": [
    {
     "name": "stdout",
     "output_type": "stream",
     "text": [
      "(4219, 20) (2813, 20)\n"
     ]
    }
   ],
   "source": [
    "from sklearn.model_selection import train_test_split\n",
    "\n",
    "df_train,df_test = train_test_split(df, train_size=0.60, stratify=df[target], random_state=SEED)\n",
    "\n",
    "print(df_train.shape,df_test.shape)"
   ]
  },
  {
   "cell_type": "code",
   "execution_count": 8,
   "metadata": {},
   "outputs": [
    {
     "data": {
      "text/plain": [
       "No     0.734297\n",
       "Yes    0.265703\n",
       "Name: Churn, dtype: float64"
      ]
     },
     "execution_count": 8,
     "metadata": {},
     "output_type": "execute_result"
    }
   ],
   "source": [
    "df_train.Churn.value_counts(normalize=True)"
   ]
  },
  {
   "cell_type": "code",
   "execution_count": 9,
   "metadata": {},
   "outputs": [
    {
     "data": {
      "text/plain": [
       "No     0.734092\n",
       "Yes    0.265908\n",
       "Name: Churn, dtype: float64"
      ]
     },
     "execution_count": 9,
     "metadata": {},
     "output_type": "execute_result"
    }
   ],
   "source": [
    "df_test.Churn.value_counts(normalize=True)"
   ]
  },
  {
   "attachments": {},
   "cell_type": "markdown",
   "metadata": {},
   "source": [
    "### Encode target"
   ]
  },
  {
   "attachments": {},
   "cell_type": "markdown",
   "metadata": {},
   "source": [
    "* `LabelEncoder` takes a column with strings (categorical) and change to numerical by a Map"
   ]
  },
  {
   "cell_type": "code",
   "execution_count": 10,
   "metadata": {},
   "outputs": [],
   "source": [
    "from sklearn.preprocessing import LabelEncoder\n",
    "\n",
    "le = LabelEncoder()\n",
    "\n",
    "le.fit(df_train[target])\n",
    "\n",
    "y_train = le.transform(df_train[target])\n",
    "y_test = le.transform(df_test[target])"
   ]
  },
  {
   "cell_type": "code",
   "execution_count": 11,
   "metadata": {},
   "outputs": [
    {
     "data": {
      "text/plain": [
       "193      No\n",
       "6108     No\n",
       "3580    Yes\n",
       "2195     No\n",
       "3809     No\n",
       "Name: Churn, dtype: category\n",
       "Categories (2, object): ['No', 'Yes']"
      ]
     },
     "execution_count": 11,
     "metadata": {},
     "output_type": "execute_result"
    }
   ],
   "source": [
    "df_train[target].head()"
   ]
  },
  {
   "cell_type": "code",
   "execution_count": 12,
   "metadata": {},
   "outputs": [
    {
     "data": {
      "text/plain": [
       "array([0, 0, 1, 0, 0])"
      ]
     },
     "execution_count": 12,
     "metadata": {},
     "output_type": "execute_result"
    }
   ],
   "source": [
    "y_train[:5]"
   ]
  },
  {
   "cell_type": "code",
   "execution_count": 13,
   "metadata": {},
   "outputs": [
    {
     "data": {
      "text/plain": [
       "array(['No', 'No', 'Yes', 'No', 'No'], dtype=object)"
      ]
     },
     "execution_count": 13,
     "metadata": {},
     "output_type": "execute_result"
    }
   ],
   "source": [
    "le.inverse_transform(y_train[:5])"
   ]
  },
  {
   "attachments": {},
   "cell_type": "markdown",
   "metadata": {},
   "source": [
    "### Encode Categorical features"
   ]
  },
  {
   "cell_type": "code",
   "execution_count": 14,
   "metadata": {},
   "outputs": [
    {
     "name": "stdout",
     "output_type": "stream",
     "text": [
      "(4219, 36) (2813, 36)\n"
     ]
    },
    {
     "data": {
      "text/html": [
       "<div>\n",
       "<style scoped>\n",
       "    .dataframe tbody tr th:only-of-type {\n",
       "        vertical-align: middle;\n",
       "    }\n",
       "\n",
       "    .dataframe tbody tr th {\n",
       "        vertical-align: top;\n",
       "    }\n",
       "\n",
       "    .dataframe thead th {\n",
       "        text-align: right;\n",
       "    }\n",
       "</style>\n",
       "<table border=\"1\" class=\"dataframe\">\n",
       "  <thead>\n",
       "    <tr style=\"text-align: right;\">\n",
       "      <th></th>\n",
       "      <th>Gender_Female</th>\n",
       "      <th>Gender_Male</th>\n",
       "      <th>SeniorCitizen_No</th>\n",
       "      <th>SeniorCitizen_Yes</th>\n",
       "      <th>Partner_No</th>\n",
       "      <th>Partner_Yes</th>\n",
       "      <th>Dependents_No</th>\n",
       "      <th>Dependents_Yes</th>\n",
       "      <th>PhoneService_No</th>\n",
       "      <th>PhoneService_Yes</th>\n",
       "      <th>MultipleLines_No</th>\n",
       "      <th>MultipleLines_Yes</th>\n",
       "      <th>InternetService_DSL</th>\n",
       "      <th>InternetService_Fiber optic</th>\n",
       "      <th>InternetService_No</th>\n",
       "      <th>OnlineSecurity_No</th>\n",
       "      <th>OnlineSecurity_Yes</th>\n",
       "      <th>OnlineBackup_No</th>\n",
       "      <th>OnlineBackup_Yes</th>\n",
       "      <th>DeviceProtection_No</th>\n",
       "      <th>DeviceProtection_Yes</th>\n",
       "      <th>TechSupport_No</th>\n",
       "      <th>TechSupport_Yes</th>\n",
       "      <th>StreamingTV_No</th>\n",
       "      <th>StreamingTV_Yes</th>\n",
       "      <th>StreamingMovies_No</th>\n",
       "      <th>StreamingMovies_Yes</th>\n",
       "      <th>Contract_Month-to-month</th>\n",
       "      <th>Contract_One year</th>\n",
       "      <th>Contract_Two year</th>\n",
       "      <th>PaperlessBilling_No</th>\n",
       "      <th>PaperlessBilling_Yes</th>\n",
       "      <th>PaymentMethod_Bank transfer (automatic)</th>\n",
       "      <th>PaymentMethod_Credit card (automatic)</th>\n",
       "      <th>PaymentMethod_Electronic check</th>\n",
       "      <th>PaymentMethod_Mailed check</th>\n",
       "    </tr>\n",
       "  </thead>\n",
       "  <tbody>\n",
       "    <tr>\n",
       "      <th>0</th>\n",
       "      <td>1.0</td>\n",
       "      <td>0.0</td>\n",
       "      <td>1.0</td>\n",
       "      <td>0.0</td>\n",
       "      <td>0.0</td>\n",
       "      <td>1.0</td>\n",
       "      <td>0.0</td>\n",
       "      <td>1.0</td>\n",
       "      <td>0.0</td>\n",
       "      <td>1.0</td>\n",
       "      <td>0.0</td>\n",
       "      <td>1.0</td>\n",
       "      <td>0.0</td>\n",
       "      <td>1.0</td>\n",
       "      <td>0.0</td>\n",
       "      <td>0.0</td>\n",
       "      <td>1.0</td>\n",
       "      <td>0.0</td>\n",
       "      <td>1.0</td>\n",
       "      <td>0.0</td>\n",
       "      <td>1.0</td>\n",
       "      <td>1.0</td>\n",
       "      <td>0.0</td>\n",
       "      <td>0.0</td>\n",
       "      <td>1.0</td>\n",
       "      <td>0.0</td>\n",
       "      <td>1.0</td>\n",
       "      <td>0.0</td>\n",
       "      <td>0.0</td>\n",
       "      <td>1.0</td>\n",
       "      <td>1.0</td>\n",
       "      <td>0.0</td>\n",
       "      <td>0.0</td>\n",
       "      <td>1.0</td>\n",
       "      <td>0.0</td>\n",
       "      <td>0.0</td>\n",
       "    </tr>\n",
       "    <tr>\n",
       "      <th>1</th>\n",
       "      <td>0.0</td>\n",
       "      <td>1.0</td>\n",
       "      <td>1.0</td>\n",
       "      <td>0.0</td>\n",
       "      <td>1.0</td>\n",
       "      <td>0.0</td>\n",
       "      <td>1.0</td>\n",
       "      <td>0.0</td>\n",
       "      <td>1.0</td>\n",
       "      <td>0.0</td>\n",
       "      <td>1.0</td>\n",
       "      <td>0.0</td>\n",
       "      <td>1.0</td>\n",
       "      <td>0.0</td>\n",
       "      <td>0.0</td>\n",
       "      <td>1.0</td>\n",
       "      <td>0.0</td>\n",
       "      <td>1.0</td>\n",
       "      <td>0.0</td>\n",
       "      <td>1.0</td>\n",
       "      <td>0.0</td>\n",
       "      <td>1.0</td>\n",
       "      <td>0.0</td>\n",
       "      <td>1.0</td>\n",
       "      <td>0.0</td>\n",
       "      <td>1.0</td>\n",
       "      <td>0.0</td>\n",
       "      <td>1.0</td>\n",
       "      <td>0.0</td>\n",
       "      <td>0.0</td>\n",
       "      <td>1.0</td>\n",
       "      <td>0.0</td>\n",
       "      <td>0.0</td>\n",
       "      <td>0.0</td>\n",
       "      <td>0.0</td>\n",
       "      <td>1.0</td>\n",
       "    </tr>\n",
       "  </tbody>\n",
       "</table>\n",
       "</div>"
      ],
      "text/plain": [
       "   Gender_Female  Gender_Male  SeniorCitizen_No  SeniorCitizen_Yes  \\\n",
       "0            1.0          0.0               1.0                0.0   \n",
       "1            0.0          1.0               1.0                0.0   \n",
       "\n",
       "   Partner_No  Partner_Yes  Dependents_No  Dependents_Yes  PhoneService_No  \\\n",
       "0         0.0          1.0            0.0             1.0              0.0   \n",
       "1         1.0          0.0            1.0             0.0              1.0   \n",
       "\n",
       "   PhoneService_Yes  MultipleLines_No  MultipleLines_Yes  InternetService_DSL  \\\n",
       "0               1.0               0.0                1.0                  0.0   \n",
       "1               0.0               1.0                0.0                  1.0   \n",
       "\n",
       "   InternetService_Fiber optic  InternetService_No  OnlineSecurity_No  \\\n",
       "0                          1.0                 0.0                0.0   \n",
       "1                          0.0                 0.0                1.0   \n",
       "\n",
       "   OnlineSecurity_Yes  OnlineBackup_No  OnlineBackup_Yes  DeviceProtection_No  \\\n",
       "0                 1.0              0.0               1.0                  0.0   \n",
       "1                 0.0              1.0               0.0                  1.0   \n",
       "\n",
       "   DeviceProtection_Yes  TechSupport_No  TechSupport_Yes  StreamingTV_No  \\\n",
       "0                   1.0             1.0              0.0             0.0   \n",
       "1                   0.0             1.0              0.0             1.0   \n",
       "\n",
       "   StreamingTV_Yes  StreamingMovies_No  StreamingMovies_Yes  \\\n",
       "0              1.0                 0.0                  1.0   \n",
       "1              0.0                 1.0                  0.0   \n",
       "\n",
       "   Contract_Month-to-month  Contract_One year  Contract_Two year  \\\n",
       "0                      0.0                0.0                1.0   \n",
       "1                      1.0                0.0                0.0   \n",
       "\n",
       "   PaperlessBilling_No  PaperlessBilling_Yes  \\\n",
       "0                  1.0                   0.0   \n",
       "1                  1.0                   0.0   \n",
       "\n",
       "   PaymentMethod_Bank transfer (automatic)  \\\n",
       "0                                      0.0   \n",
       "1                                      0.0   \n",
       "\n",
       "   PaymentMethod_Credit card (automatic)  PaymentMethod_Electronic check  \\\n",
       "0                                    1.0                             0.0   \n",
       "1                                    0.0                             0.0   \n",
       "\n",
       "   PaymentMethod_Mailed check  \n",
       "0                         0.0  \n",
       "1                         1.0  "
      ]
     },
     "execution_count": 14,
     "metadata": {},
     "output_type": "execute_result"
    }
   ],
   "source": [
    "from sklearn.preprocessing import OneHotEncoder\n",
    "\n",
    "ohe = OneHotEncoder()\n",
    "\n",
    "ohe.fit(df_train[cat_features])\n",
    "\n",
    "X_cat_train = ohe.transform(df_train[cat_features])\n",
    "X_cat_test = ohe.transform(df_test[cat_features])\n",
    "\n",
    "df_cat_train = pd.DataFrame(X_cat_train.toarray(), columns=ohe.get_feature_names_out())\n",
    "df_cat_test = pd.DataFrame(X_cat_test.toarray(), columns=ohe.get_feature_names_out())\n",
    "print(df_cat_train.shape, df_cat_test.shape)\n",
    "\n",
    "df_cat_train.head(2)"
   ]
  },
  {
   "attachments": {},
   "cell_type": "markdown",
   "metadata": {},
   "source": [
    "### Scale / Transform numerical features"
   ]
  },
  {
   "cell_type": "code",
   "execution_count": 15,
   "metadata": {},
   "outputs": [
    {
     "name": "stdout",
     "output_type": "stream",
     "text": [
      "(4219, 3) (2813, 3)\n"
     ]
    },
    {
     "data": {
      "text/html": [
       "<div>\n",
       "<style scoped>\n",
       "    .dataframe tbody tr th:only-of-type {\n",
       "        vertical-align: middle;\n",
       "    }\n",
       "\n",
       "    .dataframe tbody tr th {\n",
       "        vertical-align: top;\n",
       "    }\n",
       "\n",
       "    .dataframe thead th {\n",
       "        text-align: right;\n",
       "    }\n",
       "</style>\n",
       "<table border=\"1\" class=\"dataframe\">\n",
       "  <thead>\n",
       "    <tr style=\"text-align: right;\">\n",
       "      <th></th>\n",
       "      <th>Tenure</th>\n",
       "      <th>MonthlyCharges</th>\n",
       "      <th>TotalCharges</th>\n",
       "    </tr>\n",
       "  </thead>\n",
       "  <tbody>\n",
       "    <tr>\n",
       "      <th>0</th>\n",
       "      <td>1.597275</td>\n",
       "      <td>1.487874</td>\n",
       "      <td>2.557942</td>\n",
       "    </tr>\n",
       "    <tr>\n",
       "      <th>1</th>\n",
       "      <td>-0.596193</td>\n",
       "      <td>-1.323820</td>\n",
       "      <td>-0.804777</td>\n",
       "    </tr>\n",
       "  </tbody>\n",
       "</table>\n",
       "</div>"
      ],
      "text/plain": [
       "     Tenure  MonthlyCharges  TotalCharges\n",
       "0  1.597275        1.487874      2.557942\n",
       "1 -0.596193       -1.323820     -0.804777"
      ]
     },
     "execution_count": 15,
     "metadata": {},
     "output_type": "execute_result"
    }
   ],
   "source": [
    "from sklearn.preprocessing import StandardScaler\n",
    "\n",
    "ss = StandardScaler()\n",
    "\n",
    "ss.fit(df_train[num_features])\n",
    "\n",
    "X_num_train = ss.transform(df_train[num_features])\n",
    "X_num_test = ss.transform(df_test[num_features])\n",
    "\n",
    "df_num_train = pd.DataFrame(X_num_train, columns=ss.get_feature_names_out())\n",
    "df_num_test = pd.DataFrame(X_num_test, columns=ss.get_feature_names_out())\n",
    "print(df_num_train.shape, df_num_test.shape)\n",
    "\n",
    "df_num_train.head(2)\n",
    "\n"
   ]
  },
  {
   "attachments": {},
   "cell_type": "markdown",
   "metadata": {},
   "source": [
    "### Construct dataframe for model features"
   ]
  },
  {
   "cell_type": "code",
   "execution_count": 16,
   "metadata": {},
   "outputs": [
    {
     "name": "stdout",
     "output_type": "stream",
     "text": [
      "(4219, 39) (2813, 39)\n"
     ]
    }
   ],
   "source": [
    "df_model_train = pd.concat([df_cat_train, df_num_train], axis=1)\n",
    "df_model_test = pd.concat([df_cat_test, df_num_test], axis=1)\n",
    "print(df_model_train.shape, df_model_test.shape)"
   ]
  },
  {
   "attachments": {},
   "cell_type": "markdown",
   "metadata": {},
   "source": [
    "## Model Selection"
   ]
  },
  {
   "cell_type": "code",
   "execution_count": 17,
   "metadata": {},
   "outputs": [],
   "source": [
    "from sklearn.neighbors import KNeighborsClassifier\n",
    "from sklearn.tree import DecisionTreeClassifier\n",
    "from sklearn.linear_model import LogisticRegression\n",
    "from sklearn.ensemble import RandomForestClassifier, AdaBoostClassifier\n",
    "\n",
    "classifiers = {\n",
    "    \"KNN\" : KNeighborsClassifier(),\n",
    "    \"KNN(3)\" : KNeighborsClassifier(3),\n",
    "    \"DT\" : DecisionTreeClassifier(),\n",
    "    \"DT(max_depth=5)\" : DecisionTreeClassifier(max_depth=5),\n",
    "    \"LR\" : LogisticRegression(max_iter=1000),\n",
    "    \"RF\" : RandomForestClassifier(),\n",
    "    \"AdaBoost\" : AdaBoostClassifier(),\n",
    "}"
   ]
  },
  {
   "cell_type": "code",
   "execution_count": 18,
   "metadata": {},
   "outputs": [
    {
     "name": "stdout",
     "output_type": "stream",
     "text": [
      "KNN                  accuracy\ttrain = 84.14% \ttest = 75.76%\n",
      "KNN(3)               accuracy\ttrain = 87.11% \ttest = 74.76%\n",
      "DT                   accuracy\ttrain = 99.79% \ttest = 71.56%\n",
      "DT(max_depth=5)      accuracy\ttrain = 80.28% \ttest = 78.74%\n",
      "LR                   accuracy\ttrain = 80.47% \ttest = 80.38%\n",
      "RF                   accuracy\ttrain = 99.79% \ttest = 78.78%\n",
      "AdaBoost             accuracy\ttrain = 80.80% \ttest = 79.88%\n"
     ]
    }
   ],
   "source": [
    "from sklearn.metrics import accuracy_score\n",
    "\n",
    "for name, model in classifiers.items():\n",
    "    \n",
    "    model.fit(df_model_train, y_train)\n",
    "    \n",
    "    # Scoring on SEEN data - effectively \"useless\"\n",
    "    y_pred = model.predict(df_model_train)\n",
    "    train_accuracy = accuracy_score(y_train, y_pred)\n",
    "    \n",
    "    # Scoring on UNSEEN data - important\n",
    "    y_pred = model.predict(df_model_test)\n",
    "    test_accuracy = accuracy_score(y_test, y_pred)\n",
    "    \n",
    "    print(f\"{name:20s} accuracy\\ttrain = {train_accuracy:.2%} \\ttest = {test_accuracy:.2%}\")"
   ]
  },
  {
   "cell_type": "code",
   "execution_count": 19,
   "metadata": {},
   "outputs": [
    {
     "name": "stdout",
     "output_type": "stream",
     "text": [
      "KNN                  accuracy\tCV= 76.58% \tstd = 1.65%\n",
      "KNN(3)               accuracy\tCV= 74.99% \tstd = 1.96%\n",
      "DT                   accuracy\tCV= 72.22% \tstd = 2.08%\n",
      "DT(max_depth=5)      accuracy\tCV= 78.38% \tstd = 1.28%\n",
      "LR                   accuracy\tCV= 80.21% \tstd = 1.58%\n",
      "RF                   accuracy\tCV= 78.48% \tstd = 1.35%\n",
      "AdaBoost             accuracy\tCV= 79.85% \tstd = 1.60%\n"
     ]
    }
   ],
   "source": [
    "from sklearn.model_selection import cross_val_score\n",
    "\n",
    "for name, model in classifiers.items():\n",
    "    \n",
    "    scores = cross_val_score(model, df_model_train, y_train, cv=10)\n",
    "    \n",
    "    print(f\"{name:20s} accuracy\\tCV= {scores.mean():.2%} \\tstd = {scores.std():.2%}\")"
   ]
  }
 ],
 "metadata": {
  "kernelspec": {
   "display_name": "Python 3",
   "language": "python",
   "name": "python3"
  },
  "language_info": {
   "codemirror_mode": {
    "name": "ipython",
    "version": 3
   },
   "file_extension": ".py",
   "mimetype": "text/x-python",
   "name": "python",
   "nbconvert_exporter": "python",
   "pygments_lexer": "ipython3",
   "version": "3.10.6"
  },
  "orig_nbformat": 4,
  "vscode": {
   "interpreter": {
    "hash": "c3503f95e0e8f4afdf6702396a7a2a29cae9f67572acfe092405dcaa2579b817"
   }
  }
 },
 "nbformat": 4,
 "nbformat_minor": 2
}
