{
 "cells": [
  {
   "attachments": {},
   "cell_type": "markdown",
   "metadata": {},
   "source": [
    "# EDA - Who cut my card? First Approach"
   ]
  },
  {
   "attachments": {},
   "cell_type": "markdown",
   "metadata": {},
   "source": [
    "## Setup"
   ]
  },
  {
   "cell_type": "code",
   "execution_count": 48,
   "metadata": {},
   "outputs": [],
   "source": [
    "import numpy as np\n",
    "import pandas as pd\n",
    "import matplotlib.pyplot as plt\n",
    "import seaborn as sns\n",
    "from scipy import stats\n",
    "import yaml, time, sys, os\n",
    "\n",
    "from IPython.display import display, Markdown\n",
    "plt.style.use(\"seaborn-darkgrid\")\n",
    "pd.set_option('display.max_columns', None)  \n",
    "sns.set_style(\"darkgrid\")\n",
    "\n",
    "DATASET = \"Churn_Kaggle\"\n",
    "\n",
    "COLAB = 'google.colab' in sys.modules\n",
    "if COLAB:\n",
    "    ROOT = f\"/content/gdrive/MyDrive/datasets/{DATASET.replace(' ','_')}/\"\n",
    "else:\n",
    "    ROOT = \"./\"\n",
    "\n",
    "DEBUG = True\n"
   ]
  },
  {
   "cell_type": "code",
   "execution_count": 49,
   "metadata": {},
   "outputs": [],
   "source": [
    "if COLAB:\n",
    "  from google.colab import drive\n",
    "  if not os.path.isdir(\"/content/gdrive\"):\n",
    "    drive.mount(\"/content/gdrive\")\n",
    "    d = \"/content/gdrive/MyDrive/datasets\"\n",
    "    if not os.path.isdir(d): os.makedirs(d)\n",
    "  if not os.path.isdir(ROOT): os.makedirs(ROOT)\n",
    "\n",
    "def makedirs(d):\n",
    "  if COLAB:\n",
    "    if not os.path.isdir(ROOT+d): os.makedirs(ROOT+d)\n",
    "  else:\n",
    "    if not os.path.isdir(ROOT+d): os.makedirs(ROOT+d, mode=0o777, exist_ok=True)\n",
    "\n",
    "for d in ['orig','data','output']: makedirs(d)\n"
   ]
  },
  {
   "attachments": {},
   "cell_type": "markdown",
   "metadata": {},
   "source": [
    "## Load Dataset"
   ]
  },
  {
   "cell_type": "code",
   "execution_count": 50,
   "metadata": {},
   "outputs": [
    {
     "name": "stdout",
     "output_type": "stream",
     "text": [
      "Train:(6577, 15) Test:(3542, 14)\n"
     ]
    },
    {
     "data": {
      "text/html": [
       "<div>\n",
       "<style scoped>\n",
       "    .dataframe tbody tr th:only-of-type {\n",
       "        vertical-align: middle;\n",
       "    }\n",
       "\n",
       "    .dataframe tbody tr th {\n",
       "        vertical-align: top;\n",
       "    }\n",
       "\n",
       "    .dataframe thead th {\n",
       "        text-align: right;\n",
       "    }\n",
       "</style>\n",
       "<table border=\"1\" class=\"dataframe\">\n",
       "  <thead>\n",
       "    <tr style=\"text-align: right;\">\n",
       "      <th></th>\n",
       "      <th>Customer</th>\n",
       "      <th>Churn</th>\n",
       "      <th>Card</th>\n",
       "      <th>Start_Date</th>\n",
       "      <th>Customer_Service_Calls</th>\n",
       "      <th>Credit_Limit</th>\n",
       "      <th>Total_Revolving_Balance</th>\n",
       "      <th>Average_Open_To_Buy</th>\n",
       "      <th>Average_Utilisation_Ratio</th>\n",
       "      <th>Age</th>\n",
       "      <th>Gender</th>\n",
       "      <th>Education</th>\n",
       "      <th>Marital_Status</th>\n",
       "      <th>Dependents</th>\n",
       "      <th>Income</th>\n",
       "    </tr>\n",
       "  </thead>\n",
       "  <tbody>\n",
       "    <tr>\n",
       "      <th>0</th>\n",
       "      <td>797197508</td>\n",
       "      <td>No</td>\n",
       "      <td>Silver</td>\n",
       "      <td>2020-06-01</td>\n",
       "      <td>1</td>\n",
       "      <td>2315.0</td>\n",
       "      <td>1565</td>\n",
       "      <td>750.0</td>\n",
       "      <td>0.676</td>\n",
       "      <td>48.0</td>\n",
       "      <td>F</td>\n",
       "      <td>Graduate</td>\n",
       "      <td>Married</td>\n",
       "      <td>2</td>\n",
       "      <td>Less than €30K</td>\n",
       "    </tr>\n",
       "    <tr>\n",
       "      <th>1</th>\n",
       "      <td>812854728</td>\n",
       "      <td>No</td>\n",
       "      <td>Silver</td>\n",
       "      <td>2020-01-01</td>\n",
       "      <td>1</td>\n",
       "      <td>7645.0</td>\n",
       "      <td>2076</td>\n",
       "      <td>5569.0</td>\n",
       "      <td>0.272</td>\n",
       "      <td>58.0</td>\n",
       "      <td>F</td>\n",
       "      <td>Second level</td>\n",
       "      <td>Single</td>\n",
       "      <td>5</td>\n",
       "      <td>Less than €30K</td>\n",
       "    </tr>\n",
       "    <tr>\n",
       "      <th>2</th>\n",
       "      <td>768000743</td>\n",
       "      <td>No</td>\n",
       "      <td>Silver</td>\n",
       "      <td>2020-01-01</td>\n",
       "      <td>2</td>\n",
       "      <td>6394.0</td>\n",
       "      <td>0</td>\n",
       "      <td>6394.0</td>\n",
       "      <td>0.000</td>\n",
       "      <td>55.0</td>\n",
       "      <td>F</td>\n",
       "      <td>Second level</td>\n",
       "      <td>Single</td>\n",
       "      <td>2</td>\n",
       "      <td>Less than €30K</td>\n",
       "    </tr>\n",
       "    <tr>\n",
       "      <th>3</th>\n",
       "      <td>722161439</td>\n",
       "      <td>No</td>\n",
       "      <td>Silver</td>\n",
       "      <td>2020-08-01</td>\n",
       "      <td>3</td>\n",
       "      <td>4663.0</td>\n",
       "      <td>0</td>\n",
       "      <td>4663.0</td>\n",
       "      <td>0.000</td>\n",
       "      <td>41.0</td>\n",
       "      <td>F</td>\n",
       "      <td>Graduate</td>\n",
       "      <td>NaN</td>\n",
       "      <td>2</td>\n",
       "      <td>€30K - €50K</td>\n",
       "    </tr>\n",
       "    <tr>\n",
       "      <th>4</th>\n",
       "      <td>759029725</td>\n",
       "      <td>No</td>\n",
       "      <td>Silver</td>\n",
       "      <td>2021-02-01</td>\n",
       "      <td>4</td>\n",
       "      <td>1879.0</td>\n",
       "      <td>1486</td>\n",
       "      <td>393.0</td>\n",
       "      <td>0.791</td>\n",
       "      <td>37.0</td>\n",
       "      <td>F</td>\n",
       "      <td>Second level</td>\n",
       "      <td>Single</td>\n",
       "      <td>1</td>\n",
       "      <td>Less than €30K</td>\n",
       "    </tr>\n",
       "  </tbody>\n",
       "</table>\n",
       "</div>"
      ],
      "text/plain": [
       "    Customer Churn    Card Start_Date  Customer_Service_Calls  Credit_Limit  \\\n",
       "0  797197508    No  Silver 2020-06-01                       1        2315.0   \n",
       "1  812854728    No  Silver 2020-01-01                       1        7645.0   \n",
       "2  768000743    No  Silver 2020-01-01                       2        6394.0   \n",
       "3  722161439    No  Silver 2020-08-01                       3        4663.0   \n",
       "4  759029725    No  Silver 2021-02-01                       4        1879.0   \n",
       "\n",
       "   Total_Revolving_Balance  Average_Open_To_Buy  Average_Utilisation_Ratio  \\\n",
       "0                     1565                750.0                      0.676   \n",
       "1                     2076               5569.0                      0.272   \n",
       "2                        0               6394.0                      0.000   \n",
       "3                        0               4663.0                      0.000   \n",
       "4                     1486                393.0                      0.791   \n",
       "\n",
       "    Age Gender     Education Marital_Status  Dependents          Income  \n",
       "0  48.0      F      Graduate        Married           2  Less than €30K  \n",
       "1  58.0      F  Second level         Single           5  Less than €30K  \n",
       "2  55.0      F  Second level         Single           2  Less than €30K  \n",
       "3  41.0      F      Graduate            NaN           2     €30K - €50K  \n",
       "4  37.0      F  Second level         Single           1  Less than €30K  "
      ]
     },
     "execution_count": 50,
     "metadata": {},
     "output_type": "execute_result"
    }
   ],
   "source": [
    "customers_train = pd.read_csv(f\"{ROOT}/orig/customers_train.csv\", \n",
    "                        parse_dates=[\"Start_Date\"])\n",
    "\n",
    "customers_test = pd.read_csv(f\"{ROOT}/orig/customers_test.csv\", \n",
    "                        parse_dates=[\"Start_Date\"])\n",
    "\n",
    "print(f\"Train:{customers_train.shape}\", f\"Test:{customers_test.shape}\")\n",
    "customers_train.head()\n"
   ]
  },
  {
   "cell_type": "code",
   "execution_count": 51,
   "metadata": {},
   "outputs": [
    {
     "name": "stdout",
     "output_type": "stream",
     "text": [
      "Train:(25012, 2) Test:(13575, 2)\n"
     ]
    },
    {
     "data": {
      "text/html": [
       "<div>\n",
       "<style scoped>\n",
       "    .dataframe tbody tr th:only-of-type {\n",
       "        vertical-align: middle;\n",
       "    }\n",
       "\n",
       "    .dataframe tbody tr th {\n",
       "        vertical-align: top;\n",
       "    }\n",
       "\n",
       "    .dataframe thead th {\n",
       "        text-align: right;\n",
       "    }\n",
       "</style>\n",
       "<table border=\"1\" class=\"dataframe\">\n",
       "  <thead>\n",
       "    <tr style=\"text-align: right;\">\n",
       "      <th></th>\n",
       "      <th>Customer</th>\n",
       "      <th>Account</th>\n",
       "    </tr>\n",
       "  </thead>\n",
       "  <tbody>\n",
       "    <tr>\n",
       "      <th>0</th>\n",
       "      <td>828247016</td>\n",
       "      <td>Investment</td>\n",
       "    </tr>\n",
       "    <tr>\n",
       "      <th>1</th>\n",
       "      <td>828247016</td>\n",
       "      <td>Current</td>\n",
       "    </tr>\n",
       "    <tr>\n",
       "      <th>2</th>\n",
       "      <td>828247016</td>\n",
       "      <td>Credit Card</td>\n",
       "    </tr>\n",
       "    <tr>\n",
       "      <th>3</th>\n",
       "      <td>828247016</td>\n",
       "      <td>On Demand Deposit</td>\n",
       "    </tr>\n",
       "    <tr>\n",
       "      <th>4</th>\n",
       "      <td>828247016</td>\n",
       "      <td>Mortgage</td>\n",
       "    </tr>\n",
       "  </tbody>\n",
       "</table>\n",
       "</div>"
      ],
      "text/plain": [
       "    Customer            Account\n",
       "0  828247016         Investment\n",
       "1  828247016            Current\n",
       "2  828247016        Credit Card\n",
       "3  828247016  On Demand Deposit\n",
       "4  828247016           Mortgage"
      ]
     },
     "execution_count": 51,
     "metadata": {},
     "output_type": "execute_result"
    }
   ],
   "source": [
    "\n",
    "accounts_train = pd.read_csv(f\"{ROOT}/orig/accounts_train.csv\")\n",
    "accounts_test = pd.read_csv(f\"{ROOT}/orig/accounts_test.csv\")\n",
    "print(f\"Train:{accounts_train.shape}\", f\"Test:{accounts_test.shape}\")\n",
    "accounts_train.head()\n"
   ]
  },
  {
   "cell_type": "code",
   "execution_count": 52,
   "metadata": {},
   "outputs": [
    {
     "name": "stdout",
     "output_type": "stream",
     "text": [
      "Train:(514611, 3) Test:(227447, 3)\n"
     ]
    },
    {
     "data": {
      "text/html": [
       "<div>\n",
       "<style scoped>\n",
       "    .dataframe tbody tr th:only-of-type {\n",
       "        vertical-align: middle;\n",
       "    }\n",
       "\n",
       "    .dataframe tbody tr th {\n",
       "        vertical-align: top;\n",
       "    }\n",
       "\n",
       "    .dataframe thead th {\n",
       "        text-align: right;\n",
       "    }\n",
       "</style>\n",
       "<table border=\"1\" class=\"dataframe\">\n",
       "  <thead>\n",
       "    <tr style=\"text-align: right;\">\n",
       "      <th></th>\n",
       "      <th>Customer</th>\n",
       "      <th>Date</th>\n",
       "      <th>Amount</th>\n",
       "    </tr>\n",
       "  </thead>\n",
       "  <tbody>\n",
       "    <tr>\n",
       "      <th>0</th>\n",
       "      <td>828247016</td>\n",
       "      <td>2022-03-01</td>\n",
       "      <td>70.94</td>\n",
       "    </tr>\n",
       "    <tr>\n",
       "      <th>1</th>\n",
       "      <td>828247016</td>\n",
       "      <td>2022-02-21</td>\n",
       "      <td>52.16</td>\n",
       "    </tr>\n",
       "    <tr>\n",
       "      <th>2</th>\n",
       "      <td>828247016</td>\n",
       "      <td>2022-02-19</td>\n",
       "      <td>67.03</td>\n",
       "    </tr>\n",
       "    <tr>\n",
       "      <th>3</th>\n",
       "      <td>828247016</td>\n",
       "      <td>2022-02-19</td>\n",
       "      <td>48.24</td>\n",
       "    </tr>\n",
       "    <tr>\n",
       "      <th>4</th>\n",
       "      <td>828247016</td>\n",
       "      <td>2022-05-20</td>\n",
       "      <td>10.97</td>\n",
       "    </tr>\n",
       "  </tbody>\n",
       "</table>\n",
       "</div>"
      ],
      "text/plain": [
       "    Customer       Date  Amount\n",
       "0  828247016 2022-03-01   70.94\n",
       "1  828247016 2022-02-21   52.16\n",
       "2  828247016 2022-02-19   67.03\n",
       "3  828247016 2022-02-19   48.24\n",
       "4  828247016 2022-05-20   10.97"
      ]
     },
     "execution_count": 52,
     "metadata": {},
     "output_type": "execute_result"
    }
   ],
   "source": [
    "\n",
    "transactions_train = pd.read_csv(f\"{ROOT}/orig/transactions_train.csv\",\n",
    "                                 parse_dates=[\"Date\"])\n",
    "transactions_test = pd.read_csv(f\"{ROOT}/orig/transactions_test.csv\",\n",
    "                                 parse_dates=[\"Date\"])\n",
    "print(f\"Train:{transactions_train.shape}\", f\"Test:{transactions_test.shape}\")\n",
    "transactions_train.head()"
   ]
  },
  {
   "cell_type": "code",
   "execution_count": 53,
   "metadata": {},
   "outputs": [],
   "source": [
    "target = \"Churn\""
   ]
  },
  {
   "attachments": {},
   "cell_type": "markdown",
   "metadata": {},
   "source": [
    "## Clean"
   ]
  },
  {
   "cell_type": "code",
   "execution_count": 54,
   "metadata": {},
   "outputs": [],
   "source": [
    "def eda_cat(df, feature, target, save=False, show=True):\n",
    "\n",
    "    # convert NaN to \"NaN\"\n",
    "    if df[feature].isna().sum()>0:\n",
    "        df[feature] = df[feature].cat.add_categories(\"NaN\").fillna(\"NaN\")\n",
    "\n",
    "    # create a 1x2 subplot\n",
    "    fig, axs = plt.subplots(1, 2, figsize=(10,6), sharey=True)\n",
    "\n",
    "    # bar plot to show counts\n",
    "    df_ct = pd.crosstab(df[feature], df[target], dropna=False, margins=True)[:-1]\n",
    "    df_ct.sort_values(\"All\", ascending=False, inplace=True)\n",
    "    df_ct['All'].plot(kind='barh', stacked=True, ax=axs[0])\n",
    "    axs[0].set_title(\"counts\")\n",
    "\n",
    "    # normalised stacked barplot to show breakdown\n",
    "    df_ct = df_ct.iloc[:,:-1].div(df_ct.All, axis=0)\n",
    "    df_ct.plot(kind='barh', stacked=True, ax=axs[1])\n",
    "    axs[1].legend(bbox_to_anchor=(1,1), facecolor='gray', framealpha=1)\n",
    "    axs[1].set_title(f\"breakdown wrt {target}\")\n",
    "\n",
    "    plt.suptitle(f\"Feature {feature} - Count plot and breakdown wrt {target}\")\n",
    "\n",
    "    if save:\n",
    "        filename = save if type(save)==str else feature\n",
    "        plt.savefig(f\"output/{filename}.png\", bbox_inches='tight')\n",
    "    if show:\n",
    "        plt.show()\n",
    "    else:\n",
    "        plt.close()"
   ]
  },
  {
   "cell_type": "code",
   "execution_count": 55,
   "metadata": {},
   "outputs": [
    {
     "name": "stdout",
     "output_type": "stream",
     "text": [
      "Train:\n",
      "Customer    0\n",
      "Date        0\n",
      "Amount      0\n",
      "dtype: int64\n"
     ]
    }
   ],
   "source": [
    "print(f\"Train:\\n{transactions_train.isna().sum()}\")"
   ]
  },
  {
   "cell_type": "code",
   "execution_count": 56,
   "metadata": {},
   "outputs": [
    {
     "name": "stdout",
     "output_type": "stream",
     "text": [
      "Train:\n",
      "Customer    0\n",
      "Account     0\n",
      "dtype: int64\n"
     ]
    }
   ],
   "source": [
    "accounts_train.isna().sum()\n",
    "print(f\"Train:\\n{accounts_train.isna().sum()}\")"
   ]
  },
  {
   "cell_type": "code",
   "execution_count": 57,
   "metadata": {},
   "outputs": [
    {
     "name": "stdout",
     "output_type": "stream",
     "text": [
      "<class 'pandas.core.frame.DataFrame'>\n",
      "RangeIndex: 6577 entries, 0 to 6576\n",
      "Data columns (total 15 columns):\n",
      " #   Column                     Non-Null Count  Dtype         \n",
      "---  ------                     --------------  -----         \n",
      " 0   Customer                   6577 non-null   int64         \n",
      " 1   Churn                      6556 non-null   object        \n",
      " 2   Card                       6577 non-null   object        \n",
      " 3   Start_Date                 6577 non-null   datetime64[ns]\n",
      " 4   Customer_Service_Calls     6577 non-null   int64         \n",
      " 5   Credit_Limit               6577 non-null   float64       \n",
      " 6   Total_Revolving_Balance    6577 non-null   int64         \n",
      " 7   Average_Open_To_Buy        6577 non-null   float64       \n",
      " 8   Average_Utilisation_Ratio  6577 non-null   float64       \n",
      " 9   Age                        6312 non-null   float64       \n",
      " 10  Gender                     6577 non-null   object        \n",
      " 11  Education                  6577 non-null   object        \n",
      " 12  Marital_Status             6102 non-null   object        \n",
      " 13  Dependents                 6577 non-null   int64         \n",
      " 14  Income                     6577 non-null   object        \n",
      "dtypes: datetime64[ns](1), float64(4), int64(4), object(6)\n",
      "memory usage: 770.9+ KB\n"
     ]
    }
   ],
   "source": [
    "customers_train.info()"
   ]
  },
  {
   "cell_type": "code",
   "execution_count": 58,
   "metadata": {},
   "outputs": [
    {
     "data": {
      "text/plain": [
       "Customer                       0\n",
       "Churn                         21\n",
       "Card                           0\n",
       "Start_Date                     0\n",
       "Customer_Service_Calls         0\n",
       "Credit_Limit                   0\n",
       "Total_Revolving_Balance        0\n",
       "Average_Open_To_Buy            0\n",
       "Average_Utilisation_Ratio      0\n",
       "Age                          265\n",
       "Gender                         0\n",
       "Education                      0\n",
       "Marital_Status               475\n",
       "Dependents                     0\n",
       "Income                         0\n",
       "dtype: int64"
      ]
     },
     "execution_count": 58,
     "metadata": {},
     "output_type": "execute_result"
    }
   ],
   "source": [
    "customers_train.isna().sum()"
   ]
  },
  {
   "cell_type": "code",
   "execution_count": 59,
   "metadata": {},
   "outputs": [
    {
     "data": {
      "text/plain": [
       "Customer                     6577\n",
       "Churn                           2\n",
       "Card                            4\n",
       "Start_Date                     44\n",
       "Customer_Service_Calls          7\n",
       "Credit_Limit                 4499\n",
       "Total_Revolving_Balance      1791\n",
       "Average_Open_To_Buy          4938\n",
       "Average_Utilisation_Ratio     934\n",
       "Age                            43\n",
       "Gender                          2\n",
       "Education                       7\n",
       "Marital_Status                  3\n",
       "Dependents                      6\n",
       "Income                          6\n",
       "dtype: int64"
      ]
     },
     "execution_count": 59,
     "metadata": {},
     "output_type": "execute_result"
    }
   ],
   "source": [
    "customers_train.nunique()"
   ]
  },
  {
   "attachments": {},
   "cell_type": "markdown",
   "metadata": {},
   "source": [
    "### Missing values - Churn\n",
    "* Drop all customers from the 3 Tables which we dont have churn value"
   ]
  },
  {
   "cell_type": "code",
   "execution_count": 60,
   "metadata": {},
   "outputs": [],
   "source": [
    "df_drop = customers_train.copy()\n",
    "df_drop = df_drop[df_drop.Churn.isna()]"
   ]
  },
  {
   "cell_type": "code",
   "execution_count": 61,
   "metadata": {},
   "outputs": [
    {
     "name": "stdout",
     "output_type": "stream",
     "text": [
      "(6556, 15)\n"
     ]
    }
   ],
   "source": [
    "mask = customers_train.Customer.isin(df_drop.Customer)\n",
    "customers_train.drop(customers_train[mask].index, inplace=True)\n",
    "customers_train[target] = pd.Categorical(customers_train[target].astype(str))\n",
    "print(customers_train.shape)"
   ]
  },
  {
   "cell_type": "code",
   "execution_count": 62,
   "metadata": {},
   "outputs": [
    {
     "name": "stdout",
     "output_type": "stream",
     "text": [
      "(24937, 2)\n"
     ]
    }
   ],
   "source": [
    "mask = accounts_train.Customer.isin(df_drop.Customer)\n",
    "accounts_train.drop(accounts_train[mask].index, inplace=True)\n",
    "print(accounts_train.shape)"
   ]
  },
  {
   "cell_type": "code",
   "execution_count": 63,
   "metadata": {},
   "outputs": [
    {
     "name": "stdout",
     "output_type": "stream",
     "text": [
      "(513247, 3)\n"
     ]
    }
   ],
   "source": [
    "mask = transactions_train.Customer.isin(df_drop.Customer)\n",
    "transactions_train.drop(transactions_train[mask].index, inplace=True)\n",
    "print(transactions_train.shape)"
   ]
  },
  {
   "attachments": {},
   "cell_type": "markdown",
   "metadata": {},
   "source": [
    "### Total_Revolving_Balance    "
   ]
  },
  {
   "cell_type": "code",
   "execution_count": 64,
   "metadata": {},
   "outputs": [],
   "source": [
    "customers_train[\"Total_Revolving_Balance\"] = customers_train[\"Total_Revolving_Balance\"].astype(float)"
   ]
  },
  {
   "cell_type": "code",
   "execution_count": 65,
   "metadata": {},
   "outputs": [],
   "source": [
    "customers_test[\"Total_Revolving_Balance\"] = customers_test[\"Total_Revolving_Balance\"].astype(float)"
   ]
  },
  {
   "attachments": {},
   "cell_type": "markdown",
   "metadata": {},
   "source": [
    "### Marital"
   ]
  },
  {
   "cell_type": "code",
   "execution_count": 66,
   "metadata": {},
   "outputs": [
    {
     "name": "stdout",
     "output_type": "stream",
     "text": [
      "Train: 475 / Test: 0\n"
     ]
    }
   ],
   "source": [
    "print(f\"Train: {customers_train.Marital_Status.isna().sum()} /\",f\"Test: {customers_test.Marital_Status.isna().sum()}\")"
   ]
  },
  {
   "cell_type": "code",
   "execution_count": 67,
   "metadata": {},
   "outputs": [],
   "source": [
    "criteria = customers_train.Marital_Status.isna()\n",
    "customers_train.loc[criteria, \"Marital_Status\"] = \"NaN\""
   ]
  },
  {
   "cell_type": "code",
   "execution_count": 68,
   "metadata": {},
   "outputs": [],
   "source": [
    "customers_train[\"Marital_Status\"] = pd.Categorical(customers_train[\"Marital_Status\"].astype(str))\n",
    "customers_test[\"Marital_Status\"] = pd.Categorical(customers_test[\"Marital_Status\"].astype(str))"
   ]
  },
  {
   "cell_type": "code",
   "execution_count": 69,
   "metadata": {},
   "outputs": [
    {
     "data": {
      "image/png": "[encoded data removed]",
      "text/plain": [
       "<Figure size 720x432 with 2 Axes>"
      ]
     },
     "metadata": {},
     "output_type": "display_data"
    }
   ],
   "source": [
    "eda_cat(customers_train,\"Marital_Status\",target)"
   ]
  },
  {
   "attachments": {},
   "cell_type": "markdown",
   "metadata": {},
   "source": [
    "### Card"
   ]
  },
  {
   "cell_type": "code",
   "execution_count": 70,
   "metadata": {},
   "outputs": [],
   "source": [
    "feature = \"Card\"\n",
    "card_order = ['Silver', 'Gold', 'Platinum', 'Black']"
   ]
  },
  {
   "cell_type": "code",
   "execution_count": 71,
   "metadata": {},
   "outputs": [],
   "source": [
    "customers_train[feature] = customers_train[feature].map(lambda x: card_order.index(x))\n",
    "customers_test[feature] = customers_test[feature].map(lambda x: card_order.index(x))"
   ]
  },
  {
   "attachments": {},
   "cell_type": "markdown",
   "metadata": {},
   "source": [
    "### Education"
   ]
  },
  {
   "cell_type": "code",
   "execution_count": 72,
   "metadata": {},
   "outputs": [],
   "source": [
    "feature = \"Education\"\n",
    "edu_order = ['Unknown', 'Primary level', 'Second level','Graduate', 'MSc','Post LC', 'PhD']"
   ]
  },
  {
   "cell_type": "code",
   "execution_count": 73,
   "metadata": {},
   "outputs": [],
   "source": [
    "customers_train[feature] = customers_train[feature].map(lambda x: edu_order.index(x))\n",
    "customers_test[feature] = customers_test[feature].map(lambda x: edu_order.index(x))"
   ]
  },
  {
   "attachments": {},
   "cell_type": "markdown",
   "metadata": {},
   "source": [
    "### Gender"
   ]
  },
  {
   "cell_type": "code",
   "execution_count": 74,
   "metadata": {},
   "outputs": [],
   "source": [
    "customers_train[\"Gender\"] = pd.Categorical(customers_train[\"Gender\"].astype(str))\n",
    "customers_test[\"Gender\"] = pd.Categorical(customers_test[\"Gender\"].astype(str))"
   ]
  },
  {
   "cell_type": "code",
   "execution_count": 75,
   "metadata": {},
   "outputs": [
    {
     "data": {
      "image/png": "[encoded data removed]",
      "text/plain": [
       "<Figure size 720x432 with 2 Axes>"
      ]
     },
     "metadata": {},
     "output_type": "display_data"
    }
   ],
   "source": [
    "eda_cat(customers_train,\"Gender\",target)"
   ]
  },
  {
   "attachments": {},
   "cell_type": "markdown",
   "metadata": {},
   "source": [
    "### Income"
   ]
  },
  {
   "cell_type": "code",
   "execution_count": 76,
   "metadata": {},
   "outputs": [],
   "source": [
    "feature = \"Income\"\n",
    "inc_order = ['Unknown','Less than €30K','€30K - €50K', '€50K - €80K', '€80K - €100K', '€100K +']"
   ]
  },
  {
   "cell_type": "code",
   "execution_count": 77,
   "metadata": {},
   "outputs": [],
   "source": [
    "customers_train[feature] = customers_train[feature].map(lambda x: inc_order.index(x))\n",
    "customers_test[feature] = customers_test[feature].map(lambda x: inc_order.index(x))"
   ]
  },
  {
   "attachments": {},
   "cell_type": "markdown",
   "metadata": {},
   "source": [
    "### Start_Date"
   ]
  },
  {
   "cell_type": "code",
   "execution_count": 78,
   "metadata": {},
   "outputs": [],
   "source": [
    "latest_date = customers_train.Start_Date.max()\n",
    "customers_train['Days'] = (latest_date - customers_train['Start_Date']).dt.days.astype(float)"
   ]
  },
  {
   "cell_type": "code",
   "execution_count": 79,
   "metadata": {},
   "outputs": [],
   "source": [
    "latest_date = customers_test.Start_Date.max()\n",
    "customers_test['Days'] = (latest_date - customers_test['Start_Date']).dt.days.astype(float)"
   ]
  },
  {
   "attachments": {},
   "cell_type": "markdown",
   "metadata": {},
   "source": [
    "### Account type"
   ]
  },
  {
   "cell_type": "code",
   "execution_count": 80,
   "metadata": {},
   "outputs": [],
   "source": [
    "accounts_train[\"Account\"] = pd.Categorical(accounts_train[\"Account\"].astype(str))\n",
    "accounts_test[\"Account\"] = pd.Categorical(accounts_test[\"Account\"].astype(str))\n"
   ]
  },
  {
   "cell_type": "code",
   "execution_count": 81,
   "metadata": {},
   "outputs": [],
   "source": [
    "def myLen(x):\n",
    "    if len(x): return 1\n",
    "    return 0"
   ]
  },
  {
   "cell_type": "code",
   "execution_count": 82,
   "metadata": {},
   "outputs": [],
   "source": [
    "accounts_train = accounts_train.pivot_table(index='Customer', columns='Account', aggfunc=myLen, fill_value=0)\n",
    "accounts_train = accounts_train.astype('category')\n",
    "accounts_train = accounts_train.replace({0:\"No\",1:\"Yes\"})"
   ]
  },
  {
   "cell_type": "code",
   "execution_count": 83,
   "metadata": {},
   "outputs": [],
   "source": [
    "accounts_test = accounts_test.pivot_table(index='Customer', columns='Account', aggfunc=myLen, fill_value=0)\n",
    "accounts_test = accounts_test.astype('category')\n",
    "accounts_test = accounts_test.replace({0:\"No\",1:\"Yes\"})"
   ]
  },
  {
   "cell_type": "code",
   "execution_count": 84,
   "metadata": {},
   "outputs": [
    {
     "data": {
      "text/html": [
       "<div>\n",
       "<style scoped>\n",
       "    .dataframe tbody tr th:only-of-type {\n",
       "        vertical-align: middle;\n",
       "    }\n",
       "\n",
       "    .dataframe tbody tr th {\n",
       "        vertical-align: top;\n",
       "    }\n",
       "\n",
       "    .dataframe thead th {\n",
       "        text-align: right;\n",
       "    }\n",
       "</style>\n",
       "<table border=\"1\" class=\"dataframe\">\n",
       "  <thead>\n",
       "    <tr style=\"text-align: right;\">\n",
       "      <th>Account</th>\n",
       "      <th>Customer</th>\n",
       "      <th>Credit Card</th>\n",
       "      <th>Current</th>\n",
       "      <th>Deposit</th>\n",
       "      <th>Investment</th>\n",
       "      <th>Joint</th>\n",
       "      <th>Loan</th>\n",
       "      <th>Mortgage</th>\n",
       "      <th>On Demand Deposit</th>\n",
       "    </tr>\n",
       "  </thead>\n",
       "  <tbody>\n",
       "    <tr>\n",
       "      <th>0</th>\n",
       "      <td>708115009</td>\n",
       "      <td>Yes</td>\n",
       "      <td>No</td>\n",
       "      <td>No</td>\n",
       "      <td>No</td>\n",
       "      <td>No</td>\n",
       "      <td>No</td>\n",
       "      <td>No</td>\n",
       "      <td>No</td>\n",
       "    </tr>\n",
       "    <tr>\n",
       "      <th>1</th>\n",
       "      <td>708117651</td>\n",
       "      <td>Yes</td>\n",
       "      <td>Yes</td>\n",
       "      <td>No</td>\n",
       "      <td>No</td>\n",
       "      <td>No</td>\n",
       "      <td>No</td>\n",
       "      <td>No</td>\n",
       "      <td>No</td>\n",
       "    </tr>\n",
       "    <tr>\n",
       "      <th>2</th>\n",
       "      <td>708163600</td>\n",
       "      <td>Yes</td>\n",
       "      <td>Yes</td>\n",
       "      <td>No</td>\n",
       "      <td>No</td>\n",
       "      <td>No</td>\n",
       "      <td>No</td>\n",
       "      <td>No</td>\n",
       "      <td>Yes</td>\n",
       "    </tr>\n",
       "    <tr>\n",
       "      <th>3</th>\n",
       "      <td>708166361</td>\n",
       "      <td>Yes</td>\n",
       "      <td>Yes</td>\n",
       "      <td>Yes</td>\n",
       "      <td>No</td>\n",
       "      <td>No</td>\n",
       "      <td>No</td>\n",
       "      <td>Yes</td>\n",
       "      <td>No</td>\n",
       "    </tr>\n",
       "    <tr>\n",
       "      <th>4</th>\n",
       "      <td>708169780</td>\n",
       "      <td>Yes</td>\n",
       "      <td>Yes</td>\n",
       "      <td>No</td>\n",
       "      <td>No</td>\n",
       "      <td>No</td>\n",
       "      <td>No</td>\n",
       "      <td>No</td>\n",
       "      <td>No</td>\n",
       "    </tr>\n",
       "  </tbody>\n",
       "</table>\n",
       "</div>"
      ],
      "text/plain": [
       "Account   Customer Credit Card Current Deposit Investment Joint Loan Mortgage  \\\n",
       "0        708115009         Yes      No      No         No    No   No       No   \n",
       "1        708117651         Yes     Yes      No         No    No   No       No   \n",
       "2        708163600         Yes     Yes      No         No    No   No       No   \n",
       "3        708166361         Yes     Yes     Yes         No    No   No      Yes   \n",
       "4        708169780         Yes     Yes      No         No    No   No       No   \n",
       "\n",
       "Account On Demand Deposit  \n",
       "0                      No  \n",
       "1                      No  \n",
       "2                     Yes  \n",
       "3                      No  \n",
       "4                      No  "
      ]
     },
     "execution_count": 84,
     "metadata": {},
     "output_type": "execute_result"
    }
   ],
   "source": [
    "accounts_train.reset_index(inplace=True)\n",
    "accounts_train.head()"
   ]
  },
  {
   "cell_type": "code",
   "execution_count": 85,
   "metadata": {},
   "outputs": [
    {
     "data": {
      "text/html": [
       "<div>\n",
       "<style scoped>\n",
       "    .dataframe tbody tr th:only-of-type {\n",
       "        vertical-align: middle;\n",
       "    }\n",
       "\n",
       "    .dataframe tbody tr th {\n",
       "        vertical-align: top;\n",
       "    }\n",
       "\n",
       "    .dataframe thead th {\n",
       "        text-align: right;\n",
       "    }\n",
       "</style>\n",
       "<table border=\"1\" class=\"dataframe\">\n",
       "  <thead>\n",
       "    <tr style=\"text-align: right;\">\n",
       "      <th>Account</th>\n",
       "      <th>Customer</th>\n",
       "      <th>Credit Card</th>\n",
       "      <th>Current</th>\n",
       "      <th>Deposit</th>\n",
       "      <th>Investment</th>\n",
       "      <th>Joint</th>\n",
       "      <th>Loan</th>\n",
       "      <th>Mortgage</th>\n",
       "      <th>On Demand Deposit</th>\n",
       "    </tr>\n",
       "  </thead>\n",
       "  <tbody>\n",
       "    <tr>\n",
       "      <th>0</th>\n",
       "      <td>708182832</td>\n",
       "      <td>Yes</td>\n",
       "      <td>Yes</td>\n",
       "      <td>Yes</td>\n",
       "      <td>Yes</td>\n",
       "      <td>No</td>\n",
       "      <td>No</td>\n",
       "      <td>No</td>\n",
       "      <td>No</td>\n",
       "    </tr>\n",
       "    <tr>\n",
       "      <th>1</th>\n",
       "      <td>708240660</td>\n",
       "      <td>Yes</td>\n",
       "      <td>Yes</td>\n",
       "      <td>Yes</td>\n",
       "      <td>Yes</td>\n",
       "      <td>No</td>\n",
       "      <td>Yes</td>\n",
       "      <td>No</td>\n",
       "      <td>No</td>\n",
       "    </tr>\n",
       "    <tr>\n",
       "      <th>2</th>\n",
       "      <td>708249778</td>\n",
       "      <td>Yes</td>\n",
       "      <td>Yes</td>\n",
       "      <td>No</td>\n",
       "      <td>Yes</td>\n",
       "      <td>No</td>\n",
       "      <td>No</td>\n",
       "      <td>Yes</td>\n",
       "      <td>No</td>\n",
       "    </tr>\n",
       "    <tr>\n",
       "      <th>3</th>\n",
       "      <td>708259785</td>\n",
       "      <td>Yes</td>\n",
       "      <td>Yes</td>\n",
       "      <td>Yes</td>\n",
       "      <td>No</td>\n",
       "      <td>No</td>\n",
       "      <td>No</td>\n",
       "      <td>No</td>\n",
       "      <td>No</td>\n",
       "    </tr>\n",
       "    <tr>\n",
       "      <th>4</th>\n",
       "      <td>708264579</td>\n",
       "      <td>Yes</td>\n",
       "      <td>Yes</td>\n",
       "      <td>Yes</td>\n",
       "      <td>Yes</td>\n",
       "      <td>Yes</td>\n",
       "      <td>No</td>\n",
       "      <td>No</td>\n",
       "      <td>Yes</td>\n",
       "    </tr>\n",
       "  </tbody>\n",
       "</table>\n",
       "</div>"
      ],
      "text/plain": [
       "Account   Customer Credit Card Current Deposit Investment Joint Loan Mortgage  \\\n",
       "0        708182832         Yes     Yes     Yes        Yes    No   No       No   \n",
       "1        708240660         Yes     Yes     Yes        Yes    No  Yes       No   \n",
       "2        708249778         Yes     Yes      No        Yes    No   No      Yes   \n",
       "3        708259785         Yes     Yes     Yes         No    No   No       No   \n",
       "4        708264579         Yes     Yes     Yes        Yes   Yes   No       No   \n",
       "\n",
       "Account On Demand Deposit  \n",
       "0                      No  \n",
       "1                      No  \n",
       "2                      No  \n",
       "3                      No  \n",
       "4                     Yes  "
      ]
     },
     "execution_count": 85,
     "metadata": {},
     "output_type": "execute_result"
    }
   ],
   "source": [
    "accounts_test.reset_index(inplace=True)\n",
    "accounts_test.head()"
   ]
  },
  {
   "attachments": {},
   "cell_type": "markdown",
   "metadata": {},
   "source": [
    "### Transactions Parse"
   ]
  },
  {
   "cell_type": "code",
   "execution_count": 86,
   "metadata": {},
   "outputs": [],
   "source": [
    "def transactions_summary(df):\n",
    "    transactions_summary = df.groupby('Customer').agg({\n",
    "    'Date': ['count'],\n",
    "    'Amount': ['max', 'min', 'mean','std', 'sum']\n",
    "})\n",
    "    transactions_summary = transactions_summary.rename(columns={\n",
    "    'count': 'Num_Transaction',\n",
    "    'max': 'Max_Transaction',\n",
    "    'min': 'Min_Transaction',\n",
    "    'mean': 'Mean_Transaction',\n",
    "    'std': 'Std_Transaction',\n",
    "    'sum': 'Sum_Transaction',\n",
    "    \n",
    "})\n",
    "    transactions_summary.columns = transactions_summary.columns.droplevel(level=[0])\n",
    "    \n",
    "    return transactions_summary\n",
    "    "
   ]
  },
  {
   "cell_type": "code",
   "execution_count": 87,
   "metadata": {},
   "outputs": [
    {
     "name": "stdout",
     "output_type": "stream",
     "text": [
      "(7858, 6)\n"
     ]
    },
    {
     "data": {
      "text/html": [
       "<div>\n",
       "<style scoped>\n",
       "    .dataframe tbody tr th:only-of-type {\n",
       "        vertical-align: middle;\n",
       "    }\n",
       "\n",
       "    .dataframe tbody tr th {\n",
       "        vertical-align: top;\n",
       "    }\n",
       "\n",
       "    .dataframe thead th {\n",
       "        text-align: right;\n",
       "    }\n",
       "</style>\n",
       "<table border=\"1\" class=\"dataframe\">\n",
       "  <thead>\n",
       "    <tr style=\"text-align: right;\">\n",
       "      <th></th>\n",
       "      <th>Num_Transaction</th>\n",
       "      <th>Max_Transaction</th>\n",
       "      <th>Min_Transaction</th>\n",
       "      <th>Mean_Transaction</th>\n",
       "      <th>Std_Transaction</th>\n",
       "      <th>Sum_Transaction</th>\n",
       "    </tr>\n",
       "    <tr>\n",
       "      <th>Customer</th>\n",
       "      <th></th>\n",
       "      <th></th>\n",
       "      <th></th>\n",
       "      <th></th>\n",
       "      <th></th>\n",
       "      <th></th>\n",
       "    </tr>\n",
       "  </thead>\n",
       "  <tbody>\n",
       "    <tr>\n",
       "      <th>708115009</th>\n",
       "      <td>36</td>\n",
       "      <td>279.64</td>\n",
       "      <td>6.82</td>\n",
       "      <td>52.416389</td>\n",
       "      <td>59.107430</td>\n",
       "      <td>1886.99</td>\n",
       "    </tr>\n",
       "    <tr>\n",
       "      <th>708117651</th>\n",
       "      <td>86</td>\n",
       "      <td>729.52</td>\n",
       "      <td>3.51</td>\n",
       "      <td>86.046860</td>\n",
       "      <td>106.583822</td>\n",
       "      <td>7400.03</td>\n",
       "    </tr>\n",
       "    <tr>\n",
       "      <th>708163600</th>\n",
       "      <td>104</td>\n",
       "      <td>610.34</td>\n",
       "      <td>10.42</td>\n",
       "      <td>127.884519</td>\n",
       "      <td>120.837902</td>\n",
       "      <td>13299.99</td>\n",
       "    </tr>\n",
       "    <tr>\n",
       "      <th>708166361</th>\n",
       "      <td>72</td>\n",
       "      <td>153.54</td>\n",
       "      <td>10.50</td>\n",
       "      <td>57.055417</td>\n",
       "      <td>37.381339</td>\n",
       "      <td>4107.99</td>\n",
       "    </tr>\n",
       "    <tr>\n",
       "      <th>708169780</th>\n",
       "      <td>78</td>\n",
       "      <td>544.69</td>\n",
       "      <td>6.72</td>\n",
       "      <td>58.204487</td>\n",
       "      <td>79.450143</td>\n",
       "      <td>4539.95</td>\n",
       "    </tr>\n",
       "  </tbody>\n",
       "</table>\n",
       "</div>"
      ],
      "text/plain": [
       "           Num_Transaction  Max_Transaction  Min_Transaction  \\\n",
       "Customer                                                       \n",
       "708115009               36           279.64             6.82   \n",
       "708117651               86           729.52             3.51   \n",
       "708163600              104           610.34            10.42   \n",
       "708166361               72           153.54            10.50   \n",
       "708169780               78           544.69             6.72   \n",
       "\n",
       "           Mean_Transaction  Std_Transaction  Sum_Transaction  \n",
       "Customer                                                       \n",
       "708115009         52.416389        59.107430          1886.99  \n",
       "708117651         86.046860       106.583822          7400.03  \n",
       "708163600        127.884519       120.837902         13299.99  \n",
       "708166361         57.055417        37.381339          4107.99  \n",
       "708169780         58.204487        79.450143          4539.95  "
      ]
     },
     "execution_count": 87,
     "metadata": {},
     "output_type": "execute_result"
    }
   ],
   "source": [
    "transactions_summary_train = transactions_summary(transactions_train)\n",
    "print(transactions_summary_train.shape)\n",
    "transactions_summary_train.head()"
   ]
  },
  {
   "cell_type": "code",
   "execution_count": 88,
   "metadata": {},
   "outputs": [],
   "source": [
    "transactions_summary_test = transactions_summary(transactions_test)"
   ]
  },
  {
   "attachments": {},
   "cell_type": "markdown",
   "metadata": {},
   "source": [
    "## Merge"
   ]
  },
  {
   "cell_type": "code",
   "execution_count": 89,
   "metadata": {},
   "outputs": [],
   "source": [
    "def myMerge(df1,df2,df3):\n",
    "    merge_tmp = pd.merge(df1, df2, on='Customer', how='left')\n",
    "    df_merge = pd.merge(merge_tmp, df3, on='Customer', how='left')\n",
    "    df_merge.columns = [c.replace(\" \", \"_\").replace(\"'\", \"\").replace(\"?\", \"\") for c in df_merge.columns]\n",
    "    return df_merge"
   ]
  },
  {
   "cell_type": "code",
   "execution_count": 90,
   "metadata": {},
   "outputs": [
    {
     "name": "stdout",
     "output_type": "stream",
     "text": [
      "(6291, 30)\n"
     ]
    },
    {
     "data": {
      "text/html": [
       "<div>\n",
       "<style scoped>\n",
       "    .dataframe tbody tr th:only-of-type {\n",
       "        vertical-align: middle;\n",
       "    }\n",
       "\n",
       "    .dataframe tbody tr th {\n",
       "        vertical-align: top;\n",
       "    }\n",
       "\n",
       "    .dataframe thead th {\n",
       "        text-align: right;\n",
       "    }\n",
       "</style>\n",
       "<table border=\"1\" class=\"dataframe\">\n",
       "  <thead>\n",
       "    <tr style=\"text-align: right;\">\n",
       "      <th></th>\n",
       "      <th>Customer</th>\n",
       "      <th>Churn</th>\n",
       "      <th>Card</th>\n",
       "      <th>Start_Date</th>\n",
       "      <th>Customer_Service_Calls</th>\n",
       "      <th>Credit_Limit</th>\n",
       "      <th>Total_Revolving_Balance</th>\n",
       "      <th>Average_Open_To_Buy</th>\n",
       "      <th>Average_Utilisation_Ratio</th>\n",
       "      <th>Age</th>\n",
       "      <th>Gender</th>\n",
       "      <th>Education</th>\n",
       "      <th>Marital_Status</th>\n",
       "      <th>Dependents</th>\n",
       "      <th>Income</th>\n",
       "      <th>Days</th>\n",
       "      <th>Credit_Card</th>\n",
       "      <th>Current</th>\n",
       "      <th>Deposit</th>\n",
       "      <th>Investment</th>\n",
       "      <th>Joint</th>\n",
       "      <th>Loan</th>\n",
       "      <th>Mortgage</th>\n",
       "      <th>On_Demand_Deposit</th>\n",
       "      <th>Num_Transaction</th>\n",
       "      <th>Max_Transaction</th>\n",
       "      <th>Min_Transaction</th>\n",
       "      <th>Mean_Transaction</th>\n",
       "      <th>Std_Transaction</th>\n",
       "      <th>Sum_Transaction</th>\n",
       "    </tr>\n",
       "  </thead>\n",
       "  <tbody>\n",
       "    <tr>\n",
       "      <th>0</th>\n",
       "      <td>797197508</td>\n",
       "      <td>No</td>\n",
       "      <td>0</td>\n",
       "      <td>2020-06-01</td>\n",
       "      <td>1</td>\n",
       "      <td>2315.0</td>\n",
       "      <td>1565.0</td>\n",
       "      <td>750.0</td>\n",
       "      <td>0.676</td>\n",
       "      <td>48.0</td>\n",
       "      <td>F</td>\n",
       "      <td>3</td>\n",
       "      <td>Married</td>\n",
       "      <td>2</td>\n",
       "      <td>1</td>\n",
       "      <td>548.0</td>\n",
       "      <td>Yes</td>\n",
       "      <td>Yes</td>\n",
       "      <td>Yes</td>\n",
       "      <td>Yes</td>\n",
       "      <td>No</td>\n",
       "      <td>No</td>\n",
       "      <td>Yes</td>\n",
       "      <td>No</td>\n",
       "      <td>90</td>\n",
       "      <td>342.82</td>\n",
       "      <td>8.59</td>\n",
       "      <td>53.644000</td>\n",
       "      <td>51.087679</td>\n",
       "      <td>4827.96</td>\n",
       "    </tr>\n",
       "    <tr>\n",
       "      <th>1</th>\n",
       "      <td>812854728</td>\n",
       "      <td>No</td>\n",
       "      <td>0</td>\n",
       "      <td>2020-01-01</td>\n",
       "      <td>1</td>\n",
       "      <td>7645.0</td>\n",
       "      <td>2076.0</td>\n",
       "      <td>5569.0</td>\n",
       "      <td>0.272</td>\n",
       "      <td>58.0</td>\n",
       "      <td>F</td>\n",
       "      <td>2</td>\n",
       "      <td>Single</td>\n",
       "      <td>5</td>\n",
       "      <td>1</td>\n",
       "      <td>700.0</td>\n",
       "      <td>Yes</td>\n",
       "      <td>No</td>\n",
       "      <td>No</td>\n",
       "      <td>No</td>\n",
       "      <td>No</td>\n",
       "      <td>No</td>\n",
       "      <td>No</td>\n",
       "      <td>No</td>\n",
       "      <td>75</td>\n",
       "      <td>1296.47</td>\n",
       "      <td>5.89</td>\n",
       "      <td>102.799600</td>\n",
       "      <td>181.396165</td>\n",
       "      <td>7709.97</td>\n",
       "    </tr>\n",
       "    <tr>\n",
       "      <th>2</th>\n",
       "      <td>768000743</td>\n",
       "      <td>No</td>\n",
       "      <td>0</td>\n",
       "      <td>2020-01-01</td>\n",
       "      <td>2</td>\n",
       "      <td>6394.0</td>\n",
       "      <td>0.0</td>\n",
       "      <td>6394.0</td>\n",
       "      <td>0.000</td>\n",
       "      <td>55.0</td>\n",
       "      <td>F</td>\n",
       "      <td>2</td>\n",
       "      <td>Single</td>\n",
       "      <td>2</td>\n",
       "      <td>1</td>\n",
       "      <td>700.0</td>\n",
       "      <td>Yes</td>\n",
       "      <td>Yes</td>\n",
       "      <td>No</td>\n",
       "      <td>No</td>\n",
       "      <td>No</td>\n",
       "      <td>No</td>\n",
       "      <td>No</td>\n",
       "      <td>No</td>\n",
       "      <td>69</td>\n",
       "      <td>279.84</td>\n",
       "      <td>3.97</td>\n",
       "      <td>50.290725</td>\n",
       "      <td>52.551327</td>\n",
       "      <td>3470.06</td>\n",
       "    </tr>\n",
       "    <tr>\n",
       "      <th>3</th>\n",
       "      <td>722161439</td>\n",
       "      <td>No</td>\n",
       "      <td>0</td>\n",
       "      <td>2020-08-01</td>\n",
       "      <td>3</td>\n",
       "      <td>4663.0</td>\n",
       "      <td>0.0</td>\n",
       "      <td>4663.0</td>\n",
       "      <td>0.000</td>\n",
       "      <td>41.0</td>\n",
       "      <td>F</td>\n",
       "      <td>3</td>\n",
       "      <td>NaN</td>\n",
       "      <td>2</td>\n",
       "      <td>2</td>\n",
       "      <td>487.0</td>\n",
       "      <td>Yes</td>\n",
       "      <td>Yes</td>\n",
       "      <td>Yes</td>\n",
       "      <td>Yes</td>\n",
       "      <td>No</td>\n",
       "      <td>Yes</td>\n",
       "      <td>Yes</td>\n",
       "      <td>No</td>\n",
       "      <td>81</td>\n",
       "      <td>317.30</td>\n",
       "      <td>9.96</td>\n",
       "      <td>47.296420</td>\n",
       "      <td>50.063738</td>\n",
       "      <td>3831.01</td>\n",
       "    </tr>\n",
       "    <tr>\n",
       "      <th>4</th>\n",
       "      <td>759029725</td>\n",
       "      <td>No</td>\n",
       "      <td>0</td>\n",
       "      <td>2021-02-01</td>\n",
       "      <td>4</td>\n",
       "      <td>1879.0</td>\n",
       "      <td>1486.0</td>\n",
       "      <td>393.0</td>\n",
       "      <td>0.791</td>\n",
       "      <td>37.0</td>\n",
       "      <td>F</td>\n",
       "      <td>2</td>\n",
       "      <td>Single</td>\n",
       "      <td>1</td>\n",
       "      <td>1</td>\n",
       "      <td>303.0</td>\n",
       "      <td>Yes</td>\n",
       "      <td>Yes</td>\n",
       "      <td>Yes</td>\n",
       "      <td>Yes</td>\n",
       "      <td>No</td>\n",
       "      <td>No</td>\n",
       "      <td>Yes</td>\n",
       "      <td>No</td>\n",
       "      <td>88</td>\n",
       "      <td>237.55</td>\n",
       "      <td>5.45</td>\n",
       "      <td>59.114091</td>\n",
       "      <td>60.445166</td>\n",
       "      <td>5202.04</td>\n",
       "    </tr>\n",
       "  </tbody>\n",
       "</table>\n",
       "</div>"
      ],
      "text/plain": [
       "    Customer Churn  Card Start_Date  Customer_Service_Calls  Credit_Limit  \\\n",
       "0  797197508    No     0 2020-06-01                       1        2315.0   \n",
       "1  812854728    No     0 2020-01-01                       1        7645.0   \n",
       "2  768000743    No     0 2020-01-01                       2        6394.0   \n",
       "3  722161439    No     0 2020-08-01                       3        4663.0   \n",
       "4  759029725    No     0 2021-02-01                       4        1879.0   \n",
       "\n",
       "   Total_Revolving_Balance  Average_Open_To_Buy  Average_Utilisation_Ratio  \\\n",
       "0                   1565.0                750.0                      0.676   \n",
       "1                   2076.0               5569.0                      0.272   \n",
       "2                      0.0               6394.0                      0.000   \n",
       "3                      0.0               4663.0                      0.000   \n",
       "4                   1486.0                393.0                      0.791   \n",
       "\n",
       "    Age Gender  Education Marital_Status  Dependents  Income   Days  \\\n",
       "0  48.0      F          3        Married           2       1  548.0   \n",
       "1  58.0      F          2         Single           5       1  700.0   \n",
       "2  55.0      F          2         Single           2       1  700.0   \n",
       "3  41.0      F          3            NaN           2       2  487.0   \n",
       "4  37.0      F          2         Single           1       1  303.0   \n",
       "\n",
       "  Credit_Card Current Deposit Investment Joint Loan Mortgage  \\\n",
       "0         Yes     Yes     Yes        Yes    No   No      Yes   \n",
       "1         Yes      No      No         No    No   No       No   \n",
       "2         Yes     Yes      No         No    No   No       No   \n",
       "3         Yes     Yes     Yes        Yes    No  Yes      Yes   \n",
       "4         Yes     Yes     Yes        Yes    No   No      Yes   \n",
       "\n",
       "  On_Demand_Deposit  Num_Transaction  Max_Transaction  Min_Transaction  \\\n",
       "0                No               90           342.82             8.59   \n",
       "1                No               75          1296.47             5.89   \n",
       "2                No               69           279.84             3.97   \n",
       "3                No               81           317.30             9.96   \n",
       "4                No               88           237.55             5.45   \n",
       "\n",
       "   Mean_Transaction  Std_Transaction  Sum_Transaction  \n",
       "0         53.644000        51.087679          4827.96  \n",
       "1        102.799600       181.396165          7709.97  \n",
       "2         50.290725        52.551327          3470.06  \n",
       "3         47.296420        50.063738          3831.01  \n",
       "4         59.114091        60.445166          5202.04  "
      ]
     },
     "execution_count": 90,
     "metadata": {},
     "output_type": "execute_result"
    }
   ],
   "source": [
    "df_train = myMerge(customers_train,accounts_train,transactions_summary_train)\n",
    "df_train.dropna(inplace = True)\n",
    "print(df_train.shape)\n",
    "df_train.head()"
   ]
  },
  {
   "cell_type": "code",
   "execution_count": 91,
   "metadata": {},
   "outputs": [
    {
     "name": "stdout",
     "output_type": "stream",
     "text": [
      "(3542, 29)\n"
     ]
    },
    {
     "data": {
      "text/html": [
       "<div>\n",
       "<style scoped>\n",
       "    .dataframe tbody tr th:only-of-type {\n",
       "        vertical-align: middle;\n",
       "    }\n",
       "\n",
       "    .dataframe tbody tr th {\n",
       "        vertical-align: top;\n",
       "    }\n",
       "\n",
       "    .dataframe thead th {\n",
       "        text-align: right;\n",
       "    }\n",
       "</style>\n",
       "<table border=\"1\" class=\"dataframe\">\n",
       "  <thead>\n",
       "    <tr style=\"text-align: right;\">\n",
       "      <th></th>\n",
       "      <th>Customer</th>\n",
       "      <th>Card</th>\n",
       "      <th>Start_Date</th>\n",
       "      <th>Customer_Service_Calls</th>\n",
       "      <th>Credit_Limit</th>\n",
       "      <th>Total_Revolving_Balance</th>\n",
       "      <th>Average_Open_To_Buy</th>\n",
       "      <th>Average_Utilisation_Ratio</th>\n",
       "      <th>Age</th>\n",
       "      <th>Gender</th>\n",
       "      <th>Education</th>\n",
       "      <th>Marital_Status</th>\n",
       "      <th>Dependents</th>\n",
       "      <th>Income</th>\n",
       "      <th>Days</th>\n",
       "      <th>Credit_Card</th>\n",
       "      <th>Current</th>\n",
       "      <th>Deposit</th>\n",
       "      <th>Investment</th>\n",
       "      <th>Joint</th>\n",
       "      <th>Loan</th>\n",
       "      <th>Mortgage</th>\n",
       "      <th>On_Demand_Deposit</th>\n",
       "      <th>Num_Transaction</th>\n",
       "      <th>Max_Transaction</th>\n",
       "      <th>Min_Transaction</th>\n",
       "      <th>Mean_Transaction</th>\n",
       "      <th>Std_Transaction</th>\n",
       "      <th>Sum_Transaction</th>\n",
       "    </tr>\n",
       "  </thead>\n",
       "  <tbody>\n",
       "    <tr>\n",
       "      <th>0</th>\n",
       "      <td>774663629</td>\n",
       "      <td>1</td>\n",
       "      <td>2020-01-01</td>\n",
       "      <td>2</td>\n",
       "      <td>29663.0</td>\n",
       "      <td>1743.0</td>\n",
       "      <td>27920.0</td>\n",
       "      <td>0.059</td>\n",
       "      <td>51</td>\n",
       "      <td>M</td>\n",
       "      <td>3</td>\n",
       "      <td>Single</td>\n",
       "      <td>3</td>\n",
       "      <td>3</td>\n",
       "      <td>700.0</td>\n",
       "      <td>Yes</td>\n",
       "      <td>Yes</td>\n",
       "      <td>Yes</td>\n",
       "      <td>No</td>\n",
       "      <td>No</td>\n",
       "      <td>No</td>\n",
       "      <td>No</td>\n",
       "      <td>No</td>\n",
       "      <td>93</td>\n",
       "      <td>1176.28</td>\n",
       "      <td>10.82</td>\n",
       "      <td>157.397849</td>\n",
       "      <td>177.297431</td>\n",
       "      <td>14638.00</td>\n",
       "    </tr>\n",
       "    <tr>\n",
       "      <th>1</th>\n",
       "      <td>720420396</td>\n",
       "      <td>0</td>\n",
       "      <td>2020-11-01</td>\n",
       "      <td>2</td>\n",
       "      <td>2032.0</td>\n",
       "      <td>1195.0</td>\n",
       "      <td>837.0</td>\n",
       "      <td>0.588</td>\n",
       "      <td>45</td>\n",
       "      <td>F</td>\n",
       "      <td>0</td>\n",
       "      <td>Divorced</td>\n",
       "      <td>3</td>\n",
       "      <td>2</td>\n",
       "      <td>395.0</td>\n",
       "      <td>Yes</td>\n",
       "      <td>No</td>\n",
       "      <td>No</td>\n",
       "      <td>No</td>\n",
       "      <td>No</td>\n",
       "      <td>No</td>\n",
       "      <td>No</td>\n",
       "      <td>No</td>\n",
       "      <td>80</td>\n",
       "      <td>399.76</td>\n",
       "      <td>3.28</td>\n",
       "      <td>55.987125</td>\n",
       "      <td>60.871741</td>\n",
       "      <td>4478.97</td>\n",
       "    </tr>\n",
       "    <tr>\n",
       "      <th>2</th>\n",
       "      <td>815283379</td>\n",
       "      <td>0</td>\n",
       "      <td>2020-01-01</td>\n",
       "      <td>1</td>\n",
       "      <td>17268.0</td>\n",
       "      <td>1197.0</td>\n",
       "      <td>16071.0</td>\n",
       "      <td>0.069</td>\n",
       "      <td>57</td>\n",
       "      <td>M</td>\n",
       "      <td>3</td>\n",
       "      <td>Single</td>\n",
       "      <td>3</td>\n",
       "      <td>5</td>\n",
       "      <td>700.0</td>\n",
       "      <td>Yes</td>\n",
       "      <td>Yes</td>\n",
       "      <td>No</td>\n",
       "      <td>No</td>\n",
       "      <td>No</td>\n",
       "      <td>No</td>\n",
       "      <td>No</td>\n",
       "      <td>No</td>\n",
       "      <td>90</td>\n",
       "      <td>213.94</td>\n",
       "      <td>3.79</td>\n",
       "      <td>45.300111</td>\n",
       "      <td>46.328322</td>\n",
       "      <td>4077.01</td>\n",
       "    </tr>\n",
       "    <tr>\n",
       "      <th>3</th>\n",
       "      <td>764861610</td>\n",
       "      <td>0</td>\n",
       "      <td>2020-05-01</td>\n",
       "      <td>3</td>\n",
       "      <td>2264.0</td>\n",
       "      <td>0.0</td>\n",
       "      <td>2264.0</td>\n",
       "      <td>0.000</td>\n",
       "      <td>38</td>\n",
       "      <td>F</td>\n",
       "      <td>1</td>\n",
       "      <td>Single</td>\n",
       "      <td>2</td>\n",
       "      <td>1</td>\n",
       "      <td>579.0</td>\n",
       "      <td>Yes</td>\n",
       "      <td>Yes</td>\n",
       "      <td>Yes</td>\n",
       "      <td>Yes</td>\n",
       "      <td>No</td>\n",
       "      <td>Yes</td>\n",
       "      <td>No</td>\n",
       "      <td>No</td>\n",
       "      <td>28</td>\n",
       "      <td>186.81</td>\n",
       "      <td>8.67</td>\n",
       "      <td>43.000714</td>\n",
       "      <td>44.238825</td>\n",
       "      <td>1204.02</td>\n",
       "    </tr>\n",
       "    <tr>\n",
       "      <th>4</th>\n",
       "      <td>742798818</td>\n",
       "      <td>0</td>\n",
       "      <td>2020-01-01</td>\n",
       "      <td>1</td>\n",
       "      <td>2192.0</td>\n",
       "      <td>1464.0</td>\n",
       "      <td>728.0</td>\n",
       "      <td>0.668</td>\n",
       "      <td>45</td>\n",
       "      <td>F</td>\n",
       "      <td>4</td>\n",
       "      <td>Unknown</td>\n",
       "      <td>4</td>\n",
       "      <td>1</td>\n",
       "      <td>700.0</td>\n",
       "      <td>Yes</td>\n",
       "      <td>No</td>\n",
       "      <td>Yes</td>\n",
       "      <td>No</td>\n",
       "      <td>Yes</td>\n",
       "      <td>Yes</td>\n",
       "      <td>Yes</td>\n",
       "      <td>Yes</td>\n",
       "      <td>89</td>\n",
       "      <td>260.42</td>\n",
       "      <td>6.95</td>\n",
       "      <td>55.112697</td>\n",
       "      <td>55.664159</td>\n",
       "      <td>4905.03</td>\n",
       "    </tr>\n",
       "  </tbody>\n",
       "</table>\n",
       "</div>"
      ],
      "text/plain": [
       "    Customer  Card Start_Date  Customer_Service_Calls  Credit_Limit  \\\n",
       "0  774663629     1 2020-01-01                       2       29663.0   \n",
       "1  720420396     0 2020-11-01                       2        2032.0   \n",
       "2  815283379     0 2020-01-01                       1       17268.0   \n",
       "3  764861610     0 2020-05-01                       3        2264.0   \n",
       "4  742798818     0 2020-01-01                       1        2192.0   \n",
       "\n",
       "   Total_Revolving_Balance  Average_Open_To_Buy  Average_Utilisation_Ratio  \\\n",
       "0                   1743.0              27920.0                      0.059   \n",
       "1                   1195.0                837.0                      0.588   \n",
       "2                   1197.0              16071.0                      0.069   \n",
       "3                      0.0               2264.0                      0.000   \n",
       "4                   1464.0                728.0                      0.668   \n",
       "\n",
       "   Age Gender  Education Marital_Status  Dependents  Income   Days  \\\n",
       "0   51      M          3         Single           3       3  700.0   \n",
       "1   45      F          0       Divorced           3       2  395.0   \n",
       "2   57      M          3         Single           3       5  700.0   \n",
       "3   38      F          1         Single           2       1  579.0   \n",
       "4   45      F          4        Unknown           4       1  700.0   \n",
       "\n",
       "  Credit_Card Current Deposit Investment Joint Loan Mortgage  \\\n",
       "0         Yes     Yes     Yes         No    No   No       No   \n",
       "1         Yes      No      No         No    No   No       No   \n",
       "2         Yes     Yes      No         No    No   No       No   \n",
       "3         Yes     Yes     Yes        Yes    No  Yes       No   \n",
       "4         Yes      No     Yes         No   Yes  Yes      Yes   \n",
       "\n",
       "  On_Demand_Deposit  Num_Transaction  Max_Transaction  Min_Transaction  \\\n",
       "0                No               93          1176.28            10.82   \n",
       "1                No               80           399.76             3.28   \n",
       "2                No               90           213.94             3.79   \n",
       "3                No               28           186.81             8.67   \n",
       "4               Yes               89           260.42             6.95   \n",
       "\n",
       "   Mean_Transaction  Std_Transaction  Sum_Transaction  \n",
       "0        157.397849       177.297431         14638.00  \n",
       "1         55.987125        60.871741          4478.97  \n",
       "2         45.300111        46.328322          4077.01  \n",
       "3         43.000714        44.238825          1204.02  \n",
       "4         55.112697        55.664159          4905.03  "
      ]
     },
     "execution_count": 91,
     "metadata": {},
     "output_type": "execute_result"
    }
   ],
   "source": [
    "df_test = myMerge(customers_test,accounts_test,transactions_summary_test)\n",
    "df_test.dropna(inplace = True)\n",
    "print(df_test.shape)\n",
    "df_test.head()"
   ]
  },
  {
   "attachments": {},
   "cell_type": "markdown",
   "metadata": {},
   "source": [
    "### Age"
   ]
  },
  {
   "cell_type": "code",
   "execution_count": 92,
   "metadata": {},
   "outputs": [],
   "source": [
    "df_train['Age'] = df_train['Age'].astype(int)\n",
    "df_test['Age'] = df_test['Age'].astype(int)"
   ]
  },
  {
   "cell_type": "code",
   "execution_count": 93,
   "metadata": {},
   "outputs": [
    {
     "data": {
      "text/plain": [
       "<AxesSubplot:xlabel='Churn', ylabel='Sum_Transaction'>"
      ]
     },
     "execution_count": 93,
     "metadata": {},
     "output_type": "execute_result"
    },
    {
     "data": {
      "image/png": "[encoded data removed]",
      "text/plain": [
       "<Figure size 1440x1800 with 10 Axes>"
      ]
     },
     "metadata": {},
     "output_type": "display_data"
    }
   ],
   "source": [
    "fig, axarr = plt.subplots(5, 2, figsize=(20, 25))\n",
    "sns.boxplot(y='Customer_Service_Calls',x = target, hue = target,data = df_train, ax=axarr[0][0])\n",
    "sns.boxplot(y='Credit_Limit',x = target, hue = target,data = df_train , ax=axarr[0][1])\n",
    "sns.boxplot(y='Total_Revolving_Balance',x = target, hue = target,data = df_train, ax=axarr[1][0])\n",
    "sns.boxplot(y='Average_Open_To_Buy',x = target, hue = target,data = df_train, ax=axarr[1][1])\n",
    "sns.boxplot(y='Average_Utilisation_Ratio',x = target, hue = target,data = df_train, ax=axarr[2][0])\n",
    "sns.boxplot(y='Age',x = target, hue = target,data = df_train, ax=axarr[2][1])\n",
    "sns.boxplot(y='Mean_Transaction',x = target, hue = target,data = df_train, ax=axarr[3][0])\n",
    "sns.boxplot(y='Days',x = target, hue = target,data = df_train , ax=axarr[3][1])\n",
    "sns.boxplot(y='Num_Transaction',x = target, hue = target,data = df_train, ax=axarr[4][0])\n",
    "sns.boxplot(y='Sum_Transaction',x = target, hue = target,data = df_train, ax=axarr[4][1])"
   ]
  },
  {
   "attachments": {},
   "cell_type": "markdown",
   "metadata": {},
   "source": [
    "# Save Dataset 1"
   ]
  },
  {
   "cell_type": "code",
   "execution_count": 94,
   "metadata": {},
   "outputs": [],
   "source": [
    "df_train.to_pickle(f\"{ROOT}/data/df_train.pkl\")\n",
    "df_test.to_pickle(f\"{ROOT}/data/df_test.pkl\")"
   ]
  },
  {
   "attachments": {},
   "cell_type": "markdown",
   "metadata": {},
   "source": [
    "# EDA - Who cut my card? Second Approach"
   ]
  },
  {
   "attachments": {},
   "cell_type": "markdown",
   "metadata": {},
   "source": [
    "## Load Dataset"
   ]
  },
  {
   "cell_type": "code",
   "execution_count": 97,
   "metadata": {},
   "outputs": [
    {
     "name": "stdout",
     "output_type": "stream",
     "text": [
      "Train:(6577, 15) Test:(3542, 14)\n"
     ]
    },
    {
     "data": {
      "text/html": [
       "<div>\n",
       "<style scoped>\n",
       "    .dataframe tbody tr th:only-of-type {\n",
       "        vertical-align: middle;\n",
       "    }\n",
       "\n",
       "    .dataframe tbody tr th {\n",
       "        vertical-align: top;\n",
       "    }\n",
       "\n",
       "    .dataframe thead th {\n",
       "        text-align: right;\n",
       "    }\n",
       "</style>\n",
       "<table border=\"1\" class=\"dataframe\">\n",
       "  <thead>\n",
       "    <tr style=\"text-align: right;\">\n",
       "      <th></th>\n",
       "      <th>Customer</th>\n",
       "      <th>Churn</th>\n",
       "      <th>Card</th>\n",
       "      <th>Start_Date</th>\n",
       "      <th>Customer_Service_Calls</th>\n",
       "      <th>Credit_Limit</th>\n",
       "      <th>Total_Revolving_Balance</th>\n",
       "      <th>Average_Open_To_Buy</th>\n",
       "      <th>Average_Utilisation_Ratio</th>\n",
       "      <th>Age</th>\n",
       "      <th>Gender</th>\n",
       "      <th>Education</th>\n",
       "      <th>Marital_Status</th>\n",
       "      <th>Dependents</th>\n",
       "      <th>Income</th>\n",
       "    </tr>\n",
       "  </thead>\n",
       "  <tbody>\n",
       "    <tr>\n",
       "      <th>0</th>\n",
       "      <td>797197508</td>\n",
       "      <td>No</td>\n",
       "      <td>Silver</td>\n",
       "      <td>2020-06-01</td>\n",
       "      <td>1</td>\n",
       "      <td>2315.0</td>\n",
       "      <td>1565</td>\n",
       "      <td>750.0</td>\n",
       "      <td>0.676</td>\n",
       "      <td>48.0</td>\n",
       "      <td>F</td>\n",
       "      <td>Graduate</td>\n",
       "      <td>Married</td>\n",
       "      <td>2</td>\n",
       "      <td>Less than €30K</td>\n",
       "    </tr>\n",
       "    <tr>\n",
       "      <th>1</th>\n",
       "      <td>812854728</td>\n",
       "      <td>No</td>\n",
       "      <td>Silver</td>\n",
       "      <td>2020-01-01</td>\n",
       "      <td>1</td>\n",
       "      <td>7645.0</td>\n",
       "      <td>2076</td>\n",
       "      <td>5569.0</td>\n",
       "      <td>0.272</td>\n",
       "      <td>58.0</td>\n",
       "      <td>F</td>\n",
       "      <td>Second level</td>\n",
       "      <td>Single</td>\n",
       "      <td>5</td>\n",
       "      <td>Less than €30K</td>\n",
       "    </tr>\n",
       "    <tr>\n",
       "      <th>2</th>\n",
       "      <td>768000743</td>\n",
       "      <td>No</td>\n",
       "      <td>Silver</td>\n",
       "      <td>2020-01-01</td>\n",
       "      <td>2</td>\n",
       "      <td>6394.0</td>\n",
       "      <td>0</td>\n",
       "      <td>6394.0</td>\n",
       "      <td>0.000</td>\n",
       "      <td>55.0</td>\n",
       "      <td>F</td>\n",
       "      <td>Second level</td>\n",
       "      <td>Single</td>\n",
       "      <td>2</td>\n",
       "      <td>Less than €30K</td>\n",
       "    </tr>\n",
       "    <tr>\n",
       "      <th>3</th>\n",
       "      <td>722161439</td>\n",
       "      <td>No</td>\n",
       "      <td>Silver</td>\n",
       "      <td>2020-08-01</td>\n",
       "      <td>3</td>\n",
       "      <td>4663.0</td>\n",
       "      <td>0</td>\n",
       "      <td>4663.0</td>\n",
       "      <td>0.000</td>\n",
       "      <td>41.0</td>\n",
       "      <td>F</td>\n",
       "      <td>Graduate</td>\n",
       "      <td>NaN</td>\n",
       "      <td>2</td>\n",
       "      <td>€30K - €50K</td>\n",
       "    </tr>\n",
       "    <tr>\n",
       "      <th>4</th>\n",
       "      <td>759029725</td>\n",
       "      <td>No</td>\n",
       "      <td>Silver</td>\n",
       "      <td>2021-02-01</td>\n",
       "      <td>4</td>\n",
       "      <td>1879.0</td>\n",
       "      <td>1486</td>\n",
       "      <td>393.0</td>\n",
       "      <td>0.791</td>\n",
       "      <td>37.0</td>\n",
       "      <td>F</td>\n",
       "      <td>Second level</td>\n",
       "      <td>Single</td>\n",
       "      <td>1</td>\n",
       "      <td>Less than €30K</td>\n",
       "    </tr>\n",
       "  </tbody>\n",
       "</table>\n",
       "</div>"
      ],
      "text/plain": [
       "    Customer Churn    Card Start_Date  Customer_Service_Calls  Credit_Limit  \\\n",
       "0  797197508    No  Silver 2020-06-01                       1        2315.0   \n",
       "1  812854728    No  Silver 2020-01-01                       1        7645.0   \n",
       "2  768000743    No  Silver 2020-01-01                       2        6394.0   \n",
       "3  722161439    No  Silver 2020-08-01                       3        4663.0   \n",
       "4  759029725    No  Silver 2021-02-01                       4        1879.0   \n",
       "\n",
       "   Total_Revolving_Balance  Average_Open_To_Buy  Average_Utilisation_Ratio  \\\n",
       "0                     1565                750.0                      0.676   \n",
       "1                     2076               5569.0                      0.272   \n",
       "2                        0               6394.0                      0.000   \n",
       "3                        0               4663.0                      0.000   \n",
       "4                     1486                393.0                      0.791   \n",
       "\n",
       "    Age Gender     Education Marital_Status  Dependents          Income  \n",
       "0  48.0      F      Graduate        Married           2  Less than €30K  \n",
       "1  58.0      F  Second level         Single           5  Less than €30K  \n",
       "2  55.0      F  Second level         Single           2  Less than €30K  \n",
       "3  41.0      F      Graduate            NaN           2     €30K - €50K  \n",
       "4  37.0      F  Second level         Single           1  Less than €30K  "
      ]
     },
     "execution_count": 97,
     "metadata": {},
     "output_type": "execute_result"
    }
   ],
   "source": [
    "customers_train = pd.read_csv(f\"{ROOT}/orig/customers_train.csv\", \n",
    "                        parse_dates=[\"Start_Date\"])\n",
    "\n",
    "customers_test = pd.read_csv(f\"{ROOT}/orig/customers_test.csv\", \n",
    "                        parse_dates=[\"Start_Date\"])\n",
    "\n",
    "print(f\"Train:{customers_train.shape}\", f\"Test:{customers_test.shape}\")\n",
    "customers_train.head()\n"
   ]
  },
  {
   "cell_type": "code",
   "execution_count": 98,
   "metadata": {},
   "outputs": [
    {
     "name": "stdout",
     "output_type": "stream",
     "text": [
      "Train:(25012, 2) Test:(13575, 2)\n"
     ]
    },
    {
     "data": {
      "text/html": [
       "<div>\n",
       "<style scoped>\n",
       "    .dataframe tbody tr th:only-of-type {\n",
       "        vertical-align: middle;\n",
       "    }\n",
       "\n",
       "    .dataframe tbody tr th {\n",
       "        vertical-align: top;\n",
       "    }\n",
       "\n",
       "    .dataframe thead th {\n",
       "        text-align: right;\n",
       "    }\n",
       "</style>\n",
       "<table border=\"1\" class=\"dataframe\">\n",
       "  <thead>\n",
       "    <tr style=\"text-align: right;\">\n",
       "      <th></th>\n",
       "      <th>Customer</th>\n",
       "      <th>Account</th>\n",
       "    </tr>\n",
       "  </thead>\n",
       "  <tbody>\n",
       "    <tr>\n",
       "      <th>0</th>\n",
       "      <td>828247016</td>\n",
       "      <td>Investment</td>\n",
       "    </tr>\n",
       "    <tr>\n",
       "      <th>1</th>\n",
       "      <td>828247016</td>\n",
       "      <td>Current</td>\n",
       "    </tr>\n",
       "    <tr>\n",
       "      <th>2</th>\n",
       "      <td>828247016</td>\n",
       "      <td>Credit Card</td>\n",
       "    </tr>\n",
       "    <tr>\n",
       "      <th>3</th>\n",
       "      <td>828247016</td>\n",
       "      <td>On Demand Deposit</td>\n",
       "    </tr>\n",
       "    <tr>\n",
       "      <th>4</th>\n",
       "      <td>828247016</td>\n",
       "      <td>Mortgage</td>\n",
       "    </tr>\n",
       "  </tbody>\n",
       "</table>\n",
       "</div>"
      ],
      "text/plain": [
       "    Customer            Account\n",
       "0  828247016         Investment\n",
       "1  828247016            Current\n",
       "2  828247016        Credit Card\n",
       "3  828247016  On Demand Deposit\n",
       "4  828247016           Mortgage"
      ]
     },
     "execution_count": 98,
     "metadata": {},
     "output_type": "execute_result"
    }
   ],
   "source": [
    "\n",
    "accounts_train = pd.read_csv(f\"{ROOT}/orig/accounts_train.csv\")\n",
    "accounts_test = pd.read_csv(f\"{ROOT}/orig/accounts_test.csv\")\n",
    "print(f\"Train:{accounts_train.shape}\", f\"Test:{accounts_test.shape}\")\n",
    "accounts_train.head()\n"
   ]
  },
  {
   "cell_type": "code",
   "execution_count": 99,
   "metadata": {},
   "outputs": [
    {
     "name": "stdout",
     "output_type": "stream",
     "text": [
      "Train:(514611, 3) Test:(227447, 3)\n"
     ]
    },
    {
     "data": {
      "text/html": [
       "<div>\n",
       "<style scoped>\n",
       "    .dataframe tbody tr th:only-of-type {\n",
       "        vertical-align: middle;\n",
       "    }\n",
       "\n",
       "    .dataframe tbody tr th {\n",
       "        vertical-align: top;\n",
       "    }\n",
       "\n",
       "    .dataframe thead th {\n",
       "        text-align: right;\n",
       "    }\n",
       "</style>\n",
       "<table border=\"1\" class=\"dataframe\">\n",
       "  <thead>\n",
       "    <tr style=\"text-align: right;\">\n",
       "      <th></th>\n",
       "      <th>Customer</th>\n",
       "      <th>Date</th>\n",
       "      <th>Amount</th>\n",
       "    </tr>\n",
       "  </thead>\n",
       "  <tbody>\n",
       "    <tr>\n",
       "      <th>0</th>\n",
       "      <td>828247016</td>\n",
       "      <td>2022-03-01</td>\n",
       "      <td>70.94</td>\n",
       "    </tr>\n",
       "    <tr>\n",
       "      <th>1</th>\n",
       "      <td>828247016</td>\n",
       "      <td>2022-02-21</td>\n",
       "      <td>52.16</td>\n",
       "    </tr>\n",
       "    <tr>\n",
       "      <th>2</th>\n",
       "      <td>828247016</td>\n",
       "      <td>2022-02-19</td>\n",
       "      <td>67.03</td>\n",
       "    </tr>\n",
       "    <tr>\n",
       "      <th>3</th>\n",
       "      <td>828247016</td>\n",
       "      <td>2022-02-19</td>\n",
       "      <td>48.24</td>\n",
       "    </tr>\n",
       "    <tr>\n",
       "      <th>4</th>\n",
       "      <td>828247016</td>\n",
       "      <td>2022-05-20</td>\n",
       "      <td>10.97</td>\n",
       "    </tr>\n",
       "  </tbody>\n",
       "</table>\n",
       "</div>"
      ],
      "text/plain": [
       "    Customer       Date  Amount\n",
       "0  828247016 2022-03-01   70.94\n",
       "1  828247016 2022-02-21   52.16\n",
       "2  828247016 2022-02-19   67.03\n",
       "3  828247016 2022-02-19   48.24\n",
       "4  828247016 2022-05-20   10.97"
      ]
     },
     "execution_count": 99,
     "metadata": {},
     "output_type": "execute_result"
    }
   ],
   "source": [
    "\n",
    "transactions_train = pd.read_csv(f\"{ROOT}/orig/transactions_train.csv\",\n",
    "                                 parse_dates=[\"Date\"])\n",
    "transactions_test = pd.read_csv(f\"{ROOT}/orig/transactions_test.csv\",\n",
    "                                 parse_dates=[\"Date\"])\n",
    "print(f\"Train:{transactions_train.shape}\", f\"Test:{transactions_test.shape}\")\n",
    "transactions_train.head()"
   ]
  },
  {
   "cell_type": "code",
   "execution_count": 100,
   "metadata": {},
   "outputs": [],
   "source": [
    "target = \"Churn\""
   ]
  },
  {
   "attachments": {},
   "cell_type": "markdown",
   "metadata": {},
   "source": [
    "## Clean"
   ]
  },
  {
   "cell_type": "code",
   "execution_count": 101,
   "metadata": {},
   "outputs": [],
   "source": [
    "def eda_cat(df, feature, target, save=False, show=True):\n",
    "\n",
    "    # convert NaN to \"NaN\"\n",
    "    if df[feature].isna().sum()>0:\n",
    "        df[feature] = df[feature].cat.add_categories(\"NaN\").fillna(\"NaN\")\n",
    "\n",
    "    # create a 1x2 subplot\n",
    "    fig, axs = plt.subplots(1, 2, figsize=(10,6), sharey=True)\n",
    "\n",
    "    # bar plot to show counts\n",
    "    df_ct = pd.crosstab(df[feature], df[target], dropna=False, margins=True)[:-1]\n",
    "    df_ct.sort_values(\"All\", ascending=False, inplace=True)\n",
    "    df_ct['All'].plot(kind='barh', stacked=True, ax=axs[0])\n",
    "    axs[0].set_title(\"counts\")\n",
    "\n",
    "    # normalised stacked barplot to show breakdown\n",
    "    df_ct = df_ct.iloc[:,:-1].div(df_ct.All, axis=0)\n",
    "    df_ct.plot(kind='barh', stacked=True, ax=axs[1])\n",
    "    axs[1].legend(bbox_to_anchor=(1,1), facecolor='gray', framealpha=1)\n",
    "    axs[1].set_title(f\"breakdown wrt {target}\")\n",
    "\n",
    "    plt.suptitle(f\"Feature {feature} - Count plot and breakdown wrt {target}\")\n",
    "\n",
    "    if save:\n",
    "        filename = save if type(save)==str else feature\n",
    "        plt.savefig(f\"output/{filename}.png\", bbox_inches='tight')\n",
    "    if show:\n",
    "        plt.show()\n",
    "    else:\n",
    "        plt.close()"
   ]
  },
  {
   "cell_type": "code",
   "execution_count": 102,
   "metadata": {},
   "outputs": [
    {
     "name": "stdout",
     "output_type": "stream",
     "text": [
      "Train:\n",
      "Customer    0\n",
      "Date        0\n",
      "Amount      0\n",
      "dtype: int64\n"
     ]
    }
   ],
   "source": [
    "print(f\"Train:\\n{transactions_train.isna().sum()}\")"
   ]
  },
  {
   "cell_type": "code",
   "execution_count": 103,
   "metadata": {},
   "outputs": [
    {
     "name": "stdout",
     "output_type": "stream",
     "text": [
      "Train:\n",
      "Customer    0\n",
      "Account     0\n",
      "dtype: int64\n"
     ]
    }
   ],
   "source": [
    "accounts_train.isna().sum()\n",
    "print(f\"Train:\\n{accounts_train.isna().sum()}\")"
   ]
  },
  {
   "cell_type": "code",
   "execution_count": 104,
   "metadata": {},
   "outputs": [
    {
     "name": "stdout",
     "output_type": "stream",
     "text": [
      "<class 'pandas.core.frame.DataFrame'>\n",
      "RangeIndex: 6577 entries, 0 to 6576\n",
      "Data columns (total 15 columns):\n",
      " #   Column                     Non-Null Count  Dtype         \n",
      "---  ------                     --------------  -----         \n",
      " 0   Customer                   6577 non-null   int64         \n",
      " 1   Churn                      6556 non-null   object        \n",
      " 2   Card                       6577 non-null   object        \n",
      " 3   Start_Date                 6577 non-null   datetime64[ns]\n",
      " 4   Customer_Service_Calls     6577 non-null   int64         \n",
      " 5   Credit_Limit               6577 non-null   float64       \n",
      " 6   Total_Revolving_Balance    6577 non-null   int64         \n",
      " 7   Average_Open_To_Buy        6577 non-null   float64       \n",
      " 8   Average_Utilisation_Ratio  6577 non-null   float64       \n",
      " 9   Age                        6312 non-null   float64       \n",
      " 10  Gender                     6577 non-null   object        \n",
      " 11  Education                  6577 non-null   object        \n",
      " 12  Marital_Status             6102 non-null   object        \n",
      " 13  Dependents                 6577 non-null   int64         \n",
      " 14  Income                     6577 non-null   object        \n",
      "dtypes: datetime64[ns](1), float64(4), int64(4), object(6)\n",
      "memory usage: 770.9+ KB\n"
     ]
    }
   ],
   "source": [
    "customers_train.info()"
   ]
  },
  {
   "cell_type": "code",
   "execution_count": 105,
   "metadata": {},
   "outputs": [
    {
     "data": {
      "text/plain": [
       "Customer                       0\n",
       "Churn                         21\n",
       "Card                           0\n",
       "Start_Date                     0\n",
       "Customer_Service_Calls         0\n",
       "Credit_Limit                   0\n",
       "Total_Revolving_Balance        0\n",
       "Average_Open_To_Buy            0\n",
       "Average_Utilisation_Ratio      0\n",
       "Age                          265\n",
       "Gender                         0\n",
       "Education                      0\n",
       "Marital_Status               475\n",
       "Dependents                     0\n",
       "Income                         0\n",
       "dtype: int64"
      ]
     },
     "execution_count": 105,
     "metadata": {},
     "output_type": "execute_result"
    }
   ],
   "source": [
    "customers_train.isna().sum()"
   ]
  },
  {
   "cell_type": "code",
   "execution_count": 106,
   "metadata": {},
   "outputs": [
    {
     "data": {
      "text/plain": [
       "Customer                     6577\n",
       "Churn                           2\n",
       "Card                            4\n",
       "Start_Date                     44\n",
       "Customer_Service_Calls          7\n",
       "Credit_Limit                 4499\n",
       "Total_Revolving_Balance      1791\n",
       "Average_Open_To_Buy          4938\n",
       "Average_Utilisation_Ratio     934\n",
       "Age                            43\n",
       "Gender                          2\n",
       "Education                       7\n",
       "Marital_Status                  3\n",
       "Dependents                      6\n",
       "Income                          6\n",
       "dtype: int64"
      ]
     },
     "execution_count": 106,
     "metadata": {},
     "output_type": "execute_result"
    }
   ],
   "source": [
    "customers_train.nunique()"
   ]
  },
  {
   "attachments": {},
   "cell_type": "markdown",
   "metadata": {},
   "source": [
    "### Missing values - Churn"
   ]
  },
  {
   "cell_type": "code",
   "execution_count": 107,
   "metadata": {},
   "outputs": [],
   "source": [
    "df_drop = customers_train.copy()\n",
    "df_drop = df_drop[df_drop.Churn.isna()]"
   ]
  },
  {
   "cell_type": "code",
   "execution_count": 108,
   "metadata": {},
   "outputs": [
    {
     "name": "stdout",
     "output_type": "stream",
     "text": [
      "(6556, 15)\n"
     ]
    }
   ],
   "source": [
    "mask = customers_train.Customer.isin(df_drop.Customer)\n",
    "customers_train.drop(customers_train[mask].index, inplace=True)\n",
    "customers_train[target] = pd.Categorical(customers_train[target].astype(str))\n",
    "print(customers_train.shape)"
   ]
  },
  {
   "cell_type": "code",
   "execution_count": 109,
   "metadata": {},
   "outputs": [
    {
     "name": "stdout",
     "output_type": "stream",
     "text": [
      "(24937, 2)\n"
     ]
    }
   ],
   "source": [
    "mask = accounts_train.Customer.isin(df_drop.Customer)\n",
    "accounts_train.drop(accounts_train[mask].index, inplace=True)\n",
    "print(accounts_train.shape)"
   ]
  },
  {
   "cell_type": "code",
   "execution_count": 110,
   "metadata": {},
   "outputs": [
    {
     "name": "stdout",
     "output_type": "stream",
     "text": [
      "(513247, 3)\n"
     ]
    }
   ],
   "source": [
    "mask = transactions_train.Customer.isin(df_drop.Customer)\n",
    "transactions_train.drop(transactions_train[mask].index, inplace=True)\n",
    "print(transactions_train.shape)"
   ]
  },
  {
   "attachments": {},
   "cell_type": "markdown",
   "metadata": {},
   "source": [
    "### Total_Revolving_Balance    "
   ]
  },
  {
   "cell_type": "code",
   "execution_count": 111,
   "metadata": {},
   "outputs": [],
   "source": [
    "customers_train[\"Total_Revolving_Balance\"] = customers_train[\"Total_Revolving_Balance\"].astype(float)"
   ]
  },
  {
   "cell_type": "code",
   "execution_count": 112,
   "metadata": {},
   "outputs": [],
   "source": [
    "customers_test[\"Total_Revolving_Balance\"] = customers_test[\"Total_Revolving_Balance\"].astype(float)"
   ]
  },
  {
   "attachments": {},
   "cell_type": "markdown",
   "metadata": {},
   "source": [
    "### Age"
   ]
  },
  {
   "cell_type": "code",
   "execution_count": 113,
   "metadata": {},
   "outputs": [],
   "source": [
    "customers_train['Age'].replace(np.nan,customers_train.Age.median(), inplace=True)\n",
    "customers_test['Age'].replace(np.nan,customers_test.Age.median(), inplace=True)"
   ]
  },
  {
   "cell_type": "code",
   "execution_count": 114,
   "metadata": {},
   "outputs": [],
   "source": [
    "customers_train['Age'] = customers_train['Age'].astype(int)\n",
    "customers_test['Age'] = customers_test['Age'].astype(int)"
   ]
  },
  {
   "attachments": {},
   "cell_type": "markdown",
   "metadata": {},
   "source": [
    "### Marital"
   ]
  },
  {
   "cell_type": "code",
   "execution_count": 115,
   "metadata": {},
   "outputs": [],
   "source": [
    "feature = \"Marital_Status\"\n",
    "order = ['Divorced' , 'Married' , 'Single']"
   ]
  },
  {
   "cell_type": "code",
   "execution_count": 116,
   "metadata": {},
   "outputs": [],
   "source": [
    "customers_train[feature].replace(['Unknown',np.nan], 'Married', inplace=True)\n",
    "customers_test[feature].replace(['Unknown',np.nan], 'Married', inplace=True)"
   ]
  },
  {
   "cell_type": "code",
   "execution_count": 117,
   "metadata": {},
   "outputs": [],
   "source": [
    "customers_train[feature] = customers_train[feature].map(lambda x: order.index(x))\n",
    "customers_test[feature] = customers_test[feature].map(lambda x: order.index(x))"
   ]
  },
  {
   "attachments": {},
   "cell_type": "markdown",
   "metadata": {},
   "source": [
    "### Card"
   ]
  },
  {
   "cell_type": "code",
   "execution_count": 118,
   "metadata": {},
   "outputs": [],
   "source": [
    "feature = \"Card\"\n",
    "order = ['Silver','Gold','Platinum', 'Black']"
   ]
  },
  {
   "cell_type": "code",
   "execution_count": 119,
   "metadata": {},
   "outputs": [],
   "source": [
    "customers_train[feature] = customers_train[feature].map(lambda x: order.index(x))\n",
    "customers_test[feature] = customers_test[feature].map(lambda x: order.index(x))"
   ]
  },
  {
   "attachments": {},
   "cell_type": "markdown",
   "metadata": {},
   "source": [
    "### Education"
   ]
  },
  {
   "cell_type": "code",
   "execution_count": 120,
   "metadata": {},
   "outputs": [],
   "source": [
    "feature = \"Education\"\n",
    "order = ['Primary level', 'Second level','Graduate', 'MSc','Post LC', 'PhD']"
   ]
  },
  {
   "cell_type": "code",
   "execution_count": 121,
   "metadata": {},
   "outputs": [],
   "source": [
    "customers_train[feature].replace('Unknown', 'Graduate', inplace=True)\n",
    "customers_test[feature].replace('Unknown', 'Graduate', inplace=True)"
   ]
  },
  {
   "cell_type": "code",
   "execution_count": 122,
   "metadata": {},
   "outputs": [],
   "source": [
    "customers_train[feature] = customers_train[feature].map(lambda x: order.index(x))\n",
    "customers_test[feature] = customers_test[feature].map(lambda x: order.index(x))"
   ]
  },
  {
   "attachments": {},
   "cell_type": "markdown",
   "metadata": {},
   "source": [
    "### Gender"
   ]
  },
  {
   "cell_type": "code",
   "execution_count": 123,
   "metadata": {},
   "outputs": [],
   "source": [
    "customers_train[\"Gender\"] = pd.Categorical(customers_train[\"Gender\"].astype(str))\n",
    "customers_test[\"Gender\"] = pd.Categorical(customers_test[\"Gender\"].astype(str))"
   ]
  },
  {
   "cell_type": "code",
   "execution_count": 124,
   "metadata": {},
   "outputs": [
    {
     "data": {
      "image/png": "[encoded data removed]",
      "text/plain": [
       "<Figure size 720x432 with 2 Axes>"
      ]
     },
     "metadata": {},
     "output_type": "display_data"
    }
   ],
   "source": [
    "eda_cat(customers_train,\"Gender\",target)"
   ]
  },
  {
   "attachments": {},
   "cell_type": "markdown",
   "metadata": {},
   "source": [
    "### Income"
   ]
  },
  {
   "cell_type": "code",
   "execution_count": 125,
   "metadata": {},
   "outputs": [],
   "source": [
    "feature = \"Income\"\n",
    "order = ['Less than €30K','€30K - €50K', '€50K - €80K', '€80K - €100K', '€100K +']"
   ]
  },
  {
   "cell_type": "code",
   "execution_count": 126,
   "metadata": {},
   "outputs": [],
   "source": [
    "customers_train[feature].replace('Unknown', 'Less than €30K', inplace=True)\n",
    "customers_test[feature].replace('Unknown', 'Less than €30K', inplace=True)"
   ]
  },
  {
   "cell_type": "code",
   "execution_count": 127,
   "metadata": {},
   "outputs": [],
   "source": [
    "customers_train[feature] = customers_train[feature].map(lambda x: order.index(x))\n",
    "customers_test[feature] = customers_test[feature].map(lambda x: order.index(x))"
   ]
  },
  {
   "attachments": {},
   "cell_type": "markdown",
   "metadata": {},
   "source": [
    "### Start_Date"
   ]
  },
  {
   "cell_type": "code",
   "execution_count": 128,
   "metadata": {},
   "outputs": [],
   "source": [
    "latest_date = customers_train.Start_Date.max()\n",
    "customers_train['Days'] = (latest_date - customers_train['Start_Date']).dt.days.astype(float)+1"
   ]
  },
  {
   "cell_type": "code",
   "execution_count": 129,
   "metadata": {},
   "outputs": [],
   "source": [
    "customers_test['Days'] = (latest_date - customers_test['Start_Date']).dt.days.astype(float)+1"
   ]
  },
  {
   "attachments": {},
   "cell_type": "markdown",
   "metadata": {},
   "source": [
    "### Account type"
   ]
  },
  {
   "cell_type": "code",
   "execution_count": 130,
   "metadata": {},
   "outputs": [],
   "source": [
    "accounts_train[\"Account\"] = pd.Categorical(accounts_train[\"Account\"].astype(str))\n",
    "accounts_test[\"Account\"] = pd.Categorical(accounts_test[\"Account\"].astype(str))\n"
   ]
  },
  {
   "cell_type": "code",
   "execution_count": 131,
   "metadata": {},
   "outputs": [],
   "source": [
    "def myLen(x):\n",
    "    if len(x): return 1\n",
    "    return 0"
   ]
  },
  {
   "cell_type": "code",
   "execution_count": 132,
   "metadata": {},
   "outputs": [],
   "source": [
    "accounts_train = accounts_train.pivot_table(index='Customer', columns='Account', aggfunc=myLen, fill_value=0)\n",
    "accounts_train = accounts_train.astype('category')"
   ]
  },
  {
   "cell_type": "code",
   "execution_count": 133,
   "metadata": {},
   "outputs": [],
   "source": [
    "accounts_test = accounts_test.pivot_table(index='Customer', columns='Account', aggfunc=myLen, fill_value=0)\n",
    "accounts_test = accounts_test.astype('category')"
   ]
  },
  {
   "cell_type": "code",
   "execution_count": 134,
   "metadata": {},
   "outputs": [
    {
     "data": {
      "text/html": [
       "<div>\n",
       "<style scoped>\n",
       "    .dataframe tbody tr th:only-of-type {\n",
       "        vertical-align: middle;\n",
       "    }\n",
       "\n",
       "    .dataframe tbody tr th {\n",
       "        vertical-align: top;\n",
       "    }\n",
       "\n",
       "    .dataframe thead th {\n",
       "        text-align: right;\n",
       "    }\n",
       "</style>\n",
       "<table border=\"1\" class=\"dataframe\">\n",
       "  <thead>\n",
       "    <tr style=\"text-align: right;\">\n",
       "      <th>Account</th>\n",
       "      <th>Customer</th>\n",
       "      <th>Credit Card</th>\n",
       "      <th>Current</th>\n",
       "      <th>Deposit</th>\n",
       "      <th>Investment</th>\n",
       "      <th>Joint</th>\n",
       "      <th>Loan</th>\n",
       "      <th>Mortgage</th>\n",
       "      <th>On Demand Deposit</th>\n",
       "    </tr>\n",
       "  </thead>\n",
       "  <tbody>\n",
       "    <tr>\n",
       "      <th>0</th>\n",
       "      <td>708115009</td>\n",
       "      <td>1</td>\n",
       "      <td>0</td>\n",
       "      <td>0</td>\n",
       "      <td>0</td>\n",
       "      <td>0</td>\n",
       "      <td>0</td>\n",
       "      <td>0</td>\n",
       "      <td>0</td>\n",
       "    </tr>\n",
       "    <tr>\n",
       "      <th>1</th>\n",
       "      <td>708117651</td>\n",
       "      <td>1</td>\n",
       "      <td>1</td>\n",
       "      <td>0</td>\n",
       "      <td>0</td>\n",
       "      <td>0</td>\n",
       "      <td>0</td>\n",
       "      <td>0</td>\n",
       "      <td>0</td>\n",
       "    </tr>\n",
       "    <tr>\n",
       "      <th>2</th>\n",
       "      <td>708163600</td>\n",
       "      <td>1</td>\n",
       "      <td>1</td>\n",
       "      <td>0</td>\n",
       "      <td>0</td>\n",
       "      <td>0</td>\n",
       "      <td>0</td>\n",
       "      <td>0</td>\n",
       "      <td>1</td>\n",
       "    </tr>\n",
       "    <tr>\n",
       "      <th>3</th>\n",
       "      <td>708166361</td>\n",
       "      <td>1</td>\n",
       "      <td>1</td>\n",
       "      <td>1</td>\n",
       "      <td>0</td>\n",
       "      <td>0</td>\n",
       "      <td>0</td>\n",
       "      <td>1</td>\n",
       "      <td>0</td>\n",
       "    </tr>\n",
       "    <tr>\n",
       "      <th>4</th>\n",
       "      <td>708169780</td>\n",
       "      <td>1</td>\n",
       "      <td>1</td>\n",
       "      <td>0</td>\n",
       "      <td>0</td>\n",
       "      <td>0</td>\n",
       "      <td>0</td>\n",
       "      <td>0</td>\n",
       "      <td>0</td>\n",
       "    </tr>\n",
       "  </tbody>\n",
       "</table>\n",
       "</div>"
      ],
      "text/plain": [
       "Account   Customer Credit Card Current Deposit Investment Joint Loan Mortgage  \\\n",
       "0        708115009           1       0       0          0     0    0        0   \n",
       "1        708117651           1       1       0          0     0    0        0   \n",
       "2        708163600           1       1       0          0     0    0        0   \n",
       "3        708166361           1       1       1          0     0    0        1   \n",
       "4        708169780           1       1       0          0     0    0        0   \n",
       "\n",
       "Account On Demand Deposit  \n",
       "0                       0  \n",
       "1                       0  \n",
       "2                       1  \n",
       "3                       0  \n",
       "4                       0  "
      ]
     },
     "execution_count": 134,
     "metadata": {},
     "output_type": "execute_result"
    }
   ],
   "source": [
    "accounts_train.reset_index(inplace=True)\n",
    "accounts_train.head()"
   ]
  },
  {
   "cell_type": "code",
   "execution_count": 135,
   "metadata": {},
   "outputs": [
    {
     "data": {
      "text/html": [
       "<div>\n",
       "<style scoped>\n",
       "    .dataframe tbody tr th:only-of-type {\n",
       "        vertical-align: middle;\n",
       "    }\n",
       "\n",
       "    .dataframe tbody tr th {\n",
       "        vertical-align: top;\n",
       "    }\n",
       "\n",
       "    .dataframe thead th {\n",
       "        text-align: right;\n",
       "    }\n",
       "</style>\n",
       "<table border=\"1\" class=\"dataframe\">\n",
       "  <thead>\n",
       "    <tr style=\"text-align: right;\">\n",
       "      <th>Account</th>\n",
       "      <th>Customer</th>\n",
       "      <th>Credit Card</th>\n",
       "      <th>Current</th>\n",
       "      <th>Deposit</th>\n",
       "      <th>Investment</th>\n",
       "      <th>Joint</th>\n",
       "      <th>Loan</th>\n",
       "      <th>Mortgage</th>\n",
       "      <th>On Demand Deposit</th>\n",
       "    </tr>\n",
       "  </thead>\n",
       "  <tbody>\n",
       "    <tr>\n",
       "      <th>0</th>\n",
       "      <td>708182832</td>\n",
       "      <td>1</td>\n",
       "      <td>1</td>\n",
       "      <td>1</td>\n",
       "      <td>1</td>\n",
       "      <td>0</td>\n",
       "      <td>0</td>\n",
       "      <td>0</td>\n",
       "      <td>0</td>\n",
       "    </tr>\n",
       "    <tr>\n",
       "      <th>1</th>\n",
       "      <td>708240660</td>\n",
       "      <td>1</td>\n",
       "      <td>1</td>\n",
       "      <td>1</td>\n",
       "      <td>1</td>\n",
       "      <td>0</td>\n",
       "      <td>1</td>\n",
       "      <td>0</td>\n",
       "      <td>0</td>\n",
       "    </tr>\n",
       "    <tr>\n",
       "      <th>2</th>\n",
       "      <td>708249778</td>\n",
       "      <td>1</td>\n",
       "      <td>1</td>\n",
       "      <td>0</td>\n",
       "      <td>1</td>\n",
       "      <td>0</td>\n",
       "      <td>0</td>\n",
       "      <td>1</td>\n",
       "      <td>0</td>\n",
       "    </tr>\n",
       "    <tr>\n",
       "      <th>3</th>\n",
       "      <td>708259785</td>\n",
       "      <td>1</td>\n",
       "      <td>1</td>\n",
       "      <td>1</td>\n",
       "      <td>0</td>\n",
       "      <td>0</td>\n",
       "      <td>0</td>\n",
       "      <td>0</td>\n",
       "      <td>0</td>\n",
       "    </tr>\n",
       "    <tr>\n",
       "      <th>4</th>\n",
       "      <td>708264579</td>\n",
       "      <td>1</td>\n",
       "      <td>1</td>\n",
       "      <td>1</td>\n",
       "      <td>1</td>\n",
       "      <td>1</td>\n",
       "      <td>0</td>\n",
       "      <td>0</td>\n",
       "      <td>1</td>\n",
       "    </tr>\n",
       "  </tbody>\n",
       "</table>\n",
       "</div>"
      ],
      "text/plain": [
       "Account   Customer Credit Card Current Deposit Investment Joint Loan Mortgage  \\\n",
       "0        708182832           1       1       1          1     0    0        0   \n",
       "1        708240660           1       1       1          1     0    1        0   \n",
       "2        708249778           1       1       0          1     0    0        1   \n",
       "3        708259785           1       1       1          0     0    0        0   \n",
       "4        708264579           1       1       1          1     1    0        0   \n",
       "\n",
       "Account On Demand Deposit  \n",
       "0                       0  \n",
       "1                       0  \n",
       "2                       0  \n",
       "3                       0  \n",
       "4                       1  "
      ]
     },
     "execution_count": 135,
     "metadata": {},
     "output_type": "execute_result"
    }
   ],
   "source": [
    "accounts_test.reset_index(inplace=True)\n",
    "accounts_test.head()"
   ]
  },
  {
   "attachments": {},
   "cell_type": "markdown",
   "metadata": {},
   "source": [
    "### Transactions Parse"
   ]
  },
  {
   "cell_type": "code",
   "execution_count": 136,
   "metadata": {},
   "outputs": [],
   "source": [
    "def transactions_summary(df):\n",
    "    df['Transaction_Count'] = df.groupby('Customer')['Customer'].transform('count')\n",
    "\n",
    "    df['Days_Active'] = (df.groupby('Customer')['Date'].transform('max') - df.groupby('Customer')['Date'].transform('min')).dt.days + 1\n",
    "\n",
    "    df['Avg_Transactions_Per_Day'] = df['Transaction_Count'] / df['Days_Active']\n",
    "    \n",
    "    transactions_summary = df.groupby('Customer').agg({\n",
    "    'Days_Active' : ['max'],\n",
    "    'Transaction_Count': ['max'],\n",
    "    'Avg_Transactions_Per_Day' : ['max'],\n",
    "    'Amount': ['max', 'min', 'mean','std', 'sum']\n",
    "    })\n",
    "    transactions_summary.columns = transactions_summary.columns.droplevel(level=[0])\n",
    "    transactions_summary.columns = ['Days_Active','Transaction_Count','Avg_Transactions_Per_Day','Max_Transaction','Min_Transaction','Mean_Transaction','Std_Transaction','Sum_Transaction']\n",
    "\n",
    "    return transactions_summary\n",
    "    "
   ]
  },
  {
   "cell_type": "code",
   "execution_count": 137,
   "metadata": {},
   "outputs": [
    {
     "name": "stdout",
     "output_type": "stream",
     "text": [
      "(7858, 8)\n"
     ]
    },
    {
     "data": {
      "text/html": [
       "<div>\n",
       "<style scoped>\n",
       "    .dataframe tbody tr th:only-of-type {\n",
       "        vertical-align: middle;\n",
       "    }\n",
       "\n",
       "    .dataframe tbody tr th {\n",
       "        vertical-align: top;\n",
       "    }\n",
       "\n",
       "    .dataframe thead th {\n",
       "        text-align: right;\n",
       "    }\n",
       "</style>\n",
       "<table border=\"1\" class=\"dataframe\">\n",
       "  <thead>\n",
       "    <tr style=\"text-align: right;\">\n",
       "      <th></th>\n",
       "      <th>Days_Active</th>\n",
       "      <th>Transaction_Count</th>\n",
       "      <th>Avg_Transactions_Per_Day</th>\n",
       "      <th>Max_Transaction</th>\n",
       "      <th>Min_Transaction</th>\n",
       "      <th>Mean_Transaction</th>\n",
       "      <th>Std_Transaction</th>\n",
       "      <th>Sum_Transaction</th>\n",
       "    </tr>\n",
       "    <tr>\n",
       "      <th>Customer</th>\n",
       "      <th></th>\n",
       "      <th></th>\n",
       "      <th></th>\n",
       "      <th></th>\n",
       "      <th></th>\n",
       "      <th></th>\n",
       "      <th></th>\n",
       "      <th></th>\n",
       "    </tr>\n",
       "  </thead>\n",
       "  <tbody>\n",
       "    <tr>\n",
       "      <th>708115009</th>\n",
       "      <td>300</td>\n",
       "      <td>36</td>\n",
       "      <td>0.120000</td>\n",
       "      <td>279.64</td>\n",
       "      <td>6.82</td>\n",
       "      <td>52.416389</td>\n",
       "      <td>59.107430</td>\n",
       "      <td>1886.99</td>\n",
       "    </tr>\n",
       "    <tr>\n",
       "      <th>708117651</th>\n",
       "      <td>362</td>\n",
       "      <td>86</td>\n",
       "      <td>0.237569</td>\n",
       "      <td>729.52</td>\n",
       "      <td>3.51</td>\n",
       "      <td>86.046860</td>\n",
       "      <td>106.583822</td>\n",
       "      <td>7400.03</td>\n",
       "    </tr>\n",
       "    <tr>\n",
       "      <th>708163600</th>\n",
       "      <td>352</td>\n",
       "      <td>104</td>\n",
       "      <td>0.295455</td>\n",
       "      <td>610.34</td>\n",
       "      <td>10.42</td>\n",
       "      <td>127.884519</td>\n",
       "      <td>120.837902</td>\n",
       "      <td>13299.99</td>\n",
       "    </tr>\n",
       "    <tr>\n",
       "      <th>708166361</th>\n",
       "      <td>357</td>\n",
       "      <td>72</td>\n",
       "      <td>0.201681</td>\n",
       "      <td>153.54</td>\n",
       "      <td>10.50</td>\n",
       "      <td>57.055417</td>\n",
       "      <td>37.381339</td>\n",
       "      <td>4107.99</td>\n",
       "    </tr>\n",
       "    <tr>\n",
       "      <th>708169780</th>\n",
       "      <td>363</td>\n",
       "      <td>78</td>\n",
       "      <td>0.214876</td>\n",
       "      <td>544.69</td>\n",
       "      <td>6.72</td>\n",
       "      <td>58.204487</td>\n",
       "      <td>79.450143</td>\n",
       "      <td>4539.95</td>\n",
       "    </tr>\n",
       "  </tbody>\n",
       "</table>\n",
       "</div>"
      ],
      "text/plain": [
       "           Days_Active  Transaction_Count  Avg_Transactions_Per_Day  \\\n",
       "Customer                                                              \n",
       "708115009          300                 36                  0.120000   \n",
       "708117651          362                 86                  0.237569   \n",
       "708163600          352                104                  0.295455   \n",
       "708166361          357                 72                  0.201681   \n",
       "708169780          363                 78                  0.214876   \n",
       "\n",
       "           Max_Transaction  Min_Transaction  Mean_Transaction  \\\n",
       "Customer                                                        \n",
       "708115009           279.64             6.82         52.416389   \n",
       "708117651           729.52             3.51         86.046860   \n",
       "708163600           610.34            10.42        127.884519   \n",
       "708166361           153.54            10.50         57.055417   \n",
       "708169780           544.69             6.72         58.204487   \n",
       "\n",
       "           Std_Transaction  Sum_Transaction  \n",
       "Customer                                     \n",
       "708115009        59.107430          1886.99  \n",
       "708117651       106.583822          7400.03  \n",
       "708163600       120.837902         13299.99  \n",
       "708166361        37.381339          4107.99  \n",
       "708169780        79.450143          4539.95  "
      ]
     },
     "execution_count": 137,
     "metadata": {},
     "output_type": "execute_result"
    }
   ],
   "source": [
    "transactions_summary_train = transactions_summary(transactions_train)\n",
    "print(transactions_summary_train.shape)\n",
    "transactions_summary_train.head()"
   ]
  },
  {
   "cell_type": "code",
   "execution_count": 138,
   "metadata": {},
   "outputs": [],
   "source": [
    "transactions_summary_test = transactions_summary(transactions_test)"
   ]
  },
  {
   "attachments": {},
   "cell_type": "markdown",
   "metadata": {},
   "source": [
    "## Merge"
   ]
  },
  {
   "cell_type": "code",
   "execution_count": 139,
   "metadata": {},
   "outputs": [],
   "source": [
    "def myMerge(df1,df2,df3):\n",
    "    merge_tmp = pd.merge(df1, df2, on='Customer', how='left')\n",
    "    df_merge = pd.merge(merge_tmp, df3, on='Customer', how='left')\n",
    "    df_merge.columns = [c.replace(\" \", \"_\").replace(\"'\", \"\").replace(\"?\", \"\") for c in df_merge.columns]\n",
    "    return df_merge"
   ]
  },
  {
   "cell_type": "code",
   "execution_count": 140,
   "metadata": {},
   "outputs": [
    {
     "name": "stdout",
     "output_type": "stream",
     "text": [
      "(6556, 32)\n"
     ]
    },
    {
     "data": {
      "text/html": [
       "<div>\n",
       "<style scoped>\n",
       "    .dataframe tbody tr th:only-of-type {\n",
       "        vertical-align: middle;\n",
       "    }\n",
       "\n",
       "    .dataframe tbody tr th {\n",
       "        vertical-align: top;\n",
       "    }\n",
       "\n",
       "    .dataframe thead th {\n",
       "        text-align: right;\n",
       "    }\n",
       "</style>\n",
       "<table border=\"1\" class=\"dataframe\">\n",
       "  <thead>\n",
       "    <tr style=\"text-align: right;\">\n",
       "      <th></th>\n",
       "      <th>Customer</th>\n",
       "      <th>Churn</th>\n",
       "      <th>Card</th>\n",
       "      <th>Start_Date</th>\n",
       "      <th>Customer_Service_Calls</th>\n",
       "      <th>Credit_Limit</th>\n",
       "      <th>Total_Revolving_Balance</th>\n",
       "      <th>Average_Open_To_Buy</th>\n",
       "      <th>Average_Utilisation_Ratio</th>\n",
       "      <th>Age</th>\n",
       "      <th>Gender</th>\n",
       "      <th>Education</th>\n",
       "      <th>Marital_Status</th>\n",
       "      <th>Dependents</th>\n",
       "      <th>Income</th>\n",
       "      <th>Days</th>\n",
       "      <th>Credit_Card</th>\n",
       "      <th>Current</th>\n",
       "      <th>Deposit</th>\n",
       "      <th>Investment</th>\n",
       "      <th>Joint</th>\n",
       "      <th>Loan</th>\n",
       "      <th>Mortgage</th>\n",
       "      <th>On_Demand_Deposit</th>\n",
       "      <th>Days_Active</th>\n",
       "      <th>Transaction_Count</th>\n",
       "      <th>Avg_Transactions_Per_Day</th>\n",
       "      <th>Max_Transaction</th>\n",
       "      <th>Min_Transaction</th>\n",
       "      <th>Mean_Transaction</th>\n",
       "      <th>Std_Transaction</th>\n",
       "      <th>Sum_Transaction</th>\n",
       "    </tr>\n",
       "  </thead>\n",
       "  <tbody>\n",
       "    <tr>\n",
       "      <th>0</th>\n",
       "      <td>797197508</td>\n",
       "      <td>No</td>\n",
       "      <td>0</td>\n",
       "      <td>2020-06-01</td>\n",
       "      <td>1</td>\n",
       "      <td>2315.0</td>\n",
       "      <td>1565.0</td>\n",
       "      <td>750.0</td>\n",
       "      <td>0.676</td>\n",
       "      <td>48</td>\n",
       "      <td>F</td>\n",
       "      <td>2</td>\n",
       "      <td>1</td>\n",
       "      <td>2</td>\n",
       "      <td>0</td>\n",
       "      <td>549.0</td>\n",
       "      <td>1</td>\n",
       "      <td>1</td>\n",
       "      <td>1</td>\n",
       "      <td>1</td>\n",
       "      <td>0</td>\n",
       "      <td>0</td>\n",
       "      <td>1</td>\n",
       "      <td>0</td>\n",
       "      <td>331</td>\n",
       "      <td>90</td>\n",
       "      <td>0.271903</td>\n",
       "      <td>342.82</td>\n",
       "      <td>8.59</td>\n",
       "      <td>53.644000</td>\n",
       "      <td>51.087679</td>\n",
       "      <td>4827.96</td>\n",
       "    </tr>\n",
       "    <tr>\n",
       "      <th>1</th>\n",
       "      <td>812854728</td>\n",
       "      <td>No</td>\n",
       "      <td>0</td>\n",
       "      <td>2020-01-01</td>\n",
       "      <td>1</td>\n",
       "      <td>7645.0</td>\n",
       "      <td>2076.0</td>\n",
       "      <td>5569.0</td>\n",
       "      <td>0.272</td>\n",
       "      <td>58</td>\n",
       "      <td>F</td>\n",
       "      <td>1</td>\n",
       "      <td>2</td>\n",
       "      <td>5</td>\n",
       "      <td>0</td>\n",
       "      <td>701.0</td>\n",
       "      <td>1</td>\n",
       "      <td>0</td>\n",
       "      <td>0</td>\n",
       "      <td>0</td>\n",
       "      <td>0</td>\n",
       "      <td>0</td>\n",
       "      <td>0</td>\n",
       "      <td>0</td>\n",
       "      <td>362</td>\n",
       "      <td>75</td>\n",
       "      <td>0.207182</td>\n",
       "      <td>1296.47</td>\n",
       "      <td>5.89</td>\n",
       "      <td>102.799600</td>\n",
       "      <td>181.396165</td>\n",
       "      <td>7709.97</td>\n",
       "    </tr>\n",
       "    <tr>\n",
       "      <th>2</th>\n",
       "      <td>768000743</td>\n",
       "      <td>No</td>\n",
       "      <td>0</td>\n",
       "      <td>2020-01-01</td>\n",
       "      <td>2</td>\n",
       "      <td>6394.0</td>\n",
       "      <td>0.0</td>\n",
       "      <td>6394.0</td>\n",
       "      <td>0.000</td>\n",
       "      <td>55</td>\n",
       "      <td>F</td>\n",
       "      <td>1</td>\n",
       "      <td>2</td>\n",
       "      <td>2</td>\n",
       "      <td>0</td>\n",
       "      <td>701.0</td>\n",
       "      <td>1</td>\n",
       "      <td>1</td>\n",
       "      <td>0</td>\n",
       "      <td>0</td>\n",
       "      <td>0</td>\n",
       "      <td>0</td>\n",
       "      <td>0</td>\n",
       "      <td>0</td>\n",
       "      <td>332</td>\n",
       "      <td>69</td>\n",
       "      <td>0.207831</td>\n",
       "      <td>279.84</td>\n",
       "      <td>3.97</td>\n",
       "      <td>50.290725</td>\n",
       "      <td>52.551327</td>\n",
       "      <td>3470.06</td>\n",
       "    </tr>\n",
       "    <tr>\n",
       "      <th>3</th>\n",
       "      <td>722161439</td>\n",
       "      <td>No</td>\n",
       "      <td>0</td>\n",
       "      <td>2020-08-01</td>\n",
       "      <td>3</td>\n",
       "      <td>4663.0</td>\n",
       "      <td>0.0</td>\n",
       "      <td>4663.0</td>\n",
       "      <td>0.000</td>\n",
       "      <td>41</td>\n",
       "      <td>F</td>\n",
       "      <td>2</td>\n",
       "      <td>1</td>\n",
       "      <td>2</td>\n",
       "      <td>1</td>\n",
       "      <td>488.0</td>\n",
       "      <td>1</td>\n",
       "      <td>1</td>\n",
       "      <td>1</td>\n",
       "      <td>1</td>\n",
       "      <td>0</td>\n",
       "      <td>1</td>\n",
       "      <td>1</td>\n",
       "      <td>0</td>\n",
       "      <td>327</td>\n",
       "      <td>81</td>\n",
       "      <td>0.247706</td>\n",
       "      <td>317.30</td>\n",
       "      <td>9.96</td>\n",
       "      <td>47.296420</td>\n",
       "      <td>50.063738</td>\n",
       "      <td>3831.01</td>\n",
       "    </tr>\n",
       "    <tr>\n",
       "      <th>4</th>\n",
       "      <td>759029725</td>\n",
       "      <td>No</td>\n",
       "      <td>0</td>\n",
       "      <td>2021-02-01</td>\n",
       "      <td>4</td>\n",
       "      <td>1879.0</td>\n",
       "      <td>1486.0</td>\n",
       "      <td>393.0</td>\n",
       "      <td>0.791</td>\n",
       "      <td>37</td>\n",
       "      <td>F</td>\n",
       "      <td>1</td>\n",
       "      <td>2</td>\n",
       "      <td>1</td>\n",
       "      <td>0</td>\n",
       "      <td>304.0</td>\n",
       "      <td>1</td>\n",
       "      <td>1</td>\n",
       "      <td>1</td>\n",
       "      <td>1</td>\n",
       "      <td>0</td>\n",
       "      <td>0</td>\n",
       "      <td>1</td>\n",
       "      <td>0</td>\n",
       "      <td>359</td>\n",
       "      <td>88</td>\n",
       "      <td>0.245125</td>\n",
       "      <td>237.55</td>\n",
       "      <td>5.45</td>\n",
       "      <td>59.114091</td>\n",
       "      <td>60.445166</td>\n",
       "      <td>5202.04</td>\n",
       "    </tr>\n",
       "  </tbody>\n",
       "</table>\n",
       "</div>"
      ],
      "text/plain": [
       "    Customer Churn  Card Start_Date  Customer_Service_Calls  Credit_Limit  \\\n",
       "0  797197508    No     0 2020-06-01                       1        2315.0   \n",
       "1  812854728    No     0 2020-01-01                       1        7645.0   \n",
       "2  768000743    No     0 2020-01-01                       2        6394.0   \n",
       "3  722161439    No     0 2020-08-01                       3        4663.0   \n",
       "4  759029725    No     0 2021-02-01                       4        1879.0   \n",
       "\n",
       "   Total_Revolving_Balance  Average_Open_To_Buy  Average_Utilisation_Ratio  \\\n",
       "0                   1565.0                750.0                      0.676   \n",
       "1                   2076.0               5569.0                      0.272   \n",
       "2                      0.0               6394.0                      0.000   \n",
       "3                      0.0               4663.0                      0.000   \n",
       "4                   1486.0                393.0                      0.791   \n",
       "\n",
       "   Age Gender  Education  Marital_Status  Dependents  Income   Days  \\\n",
       "0   48      F          2               1           2       0  549.0   \n",
       "1   58      F          1               2           5       0  701.0   \n",
       "2   55      F          1               2           2       0  701.0   \n",
       "3   41      F          2               1           2       1  488.0   \n",
       "4   37      F          1               2           1       0  304.0   \n",
       "\n",
       "  Credit_Card Current Deposit Investment Joint Loan Mortgage  \\\n",
       "0           1       1       1          1     0    0        1   \n",
       "1           1       0       0          0     0    0        0   \n",
       "2           1       1       0          0     0    0        0   \n",
       "3           1       1       1          1     0    1        1   \n",
       "4           1       1       1          1     0    0        1   \n",
       "\n",
       "  On_Demand_Deposit  Days_Active  Transaction_Count  Avg_Transactions_Per_Day  \\\n",
       "0                 0          331                 90                  0.271903   \n",
       "1                 0          362                 75                  0.207182   \n",
       "2                 0          332                 69                  0.207831   \n",
       "3                 0          327                 81                  0.247706   \n",
       "4                 0          359                 88                  0.245125   \n",
       "\n",
       "   Max_Transaction  Min_Transaction  Mean_Transaction  Std_Transaction  \\\n",
       "0           342.82             8.59         53.644000        51.087679   \n",
       "1          1296.47             5.89        102.799600       181.396165   \n",
       "2           279.84             3.97         50.290725        52.551327   \n",
       "3           317.30             9.96         47.296420        50.063738   \n",
       "4           237.55             5.45         59.114091        60.445166   \n",
       "\n",
       "   Sum_Transaction  \n",
       "0          4827.96  \n",
       "1          7709.97  \n",
       "2          3470.06  \n",
       "3          3831.01  \n",
       "4          5202.04  "
      ]
     },
     "execution_count": 140,
     "metadata": {},
     "output_type": "execute_result"
    }
   ],
   "source": [
    "df_train = myMerge(customers_train,accounts_train,transactions_summary_train)\n",
    "print(df_train.shape)\n",
    "df_train.head()"
   ]
  },
  {
   "cell_type": "code",
   "execution_count": 141,
   "metadata": {},
   "outputs": [],
   "source": [
    "df_test = myMerge(customers_test,accounts_test,transactions_summary_test)"
   ]
  },
  {
   "cell_type": "code",
   "execution_count": 142,
   "metadata": {},
   "outputs": [
    {
     "data": {
      "text/plain": [
       "Customer                     6556\n",
       "Churn                           2\n",
       "Card                            4\n",
       "Start_Date                     44\n",
       "Customer_Service_Calls          7\n",
       "Credit_Limit                 4491\n",
       "Total_Revolving_Balance      1790\n",
       "Average_Open_To_Buy          4930\n",
       "Average_Utilisation_Ratio     934\n",
       "Age                            43\n",
       "Gender                          2\n",
       "Education                       6\n",
       "Marital_Status                  3\n",
       "Dependents                      6\n",
       "Income                          5\n",
       "Days                           44\n",
       "Credit_Card                     1\n",
       "Current                         2\n",
       "Deposit                         2\n",
       "Investment                      2\n",
       "Joint                           2\n",
       "Loan                            2\n",
       "Mortgage                        2\n",
       "On_Demand_Deposit               2\n",
       "Days_Active                   111\n",
       "Transaction_Count             126\n",
       "Avg_Transactions_Per_Day     3120\n",
       "Max_Transaction              6161\n",
       "Min_Transaction              1016\n",
       "Mean_Transaction             6511\n",
       "Std_Transaction              6556\n",
       "Sum_Transaction              6133\n",
       "dtype: int64"
      ]
     },
     "execution_count": 142,
     "metadata": {},
     "output_type": "execute_result"
    }
   ],
   "source": [
    "df_train.nunique()"
   ]
  },
  {
   "cell_type": "code",
   "execution_count": 143,
   "metadata": {},
   "outputs": [],
   "source": [
    "df_train = df_train.drop(['Credit_Card'], axis=1)\n",
    "df_test = df_test.drop(['Credit_Card'], axis=1)"
   ]
  },
  {
   "attachments": {},
   "cell_type": "markdown",
   "metadata": {},
   "source": [
    "### Account"
   ]
  },
  {
   "cell_type": "code",
   "execution_count": 144,
   "metadata": {},
   "outputs": [],
   "source": [
    "account_types = ['Current', 'Deposit', 'Investment', 'Joint', 'Loan', 'Mortgage', 'On_Demand_Deposit']"
   ]
  },
  {
   "cell_type": "code",
   "execution_count": 145,
   "metadata": {},
   "outputs": [],
   "source": [
    "feature = 'Current'\n",
    "df_train[feature] = pd.Categorical(df_train[feature].astype(str))\n",
    "df_test[feature] = pd.Categorical(df_test[feature].astype(str))"
   ]
  },
  {
   "cell_type": "code",
   "execution_count": 146,
   "metadata": {},
   "outputs": [
    {
     "data": {
      "image/png": "[encoded data removed]",
      "text/plain": [
       "<Figure size 720x432 with 2 Axes>"
      ]
     },
     "metadata": {},
     "output_type": "display_data"
    }
   ],
   "source": [
    "eda_cat(df_train,feature,target)"
   ]
  },
  {
   "cell_type": "code",
   "execution_count": 147,
   "metadata": {},
   "outputs": [],
   "source": [
    "feature = 'Deposit'\n",
    "df_train[feature] = pd.Categorical(df_train[feature].astype(str))\n",
    "df_test[feature] = pd.Categorical(df_test[feature].astype(str))"
   ]
  },
  {
   "cell_type": "code",
   "execution_count": 148,
   "metadata": {},
   "outputs": [
    {
     "data": {
      "image/png": "[encoded data removed]",
      "text/plain": [
       "<Figure size 720x432 with 2 Axes>"
      ]
     },
     "metadata": {},
     "output_type": "display_data"
    }
   ],
   "source": [
    "eda_cat(df_train,feature,target)"
   ]
  },
  {
   "cell_type": "code",
   "execution_count": 149,
   "metadata": {},
   "outputs": [],
   "source": [
    "feature = 'Investment'\n",
    "df_train[feature] = pd.Categorical(df_train[feature].astype(str))\n",
    "df_test[feature] = pd.Categorical(df_test[feature].astype(str))"
   ]
  },
  {
   "cell_type": "code",
   "execution_count": 150,
   "metadata": {},
   "outputs": [
    {
     "data": {
      "image/png": "[encoded data removed]",
      "text/plain": [
       "<Figure size 720x432 with 2 Axes>"
      ]
     },
     "metadata": {},
     "output_type": "display_data"
    }
   ],
   "source": [
    "eda_cat(df_train,feature,target)"
   ]
  },
  {
   "cell_type": "code",
   "execution_count": 151,
   "metadata": {},
   "outputs": [],
   "source": [
    "feature = 'Joint'\n",
    "df_train[feature] = pd.Categorical(df_train[feature].astype(str))\n",
    "df_test[feature] = pd.Categorical(df_test[feature].astype(str))"
   ]
  },
  {
   "cell_type": "code",
   "execution_count": 152,
   "metadata": {},
   "outputs": [
    {
     "data": {
      "image/png": "[encoded data removed]",
      "text/plain": [
       "<Figure size 720x432 with 2 Axes>"
      ]
     },
     "metadata": {},
     "output_type": "display_data"
    }
   ],
   "source": [
    "eda_cat(df_train,feature,target)"
   ]
  },
  {
   "cell_type": "code",
   "execution_count": 153,
   "metadata": {},
   "outputs": [],
   "source": [
    "feature = 'Loan'\n",
    "df_train[feature] = pd.Categorical(df_train[feature].astype(str))\n",
    "df_test[feature] = pd.Categorical(df_test[feature].astype(str))"
   ]
  },
  {
   "cell_type": "code",
   "execution_count": 154,
   "metadata": {},
   "outputs": [
    {
     "data": {
      "image/png": "[encoded data removed]",
      "text/plain": [
       "<Figure size 720x432 with 2 Axes>"
      ]
     },
     "metadata": {},
     "output_type": "display_data"
    }
   ],
   "source": [
    "eda_cat(df_train,feature,target)"
   ]
  },
  {
   "cell_type": "code",
   "execution_count": 155,
   "metadata": {},
   "outputs": [],
   "source": [
    "feature = 'Mortgage'\n",
    "df_train[feature] = pd.Categorical(df_train[feature].astype(str))\n",
    "df_test[feature] = pd.Categorical(df_test[feature].astype(str))"
   ]
  },
  {
   "cell_type": "code",
   "execution_count": 156,
   "metadata": {},
   "outputs": [
    {
     "data": {
      "image/png": "[encoded data removed]",
      "text/plain": [
       "<Figure size 720x432 with 2 Axes>"
      ]
     },
     "metadata": {},
     "output_type": "display_data"
    }
   ],
   "source": [
    "eda_cat(df_train,feature,target)"
   ]
  },
  {
   "cell_type": "code",
   "execution_count": 157,
   "metadata": {},
   "outputs": [],
   "source": [
    "feature = 'On_Demand_Deposit'\n",
    "df_train[feature] = pd.Categorical(df_train[feature].astype(str))\n",
    "df_test[feature] = pd.Categorical(df_test[feature].astype(str))"
   ]
  },
  {
   "cell_type": "code",
   "execution_count": 158,
   "metadata": {},
   "outputs": [
    {
     "data": {
      "image/png": "[encoded data removed]",
      "text/plain": [
       "<Figure size 720x432 with 2 Axes>"
      ]
     },
     "metadata": {},
     "output_type": "display_data"
    }
   ],
   "source": [
    "eda_cat(df_train,feature,target)"
   ]
  },
  {
   "cell_type": "code",
   "execution_count": 159,
   "metadata": {},
   "outputs": [
    {
     "data": {
      "text/plain": [
       "<AxesSubplot:xlabel='Churn', ylabel='Sum_Transaction'>"
      ]
     },
     "execution_count": 159,
     "metadata": {},
     "output_type": "execute_result"
    },
    {
     "data": {
      "image/png": "[encoded data removed]",
      "text/plain": [
       "<Figure size 1440x1800 with 10 Axes>"
      ]
     },
     "metadata": {},
     "output_type": "display_data"
    }
   ],
   "source": [
    "fig, axarr = plt.subplots(5, 2, figsize=(20, 25))\n",
    "sns.boxplot(y='Customer_Service_Calls',x = target, hue = target,data = df_train, ax=axarr[0][0])\n",
    "sns.boxplot(y='Credit_Limit',x = target, hue = target,data = df_train , ax=axarr[0][1])\n",
    "sns.boxplot(y='Total_Revolving_Balance',x = target, hue = target,data = df_train, ax=axarr[1][0])\n",
    "sns.boxplot(y='Average_Open_To_Buy',x = target, hue = target,data = df_train, ax=axarr[1][1])\n",
    "sns.boxplot(y='Average_Utilisation_Ratio',x = target, hue = target,data = df_train, ax=axarr[2][0])\n",
    "sns.boxplot(y='Age',x = target, hue = target,data = df_train, ax=axarr[2][1])\n",
    "sns.boxplot(y='Mean_Transaction',x = target, hue = target,data = df_train, ax=axarr[3][0])\n",
    "sns.boxplot(y='Days',x = target, hue = target,data = df_train , ax=axarr[3][1])\n",
    "sns.boxplot(y='Avg_Transactions_Per_Day',x = target, hue = target,data = df_train, ax=axarr[4][0])\n",
    "sns.boxplot(y='Sum_Transaction',x = target, hue = target,data = df_train, ax=axarr[4][1])"
   ]
  },
  {
   "cell_type": "code",
   "execution_count": 160,
   "metadata": {},
   "outputs": [],
   "source": [
    "df_train['Revolving_Balance_given_age'] = df_train.Total_Revolving_Balance/(df_train.Age)\n",
    "df_test['Revolving_Balance_given_age'] = df_test.Total_Revolving_Balance/(df_test.Age)"
   ]
  },
  {
   "cell_type": "code",
   "execution_count": 161,
   "metadata": {},
   "outputs": [
    {
     "data": {
      "text/plain": [
       "<AxesSubplot:xlabel='Churn', ylabel='Total_Revolving_Balance'>"
      ]
     },
     "execution_count": 161,
     "metadata": {},
     "output_type": "execute_result"
    },
    {
     "data": {
      "image/png": "[encoded data removed]",
      "text/plain": [
       "<Figure size 1080x360 with 2 Axes>"
      ]
     },
     "metadata": {},
     "output_type": "display_data"
    }
   ],
   "source": [
    "fig, axarr = plt.subplots(1, 2, figsize=(15, 5))\n",
    "sns.boxplot(y='Revolving_Balance_given_age',x = target, hue = target,data = df_train, ax=axarr[0])\n",
    "sns.boxplot(y='Total_Revolving_Balance',x = target, hue = target,data = df_train , ax=axarr[1])"
   ]
  },
  {
   "cell_type": "code",
   "execution_count": 162,
   "metadata": {},
   "outputs": [],
   "source": [
    "df_train[\"Total_Utilised_Credit\"] = df_train[\"Total_Revolving_Balance\"] * df_train[\"Average_Utilisation_Ratio\"]\n",
    "df_test[\"Total_Utilised_Credit\"] = df_test[\"Total_Revolving_Balance\"] * df_test[\"Average_Utilisation_Ratio\"]"
   ]
  },
  {
   "cell_type": "code",
   "execution_count": 163,
   "metadata": {},
   "outputs": [
    {
     "data": {
      "text/plain": [
       "<AxesSubplot:xlabel='Churn', ylabel='Total_Utilised_Credit'>"
      ]
     },
     "execution_count": 163,
     "metadata": {},
     "output_type": "execute_result"
    },
    {
     "data": {
      "image/png": "[encoded data removed]",
      "text/plain": [
       "<Figure size 720x360 with 1 Axes>"
      ]
     },
     "metadata": {},
     "output_type": "display_data"
    }
   ],
   "source": [
    "fig, axarr = plt.subplots(1, 1, figsize=(10, 5))\n",
    "sns.boxplot(y='Total_Utilised_Credit',x = target, hue = target,data = df_train)\n"
   ]
  },
  {
   "cell_type": "code",
   "execution_count": 164,
   "metadata": {},
   "outputs": [],
   "source": [
    "df_train[\"Credit_Utilisation_Ratio\"] = df_train[\"Total_Revolving_Balance\"] / df_train[\"Credit_Limit\"]\n",
    "df_test[\"Credit_Utilisation_Ratio\"] = df_test[\"Total_Revolving_Balance\"] / df_test[\"Credit_Limit\"]"
   ]
  },
  {
   "cell_type": "code",
   "execution_count": 165,
   "metadata": {},
   "outputs": [
    {
     "data": {
      "text/plain": [
       "<AxesSubplot:xlabel='Churn', ylabel='Credit_Utilisation_Ratio'>"
      ]
     },
     "execution_count": 165,
     "metadata": {},
     "output_type": "execute_result"
    },
    {
     "data": {
      "image/png": "[encoded data removed]",
      "text/plain": [
       "<Figure size 720x360 with 1 Axes>"
      ]
     },
     "metadata": {},
     "output_type": "display_data"
    }
   ],
   "source": [
    "fig, axarr = plt.subplots(1, 1, figsize=(10, 5))\n",
    "sns.boxplot(y='Credit_Utilisation_Ratio',x = target, hue = target,data = df_train)"
   ]
  },
  {
   "cell_type": "code",
   "execution_count": 166,
   "metadata": {},
   "outputs": [],
   "source": [
    "df_train['Service_Calls_to_Limit_Ratio'] = df_train['Customer_Service_Calls'] / df_train['Credit_Limit']\n",
    "df_test['Service_Calls_to_Limit_Ratio'] = df_test['Customer_Service_Calls'] / df_test['Credit_Limit']"
   ]
  },
  {
   "cell_type": "code",
   "execution_count": 167,
   "metadata": {},
   "outputs": [
    {
     "data": {
      "text/plain": [
       "<AxesSubplot:xlabel='Churn', ylabel='Service_Calls_to_Limit_Ratio'>"
      ]
     },
     "execution_count": 167,
     "metadata": {},
     "output_type": "execute_result"
    },
    {
     "data": {
      "image/png": "[encoded data removed]",
      "text/plain": [
       "<Figure size 720x360 with 1 Axes>"
      ]
     },
     "metadata": {},
     "output_type": "display_data"
    }
   ],
   "source": [
    "fig, axarr = plt.subplots(1, 1, figsize=(10, 5))\n",
    "sns.boxplot(y='Service_Calls_to_Limit_Ratio',x = target, hue = target,data = df_train)"
   ]
  },
  {
   "cell_type": "code",
   "execution_count": 168,
   "metadata": {},
   "outputs": [
    {
     "name": "stdout",
     "output_type": "stream",
     "text": [
      "(6556, 35) 0\n"
     ]
    },
    {
     "data": {
      "text/html": [
       "<div>\n",
       "<style scoped>\n",
       "    .dataframe tbody tr th:only-of-type {\n",
       "        vertical-align: middle;\n",
       "    }\n",
       "\n",
       "    .dataframe tbody tr th {\n",
       "        vertical-align: top;\n",
       "    }\n",
       "\n",
       "    .dataframe thead th {\n",
       "        text-align: right;\n",
       "    }\n",
       "</style>\n",
       "<table border=\"1\" class=\"dataframe\">\n",
       "  <thead>\n",
       "    <tr style=\"text-align: right;\">\n",
       "      <th></th>\n",
       "      <th>Customer</th>\n",
       "      <th>Churn</th>\n",
       "      <th>Card</th>\n",
       "      <th>Start_Date</th>\n",
       "      <th>Customer_Service_Calls</th>\n",
       "      <th>Credit_Limit</th>\n",
       "      <th>Total_Revolving_Balance</th>\n",
       "      <th>Average_Open_To_Buy</th>\n",
       "      <th>Average_Utilisation_Ratio</th>\n",
       "      <th>Age</th>\n",
       "      <th>Gender</th>\n",
       "      <th>Education</th>\n",
       "      <th>Marital_Status</th>\n",
       "      <th>Dependents</th>\n",
       "      <th>Income</th>\n",
       "      <th>Days</th>\n",
       "      <th>Current</th>\n",
       "      <th>Deposit</th>\n",
       "      <th>Investment</th>\n",
       "      <th>Joint</th>\n",
       "      <th>Loan</th>\n",
       "      <th>Mortgage</th>\n",
       "      <th>On_Demand_Deposit</th>\n",
       "      <th>Days_Active</th>\n",
       "      <th>Transaction_Count</th>\n",
       "      <th>Avg_Transactions_Per_Day</th>\n",
       "      <th>Max_Transaction</th>\n",
       "      <th>Min_Transaction</th>\n",
       "      <th>Mean_Transaction</th>\n",
       "      <th>Std_Transaction</th>\n",
       "      <th>Sum_Transaction</th>\n",
       "      <th>Revolving_Balance_given_age</th>\n",
       "      <th>Total_Utilised_Credit</th>\n",
       "      <th>Credit_Utilisation_Ratio</th>\n",
       "      <th>Service_Calls_to_Limit_Ratio</th>\n",
       "    </tr>\n",
       "  </thead>\n",
       "  <tbody>\n",
       "    <tr>\n",
       "      <th>0</th>\n",
       "      <td>797197508</td>\n",
       "      <td>No</td>\n",
       "      <td>0</td>\n",
       "      <td>2020-06-01</td>\n",
       "      <td>1</td>\n",
       "      <td>2315.0</td>\n",
       "      <td>1565.0</td>\n",
       "      <td>750.0</td>\n",
       "      <td>0.676</td>\n",
       "      <td>48</td>\n",
       "      <td>F</td>\n",
       "      <td>2</td>\n",
       "      <td>1</td>\n",
       "      <td>2</td>\n",
       "      <td>0</td>\n",
       "      <td>549.0</td>\n",
       "      <td>1</td>\n",
       "      <td>1</td>\n",
       "      <td>1</td>\n",
       "      <td>0</td>\n",
       "      <td>0</td>\n",
       "      <td>1</td>\n",
       "      <td>0</td>\n",
       "      <td>331</td>\n",
       "      <td>90</td>\n",
       "      <td>0.271903</td>\n",
       "      <td>342.82</td>\n",
       "      <td>8.59</td>\n",
       "      <td>53.644000</td>\n",
       "      <td>51.087679</td>\n",
       "      <td>4827.96</td>\n",
       "      <td>32.604167</td>\n",
       "      <td>1057.940</td>\n",
       "      <td>0.676026</td>\n",
       "      <td>0.000432</td>\n",
       "    </tr>\n",
       "    <tr>\n",
       "      <th>1</th>\n",
       "      <td>812854728</td>\n",
       "      <td>No</td>\n",
       "      <td>0</td>\n",
       "      <td>2020-01-01</td>\n",
       "      <td>1</td>\n",
       "      <td>7645.0</td>\n",
       "      <td>2076.0</td>\n",
       "      <td>5569.0</td>\n",
       "      <td>0.272</td>\n",
       "      <td>58</td>\n",
       "      <td>F</td>\n",
       "      <td>1</td>\n",
       "      <td>2</td>\n",
       "      <td>5</td>\n",
       "      <td>0</td>\n",
       "      <td>701.0</td>\n",
       "      <td>0</td>\n",
       "      <td>0</td>\n",
       "      <td>0</td>\n",
       "      <td>0</td>\n",
       "      <td>0</td>\n",
       "      <td>0</td>\n",
       "      <td>0</td>\n",
       "      <td>362</td>\n",
       "      <td>75</td>\n",
       "      <td>0.207182</td>\n",
       "      <td>1296.47</td>\n",
       "      <td>5.89</td>\n",
       "      <td>102.799600</td>\n",
       "      <td>181.396165</td>\n",
       "      <td>7709.97</td>\n",
       "      <td>35.793103</td>\n",
       "      <td>564.672</td>\n",
       "      <td>0.271550</td>\n",
       "      <td>0.000131</td>\n",
       "    </tr>\n",
       "    <tr>\n",
       "      <th>2</th>\n",
       "      <td>768000743</td>\n",
       "      <td>No</td>\n",
       "      <td>0</td>\n",
       "      <td>2020-01-01</td>\n",
       "      <td>2</td>\n",
       "      <td>6394.0</td>\n",
       "      <td>0.0</td>\n",
       "      <td>6394.0</td>\n",
       "      <td>0.000</td>\n",
       "      <td>55</td>\n",
       "      <td>F</td>\n",
       "      <td>1</td>\n",
       "      <td>2</td>\n",
       "      <td>2</td>\n",
       "      <td>0</td>\n",
       "      <td>701.0</td>\n",
       "      <td>1</td>\n",
       "      <td>0</td>\n",
       "      <td>0</td>\n",
       "      <td>0</td>\n",
       "      <td>0</td>\n",
       "      <td>0</td>\n",
       "      <td>0</td>\n",
       "      <td>332</td>\n",
       "      <td>69</td>\n",
       "      <td>0.207831</td>\n",
       "      <td>279.84</td>\n",
       "      <td>3.97</td>\n",
       "      <td>50.290725</td>\n",
       "      <td>52.551327</td>\n",
       "      <td>3470.06</td>\n",
       "      <td>0.000000</td>\n",
       "      <td>0.000</td>\n",
       "      <td>0.000000</td>\n",
       "      <td>0.000313</td>\n",
       "    </tr>\n",
       "    <tr>\n",
       "      <th>3</th>\n",
       "      <td>722161439</td>\n",
       "      <td>No</td>\n",
       "      <td>0</td>\n",
       "      <td>2020-08-01</td>\n",
       "      <td>3</td>\n",
       "      <td>4663.0</td>\n",
       "      <td>0.0</td>\n",
       "      <td>4663.0</td>\n",
       "      <td>0.000</td>\n",
       "      <td>41</td>\n",
       "      <td>F</td>\n",
       "      <td>2</td>\n",
       "      <td>1</td>\n",
       "      <td>2</td>\n",
       "      <td>1</td>\n",
       "      <td>488.0</td>\n",
       "      <td>1</td>\n",
       "      <td>1</td>\n",
       "      <td>1</td>\n",
       "      <td>0</td>\n",
       "      <td>1</td>\n",
       "      <td>1</td>\n",
       "      <td>0</td>\n",
       "      <td>327</td>\n",
       "      <td>81</td>\n",
       "      <td>0.247706</td>\n",
       "      <td>317.30</td>\n",
       "      <td>9.96</td>\n",
       "      <td>47.296420</td>\n",
       "      <td>50.063738</td>\n",
       "      <td>3831.01</td>\n",
       "      <td>0.000000</td>\n",
       "      <td>0.000</td>\n",
       "      <td>0.000000</td>\n",
       "      <td>0.000643</td>\n",
       "    </tr>\n",
       "    <tr>\n",
       "      <th>4</th>\n",
       "      <td>759029725</td>\n",
       "      <td>No</td>\n",
       "      <td>0</td>\n",
       "      <td>2021-02-01</td>\n",
       "      <td>4</td>\n",
       "      <td>1879.0</td>\n",
       "      <td>1486.0</td>\n",
       "      <td>393.0</td>\n",
       "      <td>0.791</td>\n",
       "      <td>37</td>\n",
       "      <td>F</td>\n",
       "      <td>1</td>\n",
       "      <td>2</td>\n",
       "      <td>1</td>\n",
       "      <td>0</td>\n",
       "      <td>304.0</td>\n",
       "      <td>1</td>\n",
       "      <td>1</td>\n",
       "      <td>1</td>\n",
       "      <td>0</td>\n",
       "      <td>0</td>\n",
       "      <td>1</td>\n",
       "      <td>0</td>\n",
       "      <td>359</td>\n",
       "      <td>88</td>\n",
       "      <td>0.245125</td>\n",
       "      <td>237.55</td>\n",
       "      <td>5.45</td>\n",
       "      <td>59.114091</td>\n",
       "      <td>60.445166</td>\n",
       "      <td>5202.04</td>\n",
       "      <td>40.162162</td>\n",
       "      <td>1175.426</td>\n",
       "      <td>0.790846</td>\n",
       "      <td>0.002129</td>\n",
       "    </tr>\n",
       "  </tbody>\n",
       "</table>\n",
       "</div>"
      ],
      "text/plain": [
       "    Customer Churn  Card Start_Date  Customer_Service_Calls  Credit_Limit  \\\n",
       "0  797197508    No     0 2020-06-01                       1        2315.0   \n",
       "1  812854728    No     0 2020-01-01                       1        7645.0   \n",
       "2  768000743    No     0 2020-01-01                       2        6394.0   \n",
       "3  722161439    No     0 2020-08-01                       3        4663.0   \n",
       "4  759029725    No     0 2021-02-01                       4        1879.0   \n",
       "\n",
       "   Total_Revolving_Balance  Average_Open_To_Buy  Average_Utilisation_Ratio  \\\n",
       "0                   1565.0                750.0                      0.676   \n",
       "1                   2076.0               5569.0                      0.272   \n",
       "2                      0.0               6394.0                      0.000   \n",
       "3                      0.0               4663.0                      0.000   \n",
       "4                   1486.0                393.0                      0.791   \n",
       "\n",
       "   Age Gender  Education  Marital_Status  Dependents  Income   Days Current  \\\n",
       "0   48      F          2               1           2       0  549.0       1   \n",
       "1   58      F          1               2           5       0  701.0       0   \n",
       "2   55      F          1               2           2       0  701.0       1   \n",
       "3   41      F          2               1           2       1  488.0       1   \n",
       "4   37      F          1               2           1       0  304.0       1   \n",
       "\n",
       "  Deposit Investment Joint Loan Mortgage On_Demand_Deposit  Days_Active  \\\n",
       "0       1          1     0    0        1                 0          331   \n",
       "1       0          0     0    0        0                 0          362   \n",
       "2       0          0     0    0        0                 0          332   \n",
       "3       1          1     0    1        1                 0          327   \n",
       "4       1          1     0    0        1                 0          359   \n",
       "\n",
       "   Transaction_Count  Avg_Transactions_Per_Day  Max_Transaction  \\\n",
       "0                 90                  0.271903           342.82   \n",
       "1                 75                  0.207182          1296.47   \n",
       "2                 69                  0.207831           279.84   \n",
       "3                 81                  0.247706           317.30   \n",
       "4                 88                  0.245125           237.55   \n",
       "\n",
       "   Min_Transaction  Mean_Transaction  Std_Transaction  Sum_Transaction  \\\n",
       "0             8.59         53.644000        51.087679          4827.96   \n",
       "1             5.89        102.799600       181.396165          7709.97   \n",
       "2             3.97         50.290725        52.551327          3470.06   \n",
       "3             9.96         47.296420        50.063738          3831.01   \n",
       "4             5.45         59.114091        60.445166          5202.04   \n",
       "\n",
       "   Revolving_Balance_given_age  Total_Utilised_Credit  \\\n",
       "0                    32.604167               1057.940   \n",
       "1                    35.793103                564.672   \n",
       "2                     0.000000                  0.000   \n",
       "3                     0.000000                  0.000   \n",
       "4                    40.162162               1175.426   \n",
       "\n",
       "   Credit_Utilisation_Ratio  Service_Calls_to_Limit_Ratio  \n",
       "0                  0.676026                      0.000432  \n",
       "1                  0.271550                      0.000131  \n",
       "2                  0.000000                      0.000313  \n",
       "3                  0.000000                      0.000643  \n",
       "4                  0.790846                      0.002129  "
      ]
     },
     "execution_count": 168,
     "metadata": {},
     "output_type": "execute_result"
    }
   ],
   "source": [
    "print(df_train.shape, df_train.isna().sum().sum())\n",
    "df_train.head()"
   ]
  },
  {
   "cell_type": "code",
   "execution_count": 169,
   "metadata": {},
   "outputs": [
    {
     "name": "stdout",
     "output_type": "stream",
     "text": [
      "(3542, 34) 0\n"
     ]
    },
    {
     "data": {
      "text/html": [
       "<div>\n",
       "<style scoped>\n",
       "    .dataframe tbody tr th:only-of-type {\n",
       "        vertical-align: middle;\n",
       "    }\n",
       "\n",
       "    .dataframe tbody tr th {\n",
       "        vertical-align: top;\n",
       "    }\n",
       "\n",
       "    .dataframe thead th {\n",
       "        text-align: right;\n",
       "    }\n",
       "</style>\n",
       "<table border=\"1\" class=\"dataframe\">\n",
       "  <thead>\n",
       "    <tr style=\"text-align: right;\">\n",
       "      <th></th>\n",
       "      <th>Customer</th>\n",
       "      <th>Card</th>\n",
       "      <th>Start_Date</th>\n",
       "      <th>Customer_Service_Calls</th>\n",
       "      <th>Credit_Limit</th>\n",
       "      <th>Total_Revolving_Balance</th>\n",
       "      <th>Average_Open_To_Buy</th>\n",
       "      <th>Average_Utilisation_Ratio</th>\n",
       "      <th>Age</th>\n",
       "      <th>Gender</th>\n",
       "      <th>Education</th>\n",
       "      <th>Marital_Status</th>\n",
       "      <th>Dependents</th>\n",
       "      <th>Income</th>\n",
       "      <th>Days</th>\n",
       "      <th>Current</th>\n",
       "      <th>Deposit</th>\n",
       "      <th>Investment</th>\n",
       "      <th>Joint</th>\n",
       "      <th>Loan</th>\n",
       "      <th>Mortgage</th>\n",
       "      <th>On_Demand_Deposit</th>\n",
       "      <th>Days_Active</th>\n",
       "      <th>Transaction_Count</th>\n",
       "      <th>Avg_Transactions_Per_Day</th>\n",
       "      <th>Max_Transaction</th>\n",
       "      <th>Min_Transaction</th>\n",
       "      <th>Mean_Transaction</th>\n",
       "      <th>Std_Transaction</th>\n",
       "      <th>Sum_Transaction</th>\n",
       "      <th>Revolving_Balance_given_age</th>\n",
       "      <th>Total_Utilised_Credit</th>\n",
       "      <th>Credit_Utilisation_Ratio</th>\n",
       "      <th>Service_Calls_to_Limit_Ratio</th>\n",
       "    </tr>\n",
       "  </thead>\n",
       "  <tbody>\n",
       "    <tr>\n",
       "      <th>0</th>\n",
       "      <td>774663629</td>\n",
       "      <td>1</td>\n",
       "      <td>2020-01-01</td>\n",
       "      <td>2</td>\n",
       "      <td>29663.0</td>\n",
       "      <td>1743.0</td>\n",
       "      <td>27920.0</td>\n",
       "      <td>0.059</td>\n",
       "      <td>51</td>\n",
       "      <td>M</td>\n",
       "      <td>2</td>\n",
       "      <td>2</td>\n",
       "      <td>3</td>\n",
       "      <td>2</td>\n",
       "      <td>701.0</td>\n",
       "      <td>1</td>\n",
       "      <td>1</td>\n",
       "      <td>0</td>\n",
       "      <td>0</td>\n",
       "      <td>0</td>\n",
       "      <td>0</td>\n",
       "      <td>0</td>\n",
       "      <td>358</td>\n",
       "      <td>93</td>\n",
       "      <td>0.259777</td>\n",
       "      <td>1176.28</td>\n",
       "      <td>10.82</td>\n",
       "      <td>157.397849</td>\n",
       "      <td>177.297431</td>\n",
       "      <td>14638.00</td>\n",
       "      <td>34.176471</td>\n",
       "      <td>102.837</td>\n",
       "      <td>0.058760</td>\n",
       "      <td>0.000067</td>\n",
       "    </tr>\n",
       "    <tr>\n",
       "      <th>1</th>\n",
       "      <td>720420396</td>\n",
       "      <td>0</td>\n",
       "      <td>2020-11-01</td>\n",
       "      <td>2</td>\n",
       "      <td>2032.0</td>\n",
       "      <td>1195.0</td>\n",
       "      <td>837.0</td>\n",
       "      <td>0.588</td>\n",
       "      <td>45</td>\n",
       "      <td>F</td>\n",
       "      <td>2</td>\n",
       "      <td>0</td>\n",
       "      <td>3</td>\n",
       "      <td>1</td>\n",
       "      <td>396.0</td>\n",
       "      <td>0</td>\n",
       "      <td>0</td>\n",
       "      <td>0</td>\n",
       "      <td>0</td>\n",
       "      <td>0</td>\n",
       "      <td>0</td>\n",
       "      <td>0</td>\n",
       "      <td>356</td>\n",
       "      <td>80</td>\n",
       "      <td>0.224719</td>\n",
       "      <td>399.76</td>\n",
       "      <td>3.28</td>\n",
       "      <td>55.987125</td>\n",
       "      <td>60.871741</td>\n",
       "      <td>4478.97</td>\n",
       "      <td>26.555556</td>\n",
       "      <td>702.660</td>\n",
       "      <td>0.588091</td>\n",
       "      <td>0.000984</td>\n",
       "    </tr>\n",
       "    <tr>\n",
       "      <th>2</th>\n",
       "      <td>815283379</td>\n",
       "      <td>0</td>\n",
       "      <td>2020-01-01</td>\n",
       "      <td>1</td>\n",
       "      <td>17268.0</td>\n",
       "      <td>1197.0</td>\n",
       "      <td>16071.0</td>\n",
       "      <td>0.069</td>\n",
       "      <td>57</td>\n",
       "      <td>M</td>\n",
       "      <td>2</td>\n",
       "      <td>2</td>\n",
       "      <td>3</td>\n",
       "      <td>4</td>\n",
       "      <td>701.0</td>\n",
       "      <td>1</td>\n",
       "      <td>0</td>\n",
       "      <td>0</td>\n",
       "      <td>0</td>\n",
       "      <td>0</td>\n",
       "      <td>0</td>\n",
       "      <td>0</td>\n",
       "      <td>356</td>\n",
       "      <td>90</td>\n",
       "      <td>0.252809</td>\n",
       "      <td>213.94</td>\n",
       "      <td>3.79</td>\n",
       "      <td>45.300111</td>\n",
       "      <td>46.328322</td>\n",
       "      <td>4077.01</td>\n",
       "      <td>21.000000</td>\n",
       "      <td>82.593</td>\n",
       "      <td>0.069319</td>\n",
       "      <td>0.000058</td>\n",
       "    </tr>\n",
       "    <tr>\n",
       "      <th>3</th>\n",
       "      <td>764861610</td>\n",
       "      <td>0</td>\n",
       "      <td>2020-05-01</td>\n",
       "      <td>3</td>\n",
       "      <td>2264.0</td>\n",
       "      <td>0.0</td>\n",
       "      <td>2264.0</td>\n",
       "      <td>0.000</td>\n",
       "      <td>38</td>\n",
       "      <td>F</td>\n",
       "      <td>0</td>\n",
       "      <td>2</td>\n",
       "      <td>2</td>\n",
       "      <td>0</td>\n",
       "      <td>580.0</td>\n",
       "      <td>1</td>\n",
       "      <td>1</td>\n",
       "      <td>1</td>\n",
       "      <td>0</td>\n",
       "      <td>1</td>\n",
       "      <td>0</td>\n",
       "      <td>0</td>\n",
       "      <td>338</td>\n",
       "      <td>28</td>\n",
       "      <td>0.082840</td>\n",
       "      <td>186.81</td>\n",
       "      <td>8.67</td>\n",
       "      <td>43.000714</td>\n",
       "      <td>44.238825</td>\n",
       "      <td>1204.02</td>\n",
       "      <td>0.000000</td>\n",
       "      <td>0.000</td>\n",
       "      <td>0.000000</td>\n",
       "      <td>0.001325</td>\n",
       "    </tr>\n",
       "    <tr>\n",
       "      <th>4</th>\n",
       "      <td>742798818</td>\n",
       "      <td>0</td>\n",
       "      <td>2020-01-01</td>\n",
       "      <td>1</td>\n",
       "      <td>2192.0</td>\n",
       "      <td>1464.0</td>\n",
       "      <td>728.0</td>\n",
       "      <td>0.668</td>\n",
       "      <td>45</td>\n",
       "      <td>F</td>\n",
       "      <td>3</td>\n",
       "      <td>1</td>\n",
       "      <td>4</td>\n",
       "      <td>0</td>\n",
       "      <td>701.0</td>\n",
       "      <td>0</td>\n",
       "      <td>1</td>\n",
       "      <td>0</td>\n",
       "      <td>1</td>\n",
       "      <td>1</td>\n",
       "      <td>1</td>\n",
       "      <td>1</td>\n",
       "      <td>361</td>\n",
       "      <td>89</td>\n",
       "      <td>0.246537</td>\n",
       "      <td>260.42</td>\n",
       "      <td>6.95</td>\n",
       "      <td>55.112697</td>\n",
       "      <td>55.664159</td>\n",
       "      <td>4905.03</td>\n",
       "      <td>32.533333</td>\n",
       "      <td>977.952</td>\n",
       "      <td>0.667883</td>\n",
       "      <td>0.000456</td>\n",
       "    </tr>\n",
       "  </tbody>\n",
       "</table>\n",
       "</div>"
      ],
      "text/plain": [
       "    Customer  Card Start_Date  Customer_Service_Calls  Credit_Limit  \\\n",
       "0  774663629     1 2020-01-01                       2       29663.0   \n",
       "1  720420396     0 2020-11-01                       2        2032.0   \n",
       "2  815283379     0 2020-01-01                       1       17268.0   \n",
       "3  764861610     0 2020-05-01                       3        2264.0   \n",
       "4  742798818     0 2020-01-01                       1        2192.0   \n",
       "\n",
       "   Total_Revolving_Balance  Average_Open_To_Buy  Average_Utilisation_Ratio  \\\n",
       "0                   1743.0              27920.0                      0.059   \n",
       "1                   1195.0                837.0                      0.588   \n",
       "2                   1197.0              16071.0                      0.069   \n",
       "3                      0.0               2264.0                      0.000   \n",
       "4                   1464.0                728.0                      0.668   \n",
       "\n",
       "   Age Gender  Education  Marital_Status  Dependents  Income   Days Current  \\\n",
       "0   51      M          2               2           3       2  701.0       1   \n",
       "1   45      F          2               0           3       1  396.0       0   \n",
       "2   57      M          2               2           3       4  701.0       1   \n",
       "3   38      F          0               2           2       0  580.0       1   \n",
       "4   45      F          3               1           4       0  701.0       0   \n",
       "\n",
       "  Deposit Investment Joint Loan Mortgage On_Demand_Deposit  Days_Active  \\\n",
       "0       1          0     0    0        0                 0          358   \n",
       "1       0          0     0    0        0                 0          356   \n",
       "2       0          0     0    0        0                 0          356   \n",
       "3       1          1     0    1        0                 0          338   \n",
       "4       1          0     1    1        1                 1          361   \n",
       "\n",
       "   Transaction_Count  Avg_Transactions_Per_Day  Max_Transaction  \\\n",
       "0                 93                  0.259777          1176.28   \n",
       "1                 80                  0.224719           399.76   \n",
       "2                 90                  0.252809           213.94   \n",
       "3                 28                  0.082840           186.81   \n",
       "4                 89                  0.246537           260.42   \n",
       "\n",
       "   Min_Transaction  Mean_Transaction  Std_Transaction  Sum_Transaction  \\\n",
       "0            10.82        157.397849       177.297431         14638.00   \n",
       "1             3.28         55.987125        60.871741          4478.97   \n",
       "2             3.79         45.300111        46.328322          4077.01   \n",
       "3             8.67         43.000714        44.238825          1204.02   \n",
       "4             6.95         55.112697        55.664159          4905.03   \n",
       "\n",
       "   Revolving_Balance_given_age  Total_Utilised_Credit  \\\n",
       "0                    34.176471                102.837   \n",
       "1                    26.555556                702.660   \n",
       "2                    21.000000                 82.593   \n",
       "3                     0.000000                  0.000   \n",
       "4                    32.533333                977.952   \n",
       "\n",
       "   Credit_Utilisation_Ratio  Service_Calls_to_Limit_Ratio  \n",
       "0                  0.058760                      0.000067  \n",
       "1                  0.588091                      0.000984  \n",
       "2                  0.069319                      0.000058  \n",
       "3                  0.000000                      0.001325  \n",
       "4                  0.667883                      0.000456  "
      ]
     },
     "execution_count": 169,
     "metadata": {},
     "output_type": "execute_result"
    }
   ],
   "source": [
    "print(df_test.shape, df_test.isna().sum().sum())\n",
    "df_test.head()"
   ]
  },
  {
   "attachments": {},
   "cell_type": "markdown",
   "metadata": {},
   "source": [
    "## Save Dataset"
   ]
  },
  {
   "cell_type": "code",
   "execution_count": 170,
   "metadata": {},
   "outputs": [],
   "source": [
    "df_train.to_pickle(f\"{ROOT}/data/df_train2.pkl\")\n",
    "df_test.to_pickle(f\"{ROOT}/data/df_test2.pkl\")"
   ]
  }
 ],
 "metadata": {
  "kernelspec": {
   "display_name": "Python 3",
   "language": "python",
   "name": "python3"
  },
  "language_info": {
   "codemirror_mode": {
    "name": "ipython",
    "version": 3
   },
   "file_extension": ".py",
   "mimetype": "text/x-python",
   "name": "python",
   "nbconvert_exporter": "python",
   "pygments_lexer": "ipython3",
   "version": "3.10.6"
  },
  "orig_nbformat": 4
 },
 "nbformat": 4,
 "nbformat_minor": 2
}
