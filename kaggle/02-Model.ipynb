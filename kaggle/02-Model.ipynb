{
 "cells": [
  {
   "attachments": {},
   "cell_type": "markdown",
   "metadata": {},
   "source": [
    "# Who cut my card?"
   ]
  },
  {
   "attachments": {},
   "cell_type": "markdown",
   "metadata": {},
   "source": [
    "## Setup"
   ]
  },
  {
   "cell_type": "code",
   "execution_count": 45,
   "metadata": {},
   "outputs": [],
   "source": [
    "import numpy as np\n",
    "import pandas as pd\n",
    "import matplotlib.pyplot as plt\n",
    "import seaborn as sns\n",
    "from scipy import stats\n",
    "import yaml, time, sys, os\n",
    "\n",
    "from IPython.display import display, Markdown\n",
    "plt.style.use(\"seaborn-darkgrid\")\n",
    "pd.set_option('display.max_columns', None)  \n",
    "sns.set_style(\"darkgrid\")\n",
    "\n",
    "DATASET = \"Churn_Kaggle\"\n",
    "\n",
    "COLAB = 'google.colab' in sys.modules\n",
    "if COLAB:\n",
    "    ROOT = f\"/content/gdrive/MyDrive/datasets/{DATASET.replace(' ','_')}/\"\n",
    "else:\n",
    "    ROOT = \"./\"\n",
    "\n",
    "DEBUG = True\n",
    "\n",
    "SEED = 666"
   ]
  },
  {
   "attachments": {},
   "cell_type": "markdown",
   "metadata": {},
   "source": [
    "## Imports"
   ]
  },
  {
   "cell_type": "code",
   "execution_count": 46,
   "metadata": {},
   "outputs": [],
   "source": [
    "from sklearn.model_selection import train_test_split\n",
    "from sklearn.linear_model import LogisticRegression\n",
    "from sklearn.tree import DecisionTreeClassifier\n",
    "from sklearn.neural_network import MLPClassifier\n",
    "from sklearn.neighbors import KNeighborsClassifier\n",
    "from sklearn.svm import SVC\n",
    "from sklearn.gaussian_process import GaussianProcessClassifier\n",
    "from sklearn.gaussian_process.kernels import RBF\n",
    "from sklearn.ensemble import RandomForestClassifier, AdaBoostClassifier, GradientBoostingClassifier, VotingClassifier\n",
    "from sklearn.naive_bayes import GaussianNB\n",
    "from sklearn.discriminant_analysis import QuadraticDiscriminantAnalysis\n",
    "from sklearn.model_selection import cross_val_score, StratifiedKFold\n",
    "from sklearn.feature_selection import chi2,SelectPercentile, RFECV\n",
    "from sklearn.preprocessing import OneHotEncoder, StandardScaler\n",
    "from sklearn.impute import SimpleImputer\n",
    "from sklearn.pipeline import Pipeline\n",
    "from sklearn.compose import ColumnTransformer\n",
    "from sklearn.metrics import classification_report, accuracy_score, recall_score, precision_recall_curve, auc, make_scorer\n",
    "from xgboost import XGBClassifier\n",
    "from imblearn.over_sampling import SMOTE\n",
    "from sklearn.model_selection import GridSearchCV\n",
    "import warnings"
   ]
  },
  {
   "attachments": {},
   "cell_type": "markdown",
   "metadata": {},
   "source": [
    "## Dataset"
   ]
  },
  {
   "cell_type": "code",
   "execution_count": 47,
   "metadata": {},
   "outputs": [
    {
     "name": "stdout",
     "output_type": "stream",
     "text": [
      "Train:(6291, 30) Test:(3542, 29)\n"
     ]
    },
    {
     "data": {
      "text/html": [
       "<div>\n",
       "<style scoped>\n",
       "    .dataframe tbody tr th:only-of-type {\n",
       "        vertical-align: middle;\n",
       "    }\n",
       "\n",
       "    .dataframe tbody tr th {\n",
       "        vertical-align: top;\n",
       "    }\n",
       "\n",
       "    .dataframe thead th {\n",
       "        text-align: right;\n",
       "    }\n",
       "</style>\n",
       "<table border=\"1\" class=\"dataframe\">\n",
       "  <thead>\n",
       "    <tr style=\"text-align: right;\">\n",
       "      <th></th>\n",
       "      <th>Customer</th>\n",
       "      <th>Churn</th>\n",
       "      <th>Card</th>\n",
       "      <th>Start_Date</th>\n",
       "      <th>Customer_Service_Calls</th>\n",
       "      <th>Credit_Limit</th>\n",
       "      <th>Total_Revolving_Balance</th>\n",
       "      <th>Average_Open_To_Buy</th>\n",
       "      <th>Average_Utilisation_Ratio</th>\n",
       "      <th>Age</th>\n",
       "      <th>Gender</th>\n",
       "      <th>Education</th>\n",
       "      <th>Marital_Status</th>\n",
       "      <th>Dependents</th>\n",
       "      <th>Income</th>\n",
       "      <th>Days</th>\n",
       "      <th>Credit_Card</th>\n",
       "      <th>Current</th>\n",
       "      <th>Deposit</th>\n",
       "      <th>Investment</th>\n",
       "      <th>Joint</th>\n",
       "      <th>Loan</th>\n",
       "      <th>Mortgage</th>\n",
       "      <th>On_Demand_Deposit</th>\n",
       "      <th>Num_Transaction</th>\n",
       "      <th>Max_Transaction</th>\n",
       "      <th>Min_Transaction</th>\n",
       "      <th>Mean_Transaction</th>\n",
       "      <th>Std_Transaction</th>\n",
       "      <th>Sum_Transaction</th>\n",
       "    </tr>\n",
       "  </thead>\n",
       "  <tbody>\n",
       "    <tr>\n",
       "      <th>0</th>\n",
       "      <td>797197508</td>\n",
       "      <td>No</td>\n",
       "      <td>0</td>\n",
       "      <td>2020-06-01</td>\n",
       "      <td>1</td>\n",
       "      <td>2315.0</td>\n",
       "      <td>1565.0</td>\n",
       "      <td>750.0</td>\n",
       "      <td>0.676</td>\n",
       "      <td>48</td>\n",
       "      <td>F</td>\n",
       "      <td>3</td>\n",
       "      <td>Married</td>\n",
       "      <td>2</td>\n",
       "      <td>1</td>\n",
       "      <td>548.0</td>\n",
       "      <td>Yes</td>\n",
       "      <td>Yes</td>\n",
       "      <td>Yes</td>\n",
       "      <td>Yes</td>\n",
       "      <td>No</td>\n",
       "      <td>No</td>\n",
       "      <td>Yes</td>\n",
       "      <td>No</td>\n",
       "      <td>90</td>\n",
       "      <td>342.82</td>\n",
       "      <td>8.59</td>\n",
       "      <td>53.644</td>\n",
       "      <td>51.087679</td>\n",
       "      <td>4827.96</td>\n",
       "    </tr>\n",
       "  </tbody>\n",
       "</table>\n",
       "</div>"
      ],
      "text/plain": [
       "    Customer Churn  Card Start_Date  Customer_Service_Calls  Credit_Limit  \\\n",
       "0  797197508    No     0 2020-06-01                       1        2315.0   \n",
       "\n",
       "   Total_Revolving_Balance  Average_Open_To_Buy  Average_Utilisation_Ratio  \\\n",
       "0                   1565.0                750.0                      0.676   \n",
       "\n",
       "   Age Gender  Education Marital_Status  Dependents  Income   Days  \\\n",
       "0   48      F          3        Married           2       1  548.0   \n",
       "\n",
       "  Credit_Card Current Deposit Investment Joint Loan Mortgage  \\\n",
       "0         Yes     Yes     Yes        Yes    No   No      Yes   \n",
       "\n",
       "  On_Demand_Deposit  Num_Transaction  Max_Transaction  Min_Transaction  \\\n",
       "0                No               90           342.82             8.59   \n",
       "\n",
       "   Mean_Transaction  Std_Transaction  Sum_Transaction  \n",
       "0            53.644        51.087679          4827.96  "
      ]
     },
     "execution_count": 47,
     "metadata": {},
     "output_type": "execute_result"
    }
   ],
   "source": [
    "df_train = pd.read_pickle(f\"{ROOT}/data/df_train.pkl\")\n",
    "df_test = pd.read_pickle(f\"{ROOT}/data/df_test.pkl\")\n",
    "print(f\"Train:{df_train.shape}\", f\"Test:{df_test.shape}\")\n",
    "df_train.head(1)"
   ]
  },
  {
   "attachments": {},
   "cell_type": "markdown",
   "metadata": {},
   "source": [
    "# Model"
   ]
  },
  {
   "cell_type": "code",
   "execution_count": 48,
   "metadata": {},
   "outputs": [],
   "source": [
    "target = \"Churn\""
   ]
  },
  {
   "cell_type": "code",
   "execution_count": 49,
   "metadata": {},
   "outputs": [
    {
     "name": "stdout",
     "output_type": "stream",
     "text": [
      "Traget: Churn\n",
      "Categorical Features: ['Gender', 'Marital_Status', 'Credit_Card', 'Current', 'Deposit', 'Investment', 'Joint', 'Loan', 'Mortgage', 'On_Demand_Deposit']\n",
      "Numerical Features: ['Customer', 'Card', 'Customer_Service_Calls', 'Credit_Limit', 'Total_Revolving_Balance', 'Average_Open_To_Buy', 'Average_Utilisation_Ratio', 'Age', 'Education', 'Dependents', 'Income', 'Days', 'Num_Transaction', 'Max_Transaction', 'Min_Transaction', 'Mean_Transaction', 'Std_Transaction', 'Sum_Transaction']\n",
      "Number of Features: 28\n"
     ]
    }
   ],
   "source": [
    "cat_features = [c for c in df_train.select_dtypes(\"category\").columns if c not in target]\n",
    "num_features = [c for c in df_train.select_dtypes([\"int\",\"float\"]).columns if c not in target]\n",
    "features = cat_features + num_features\n",
    "\n",
    "print(f\"Traget: {target}\")\n",
    "\n",
    "print(f\"Categorical Features: {cat_features}\")\n",
    "print(f\"Numerical Features: {num_features}\")\n",
    "print(f\"Number of Features: {len(features)}\")"
   ]
  },
  {
   "cell_type": "code",
   "execution_count": 50,
   "metadata": {},
   "outputs": [
    {
     "data": {
      "text/plain": [
       "No     0.842314\n",
       "Yes    0.157686\n",
       "Name: Churn, dtype: float64"
      ]
     },
     "execution_count": 50,
     "metadata": {},
     "output_type": "execute_result"
    }
   ],
   "source": [
    "df_train[target].value_counts(normalize=True)"
   ]
  },
  {
   "cell_type": "code",
   "execution_count": 51,
   "metadata": {},
   "outputs": [],
   "source": [
    "list(features).remove('Age')"
   ]
  },
  {
   "cell_type": "code",
   "execution_count": 52,
   "metadata": {},
   "outputs": [],
   "source": [
    "X_train = df_train[features]\n",
    "y_train = df_train[target].replace({\"No\":0,\"Yes\":1})\n",
    "X_test = df_test[features]\n"
   ]
  },
  {
   "cell_type": "code",
   "execution_count": 53,
   "metadata": {},
   "outputs": [],
   "source": [
    "cat_preprocessor = Pipeline (\n",
    "    steps = [\n",
    "        ('impute', SimpleImputer(strategy='most_frequent')),\n",
    "        ('encode', OneHotEncoder(handle_unknown=\"ignore\")),\n",
    "        ('select', SelectPercentile(chi2, percentile=80)),    \n",
    "])\n",
    "\n",
    "num_preprocessor = Pipeline (\n",
    "    steps = [\n",
    "        ('impute', SimpleImputer(strategy='mean')),\n",
    "        ('scaler', StandardScaler()),    \n",
    "])\n",
    "\n",
    "preprocessor = ColumnTransformer(\n",
    "    transformers = [\n",
    "        ('cat', cat_preprocessor, cat_features),\n",
    "        ('num', num_preprocessor, num_features), \n",
    "])"
   ]
  },
  {
   "cell_type": "code",
   "execution_count": 54,
   "metadata": {},
   "outputs": [],
   "source": [
    "X_train = preprocessor.fit_transform(X_train, y_train)\n",
    "X_test = preprocessor.transform(X_test)"
   ]
  },
  {
   "cell_type": "code",
   "execution_count": 55,
   "metadata": {},
   "outputs": [],
   "source": [
    "df_tmp_train = pd.DataFrame(X_train)\n",
    "df_tmp_test = pd.DataFrame(X_test)"
   ]
  },
  {
   "cell_type": "code",
   "execution_count": 56,
   "metadata": {},
   "outputs": [
    {
     "name": "stdout",
     "output_type": "stream",
     "text": [
      "Number of features starting: 28\n"
     ]
    }
   ],
   "source": [
    "print(\"Number of features starting:\", len(features))"
   ]
  },
  {
   "cell_type": "code",
   "execution_count": 57,
   "metadata": {},
   "outputs": [
    {
     "name": "stdout",
     "output_type": "stream",
     "text": [
      "Optimal number of features : 13\n"
     ]
    }
   ],
   "source": [
    "rfecv = RFECV(estimator = XGBClassifier() , step=1, cv=StratifiedKFold(2), scoring=\"accuracy\", n_jobs = -1)\n",
    "rfecv.fit(X_train, y_train)\n",
    "\n",
    "print(\"Optimal number of features : %d\" % rfecv.n_features_)"
   ]
  },
  {
   "cell_type": "code",
   "execution_count": 58,
   "metadata": {},
   "outputs": [
    {
     "name": "stdout",
     "output_type": "stream",
     "text": [
      "13\n",
      "[0, 2, 4, 6, 12, 14, 18, 19, 20, 23, 28, 31, 33]\n"
     ]
    }
   ],
   "source": [
    "# list of features selected\n",
    "if len(rfecv.support_)<len(features):\n",
    "    print(\"It looks like you have run cells out of order. Runn cells from Pre-Processing Data (2)\")\n",
    "\n",
    "features = pd.DataFrame(X_train).columns\n",
    "features_selected = np.array(features)[rfecv.support_].tolist()\n",
    "print(len(features_selected))\n",
    "print(features_selected)\n",
    "X_train = pd.DataFrame(X_train)[features_selected]\n",
    "X_test = pd.DataFrame(X_test)[features_selected]"
   ]
  },
  {
   "cell_type": "code",
   "execution_count": 59,
   "metadata": {},
   "outputs": [
    {
     "data": {
      "text/html": [
       "<div>\n",
       "<style scoped>\n",
       "    .dataframe tbody tr th:only-of-type {\n",
       "        vertical-align: middle;\n",
       "    }\n",
       "\n",
       "    .dataframe tbody tr th {\n",
       "        vertical-align: top;\n",
       "    }\n",
       "\n",
       "    .dataframe thead th {\n",
       "        text-align: right;\n",
       "    }\n",
       "</style>\n",
       "<table border=\"1\" class=\"dataframe\">\n",
       "  <thead>\n",
       "    <tr style=\"text-align: right;\">\n",
       "      <th></th>\n",
       "      <th>0</th>\n",
       "      <th>2</th>\n",
       "      <th>4</th>\n",
       "      <th>6</th>\n",
       "      <th>12</th>\n",
       "      <th>14</th>\n",
       "      <th>18</th>\n",
       "      <th>19</th>\n",
       "      <th>20</th>\n",
       "      <th>23</th>\n",
       "      <th>28</th>\n",
       "      <th>31</th>\n",
       "      <th>33</th>\n",
       "    </tr>\n",
       "  </thead>\n",
       "  <tbody>\n",
       "    <tr>\n",
       "      <th>0</th>\n",
       "      <td>1.0</td>\n",
       "      <td>0.0</td>\n",
       "      <td>0.0</td>\n",
       "      <td>0.0</td>\n",
       "      <td>0.0</td>\n",
       "      <td>1.0</td>\n",
       "      <td>-1.307031</td>\n",
       "      <td>-0.696694</td>\n",
       "      <td>0.489673</td>\n",
       "      <td>0.107625</td>\n",
       "      <td>1.053427</td>\n",
       "      <td>-0.343572</td>\n",
       "      <td>0.114217</td>\n",
       "    </tr>\n",
       "  </tbody>\n",
       "</table>\n",
       "</div>"
      ],
      "text/plain": [
       "    0    2    4    6    12   14        18        19        20        23  \\\n",
       "0  1.0  0.0  0.0  0.0  0.0  1.0 -1.307031 -0.696694  0.489673  0.107625   \n",
       "\n",
       "         28        31        33  \n",
       "0  1.053427 -0.343572  0.114217  "
      ]
     },
     "execution_count": 59,
     "metadata": {},
     "output_type": "execute_result"
    }
   ],
   "source": [
    "X_train.head(1)"
   ]
  },
  {
   "attachments": {},
   "cell_type": "markdown",
   "metadata": {},
   "source": [
    "[0, 2, 4, 6, 12, 14, 18, 19, 20, 23, 28, 31, 33]"
   ]
  },
  {
   "cell_type": "code",
   "execution_count": 60,
   "metadata": {},
   "outputs": [],
   "source": [
    "def grid(X,y):\n",
    "    param_grid_rf = {'n_estimators': [100,300,600,1000]}\n",
    "    param_grid_gb = {'n_estimators': [100, 300, 600, 1000], 'max_depth': [3, 4, 5, 6, 7]}\n",
    "\n",
    "    scoring = {'accuracy': make_scorer(accuracy_score)}\n",
    "\n",
    "    rf = RandomForestClassifier()\n",
    "    gb = GradientBoostingClassifier()\n",
    "\n",
    "    grid_rf = GridSearchCV(rf, param_grid_rf, cv=5, scoring=scoring, refit='accuracy')\n",
    "    grid_gb = GridSearchCV(gb, param_grid_gb, cv=5, scoring=scoring, refit='accuracy')\n",
    "\n",
    "    grid_rf.fit(X, y)\n",
    "    grid_gb.fit(X, y)\n",
    "\n",
    "    print(\"Random Forest: Best Hyperparameters: \", grid_rf.best_params_, \"Accuracy: \", grid_rf.best_score_)\n",
    "    print(\"Gradient Boosting: Best Hyperparameters: \", grid_gb.best_params_, \"Accuracy: \", grid_gb.best_score_)\n"
   ]
  },
  {
   "cell_type": "code",
   "execution_count": 61,
   "metadata": {},
   "outputs": [],
   "source": [
    "# grid(X_train,y_train)"
   ]
  },
  {
   "attachments": {},
   "cell_type": "markdown",
   "metadata": {},
   "source": [
    "* Random Forest: Best Hyperparameters:  {'n_estimators': 1000} Accuracy:  0.9519954893921161\n",
    "* Gradient Boosting: Best Hyperparameters:  {'max_depth': 4, 'n_estimators': 300} Accuracy:  0.9534258268921635"
   ]
  },
  {
   "cell_type": "code",
   "execution_count": 62,
   "metadata": {},
   "outputs": [],
   "source": [
    "rf_pipeline = Pipeline([\n",
    "    ('clf', RandomForestClassifier(n_estimators=1000, n_jobs=-1)),\n",
    "])\n",
    "\n",
    "gb_pipeline = Pipeline([\n",
    "    ('clf', GradientBoostingClassifier(n_estimators=300,max_depth=4)),\n",
    "])\n",
    "\n",
    "xb_pipeline = Pipeline([\n",
    "    ('clf', XGBClassifier()),\n",
    "])\n",
    "\n",
    "voting_clf = VotingClassifier(\n",
    "    estimators=[('rf', rf_pipeline), ('gb', gb_pipeline), ('xb', xb_pipeline)],\n",
    "    voting='soft'\n",
    ")"
   ]
  },
  {
   "cell_type": "code",
   "execution_count": 63,
   "metadata": {},
   "outputs": [
    {
     "data": {
      "text/html": [
       "<style>#sk-container-id-2 {color: black;background-color: white;}#sk-container-id-2 pre{padding: 0;}#sk-container-id-2 div.sk-toggleable {background-color: white;}#sk-container-id-2 label.sk-toggleable__label {cursor: pointer;display: block;width: 100%;margin-bottom: 0;padding: 0.3em;box-sizing: border-box;text-align: center;}#sk-container-id-2 label.sk-toggleable__label-arrow:before {content: \"▸\";float: left;margin-right: 0.25em;color: #696969;}#sk-container-id-2 label.sk-toggleable__label-arrow:hover:before {color: black;}#sk-container-id-2 div.sk-estimator:hover label.sk-toggleable__label-arrow:before {color: black;}#sk-container-id-2 div.sk-toggleable__content {max-height: 0;max-width: 0;overflow: hidden;text-align: left;background-color: #f0f8ff;}#sk-container-id-2 div.sk-toggleable__content pre {margin: 0.2em;color: black;border-radius: 0.25em;background-color: #f0f8ff;}#sk-container-id-2 input.sk-toggleable__control:checked~div.sk-toggleable__content {max-height: 200px;max-width: 100%;overflow: auto;}#sk-container-id-2 input.sk-toggleable__control:checked~label.sk-toggleable__label-arrow:before {content: \"▾\";}#sk-container-id-2 div.sk-estimator input.sk-toggleable__control:checked~label.sk-toggleable__label {background-color: #d4ebff;}#sk-container-id-2 div.sk-label input.sk-toggleable__control:checked~label.sk-toggleable__label {background-color: #d4ebff;}#sk-container-id-2 input.sk-hidden--visually {border: 0;clip: rect(1px 1px 1px 1px);clip: rect(1px, 1px, 1px, 1px);height: 1px;margin: -1px;overflow: hidden;padding: 0;position: absolute;width: 1px;}#sk-container-id-2 div.sk-estimator {font-family: monospace;background-color: #f0f8ff;border: 1px dotted black;border-radius: 0.25em;box-sizing: border-box;margin-bottom: 0.5em;}#sk-container-id-2 div.sk-estimator:hover {background-color: #d4ebff;}#sk-container-id-2 div.sk-parallel-item::after {content: \"\";width: 100%;border-bottom: 1px solid gray;flex-grow: 1;}#sk-container-id-2 div.sk-label:hover label.sk-toggleable__label {background-color: #d4ebff;}#sk-container-id-2 div.sk-serial::before {content: \"\";position: absolute;border-left: 1px solid gray;box-sizing: border-box;top: 0;bottom: 0;left: 50%;z-index: 0;}#sk-container-id-2 div.sk-serial {display: flex;flex-direction: column;align-items: center;background-color: white;padding-right: 0.2em;padding-left: 0.2em;position: relative;}#sk-container-id-2 div.sk-item {position: relative;z-index: 1;}#sk-container-id-2 div.sk-parallel {display: flex;align-items: stretch;justify-content: center;background-color: white;position: relative;}#sk-container-id-2 div.sk-item::before, #sk-container-id-2 div.sk-parallel-item::before {content: \"\";position: absolute;border-left: 1px solid gray;box-sizing: border-box;top: 0;bottom: 0;left: 50%;z-index: -1;}#sk-container-id-2 div.sk-parallel-item {display: flex;flex-direction: column;z-index: 1;position: relative;background-color: white;}#sk-container-id-2 div.sk-parallel-item:first-child::after {align-self: flex-end;width: 50%;}#sk-container-id-2 div.sk-parallel-item:last-child::after {align-self: flex-start;width: 50%;}#sk-container-id-2 div.sk-parallel-item:only-child::after {width: 0;}#sk-container-id-2 div.sk-dashed-wrapped {border: 1px dashed gray;margin: 0 0.4em 0.5em 0.4em;box-sizing: border-box;padding-bottom: 0.4em;background-color: white;}#sk-container-id-2 div.sk-label label {font-family: monospace;font-weight: bold;display: inline-block;line-height: 1.2em;}#sk-container-id-2 div.sk-label-container {text-align: center;}#sk-container-id-2 div.sk-container {/* jupyter's `normalize.less` sets `[hidden] { display: none; }` but bootstrap.min.css set `[hidden] { display: none !important; }` so we also need the `!important` here to be able to override the default hidden behavior on the sphinx rendered scikit-learn.org. See: https://github.com/scikit-learn/scikit-learn/issues/21755 */display: inline-block !important;position: relative;}#sk-container-id-2 div.sk-text-repr-fallback {display: none;}</style><div id=\"sk-container-id-2\" class=\"sk-top-container\"><div class=\"sk-text-repr-fallback\"><pre>VotingClassifier(estimators=[(&#x27;rf&#x27;,\n",
       "                              Pipeline(steps=[(&#x27;clf&#x27;,\n",
       "                                               RandomForestClassifier(n_estimators=1000,\n",
       "                                                                      n_jobs=-1))])),\n",
       "                             (&#x27;gb&#x27;,\n",
       "                              Pipeline(steps=[(&#x27;clf&#x27;,\n",
       "                                               GradientBoostingClassifier(max_depth=4,\n",
       "                                                                          n_estimators=300))])),\n",
       "                             (&#x27;xb&#x27;,\n",
       "                              Pipeline(steps=[(&#x27;clf&#x27;,\n",
       "                                               XGBClassifier(base_score=None,\n",
       "                                                             booster=None,\n",
       "                                                             callbacks=None,\n",
       "                                                             colsample_bylevel=None,\n",
       "                                                             colsample_bynode=None,\n",
       "                                                             colsample_bytr...\n",
       "                                                             grow_policy=None,\n",
       "                                                             importance_type=None,\n",
       "                                                             interaction_constraints=None,\n",
       "                                                             learning_rate=None,\n",
       "                                                             max_bin=None,\n",
       "                                                             max_cat_threshold=None,\n",
       "                                                             max_cat_to_onehot=None,\n",
       "                                                             max_delta_step=None,\n",
       "                                                             max_depth=None,\n",
       "                                                             max_leaves=None,\n",
       "                                                             min_child_weight=None,\n",
       "                                                             missing=nan,\n",
       "                                                             monotone_constraints=None,\n",
       "                                                             n_estimators=100,\n",
       "                                                             n_jobs=None,\n",
       "                                                             num_parallel_tree=None,\n",
       "                                                             predictor=None,\n",
       "                                                             random_state=None, ...))]))],\n",
       "                 voting=&#x27;soft&#x27;)</pre><b>In a Jupyter environment, please rerun this cell to show the HTML representation or trust the notebook. <br />On GitHub, the HTML representation is unable to render, please try loading this page with nbviewer.org.</b></div><div class=\"sk-container\" hidden><div class=\"sk-item sk-dashed-wrapped\"><div class=\"sk-label-container\"><div class=\"sk-label sk-toggleable\"><input class=\"sk-toggleable__control sk-hidden--visually\" id=\"sk-estimator-id-5\" type=\"checkbox\" ><label for=\"sk-estimator-id-5\" class=\"sk-toggleable__label sk-toggleable__label-arrow\">VotingClassifier</label><div class=\"sk-toggleable__content\"><pre>VotingClassifier(estimators=[(&#x27;rf&#x27;,\n",
       "                              Pipeline(steps=[(&#x27;clf&#x27;,\n",
       "                                               RandomForestClassifier(n_estimators=1000,\n",
       "                                                                      n_jobs=-1))])),\n",
       "                             (&#x27;gb&#x27;,\n",
       "                              Pipeline(steps=[(&#x27;clf&#x27;,\n",
       "                                               GradientBoostingClassifier(max_depth=4,\n",
       "                                                                          n_estimators=300))])),\n",
       "                             (&#x27;xb&#x27;,\n",
       "                              Pipeline(steps=[(&#x27;clf&#x27;,\n",
       "                                               XGBClassifier(base_score=None,\n",
       "                                                             booster=None,\n",
       "                                                             callbacks=None,\n",
       "                                                             colsample_bylevel=None,\n",
       "                                                             colsample_bynode=None,\n",
       "                                                             colsample_bytr...\n",
       "                                                             grow_policy=None,\n",
       "                                                             importance_type=None,\n",
       "                                                             interaction_constraints=None,\n",
       "                                                             learning_rate=None,\n",
       "                                                             max_bin=None,\n",
       "                                                             max_cat_threshold=None,\n",
       "                                                             max_cat_to_onehot=None,\n",
       "                                                             max_delta_step=None,\n",
       "                                                             max_depth=None,\n",
       "                                                             max_leaves=None,\n",
       "                                                             min_child_weight=None,\n",
       "                                                             missing=nan,\n",
       "                                                             monotone_constraints=None,\n",
       "                                                             n_estimators=100,\n",
       "                                                             n_jobs=None,\n",
       "                                                             num_parallel_tree=None,\n",
       "                                                             predictor=None,\n",
       "                                                             random_state=None, ...))]))],\n",
       "                 voting=&#x27;soft&#x27;)</pre></div></div></div><div class=\"sk-parallel\"><div class=\"sk-parallel-item\"><div class=\"sk-item\"><div class=\"sk-label-container\"><div class=\"sk-label sk-toggleable\"><label>rf</label></div></div><div class=\"sk-serial\"><div class=\"sk-item\"><div class=\"sk-serial\"><div class=\"sk-item\"><div class=\"sk-estimator sk-toggleable\"><input class=\"sk-toggleable__control sk-hidden--visually\" id=\"sk-estimator-id-6\" type=\"checkbox\" ><label for=\"sk-estimator-id-6\" class=\"sk-toggleable__label sk-toggleable__label-arrow\">RandomForestClassifier</label><div class=\"sk-toggleable__content\"><pre>RandomForestClassifier(n_estimators=1000, n_jobs=-1)</pre></div></div></div></div></div></div></div></div><div class=\"sk-parallel-item\"><div class=\"sk-item\"><div class=\"sk-label-container\"><div class=\"sk-label sk-toggleable\"><label>gb</label></div></div><div class=\"sk-serial\"><div class=\"sk-item\"><div class=\"sk-serial\"><div class=\"sk-item\"><div class=\"sk-estimator sk-toggleable\"><input class=\"sk-toggleable__control sk-hidden--visually\" id=\"sk-estimator-id-7\" type=\"checkbox\" ><label for=\"sk-estimator-id-7\" class=\"sk-toggleable__label sk-toggleable__label-arrow\">GradientBoostingClassifier</label><div class=\"sk-toggleable__content\"><pre>GradientBoostingClassifier(max_depth=4, n_estimators=300)</pre></div></div></div></div></div></div></div></div><div class=\"sk-parallel-item\"><div class=\"sk-item\"><div class=\"sk-label-container\"><div class=\"sk-label sk-toggleable\"><label>xb</label></div></div><div class=\"sk-serial\"><div class=\"sk-item\"><div class=\"sk-serial\"><div class=\"sk-item\"><div class=\"sk-estimator sk-toggleable\"><input class=\"sk-toggleable__control sk-hidden--visually\" id=\"sk-estimator-id-8\" type=\"checkbox\" ><label for=\"sk-estimator-id-8\" class=\"sk-toggleable__label sk-toggleable__label-arrow\">XGBClassifier</label><div class=\"sk-toggleable__content\"><pre>XGBClassifier(base_score=None, booster=None, callbacks=None,\n",
       "              colsample_bylevel=None, colsample_bynode=None,\n",
       "              colsample_bytree=None, early_stopping_rounds=None,\n",
       "              enable_categorical=False, eval_metric=None, feature_types=None,\n",
       "              gamma=None, gpu_id=None, grow_policy=None, importance_type=None,\n",
       "              interaction_constraints=None, learning_rate=None, max_bin=None,\n",
       "              max_cat_threshold=None, max_cat_to_onehot=None,\n",
       "              max_delta_step=None, max_depth=None, max_leaves=None,\n",
       "              min_child_weight=None, missing=nan, monotone_constraints=None,\n",
       "              n_estimators=100, n_jobs=None, num_parallel_tree=None,\n",
       "              predictor=None, random_state=None, ...)</pre></div></div></div></div></div></div></div></div></div></div></div></div>"
      ],
      "text/plain": [
       "VotingClassifier(estimators=[('rf',\n",
       "                              Pipeline(steps=[('clf',\n",
       "                                               RandomForestClassifier(n_estimators=1000,\n",
       "                                                                      n_jobs=-1))])),\n",
       "                             ('gb',\n",
       "                              Pipeline(steps=[('clf',\n",
       "                                               GradientBoostingClassifier(max_depth=4,\n",
       "                                                                          n_estimators=300))])),\n",
       "                             ('xb',\n",
       "                              Pipeline(steps=[('clf',\n",
       "                                               XGBClassifier(base_score=None,\n",
       "                                                             booster=None,\n",
       "                                                             callbacks=None,\n",
       "                                                             colsample_bylevel=None,\n",
       "                                                             colsample_bynode=None,\n",
       "                                                             colsample_bytr...\n",
       "                                                             grow_policy=None,\n",
       "                                                             importance_type=None,\n",
       "                                                             interaction_constraints=None,\n",
       "                                                             learning_rate=None,\n",
       "                                                             max_bin=None,\n",
       "                                                             max_cat_threshold=None,\n",
       "                                                             max_cat_to_onehot=None,\n",
       "                                                             max_delta_step=None,\n",
       "                                                             max_depth=None,\n",
       "                                                             max_leaves=None,\n",
       "                                                             min_child_weight=None,\n",
       "                                                             missing=nan,\n",
       "                                                             monotone_constraints=None,\n",
       "                                                             n_estimators=100,\n",
       "                                                             n_jobs=None,\n",
       "                                                             num_parallel_tree=None,\n",
       "                                                             predictor=None,\n",
       "                                                             random_state=None, ...))]))],\n",
       "                 voting='soft')"
      ]
     },
     "execution_count": 63,
     "metadata": {},
     "output_type": "execute_result"
    }
   ],
   "source": [
    "voting_clf.fit(X_train, y_train)"
   ]
  },
  {
   "cell_type": "code",
   "execution_count": 64,
   "metadata": {},
   "outputs": [],
   "source": [
    "y_pred = voting_clf.predict(X_train)"
   ]
  },
  {
   "cell_type": "code",
   "execution_count": 65,
   "metadata": {},
   "outputs": [
    {
     "name": "stdout",
     "output_type": "stream",
     "text": [
      "              precision    recall  f1-score   support\n",
      "\n",
      "           0     1.0000    1.0000    1.0000      5299\n",
      "           1     1.0000    1.0000    1.0000       992\n",
      "\n",
      "    accuracy                         1.0000      6291\n",
      "   macro avg     1.0000    1.0000    1.0000      6291\n",
      "weighted avg     1.0000    1.0000    1.0000      6291\n",
      "\n"
     ]
    }
   ],
   "source": [
    "print(classification_report(y_train, y_pred, digits=4))"
   ]
  },
  {
   "cell_type": "code",
   "execution_count": 66,
   "metadata": {},
   "outputs": [],
   "source": [
    "y_pred = voting_clf.predict(X_test)"
   ]
  },
  {
   "cell_type": "code",
   "execution_count": 67,
   "metadata": {},
   "outputs": [
    {
     "name": "stdout",
     "output_type": "stream",
     "text": [
      "(3542, 1) (3542, 13)\n"
     ]
    }
   ],
   "source": [
    "df_pred = pd.DataFrame(y_pred)\n",
    "print(df_pred.shape, X_test.shape)"
   ]
  },
  {
   "cell_type": "code",
   "execution_count": 68,
   "metadata": {},
   "outputs": [
    {
     "data": {
      "text/html": [
       "<div>\n",
       "<style scoped>\n",
       "    .dataframe tbody tr th:only-of-type {\n",
       "        vertical-align: middle;\n",
       "    }\n",
       "\n",
       "    .dataframe tbody tr th {\n",
       "        vertical-align: top;\n",
       "    }\n",
       "\n",
       "    .dataframe thead th {\n",
       "        text-align: right;\n",
       "    }\n",
       "</style>\n",
       "<table border=\"1\" class=\"dataframe\">\n",
       "  <thead>\n",
       "    <tr style=\"text-align: right;\">\n",
       "      <th></th>\n",
       "      <th>Customer</th>\n",
       "      <th>Churn</th>\n",
       "    </tr>\n",
       "  </thead>\n",
       "  <tbody>\n",
       "    <tr>\n",
       "      <th>0</th>\n",
       "      <td>774663629</td>\n",
       "      <td>No</td>\n",
       "    </tr>\n",
       "    <tr>\n",
       "      <th>1</th>\n",
       "      <td>720420396</td>\n",
       "      <td>No</td>\n",
       "    </tr>\n",
       "    <tr>\n",
       "      <th>2</th>\n",
       "      <td>815283379</td>\n",
       "      <td>No</td>\n",
       "    </tr>\n",
       "    <tr>\n",
       "      <th>3</th>\n",
       "      <td>764861610</td>\n",
       "      <td>No</td>\n",
       "    </tr>\n",
       "    <tr>\n",
       "      <th>4</th>\n",
       "      <td>742798818</td>\n",
       "      <td>No</td>\n",
       "    </tr>\n",
       "  </tbody>\n",
       "</table>\n",
       "</div>"
      ],
      "text/plain": [
       "    Customer Churn\n",
       "0  774663629    No\n",
       "1  720420396    No\n",
       "2  815283379    No\n",
       "3  764861610    No\n",
       "4  742798818    No"
      ]
     },
     "execution_count": 68,
     "metadata": {},
     "output_type": "execute_result"
    }
   ],
   "source": [
    "df = df_test.copy()\n",
    "df[target] = df_pred[0]\n",
    "df = df[[\"Customer\",target]].replace({0:\"No\",1:\"Yes\"})\n",
    "df.head()"
   ]
  },
  {
   "cell_type": "code",
   "execution_count": 69,
   "metadata": {},
   "outputs": [
    {
     "data": {
      "text/plain": [
       "No     0.851496\n",
       "Yes    0.148504\n",
       "Name: Churn, dtype: float64"
      ]
     },
     "execution_count": 69,
     "metadata": {},
     "output_type": "execute_result"
    }
   ],
   "source": [
    "df[target].value_counts(normalize=True)"
   ]
  },
  {
   "cell_type": "code",
   "execution_count": 70,
   "metadata": {},
   "outputs": [],
   "source": [
    "# df.to_csv(f\"{ROOT}/output/submission9.csv\", index=False) # SCORE 0.948"
   ]
  },
  {
   "cell_type": "code",
   "execution_count": 71,
   "metadata": {},
   "outputs": [],
   "source": [
    "# df.to_csv(f\"{ROOT}/output/submission18.csv\", index=False) # SCORE 0.95"
   ]
  }
 ],
 "metadata": {
  "kernelspec": {
   "display_name": "Python 3",
   "language": "python",
   "name": "python3"
  },
  "language_info": {
   "codemirror_mode": {
    "name": "ipython",
    "version": 3
   },
   "file_extension": ".py",
   "mimetype": "text/x-python",
   "name": "python",
   "nbconvert_exporter": "python",
   "pygments_lexer": "ipython3",
   "version": "3.10.6"
  },
  "orig_nbformat": 4
 },
 "nbformat": 4,
 "nbformat_minor": 2
}
