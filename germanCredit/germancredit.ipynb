{
  "cells": [
    {
      "attachments": {},
      "cell_type": "markdown",
      "metadata": {
        "id": "4VucvUh-uAYB"
      },
      "source": [
        "## German Credit - Import"
      ]
    },
    {
      "attachments": {},
      "cell_type": "markdown",
      "metadata": {
        "id": "rNvyUUSlvYso"
      },
      "source": [
        "## Setup"
      ]
    },
    {
      "cell_type": "code",
      "execution_count": 115,
      "metadata": {
        "id": "FU0QlGVJvNGP"
      },
      "outputs": [],
      "source": [
        "import numpy as np\n",
        "import pandas as pd\n",
        "import matplotlib.pyplot as plt\n",
        "import seaborn as sns\n",
        "from scipy import stats\n",
        "import yaml\n",
        "\n",
        "pd.set_option('display.max_columns', None)\n",
        "pd.set_option('display.width', 1000)\n",
        "pd.set_option('display.max_rows', None)\n",
        "\n",
        "sns.set_style(\"darkgrid\")\n",
        "\n",
        "from IPython.display import display, Markdown\n",
        "from pprint import pprint \n",
        "\n",
        "DEBUG = True\n"
      ]
    },
    {
      "attachments": {},
      "cell_type": "markdown",
      "metadata": {
        "id": "qrof-RIO0gFI"
      },
      "source": [
        "## Dataset"
      ]
    },
    {
      "cell_type": "code",
      "execution_count": 116,
      "metadata": {
        "colab": {
          "base_uri": "https://localhost:8080/"
        },
        "id": "LdC5YU7jvbWS",
        "outputId": "b7d51085-c8ac-45c3-c577-e2b4d8eed190"
      },
      "outputs": [
        {
          "name": "stdout",
          "output_type": "stream",
          "text": [
            "Using local copy of german.data\n",
            "Using local copy of german.data\n",
            "Using local copy of german.doc\n",
            "Using local copy of german.data-numeric\n"
          ]
        }
      ],
      "source": [
        "import os\n",
        "\n",
        "for d in ['orig','data','output']:\n",
        "    if not os.path.isdir(d): os.makedirs(d, mode=0o777, exist_ok=True)\n",
        "\n",
        "for filename in [\"german.data\", \"german.data\", \"german.doc\", \"german.data-numeric\"]:\n",
        "    source = f\"https://archive.ics.uci.edu/ml/machine-learning-databases/statlog/german/{filename}\"\n",
        "    target = f\"orig/{filename}\"\n",
        "    if not os.path.isfile(target):\n",
        "        print (f\"Downloading remote file {filename}\", sep=\"\")\n",
        "        import urllib.request\n",
        "        urllib.request.urlretrieve(source, target)\n",
        "    else:\n",
        "        print(f\"Using local copy of {filename}\")\n"
      ]
    },
    {
      "cell_type": "code",
      "execution_count": 117,
      "metadata": {
        "colab": {
          "base_uri": "https://localhost:8080/",
          "height": 224
        },
        "id": "JTOGzKyhvjZ-",
        "outputId": "7114b40b-633d-4e9a-dfc0-57422095a099"
      },
      "outputs": [
        {
          "name": "stdout",
          "output_type": "stream",
          "text": [
            "(1000, 21)\n"
          ]
        },
        {
          "data": {
            "text/html": [
              "<div>\n",
              "<style scoped>\n",
              "    .dataframe tbody tr th:only-of-type {\n",
              "        vertical-align: middle;\n",
              "    }\n",
              "\n",
              "    .dataframe tbody tr th {\n",
              "        vertical-align: top;\n",
              "    }\n",
              "\n",
              "    .dataframe thead th {\n",
              "        text-align: right;\n",
              "    }\n",
              "</style>\n",
              "<table border=\"1\" class=\"dataframe\">\n",
              "  <thead>\n",
              "    <tr style=\"text-align: right;\">\n",
              "      <th></th>\n",
              "      <th>0</th>\n",
              "      <th>1</th>\n",
              "      <th>2</th>\n",
              "      <th>3</th>\n",
              "      <th>4</th>\n",
              "      <th>5</th>\n",
              "      <th>6</th>\n",
              "      <th>7</th>\n",
              "      <th>8</th>\n",
              "      <th>9</th>\n",
              "      <th>10</th>\n",
              "      <th>11</th>\n",
              "      <th>12</th>\n",
              "      <th>13</th>\n",
              "      <th>14</th>\n",
              "      <th>15</th>\n",
              "      <th>16</th>\n",
              "      <th>17</th>\n",
              "      <th>18</th>\n",
              "      <th>19</th>\n",
              "      <th>20</th>\n",
              "    </tr>\n",
              "  </thead>\n",
              "  <tbody>\n",
              "    <tr>\n",
              "      <th>0</th>\n",
              "      <td>A11</td>\n",
              "      <td>6</td>\n",
              "      <td>A34</td>\n",
              "      <td>A43</td>\n",
              "      <td>1169</td>\n",
              "      <td>A65</td>\n",
              "      <td>A75</td>\n",
              "      <td>4</td>\n",
              "      <td>A93</td>\n",
              "      <td>A101</td>\n",
              "      <td>4</td>\n",
              "      <td>A121</td>\n",
              "      <td>67</td>\n",
              "      <td>A143</td>\n",
              "      <td>A152</td>\n",
              "      <td>2</td>\n",
              "      <td>A173</td>\n",
              "      <td>1</td>\n",
              "      <td>A192</td>\n",
              "      <td>A201</td>\n",
              "      <td>1</td>\n",
              "    </tr>\n",
              "    <tr>\n",
              "      <th>1</th>\n",
              "      <td>A12</td>\n",
              "      <td>48</td>\n",
              "      <td>A32</td>\n",
              "      <td>A43</td>\n",
              "      <td>5951</td>\n",
              "      <td>A61</td>\n",
              "      <td>A73</td>\n",
              "      <td>2</td>\n",
              "      <td>A92</td>\n",
              "      <td>A101</td>\n",
              "      <td>2</td>\n",
              "      <td>A121</td>\n",
              "      <td>22</td>\n",
              "      <td>A143</td>\n",
              "      <td>A152</td>\n",
              "      <td>1</td>\n",
              "      <td>A173</td>\n",
              "      <td>1</td>\n",
              "      <td>A191</td>\n",
              "      <td>A201</td>\n",
              "      <td>2</td>\n",
              "    </tr>\n",
              "    <tr>\n",
              "      <th>2</th>\n",
              "      <td>A14</td>\n",
              "      <td>12</td>\n",
              "      <td>A34</td>\n",
              "      <td>A46</td>\n",
              "      <td>2096</td>\n",
              "      <td>A61</td>\n",
              "      <td>A74</td>\n",
              "      <td>2</td>\n",
              "      <td>A93</td>\n",
              "      <td>A101</td>\n",
              "      <td>3</td>\n",
              "      <td>A121</td>\n",
              "      <td>49</td>\n",
              "      <td>A143</td>\n",
              "      <td>A152</td>\n",
              "      <td>1</td>\n",
              "      <td>A172</td>\n",
              "      <td>2</td>\n",
              "      <td>A191</td>\n",
              "      <td>A201</td>\n",
              "      <td>1</td>\n",
              "    </tr>\n",
              "    <tr>\n",
              "      <th>3</th>\n",
              "      <td>A11</td>\n",
              "      <td>42</td>\n",
              "      <td>A32</td>\n",
              "      <td>A42</td>\n",
              "      <td>7882</td>\n",
              "      <td>A61</td>\n",
              "      <td>A74</td>\n",
              "      <td>2</td>\n",
              "      <td>A93</td>\n",
              "      <td>A103</td>\n",
              "      <td>4</td>\n",
              "      <td>A122</td>\n",
              "      <td>45</td>\n",
              "      <td>A143</td>\n",
              "      <td>A153</td>\n",
              "      <td>1</td>\n",
              "      <td>A173</td>\n",
              "      <td>2</td>\n",
              "      <td>A191</td>\n",
              "      <td>A201</td>\n",
              "      <td>1</td>\n",
              "    </tr>\n",
              "    <tr>\n",
              "      <th>4</th>\n",
              "      <td>A11</td>\n",
              "      <td>24</td>\n",
              "      <td>A33</td>\n",
              "      <td>A40</td>\n",
              "      <td>4870</td>\n",
              "      <td>A61</td>\n",
              "      <td>A73</td>\n",
              "      <td>3</td>\n",
              "      <td>A93</td>\n",
              "      <td>A101</td>\n",
              "      <td>4</td>\n",
              "      <td>A124</td>\n",
              "      <td>53</td>\n",
              "      <td>A143</td>\n",
              "      <td>A153</td>\n",
              "      <td>2</td>\n",
              "      <td>A173</td>\n",
              "      <td>2</td>\n",
              "      <td>A191</td>\n",
              "      <td>A201</td>\n",
              "      <td>2</td>\n",
              "    </tr>\n",
              "  </tbody>\n",
              "</table>\n",
              "</div>"
            ],
            "text/plain": [
              "    0   1    2    3     4    5    6   7    8     9   10    11  12    13    14  15    16  17    18    19  20\n",
              "0  A11   6  A34  A43  1169  A65  A75   4  A93  A101   4  A121  67  A143  A152   2  A173   1  A192  A201   1\n",
              "1  A12  48  A32  A43  5951  A61  A73   2  A92  A101   2  A121  22  A143  A152   1  A173   1  A191  A201   2\n",
              "2  A14  12  A34  A46  2096  A61  A74   2  A93  A101   3  A121  49  A143  A152   1  A172   2  A191  A201   1\n",
              "3  A11  42  A32  A42  7882  A61  A74   2  A93  A103   4  A122  45  A143  A153   1  A173   2  A191  A201   1\n",
              "4  A11  24  A33  A40  4870  A61  A73   3  A93  A101   4  A124  53  A143  A153   2  A173   2  A191  A201   2"
            ]
          },
          "execution_count": 117,
          "metadata": {},
          "output_type": "execute_result"
        }
      ],
      "source": [
        "df = pd.read_csv(\"orig/german.data\", sep =\" \", header=None)\n",
        "print(df.shape)\n",
        "df.head(5)\n"
      ]
    },
    {
      "cell_type": "code",
      "execution_count": 118,
      "metadata": {
        "id": "QHnDF-Mz05uG"
      },
      "outputs": [],
      "source": [
        "df.columns = [\"Account_Balance\", \"Loan_Duration\", \"Credit_History\", \n",
        "    \"Loan_Purpose\", \"Loan_Amount\", \"Savings\", \"Years_Employed\", \n",
        "    \"Installment_Rate\", \"Gender_and_Status\", \"Other_Debtors_Guarantors\",\n",
        "    \"Year_of_Residence\", \"Property\", \"Age\", \"Installment_Plans\", \"Housing\", \"Existing_Credits\", \"Job\", \"Dependents\", \n",
        "    \"Telephone\", \"Foreign\", \n",
        "    \"Credit_Rating\"]\n"
      ]
    },
    {
      "cell_type": "code",
      "execution_count": 119,
      "metadata": {
        "id": "9aiUssA61dwi"
      },
      "outputs": [
        {
          "data": {
            "text/html": [
              "<div>\n",
              "<style scoped>\n",
              "    .dataframe tbody tr th:only-of-type {\n",
              "        vertical-align: middle;\n",
              "    }\n",
              "\n",
              "    .dataframe tbody tr th {\n",
              "        vertical-align: top;\n",
              "    }\n",
              "\n",
              "    .dataframe thead th {\n",
              "        text-align: right;\n",
              "    }\n",
              "</style>\n",
              "<table border=\"1\" class=\"dataframe\">\n",
              "  <thead>\n",
              "    <tr style=\"text-align: right;\">\n",
              "      <th></th>\n",
              "      <th>Account_Balance</th>\n",
              "      <th>Loan_Duration</th>\n",
              "      <th>Credit_History</th>\n",
              "      <th>Loan_Purpose</th>\n",
              "      <th>Loan_Amount</th>\n",
              "      <th>Savings</th>\n",
              "      <th>Years_Employed</th>\n",
              "      <th>Installment_Rate</th>\n",
              "      <th>Gender_and_Status</th>\n",
              "      <th>Other_Debtors_Guarantors</th>\n",
              "      <th>Year_of_Residence</th>\n",
              "      <th>Property</th>\n",
              "      <th>Age</th>\n",
              "      <th>Installment_Plans</th>\n",
              "      <th>Housing</th>\n",
              "      <th>Existing_Credits</th>\n",
              "      <th>Job</th>\n",
              "      <th>Dependents</th>\n",
              "      <th>Telephone</th>\n",
              "      <th>Foreign</th>\n",
              "      <th>Credit_Rating</th>\n",
              "    </tr>\n",
              "  </thead>\n",
              "  <tbody>\n",
              "    <tr>\n",
              "      <th>0</th>\n",
              "      <td>A11</td>\n",
              "      <td>6</td>\n",
              "      <td>A34</td>\n",
              "      <td>A43</td>\n",
              "      <td>1169</td>\n",
              "      <td>A65</td>\n",
              "      <td>A75</td>\n",
              "      <td>4</td>\n",
              "      <td>A93</td>\n",
              "      <td>A101</td>\n",
              "      <td>4</td>\n",
              "      <td>A121</td>\n",
              "      <td>67</td>\n",
              "      <td>A143</td>\n",
              "      <td>A152</td>\n",
              "      <td>2</td>\n",
              "      <td>A173</td>\n",
              "      <td>1</td>\n",
              "      <td>A192</td>\n",
              "      <td>A201</td>\n",
              "      <td>1</td>\n",
              "    </tr>\n",
              "    <tr>\n",
              "      <th>1</th>\n",
              "      <td>A12</td>\n",
              "      <td>48</td>\n",
              "      <td>A32</td>\n",
              "      <td>A43</td>\n",
              "      <td>5951</td>\n",
              "      <td>A61</td>\n",
              "      <td>A73</td>\n",
              "      <td>2</td>\n",
              "      <td>A92</td>\n",
              "      <td>A101</td>\n",
              "      <td>2</td>\n",
              "      <td>A121</td>\n",
              "      <td>22</td>\n",
              "      <td>A143</td>\n",
              "      <td>A152</td>\n",
              "      <td>1</td>\n",
              "      <td>A173</td>\n",
              "      <td>1</td>\n",
              "      <td>A191</td>\n",
              "      <td>A201</td>\n",
              "      <td>2</td>\n",
              "    </tr>\n",
              "    <tr>\n",
              "      <th>2</th>\n",
              "      <td>A14</td>\n",
              "      <td>12</td>\n",
              "      <td>A34</td>\n",
              "      <td>A46</td>\n",
              "      <td>2096</td>\n",
              "      <td>A61</td>\n",
              "      <td>A74</td>\n",
              "      <td>2</td>\n",
              "      <td>A93</td>\n",
              "      <td>A101</td>\n",
              "      <td>3</td>\n",
              "      <td>A121</td>\n",
              "      <td>49</td>\n",
              "      <td>A143</td>\n",
              "      <td>A152</td>\n",
              "      <td>1</td>\n",
              "      <td>A172</td>\n",
              "      <td>2</td>\n",
              "      <td>A191</td>\n",
              "      <td>A201</td>\n",
              "      <td>1</td>\n",
              "    </tr>\n",
              "    <tr>\n",
              "      <th>3</th>\n",
              "      <td>A11</td>\n",
              "      <td>42</td>\n",
              "      <td>A32</td>\n",
              "      <td>A42</td>\n",
              "      <td>7882</td>\n",
              "      <td>A61</td>\n",
              "      <td>A74</td>\n",
              "      <td>2</td>\n",
              "      <td>A93</td>\n",
              "      <td>A103</td>\n",
              "      <td>4</td>\n",
              "      <td>A122</td>\n",
              "      <td>45</td>\n",
              "      <td>A143</td>\n",
              "      <td>A153</td>\n",
              "      <td>1</td>\n",
              "      <td>A173</td>\n",
              "      <td>2</td>\n",
              "      <td>A191</td>\n",
              "      <td>A201</td>\n",
              "      <td>1</td>\n",
              "    </tr>\n",
              "    <tr>\n",
              "      <th>4</th>\n",
              "      <td>A11</td>\n",
              "      <td>24</td>\n",
              "      <td>A33</td>\n",
              "      <td>A40</td>\n",
              "      <td>4870</td>\n",
              "      <td>A61</td>\n",
              "      <td>A73</td>\n",
              "      <td>3</td>\n",
              "      <td>A93</td>\n",
              "      <td>A101</td>\n",
              "      <td>4</td>\n",
              "      <td>A124</td>\n",
              "      <td>53</td>\n",
              "      <td>A143</td>\n",
              "      <td>A153</td>\n",
              "      <td>2</td>\n",
              "      <td>A173</td>\n",
              "      <td>2</td>\n",
              "      <td>A191</td>\n",
              "      <td>A201</td>\n",
              "      <td>2</td>\n",
              "    </tr>\n",
              "  </tbody>\n",
              "</table>\n",
              "</div>"
            ],
            "text/plain": [
              "  Account_Balance  Loan_Duration Credit_History Loan_Purpose  Loan_Amount Savings Years_Employed  Installment_Rate Gender_and_Status Other_Debtors_Guarantors  Year_of_Residence Property  Age Installment_Plans Housing  Existing_Credits   Job  Dependents Telephone Foreign  Credit_Rating\n",
              "0             A11              6            A34          A43         1169     A65            A75                 4               A93                     A101                  4     A121   67              A143    A152                 2  A173           1      A192    A201              1\n",
              "1             A12             48            A32          A43         5951     A61            A73                 2               A92                     A101                  2     A121   22              A143    A152                 1  A173           1      A191    A201              2\n",
              "2             A14             12            A34          A46         2096     A61            A74                 2               A93                     A101                  3     A121   49              A143    A152                 1  A172           2      A191    A201              1\n",
              "3             A11             42            A32          A42         7882     A61            A74                 2               A93                     A103                  4     A122   45              A143    A153                 1  A173           2      A191    A201              1\n",
              "4             A11             24            A33          A40         4870     A61            A73                 3               A93                     A101                  4     A124   53              A143    A153                 2  A173           2      A191    A201              2"
            ]
          },
          "execution_count": 119,
          "metadata": {},
          "output_type": "execute_result"
        }
      ],
      "source": [
        "df_labeled = df.copy()\n",
        "df_labeled.head(5)"
      ]
    },
    {
      "cell_type": "code",
      "execution_count": 120,
      "metadata": {},
      "outputs": [
        {
          "data": {
            "text/plain": [
              "['Description of the German credit dataset.',\n",
              " '',\n",
              " '1. Title: German Credit data',\n",
              " '']"
            ]
          },
          "execution_count": 120,
          "metadata": {},
          "output_type": "execute_result"
        }
      ],
      "source": [
        "# Read the document and strip each line\n",
        "lines = [line.strip() for line in open(\"orig/german.doc\").readlines()]\n",
        "lines[:4]"
      ]
    },
    {
      "cell_type": "code",
      "execution_count": 121,
      "metadata": {},
      "outputs": [
        {
          "data": {
            "text/plain": [
              "False"
            ]
          },
          "execution_count": 121,
          "metadata": {},
          "output_type": "execute_result"
        }
      ],
      "source": [
        "#Define function to test for code line\n",
        "is_code_line = lambda line: len(line)>2 and line[0]==\"A\" and line[1].isdigit()\n",
        "is_code_line(\"Ab112\")"
      ]
    },
    {
      "cell_type": "code",
      "execution_count": 122,
      "metadata": {},
      "outputs": [
        {
          "data": {
            "text/plain": [
              "['A11 :      ... <    0 DM',\n",
              " 'A12 : 0 <= ... <  200 DM',\n",
              " 'A13 :      ... >= 200 DM /',\n",
              " 'A14 : no checking account',\n",
              " 'A30 : no credits taken/']"
            ]
          },
          "execution_count": 122,
          "metadata": {},
          "output_type": "execute_result"
        }
      ],
      "source": [
        "#Filter out non-code lines\n",
        "code_lines = [line for line in lines if is_code_line(line)]\n",
        "code_lines[:5]"
      ]
    },
    {
      "cell_type": "code",
      "execution_count": 123,
      "metadata": {},
      "outputs": [
        {
          "data": {
            "text/plain": [
              "'A14 : no checking account'"
            ]
          },
          "execution_count": 123,
          "metadata": {},
          "output_type": "execute_result"
        }
      ],
      "source": [
        "#Define function to clean a code line\n",
        "import re\n",
        "\n",
        "total_strip = lambda s: re.sub('[ ]+', ' ', s.strip())\n",
        "total_strip('   A14    :     no checking account   ')"
      ]
    },
    {
      "cell_type": "code",
      "execution_count": 124,
      "metadata": {},
      "outputs": [
        {
          "data": {
            "text/plain": [
              "'0 <= ... < 200 DM'"
            ]
          },
          "execution_count": 124,
          "metadata": {},
          "output_type": "execute_result"
        }
      ],
      "source": [
        "#Build mapping to convert code to description\n",
        "mapping = { \n",
        "    total_strip(code): total_strip(text)\n",
        "  for code, text in [line.split(\":\",1) for line in code_lines]\n",
        "} \n",
        "mapping['A12']"
      ]
    },
    {
      "cell_type": "code",
      "execution_count": 125,
      "metadata": {},
      "outputs": [],
      "source": [
        "#Want to insert code into description\n",
        "mapping = {k:f\"({k}) {v}\" for k,v in mapping.items()}"
      ]
    },
    {
      "cell_type": "code",
      "execution_count": 126,
      "metadata": {},
      "outputs": [
        {
          "data": {
            "text/plain": [
              "Index(['Account_Balance', 'Credit_History', 'Loan_Purpose', 'Savings', 'Years_Employed', 'Gender_and_Status', 'Other_Debtors_Guarantors', 'Property', 'Installment_Plans', 'Housing', 'Job', 'Telephone', 'Foreign'], dtype='object')"
            ]
          },
          "execution_count": 126,
          "metadata": {},
          "output_type": "execute_result"
        }
      ],
      "source": [
        "#Get all columns that contain codes\n",
        "code_columns = df.select_dtypes('object').columns\n",
        "code_columns"
      ]
    },
    {
      "cell_type": "code",
      "execution_count": 179,
      "metadata": {},
      "outputs": [
        {
          "data": {
            "text/html": [
              "<div>\n",
              "<style scoped>\n",
              "    .dataframe tbody tr th:only-of-type {\n",
              "        vertical-align: middle;\n",
              "    }\n",
              "\n",
              "    .dataframe tbody tr th {\n",
              "        vertical-align: top;\n",
              "    }\n",
              "\n",
              "    .dataframe thead th {\n",
              "        text-align: right;\n",
              "    }\n",
              "</style>\n",
              "<table border=\"1\" class=\"dataframe\">\n",
              "  <thead>\n",
              "    <tr style=\"text-align: right;\">\n",
              "      <th></th>\n",
              "      <th>Account_Balance</th>\n",
              "      <th>Loan_Duration</th>\n",
              "      <th>Credit_History</th>\n",
              "      <th>Loan_Purpose</th>\n",
              "      <th>Loan_Amount</th>\n",
              "      <th>Savings</th>\n",
              "      <th>Years_Employed</th>\n",
              "      <th>Installment_Rate</th>\n",
              "      <th>Gender_and_Status</th>\n",
              "      <th>Other_Debtors_Guarantors</th>\n",
              "      <th>Year_of_Residence</th>\n",
              "      <th>Property</th>\n",
              "      <th>Age</th>\n",
              "      <th>Installment_Plans</th>\n",
              "      <th>Housing</th>\n",
              "      <th>Existing_Credits</th>\n",
              "      <th>Job</th>\n",
              "      <th>Dependents</th>\n",
              "      <th>Telephone</th>\n",
              "      <th>Foreign</th>\n",
              "      <th>Credit_Rating</th>\n",
              "    </tr>\n",
              "  </thead>\n",
              "  <tbody>\n",
              "    <tr>\n",
              "      <th>0</th>\n",
              "      <td>(A11) ... &lt; 0 DM</td>\n",
              "      <td>6</td>\n",
              "      <td>(A34) critical account/</td>\n",
              "      <td>(A43) radio/television</td>\n",
              "      <td>1169</td>\n",
              "      <td>(A65) unknown/ no savings account</td>\n",
              "      <td>(A75) .. &gt;= 7 years</td>\n",
              "      <td>4</td>\n",
              "      <td>(A93) male : single</td>\n",
              "      <td>(A101) none</td>\n",
              "      <td>4</td>\n",
              "      <td>(A121) real estate</td>\n",
              "      <td>67</td>\n",
              "      <td>(A143) none</td>\n",
              "      <td>(A152) own</td>\n",
              "      <td>2</td>\n",
              "      <td>(A173) skilled employee / official</td>\n",
              "      <td>1</td>\n",
              "      <td>(A192) yes, registered under the customers name</td>\n",
              "      <td>(A201) yes</td>\n",
              "      <td>1</td>\n",
              "    </tr>\n",
              "    <tr>\n",
              "      <th>1</th>\n",
              "      <td>(A12) 0 &lt;= ... &lt; 200 DM</td>\n",
              "      <td>48</td>\n",
              "      <td>(A32) existing credits paid back duly till now</td>\n",
              "      <td>(A43) radio/television</td>\n",
              "      <td>5951</td>\n",
              "      <td>(A61) ... &lt; 100 DM</td>\n",
              "      <td>(A73) 1 &lt;= ... &lt; 4 years</td>\n",
              "      <td>2</td>\n",
              "      <td>(A92) female : divorced/separated/married</td>\n",
              "      <td>(A101) none</td>\n",
              "      <td>2</td>\n",
              "      <td>(A121) real estate</td>\n",
              "      <td>22</td>\n",
              "      <td>(A143) none</td>\n",
              "      <td>(A152) own</td>\n",
              "      <td>1</td>\n",
              "      <td>(A173) skilled employee / official</td>\n",
              "      <td>1</td>\n",
              "      <td>(A191) none</td>\n",
              "      <td>(A201) yes</td>\n",
              "      <td>2</td>\n",
              "    </tr>\n",
              "    <tr>\n",
              "      <th>2</th>\n",
              "      <td>(A14) no checking account</td>\n",
              "      <td>12</td>\n",
              "      <td>(A34) critical account/</td>\n",
              "      <td>(A46) education</td>\n",
              "      <td>2096</td>\n",
              "      <td>(A61) ... &lt; 100 DM</td>\n",
              "      <td>(A74) 4 &lt;= ... &lt; 7 years</td>\n",
              "      <td>2</td>\n",
              "      <td>(A93) male : single</td>\n",
              "      <td>(A101) none</td>\n",
              "      <td>3</td>\n",
              "      <td>(A121) real estate</td>\n",
              "      <td>49</td>\n",
              "      <td>(A143) none</td>\n",
              "      <td>(A152) own</td>\n",
              "      <td>1</td>\n",
              "      <td>(A172) unskilled - resident</td>\n",
              "      <td>2</td>\n",
              "      <td>(A191) none</td>\n",
              "      <td>(A201) yes</td>\n",
              "      <td>1</td>\n",
              "    </tr>\n",
              "    <tr>\n",
              "      <th>3</th>\n",
              "      <td>(A11) ... &lt; 0 DM</td>\n",
              "      <td>42</td>\n",
              "      <td>(A32) existing credits paid back duly till now</td>\n",
              "      <td>(A42) furniture/equipment</td>\n",
              "      <td>7882</td>\n",
              "      <td>(A61) ... &lt; 100 DM</td>\n",
              "      <td>(A74) 4 &lt;= ... &lt; 7 years</td>\n",
              "      <td>2</td>\n",
              "      <td>(A93) male : single</td>\n",
              "      <td>(A103) guarantor</td>\n",
              "      <td>4</td>\n",
              "      <td>(A122) if not A121 : building society savings ...</td>\n",
              "      <td>45</td>\n",
              "      <td>(A143) none</td>\n",
              "      <td>(A153) for free</td>\n",
              "      <td>1</td>\n",
              "      <td>(A173) skilled employee / official</td>\n",
              "      <td>2</td>\n",
              "      <td>(A191) none</td>\n",
              "      <td>(A201) yes</td>\n",
              "      <td>1</td>\n",
              "    </tr>\n",
              "    <tr>\n",
              "      <th>4</th>\n",
              "      <td>(A11) ... &lt; 0 DM</td>\n",
              "      <td>24</td>\n",
              "      <td>(A33) delay in paying off in the past</td>\n",
              "      <td>(A40) car (new)</td>\n",
              "      <td>4870</td>\n",
              "      <td>(A61) ... &lt; 100 DM</td>\n",
              "      <td>(A73) 1 &lt;= ... &lt; 4 years</td>\n",
              "      <td>3</td>\n",
              "      <td>(A93) male : single</td>\n",
              "      <td>(A101) none</td>\n",
              "      <td>4</td>\n",
              "      <td>(A124) unknown / no property</td>\n",
              "      <td>53</td>\n",
              "      <td>(A143) none</td>\n",
              "      <td>(A153) for free</td>\n",
              "      <td>2</td>\n",
              "      <td>(A173) skilled employee / official</td>\n",
              "      <td>2</td>\n",
              "      <td>(A191) none</td>\n",
              "      <td>(A201) yes</td>\n",
              "      <td>2</td>\n",
              "    </tr>\n",
              "  </tbody>\n",
              "</table>\n",
              "</div>"
            ],
            "text/plain": [
              "             Account_Balance  Loan_Duration                                  Credit_History               Loan_Purpose  Loan_Amount                            Savings            Years_Employed  Installment_Rate                          Gender_and_Status Other_Debtors_Guarantors  Year_of_Residence                                           Property  Age Installment_Plans          Housing  Existing_Credits                                 Job  Dependents                                        Telephone     Foreign  Credit_Rating\n",
              "0           (A11) ... < 0 DM              6                         (A34) critical account/     (A43) radio/television         1169  (A65) unknown/ no savings account       (A75) .. >= 7 years                 4                        (A93) male : single              (A101) none                  4                                 (A121) real estate   67       (A143) none       (A152) own                 2  (A173) skilled employee / official           1  (A192) yes, registered under the customers name  (A201) yes              1\n",
              "1    (A12) 0 <= ... < 200 DM             48  (A32) existing credits paid back duly till now     (A43) radio/television         5951                 (A61) ... < 100 DM  (A73) 1 <= ... < 4 years                 2  (A92) female : divorced/separated/married              (A101) none                  2                                 (A121) real estate   22       (A143) none       (A152) own                 1  (A173) skilled employee / official           1                                      (A191) none  (A201) yes              2\n",
              "2  (A14) no checking account             12                         (A34) critical account/            (A46) education         2096                 (A61) ... < 100 DM  (A74) 4 <= ... < 7 years                 2                        (A93) male : single              (A101) none                  3                                 (A121) real estate   49       (A143) none       (A152) own                 1         (A172) unskilled - resident           2                                      (A191) none  (A201) yes              1\n",
              "3           (A11) ... < 0 DM             42  (A32) existing credits paid back duly till now  (A42) furniture/equipment         7882                 (A61) ... < 100 DM  (A74) 4 <= ... < 7 years                 2                        (A93) male : single         (A103) guarantor                  4  (A122) if not A121 : building society savings ...   45       (A143) none  (A153) for free                 1  (A173) skilled employee / official           2                                      (A191) none  (A201) yes              1\n",
              "4           (A11) ... < 0 DM             24           (A33) delay in paying off in the past            (A40) car (new)         4870                 (A61) ... < 100 DM  (A73) 1 <= ... < 4 years                 3                        (A93) male : single              (A101) none                  4                       (A124) unknown / no property   53       (A143) none  (A153) for free                 2  (A173) skilled employee / official           2                                      (A191) none  (A201) yes              2"
            ]
          },
          "execution_count": 179,
          "metadata": {},
          "output_type": "execute_result"
        }
      ],
      "source": [
        "#Apply mapping\n",
        "df_labeled = df.copy()\n",
        "for c in code_columns:\n",
        "  df_labeled[c] = df_labeled[c].map(mapping)\n",
        "\n",
        "df_labeled.head(5) "
      ]
    },
    {
      "cell_type": "code",
      "execution_count": 128,
      "metadata": {},
      "outputs": [
        {
          "data": {
            "text/plain": [
              "0"
            ]
          },
          "execution_count": 128,
          "metadata": {},
          "output_type": "execute_result"
        }
      ],
      "source": [
        "#Check if mapping failed - should have no missing values\n",
        "df_labeled.isna().sum().sum()"
      ]
    },
    {
      "attachments": {},
      "cell_type": "markdown",
      "metadata": {},
      "source": [
        "# Q1 - What is the total of Loan_Amount?"
      ]
    },
    {
      "cell_type": "code",
      "execution_count": 129,
      "metadata": {},
      "outputs": [
        {
          "data": {
            "text/plain": [
              "3271258"
            ]
          },
          "execution_count": 129,
          "metadata": {},
          "output_type": "execute_result"
        }
      ],
      "source": [
        "df_labeled.Loan_Amount.sum()"
      ]
    },
    {
      "attachments": {},
      "cell_type": "markdown",
      "metadata": {},
      "source": [
        "# Q2 - What is the mean Loan_Duration to 2DP?"
      ]
    },
    {
      "cell_type": "code",
      "execution_count": 130,
      "metadata": {},
      "outputs": [
        {
          "data": {
            "text/plain": [
              "20.903"
            ]
          },
          "execution_count": 130,
          "metadata": {},
          "output_type": "execute_result"
        }
      ],
      "source": [
        "df_labeled.Loan_Duration.mean()"
      ]
    },
    {
      "attachments": {},
      "cell_type": "markdown",
      "metadata": {},
      "source": [
        "# Q3 - What is the standard deviation of Loan_Amount (to 2DP)?"
      ]
    },
    {
      "cell_type": "code",
      "execution_count": 131,
      "metadata": {},
      "outputs": [
        {
          "data": {
            "text/plain": [
              "2822.7368759604406"
            ]
          },
          "execution_count": 131,
          "metadata": {},
          "output_type": "execute_result"
        }
      ],
      "source": [
        "df_labeled.Loan_Amount.std()"
      ]
    },
    {
      "attachments": {},
      "cell_type": "markdown",
      "metadata": {},
      "source": [
        "# Q4 - What is the mean Loan_Amount for applications that have Year_of_Residence equal to 1 (answer to 2DP)?"
      ]
    },
    {
      "cell_type": "code",
      "execution_count": 132,
      "metadata": {},
      "outputs": [
        {
          "data": {
            "text/plain": [
              "Year_of_Residence\n",
              "False    3322.732184\n",
              "True     2926.776923\n",
              "Name: Loan_Amount, dtype: float64"
            ]
          },
          "execution_count": 132,
          "metadata": {},
          "output_type": "execute_result"
        }
      ],
      "source": [
        "year_of_residence_1 = df_labeled.Year_of_Residence == 1\n",
        "df_labeled.groupby(year_of_residence_1)['Loan_Amount'].mean()"
      ]
    },
    {
      "attachments": {},
      "cell_type": "markdown",
      "metadata": {},
      "source": [
        "# Q5 - What is the range of Loan_Amount?"
      ]
    },
    {
      "cell_type": "code",
      "execution_count": 133,
      "metadata": {},
      "outputs": [
        {
          "data": {
            "text/plain": [
              "18174"
            ]
          },
          "execution_count": 133,
          "metadata": {},
          "output_type": "execute_result"
        }
      ],
      "source": [
        "df_labeled.Loan_Amount.max() - df_labeled.Loan_Amount.min()"
      ]
    },
    {
      "attachments": {},
      "cell_type": "markdown",
      "metadata": {},
      "source": [
        "# Q6 - Classify the Age distribution as:"
      ]
    },
    {
      "cell_type": "code",
      "execution_count": 134,
      "metadata": {},
      "outputs": [
        {
          "data": {
            "text/plain": [
              "<AxesSubplot:ylabel='Density'>"
            ]
          },
          "execution_count": 134,
          "metadata": {},
          "output_type": "execute_result"
        },
        {
          "data": {
            "image/png": "[encoded data removed]",
            "text/plain": [
              "<Figure size 432x288 with 1 Axes>"
            ]
          },
          "metadata": {},
          "output_type": "display_data"
        }
      ],
      "source": [
        "df_labeled.Age.plot(kind = 'kde')"
      ]
    },
    {
      "attachments": {},
      "cell_type": "markdown",
      "metadata": {},
      "source": [
        "# Q7 - What is the interquartile range (IQR) of Loan_Amount (to 2DP)?"
      ]
    },
    {
      "cell_type": "code",
      "execution_count": 135,
      "metadata": {},
      "outputs": [
        {
          "data": {
            "text/plain": [
              "2606.75"
            ]
          },
          "execution_count": 135,
          "metadata": {},
          "output_type": "execute_result"
        }
      ],
      "source": [
        "q3, q1 = np.percentile(df_labeled.Loan_Amount, [75 ,25])\n",
        "iqr = q3 - q1\n",
        "iqr"
      ]
    },
    {
      "attachments": {},
      "cell_type": "markdown",
      "metadata": {},
      "source": [
        "# Q8 - Using the 1.5*IQR from the quartiles rule, how many outlier observations are in Loan_Amount?"
      ]
    },
    {
      "cell_type": "code",
      "execution_count": 136,
      "metadata": {},
      "outputs": [
        {
          "data": {
            "text/plain": [
              "72"
            ]
          },
          "execution_count": 136,
          "metadata": {},
          "output_type": "execute_result"
        }
      ],
      "source": [
        "lower_range = q1 - 1.5 * iqr\n",
        "upper_range = q3 + 1.5 * iqr\n",
        "outlier_free_list = [loan for loan in df_labeled.Loan_Amount  if ((loan > lower_range) & (loan < upper_range))]\n",
        "df_labeled.Loan_Amount.size - len(outlier_free_list)\n",
        " "
      ]
    },
    {
      "attachments": {},
      "cell_type": "markdown",
      "metadata": {},
      "source": [
        "# Q9 - What is the third most popular reason cited for loan?"
      ]
    },
    {
      "cell_type": "code",
      "execution_count": 137,
      "metadata": {},
      "outputs": [
        {
          "data": {
            "text/plain": [
              "(A43) radio/television       280\n",
              "(A40) car (new)              234\n",
              "(A42) furniture/equipment    181\n",
              "(A41) car (used)             103\n",
              "(A49) business                97\n",
              "(A46) education               50\n",
              "(A45) repairs                 22\n",
              "(A44) domestic appliances     12\n",
              "(A410) others                 12\n",
              "(A48) retraining               9\n",
              "Name: Loan_Purpose, dtype: int64"
            ]
          },
          "execution_count": 137,
          "metadata": {},
          "output_type": "execute_result"
        }
      ],
      "source": [
        "reasons = df_labeled.Loan_Purpose.value_counts()\n",
        "reasons"
      ]
    },
    {
      "attachments": {},
      "cell_type": "markdown",
      "metadata": {},
      "source": [
        "# Q10 - How many distinct reasons are cited for asking for a loan?"
      ]
    },
    {
      "cell_type": "code",
      "execution_count": 138,
      "metadata": {},
      "outputs": [
        {
          "data": {
            "text/plain": [
              "10"
            ]
          },
          "execution_count": 138,
          "metadata": {},
          "output_type": "execute_result"
        }
      ],
      "source": [
        "len(reasons)"
      ]
    },
    {
      "attachments": {},
      "cell_type": "markdown",
      "metadata": {},
      "source": [
        "# Q11 - Which reason cited for loan has the highest rate of bad claims?"
      ]
    },
    {
      "cell_type": "code",
      "execution_count": 156,
      "metadata": {},
      "outputs": [
        {
          "data": {
            "text/plain": [
              "Credit_Rating  Loan_Purpose             \n",
              "False          (A40) car (new)              17.0\n",
              "               (A43) radio/television       14.0\n",
              "               (A42) furniture/equipment    13.0\n",
              "               (A49) business               12.0\n",
              "               (A46) education              10.0\n",
              "               (A41) car (used)              9.0\n",
              "               (A45) repairs                 6.0\n",
              "               (A410) others                 3.0\n",
              "               (A44) domestic appliances     2.0\n",
              "               (A48) retraining              1.0\n",
              "True           (A43) radio/television       20.0\n",
              "               (A40) car (new)              19.0\n",
              "               (A42) furniture/equipment    18.0\n",
              "               (A41) car (used)             16.0\n",
              "               (A49) business               15.0\n",
              "               (A46) education              11.0\n",
              "               (A45) repairs                 8.0\n",
              "               (A44) domestic appliances     6.0\n",
              "               (A48) retraining              6.0\n",
              "               (A410) others                 4.0\n",
              "Name: Loan_Purpose, dtype: float64"
            ]
          },
          "execution_count": 156,
          "metadata": {},
          "output_type": "execute_result"
        }
      ],
      "source": [
        "bad = df_labeled.Credit_Rating.min()\n",
        "df_labeled.groupby(df_labeled.Credit_Rating == bad)['Loan_Purpose'].value_counts().rank()\n"
      ]
    },
    {
      "attachments": {},
      "cell_type": "markdown",
      "metadata": {},
      "source": [
        "# Q12 - Which Credit_History has the lowest rate of bad claims?"
      ]
    },
    {
      "cell_type": "code",
      "execution_count": 160,
      "metadata": {},
      "outputs": [
        {
          "data": {
            "text/plain": [
              "Credit_Rating  Credit_History                                \n",
              "False          (A32) existing credits paid back duly till now     8.0\n",
              "               (A34) critical account/                            6.0\n",
              "               (A31) all credits at this bank paid back duly      4.5\n",
              "               (A33) delay in paying off in the past              4.5\n",
              "               (A30) no credits taken/                            3.0\n",
              "True           (A32) existing credits paid back duly till now    10.0\n",
              "               (A34) critical account/                            9.0\n",
              "               (A33) delay in paying off in the past              7.0\n",
              "               (A31) all credits at this bank paid back duly      2.0\n",
              "               (A30) no credits taken/                            1.0\n",
              "Name: Credit_History, dtype: float64"
            ]
          },
          "execution_count": 160,
          "metadata": {},
          "output_type": "execute_result"
        }
      ],
      "source": [
        "df_labeled.groupby(df_labeled.Credit_Rating == bad)['Credit_History'].value_counts().rank()"
      ]
    },
    {
      "attachments": {},
      "cell_type": "markdown",
      "metadata": {},
      "source": [
        "# Q13 - What is the average age of applicants that have Credit_Rating of Bad?"
      ]
    },
    {
      "cell_type": "code",
      "execution_count": 161,
      "metadata": {},
      "outputs": [
        {
          "data": {
            "text/plain": [
              "Credit_Rating\n",
              "False    33.963333\n",
              "True     36.224286\n",
              "Name: Age, dtype: float64"
            ]
          },
          "execution_count": 161,
          "metadata": {},
          "output_type": "execute_result"
        }
      ],
      "source": [
        "df_labeled.groupby(df_labeled.Credit_Rating == bad)['Age'].mean()"
      ]
    },
    {
      "attachments": {},
      "cell_type": "markdown",
      "metadata": {},
      "source": [
        "# Q14 - How many reasons cited for loans have a mean Loan_Duration greater than the mean of Loan_Duration overall?"
      ]
    },
    {
      "cell_type": "code",
      "execution_count": 177,
      "metadata": {},
      "outputs": [
        {
          "data": {
            "text/plain": [
              "Loan_Purpose\n",
              "(A40) car (new)              False\n",
              "(A41) car (used)              True\n",
              "(A410) others                 True\n",
              "(A42) furniture/equipment    False\n",
              "(A43) radio/television       False\n",
              "(A44) domestic appliances    False\n",
              "(A45) repairs                False\n",
              "(A46) education               True\n",
              "(A48) retraining             False\n",
              "(A49) business                True\n",
              "Name: Loan_Duration, dtype: bool"
            ]
          },
          "execution_count": 177,
          "metadata": {},
          "output_type": "execute_result"
        }
      ],
      "source": [
        "overall = df_labeled.Loan_Duration.mean()\n",
        "df_labeled.groupby(df_labeled.Loan_Purpose)['Loan_Duration'].mean() > overall"
      ]
    },
    {
      "attachments": {},
      "cell_type": "markdown",
      "metadata": {},
      "source": [
        "# Q15 - What is the correlation between Loan_Duration and Loan_Amount (to 2DP)?"
      ]
    },
    {
      "cell_type": "code",
      "execution_count": 178,
      "metadata": {},
      "outputs": [
        {
          "data": {
            "text/plain": [
              "0.6249841983009837"
            ]
          },
          "execution_count": 178,
          "metadata": {},
          "output_type": "execute_result"
        }
      ],
      "source": [
        "df_labeled.Loan_Duration.corr(df_labeled.Loan_Amount)"
      ]
    },
    {
      "attachments": {},
      "cell_type": "markdown",
      "metadata": {},
      "source": [
        "# Q16 - What is the probability of an applicant is female? (enter answer as a decimal to 2DP)?"
      ]
    },
    {
      "cell_type": "code",
      "execution_count": 185,
      "metadata": {},
      "outputs": [
        {
          "name": "stderr",
          "output_type": "stream",
          "text": [
            "C:\\Users\\pedro\\AppData\\Local\\Temp\\ipykernel_20748\\496197975.py:1: UserWarning: This pattern is interpreted as a regular expression, and has match groups. To actually get the groups, use str.extract.\n",
            "  df_labeled.Gender_and_Status.str.contains('(A92)').value_counts() / df_labeled.Gender_and_Status.size\n"
          ]
        },
        {
          "data": {
            "text/plain": [
              "False    0.69\n",
              "True     0.31\n",
              "Name: Gender_and_Status, dtype: float64"
            ]
          },
          "execution_count": 185,
          "metadata": {},
          "output_type": "execute_result"
        }
      ],
      "source": [
        "df_labeled.Gender_and_Status.str.contains('(A92)').value_counts() / df_labeled.Gender_and_Status.size"
      ]
    },
    {
      "attachments": {},
      "cell_type": "markdown",
      "metadata": {},
      "source": [
        "# Q17 - What is the probability of an applicant that owns their own property, does not have a telephone? (enter answer as a decimal to 2DP)?"
      ]
    },
    {
      "cell_type": "code",
      "execution_count": 192,
      "metadata": {},
      "outputs": [
        {
          "name": "stderr",
          "output_type": "stream",
          "text": [
            "C:\\Users\\pedro\\AppData\\Local\\Temp\\ipykernel_20748\\299484354.py:1: UserWarning: This pattern is interpreted as a regular expression, and has match groups. To actually get the groups, use str.extract.\n",
            "  df_labeled.groupby(df_labeled.Property.str.contains('(A121)'))['Telephone'].value_counts() / df_labeled.Telephone.size\n"
          ]
        },
        {
          "data": {
            "text/plain": [
              "Property  Telephone                                      \n",
              "False     (A192) yes, registered under the customers name    0.087\n",
              "          (A191) none                                        0.067\n",
              "True      (A191) none                                        0.529\n",
              "          (A192) yes, registered under the customers name    0.317\n",
              "Name: Telephone, dtype: float64"
            ]
          },
          "execution_count": 192,
          "metadata": {},
          "output_type": "execute_result"
        }
      ],
      "source": [
        "df_labeled.groupby(df_labeled.Property.str.contains('(A121)'))['Telephone'].value_counts() / df_labeled.Telephone.size"
      ]
    },
    {
      "attachments": {},
      "cell_type": "markdown",
      "metadata": {},
      "source": [
        "# Q18 - Which categorical feature has the most impact on the target (using chi2 as the metric)?"
      ]
    },
    {
      "cell_type": "code",
      "execution_count": null,
      "metadata": {},
      "outputs": [],
      "source": []
    }
  ],
  "metadata": {
    "colab": {
      "provenance": []
    },
    "kernelspec": {
      "display_name": "Python 3",
      "language": "python",
      "name": "python3"
    },
    "language_info": {
      "codemirror_mode": {
        "name": "ipython",
        "version": 3
      },
      "file_extension": ".py",
      "mimetype": "text/x-python",
      "name": "python",
      "nbconvert_exporter": "python",
      "pygments_lexer": "ipython3",
      "version": "3.10.6 (tags/v3.10.6:9c7b4bd, Aug  1 2022, 21:53:49) [MSC v.1932 64 bit (AMD64)]"
    },
    "vscode": {
      "interpreter": {
        "hash": "c3503f95e0e8f4afdf6702396a7a2a29cae9f67572acfe092405dcaa2579b817"
      }
    }
  },
  "nbformat": 4,
  "nbformat_minor": 0
}
