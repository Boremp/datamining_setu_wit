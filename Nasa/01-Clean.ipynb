{
 "cells": [
  {
   "attachments": {},
   "cell_type": "markdown",
   "metadata": {},
   "source": [
    "# NASA - CLEAN"
   ]
  },
  {
   "attachments": {},
   "cell_type": "markdown",
   "metadata": {},
   "source": [
    "## Setup "
   ]
  },
  {
   "cell_type": "code",
   "execution_count": 344,
   "metadata": {},
   "outputs": [],
   "source": [
    "import numpy as np\n",
    "import pandas as pd\n",
    "import matplotlib.pyplot as plt\n",
    "import seaborn as sns\n",
    "from scipy import stats\n",
    "import sys, os, yaml\n",
    "\n",
    "pd.set_option('display.max_columns', None)\n",
    "pd.set_option('display.width', 1000)\n",
    "pd.set_option('display.max_rows', None)\n",
    "\n",
    "sns.set_style(\"darkgrid\")\n",
    "\n",
    "DATASET = \"NASA\"\n",
    "COLAB = 'google.colab' in sys.modules\n",
    "\n",
    "from IPython.display import display, Markdown\n",
    "from pprint import pprint \n",
    "\n",
    "DEBUG = True"
   ]
  },
  {
   "cell_type": "code",
   "execution_count": 345,
   "metadata": {},
   "outputs": [],
   "source": [
    "COLAB = 'google.colab' in sys.modules\n",
    "\n",
    "if COLAB:\n",
    "  from google.colab import drive\n",
    "  if not os.path.isdir(\"/content/gdrive\"):\n",
    "    drive.mount(\"/content/gdrive\")\n",
    "    d = \"/content/gdrive/MyDrive/datasets\"\n",
    "    if not os.path.isdir(ROOT+d): os.makedirs(ROOT+d)\n",
    "  ROOT = f\"/content/gdrive/MyDrive/datasets/{DATASET.replace(' ','_')}/\"\n",
    "  if not os.path.isdir(ROOT): os.makedirs(ROOT)\n",
    "else:\n",
    "  ROOT = \"./\"\n",
    "\n",
    "def makedirs(d):\n",
    "  if COLAB:\n",
    "    if not os.path.isdir(ROOT+d): os.makedirs(ROOT+d)\n",
    "  else:\n",
    "    if not os.path.isdir(ROOT+d): os.makedirs(ROOT+d, mode=0o777, exist_ok=True)\n",
    "\n",
    "for d in ['orig','data','output']: makedirs(d)"
   ]
  },
  {
   "attachments": {},
   "cell_type": "markdown",
   "metadata": {},
   "source": [
    "## Load Dataset"
   ]
  },
  {
   "cell_type": "code",
   "execution_count": 346,
   "metadata": {},
   "outputs": [
    {
     "name": "stdout",
     "output_type": "stream",
     "text": [
      "Using local copy ... \n",
      "(5589, 37)\n"
     ]
    },
    {
     "data": {
      "text/html": [
       "<div>\n",
       "<style scoped>\n",
       "    .dataframe tbody tr th:only-of-type {\n",
       "        vertical-align: middle;\n",
       "    }\n",
       "\n",
       "    .dataframe tbody tr th {\n",
       "        vertical-align: top;\n",
       "    }\n",
       "\n",
       "    .dataframe thead th {\n",
       "        text-align: right;\n",
       "    }\n",
       "</style>\n",
       "<table border=\"1\" class=\"dataframe\">\n",
       "  <thead>\n",
       "    <tr style=\"text-align: right;\">\n",
       "      <th></th>\n",
       "      <th>BRANCH_COUNT</th>\n",
       "      <th>CALL_PAIRS</th>\n",
       "      <th>LOC_CODE_AND_COMMENT</th>\n",
       "      <th>LOC_COMMENTS</th>\n",
       "      <th>CONDITION_COUNT</th>\n",
       "      <th>CYCLOMATIC_COMPLEXITY</th>\n",
       "      <th>CYCLOMATIC_DENSITY</th>\n",
       "      <th>DECISION_COUNT</th>\n",
       "      <th>DECISION_DENSITY</th>\n",
       "      <th>DESIGN_COMPLEXITY</th>\n",
       "      <th>DESIGN_DENSITY</th>\n",
       "      <th>EDGE_COUNT</th>\n",
       "      <th>ESSENTIAL_COMPLEXITY</th>\n",
       "      <th>ESSENTIAL_DENSITY</th>\n",
       "      <th>LOC_EXECUTABLE</th>\n",
       "      <th>PARAMETER_COUNT</th>\n",
       "      <th>HALSTEAD_CONTENT</th>\n",
       "      <th>HALSTEAD_DIFFICULTY</th>\n",
       "      <th>HALSTEAD_EFFORT</th>\n",
       "      <th>HALSTEAD_ERROR_EST</th>\n",
       "      <th>HALSTEAD_LENGTH</th>\n",
       "      <th>HALSTEAD_LEVEL</th>\n",
       "      <th>HALSTEAD_PROG_TIME</th>\n",
       "      <th>HALSTEAD_VOLUME</th>\n",
       "      <th>MAINTENANCE_SEVERITY</th>\n",
       "      <th>MODIFIED_CONDITION_COUNT</th>\n",
       "      <th>MULTIPLE_CONDITION_COUNT</th>\n",
       "      <th>NODE_COUNT</th>\n",
       "      <th>NORMALIZED_CYLOMATIC_COMPLEXITY</th>\n",
       "      <th>NUM_OPERANDS</th>\n",
       "      <th>NUM_OPERATORS</th>\n",
       "      <th>NUM_UNIQUE_OPERANDS</th>\n",
       "      <th>NUM_UNIQUE_OPERATORS</th>\n",
       "      <th>NUMBER_OF_LINES</th>\n",
       "      <th>PERCENT_COMMENTS</th>\n",
       "      <th>LOC_TOTAL</th>\n",
       "      <th>defects</th>\n",
       "    </tr>\n",
       "  </thead>\n",
       "  <tbody>\n",
       "    <tr>\n",
       "      <th>0</th>\n",
       "      <td>1.0</td>\n",
       "      <td>0.0</td>\n",
       "      <td>0.0</td>\n",
       "      <td>0.0</td>\n",
       "      <td>0.0</td>\n",
       "      <td>1.0</td>\n",
       "      <td>1.00</td>\n",
       "      <td>0.0</td>\n",
       "      <td>0.0</td>\n",
       "      <td>1.0</td>\n",
       "      <td>1.0</td>\n",
       "      <td>1.0</td>\n",
       "      <td>1.0</td>\n",
       "      <td>0.0</td>\n",
       "      <td>0.0</td>\n",
       "      <td>2.0</td>\n",
       "      <td>5.33</td>\n",
       "      <td>1.50</td>\n",
       "      <td>12.00</td>\n",
       "      <td>0.00</td>\n",
       "      <td>4.0</td>\n",
       "      <td>0.67</td>\n",
       "      <td>0.67</td>\n",
       "      <td>8.00</td>\n",
       "      <td>1.0</td>\n",
       "      <td>0.0</td>\n",
       "      <td>0.0</td>\n",
       "      <td>2.0</td>\n",
       "      <td>0.50</td>\n",
       "      <td>1.0</td>\n",
       "      <td>3.0</td>\n",
       "      <td>1.0</td>\n",
       "      <td>3.0</td>\n",
       "      <td>2.0</td>\n",
       "      <td>0.00</td>\n",
       "      <td>0.0</td>\n",
       "      <td>False</td>\n",
       "    </tr>\n",
       "    <tr>\n",
       "      <th>1</th>\n",
       "      <td>1.0</td>\n",
       "      <td>1.0</td>\n",
       "      <td>0.0</td>\n",
       "      <td>0.0</td>\n",
       "      <td>0.0</td>\n",
       "      <td>1.0</td>\n",
       "      <td>1.00</td>\n",
       "      <td>0.0</td>\n",
       "      <td>0.0</td>\n",
       "      <td>1.0</td>\n",
       "      <td>1.0</td>\n",
       "      <td>2.0</td>\n",
       "      <td>1.0</td>\n",
       "      <td>0.0</td>\n",
       "      <td>0.0</td>\n",
       "      <td>1.0</td>\n",
       "      <td>0.00</td>\n",
       "      <td>0.00</td>\n",
       "      <td>0.00</td>\n",
       "      <td>0.00</td>\n",
       "      <td>1.0</td>\n",
       "      <td>0.00</td>\n",
       "      <td>0.00</td>\n",
       "      <td>0.00</td>\n",
       "      <td>1.0</td>\n",
       "      <td>0.0</td>\n",
       "      <td>0.0</td>\n",
       "      <td>3.0</td>\n",
       "      <td>1.00</td>\n",
       "      <td>1.0</td>\n",
       "      <td>0.0</td>\n",
       "      <td>1.0</td>\n",
       "      <td>0.0</td>\n",
       "      <td>1.0</td>\n",
       "      <td>0.00</td>\n",
       "      <td>0.0</td>\n",
       "      <td>False</td>\n",
       "    </tr>\n",
       "    <tr>\n",
       "      <th>2</th>\n",
       "      <td>1.0</td>\n",
       "      <td>4.0</td>\n",
       "      <td>7.0</td>\n",
       "      <td>24.0</td>\n",
       "      <td>0.0</td>\n",
       "      <td>1.0</td>\n",
       "      <td>0.13</td>\n",
       "      <td>0.0</td>\n",
       "      <td>0.0</td>\n",
       "      <td>1.0</td>\n",
       "      <td>1.0</td>\n",
       "      <td>6.0</td>\n",
       "      <td>1.0</td>\n",
       "      <td>0.0</td>\n",
       "      <td>1.0</td>\n",
       "      <td>0.0</td>\n",
       "      <td>17.88</td>\n",
       "      <td>7.43</td>\n",
       "      <td>986.77</td>\n",
       "      <td>0.04</td>\n",
       "      <td>34.0</td>\n",
       "      <td>0.13</td>\n",
       "      <td>54.82</td>\n",
       "      <td>132.83</td>\n",
       "      <td>1.0</td>\n",
       "      <td>0.0</td>\n",
       "      <td>0.0</td>\n",
       "      <td>7.0</td>\n",
       "      <td>0.03</td>\n",
       "      <td>13.0</td>\n",
       "      <td>21.0</td>\n",
       "      <td>7.0</td>\n",
       "      <td>8.0</td>\n",
       "      <td>34.0</td>\n",
       "      <td>96.88</td>\n",
       "      <td>8.0</td>\n",
       "      <td>False</td>\n",
       "    </tr>\n",
       "    <tr>\n",
       "      <th>3</th>\n",
       "      <td>1.0</td>\n",
       "      <td>1.0</td>\n",
       "      <td>11.0</td>\n",
       "      <td>3.0</td>\n",
       "      <td>0.0</td>\n",
       "      <td>1.0</td>\n",
       "      <td>0.08</td>\n",
       "      <td>0.0</td>\n",
       "      <td>0.0</td>\n",
       "      <td>1.0</td>\n",
       "      <td>1.0</td>\n",
       "      <td>2.0</td>\n",
       "      <td>1.0</td>\n",
       "      <td>0.0</td>\n",
       "      <td>1.0</td>\n",
       "      <td>0.0</td>\n",
       "      <td>42.62</td>\n",
       "      <td>7.81</td>\n",
       "      <td>2598.31</td>\n",
       "      <td>0.11</td>\n",
       "      <td>77.0</td>\n",
       "      <td>0.13</td>\n",
       "      <td>144.35</td>\n",
       "      <td>332.79</td>\n",
       "      <td>1.0</td>\n",
       "      <td>0.0</td>\n",
       "      <td>0.0</td>\n",
       "      <td>3.0</td>\n",
       "      <td>0.06</td>\n",
       "      <td>29.0</td>\n",
       "      <td>48.0</td>\n",
       "      <td>13.0</td>\n",
       "      <td>7.0</td>\n",
       "      <td>17.0</td>\n",
       "      <td>93.33</td>\n",
       "      <td>12.0</td>\n",
       "      <td>False</td>\n",
       "    </tr>\n",
       "    <tr>\n",
       "      <th>4</th>\n",
       "      <td>1.0</td>\n",
       "      <td>1.0</td>\n",
       "      <td>0.0</td>\n",
       "      <td>0.0</td>\n",
       "      <td>0.0</td>\n",
       "      <td>1.0</td>\n",
       "      <td>1.00</td>\n",
       "      <td>0.0</td>\n",
       "      <td>0.0</td>\n",
       "      <td>1.0</td>\n",
       "      <td>1.0</td>\n",
       "      <td>2.0</td>\n",
       "      <td>1.0</td>\n",
       "      <td>0.0</td>\n",
       "      <td>1.0</td>\n",
       "      <td>3.0</td>\n",
       "      <td>33.44</td>\n",
       "      <td>0.63</td>\n",
       "      <td>13.06</td>\n",
       "      <td>0.01</td>\n",
       "      <td>9.0</td>\n",
       "      <td>1.60</td>\n",
       "      <td>0.73</td>\n",
       "      <td>20.90</td>\n",
       "      <td>1.0</td>\n",
       "      <td>0.0</td>\n",
       "      <td>0.0</td>\n",
       "      <td>3.0</td>\n",
       "      <td>0.33</td>\n",
       "      <td>5.0</td>\n",
       "      <td>4.0</td>\n",
       "      <td>4.0</td>\n",
       "      <td>1.0</td>\n",
       "      <td>3.0</td>\n",
       "      <td>0.00</td>\n",
       "      <td>1.0</td>\n",
       "      <td>False</td>\n",
       "    </tr>\n",
       "  </tbody>\n",
       "</table>\n",
       "</div>"
      ],
      "text/plain": [
       "   BRANCH_COUNT  CALL_PAIRS  LOC_CODE_AND_COMMENT  LOC_COMMENTS  CONDITION_COUNT  CYCLOMATIC_COMPLEXITY  CYCLOMATIC_DENSITY  DECISION_COUNT  DECISION_DENSITY  DESIGN_COMPLEXITY  DESIGN_DENSITY  EDGE_COUNT  ESSENTIAL_COMPLEXITY  ESSENTIAL_DENSITY  LOC_EXECUTABLE  PARAMETER_COUNT  HALSTEAD_CONTENT  HALSTEAD_DIFFICULTY  HALSTEAD_EFFORT  HALSTEAD_ERROR_EST  HALSTEAD_LENGTH  HALSTEAD_LEVEL  HALSTEAD_PROG_TIME  HALSTEAD_VOLUME  MAINTENANCE_SEVERITY  MODIFIED_CONDITION_COUNT  MULTIPLE_CONDITION_COUNT  NODE_COUNT  NORMALIZED_CYLOMATIC_COMPLEXITY  NUM_OPERANDS  NUM_OPERATORS  NUM_UNIQUE_OPERANDS  NUM_UNIQUE_OPERATORS  NUMBER_OF_LINES  PERCENT_COMMENTS  LOC_TOTAL  defects\n",
       "0           1.0         0.0                   0.0           0.0              0.0                    1.0                1.00             0.0               0.0                1.0             1.0         1.0                   1.0                0.0             0.0              2.0              5.33                 1.50            12.00                0.00              4.0            0.67                0.67             8.00                   1.0                       0.0                       0.0         2.0                             0.50           1.0            3.0                  1.0                   3.0              2.0              0.00        0.0    False\n",
       "1           1.0         1.0                   0.0           0.0              0.0                    1.0                1.00             0.0               0.0                1.0             1.0         2.0                   1.0                0.0             0.0              1.0              0.00                 0.00             0.00                0.00              1.0            0.00                0.00             0.00                   1.0                       0.0                       0.0         3.0                             1.00           1.0            0.0                  1.0                   0.0              1.0              0.00        0.0    False\n",
       "2           1.0         4.0                   7.0          24.0              0.0                    1.0                0.13             0.0               0.0                1.0             1.0         6.0                   1.0                0.0             1.0              0.0             17.88                 7.43           986.77                0.04             34.0            0.13               54.82           132.83                   1.0                       0.0                       0.0         7.0                             0.03          13.0           21.0                  7.0                   8.0             34.0             96.88        8.0    False\n",
       "3           1.0         1.0                  11.0           3.0              0.0                    1.0                0.08             0.0               0.0                1.0             1.0         2.0                   1.0                0.0             1.0              0.0             42.62                 7.81          2598.31                0.11             77.0            0.13              144.35           332.79                   1.0                       0.0                       0.0         3.0                             0.06          29.0           48.0                 13.0                   7.0             17.0             93.33       12.0    False\n",
       "4           1.0         1.0                   0.0           0.0              0.0                    1.0                1.00             0.0               0.0                1.0             1.0         2.0                   1.0                0.0             1.0              3.0             33.44                 0.63            13.06                0.01              9.0            1.60                0.73            20.90                   1.0                       0.0                       0.0         3.0                             0.33           5.0            4.0                  4.0                   1.0              3.0              0.00        1.0    False"
      ]
     },
     "execution_count": 346,
     "metadata": {},
     "output_type": "execute_result"
    }
   ],
   "source": [
    "filename = f\"{ROOT}/orig/data.csv\"\n",
    "\n",
    "if os.path.isfile(filename):\n",
    "    print(\"Using local copy ... \")\n",
    "else:\n",
    "    print(\"Downloading ... \")\n",
    "    df = pd.read_csv(\"https://setu-datamining2.github.io/live/topics/21-Assignments/01-NASA_Software_Defect_Datasets/files/pc2.csv\")\n",
    "    df.to_csv(filename, index=False)\n",
    "    \n",
    "df = pd.read_csv(filename)\n",
    "print(df.shape)\n",
    "df.head()"
   ]
  },
  {
   "attachments": {},
   "cell_type": "markdown",
   "metadata": {},
   "source": [
    "## Table 1 - Summary;"
   ]
  },
  {
   "cell_type": "code",
   "execution_count": 347,
   "metadata": {},
   "outputs": [
    {
     "data": {
      "text/html": [
       "<div>\n",
       "<style scoped>\n",
       "    .dataframe tbody tr th:only-of-type {\n",
       "        vertical-align: middle;\n",
       "    }\n",
       "\n",
       "    .dataframe tbody tr th {\n",
       "        vertical-align: top;\n",
       "    }\n",
       "\n",
       "    .dataframe thead th {\n",
       "        text-align: right;\n",
       "    }\n",
       "</style>\n",
       "<table border=\"1\" class=\"dataframe\">\n",
       "  <thead>\n",
       "    <tr style=\"text-align: right;\">\n",
       "      <th></th>\n",
       "      <th>Message</th>\n",
       "      <th>Expected</th>\n",
       "      <th>Observed</th>\n",
       "    </tr>\n",
       "  </thead>\n",
       "  <tbody>\n",
       "    <tr>\n",
       "      <th>0</th>\n",
       "      <td>Number of cases</td>\n",
       "      <td>5589</td>\n",
       "      <td>5589</td>\n",
       "    </tr>\n",
       "    <tr>\n",
       "      <th>1</th>\n",
       "      <td>Number of features</td>\n",
       "      <td>37</td>\n",
       "      <td>37</td>\n",
       "    </tr>\n",
       "  </tbody>\n",
       "</table>\n",
       "</div>"
      ],
      "text/plain": [
       "              Message  Expected  Observed\n",
       "0     Number of cases      5589      5589\n",
       "1  Number of features        37        37"
      ]
     },
     "execution_count": 347,
     "metadata": {},
     "output_type": "execute_result"
    }
   ],
   "source": [
    "data = []\n",
    "for message, expected, observed in [\n",
    "    (\"Number of cases\", 5589, df.shape[0]),\n",
    "    (\"Number of features\", 37, df.shape[1]),\n",
    "]:\n",
    "    data.append([message,expected,observed])\n",
    "    \n",
    "df_result = pd.DataFrame(data, columns=['Message','Expected','Observed'])\n",
    "df_result.head()"
   ]
  },
  {
   "attachments": {},
   "cell_type": "markdown",
   "metadata": {},
   "source": [
    "## Table 3 - by Features"
   ]
  },
  {
   "attachments": {},
   "cell_type": "markdown",
   "metadata": {},
   "source": [
    "DataFrame that will flag the columns with error by Data Quality Category"
   ]
  },
  {
   "cell_type": "code",
   "execution_count": 348,
   "metadata": {},
   "outputs": [],
   "source": [
    "feature_list=df.columns\n",
    "zero_data = np.zeros(shape=(13,len(feature_list)))\n",
    "df_error = pd.DataFrame(zero_data, columns=feature_list)"
   ]
  },
  {
   "cell_type": "code",
   "execution_count": 349,
   "metadata": {},
   "outputs": [],
   "source": [
    "def set_error_flag (ft,names):\n",
    "        df_error.loc[ft,names] = 1"
   ]
  },
  {
   "attachments": {},
   "cell_type": "markdown",
   "metadata": {},
   "source": [
    "### A - Identical features"
   ]
  },
  {
   "cell_type": "code",
   "execution_count": 350,
   "metadata": {},
   "outputs": [
    {
     "name": "stdout",
     "output_type": "stream",
     "text": [
      "0.0 set()\n"
     ]
    }
   ],
   "source": [
    "def table_3_A (df):\n",
    "    df_tmp = df.T.duplicated()\n",
    "    df_tmp = df_tmp[df_tmp == True]\n",
    "    p_A_count = df_tmp.shape[0]\n",
    "    p_A_columns = set(df_tmp.index)\n",
    "    \n",
    "    if p_A_count:\n",
    "        set_error_flag(0,list(p_A_columns))\n",
    "        \n",
    "    result = list(df_error.sum(axis=1))\n",
    "    return result[0],p_A_columns\n",
    "\n",
    "table_3_A_observed, p_A_columns = table_3_A (df)\n",
    "print(table_3_A_observed, p_A_columns)"
   ]
  },
  {
   "attachments": {},
   "cell_type": "markdown",
   "metadata": {},
   "source": [
    "### B - Constant features"
   ]
  },
  {
   "cell_type": "code",
   "execution_count": 351,
   "metadata": {},
   "outputs": [
    {
     "name": "stdout",
     "output_type": "stream",
     "text": [
      "0.0 set()\n"
     ]
    }
   ],
   "source": [
    "def table_3_B (df):\n",
    "    df_tmp = df.nunique()\n",
    "    df_tmp = df_tmp[df_tmp<=1]\n",
    "    p_B_count = df_tmp.shape[0]\n",
    "    p_B_columns = set(df_tmp.index)\n",
    "    \n",
    "    if p_B_count:\n",
    "        set_error_flag(1,list(p_B_columns))\n",
    "        \n",
    "    result = list(df_error.sum(axis=1))\n",
    "    return result[1], p_B_columns\n",
    "\n",
    "table_3_B_observed, p_B_columns = table_3_B (df)\n",
    "print(table_3_B_observed, p_B_columns)"
   ]
  },
  {
   "attachments": {},
   "cell_type": "markdown",
   "metadata": {},
   "source": [
    "### C - Features with missing values"
   ]
  },
  {
   "cell_type": "code",
   "execution_count": 352,
   "metadata": {},
   "outputs": [],
   "source": [
    "def table_3_C (df):\n",
    "    df_tmp = df.isna().sum()\n",
    "    df_tmp = df_tmp[df_tmp>0]\n",
    "    p_C_count = df_tmp.shape[0]\n",
    "    p_C_columns = set(df_tmp.index)\n",
    "    \n",
    "    if p_C_count:\n",
    "        set_error_flag(2,list(p_C_columns))\n",
    "\n",
    "    result = list(df_error.sum(axis=1))\n",
    "    return result[2]\n",
    "\n",
    "table_3_C_observed = table_3_C (df)"
   ]
  },
  {
   "attachments": {},
   "cell_type": "markdown",
   "metadata": {},
   "source": [
    "### D - Features with conflicting values"
   ]
  },
  {
   "attachments": {},
   "cell_type": "markdown",
   "metadata": {},
   "source": [
    "###### (13) HALSTEAD VOLUME = (NUM OPERATORS+NUM OPERANDS)*log2(NUM UNIQUE OPERATORS+NUM UNIQUE OPERANDS)"
   ]
  },
  {
   "attachments": {},
   "cell_type": "markdown",
   "metadata": {},
   "source": [
    " X = (A + B) * log2(C + D) ----> (C + D) = 2 ** (X / (A + B))"
   ]
  },
  {
   "cell_type": "code",
   "execution_count": 353,
   "metadata": {},
   "outputs": [
    {
     "name": "stderr",
     "output_type": "stream",
     "text": [
      "c:\\Users\\pedro\\AppData\\Local\\Programs\\Python\\Python310\\lib\\site-packages\\pandas\\core\\arraylike.py:402: RuntimeWarning: divide by zero encountered in log2\n",
      "  result = getattr(ufunc, method)(*inputs, **kwargs)\n"
     ]
    },
    {
     "data": {
      "text/plain": [
       "5589"
      ]
     },
     "execution_count": 353,
     "metadata": {},
     "output_type": "execute_result"
    }
   ],
   "source": [
    "(((df.HALSTEAD_VOLUME)==(df.NUM_OPERATORS + df.NUM_OPERANDS) * np.log2(df.NUM_UNIQUE_OPERATORS + df.NUM_UNIQUE_OPERANDS)) == ((df.NUM_UNIQUE_OPERATORS + df.NUM_UNIQUE_OPERANDS) == 2**(df.HALSTEAD_VOLUME / (df.NUM_OPERATORS + df.NUM_OPERANDS)))).sum()"
   ]
  },
  {
   "cell_type": "code",
   "execution_count": 354,
   "metadata": {},
   "outputs": [],
   "source": [
    "a = (df.NUM_UNIQUE_OPERATORS + df.NUM_UNIQUE_OPERANDS)"
   ]
  },
  {
   "cell_type": "code",
   "execution_count": 355,
   "metadata": {},
   "outputs": [],
   "source": [
    "b = (df.HALSTEAD_VOLUME / (df.NUM_OPERATORS + df.NUM_OPERANDS))\n",
    "b = b.replace(np.nan,0)\n",
    "b = 2 ** b"
   ]
  },
  {
   "cell_type": "code",
   "execution_count": 356,
   "metadata": {},
   "outputs": [],
   "source": [
    "integrity_13 = (~np.isclose(a,b, atol=1))"
   ]
  },
  {
   "attachments": {},
   "cell_type": "markdown",
   "metadata": {},
   "source": [
    "###### (14) HALSTEAD LEVEL = (2/NUM UNIQUE OPERATORS)*(NUM UNIQUE OPERANDS/NUM OPERANDS)"
   ]
  },
  {
   "cell_type": "code",
   "execution_count": 357,
   "metadata": {},
   "outputs": [],
   "source": [
    "a = df.HALSTEAD_LEVEL"
   ]
  },
  {
   "cell_type": "code",
   "execution_count": 358,
   "metadata": {},
   "outputs": [],
   "source": [
    "b = df.NUM_UNIQUE_OPERANDS/df.NUM_OPERANDS\n",
    "b = b.replace(np.nan,0)\n",
    "b = b * (2/df.NUM_UNIQUE_OPERATORS)"
   ]
  },
  {
   "cell_type": "code",
   "execution_count": 359,
   "metadata": {},
   "outputs": [],
   "source": [
    "integrity_14 = (~np.isclose(a,b, atol=1))"
   ]
  },
  {
   "attachments": {},
   "cell_type": "markdown",
   "metadata": {},
   "source": [
    "###### (15) HALSTEAD DIFFICULTY = (NUM UNIQUE OPERATORS/2)*(NUM OPERANDS/NUM UNIQUE OPERANDS)"
   ]
  },
  {
   "cell_type": "code",
   "execution_count": 360,
   "metadata": {},
   "outputs": [],
   "source": [
    "a = df.HALSTEAD_DIFFICULTY"
   ]
  },
  {
   "cell_type": "code",
   "execution_count": 361,
   "metadata": {},
   "outputs": [],
   "source": [
    "b = (df.NUM_OPERANDS/df.NUM_UNIQUE_OPERANDS)\n",
    "b = b.replace(np.nan,0)\n",
    "b = b*(df.NUM_UNIQUE_OPERATORS/2)"
   ]
  },
  {
   "cell_type": "code",
   "execution_count": 362,
   "metadata": {},
   "outputs": [],
   "source": [
    "integrity_15 = (~np.isclose(a,b, atol=1))"
   ]
  },
  {
   "attachments": {},
   "cell_type": "markdown",
   "metadata": {},
   "source": [
    "###### (16) HALSTEAD CONTENT = HALSTEAD VOLUME/HALSTEAD DIFFICULTY\n"
   ]
  },
  {
   "cell_type": "code",
   "execution_count": 363,
   "metadata": {},
   "outputs": [],
   "source": [
    "a = df.HALSTEAD_CONTENT"
   ]
  },
  {
   "cell_type": "code",
   "execution_count": 364,
   "metadata": {},
   "outputs": [],
   "source": [
    "b = df.HALSTEAD_VOLUME / df.HALSTEAD_DIFFICULTY\n",
    "b = b.replace(np.nan,0)"
   ]
  },
  {
   "cell_type": "code",
   "execution_count": 365,
   "metadata": {},
   "outputs": [],
   "source": [
    "integrity_16 = (~np.isclose(a,b, atol=1))"
   ]
  },
  {
   "attachments": {},
   "cell_type": "markdown",
   "metadata": {},
   "source": [
    "###### (17) HALSTEAD EFFORT = HALSTEAD VOLUME*HALSTEAD DIFFICULTY"
   ]
  },
  {
   "cell_type": "code",
   "execution_count": 366,
   "metadata": {},
   "outputs": [],
   "source": [
    "a = df.HALSTEAD_EFFORT/df.HALSTEAD_VOLUME\n",
    "a = a.replace(np.nan,0)"
   ]
  },
  {
   "cell_type": "code",
   "execution_count": 367,
   "metadata": {},
   "outputs": [],
   "source": [
    "b = df.HALSTEAD_DIFFICULTY"
   ]
  },
  {
   "cell_type": "code",
   "execution_count": 368,
   "metadata": {},
   "outputs": [],
   "source": [
    "integrity_17 = (~np.isclose(a,b, atol=1))"
   ]
  },
  {
   "attachments": {},
   "cell_type": "markdown",
   "metadata": {},
   "source": [
    "#### Checks"
   ]
  },
  {
   "cell_type": "code",
   "execution_count": 369,
   "metadata": {},
   "outputs": [],
   "source": [
    "integrity_checks = {\n",
    "    \n",
    "    (df.NUMBER_OF_LINES < df.LOC_TOTAL).sum()                                   : ['NUMBER_OF_LINES','LOC_TOTAL'],                          # (1) NUMBER OF LINES ≥ LOC TOTAL\n",
    "    (df.NUMBER_OF_LINES < df.LOC_CODE_AND_COMMENT).sum()                        : ['NUMBER_OF_LINES','LOC_CODE_AND_COMMENT'],               # (3) NUMBER OF LINES ≥ LOC CODE AND COMMENT\n",
    "    (df.NUMBER_OF_LINES < df.LOC_COMMENTS).sum()                                : ['NUMBER_OF_LINES','LOC_COMMENTS'],                       # (4) NUMBER OF LINES ≥ LOC COMMENTS\n",
    "    (df.NUMBER_OF_LINES < df.LOC_EXECUTABLE).sum()                              : ['NUMBER_OF_LINES','LOC_EXECUTABLE'],                     # (5) NUMBER OF LINES ≥ LOC EXECUTABLE\n",
    "    (df.LOC_TOTAL < df.LOC_EXECUTABLE).sum()                                    : ['LOC_EXECUTABLE','LOC_TOTAL'],                           # (6) LOC TOTAL ≥ LOC EXECUTABLE\n",
    "    (df.LOC_TOTAL < df.LOC_CODE_AND_COMMENT).sum()                              : ['LOC_CODE_AND_COMMENT','LOC_TOTAL'],                     # (7) LOC TOTAL ≥ LOC CODE AND COMMENT\n",
    "    (df.NUM_OPERANDS < df.NUM_UNIQUE_OPERANDS).sum()                            : ['NUM_OPERANDS','NUM_UNIQUE_OPERANDS'],                   # (8) NUM OPERANDS ≥ NUM UNIQUE OPERANDS\n",
    "    (df.NUM_OPERATORS < df.NUM_UNIQUE_OPERATORS).sum()                          : ['NUM_OPERATORS','NUM_UNIQUE_OPERATORS'],                 # (9) NUM OPERATORS ≥ NUM UNIQUE OPERATORS\n",
    "    (df.HALSTEAD_LENGTH != (df.NUM_OPERATORS + df.NUM_OPERANDS)).sum()          : ['HALSTEAD_LENGTH','NUM_OPERATORS','NUM_OPERANDS'],       # (10) HALSTEAD LENGTH = NUM OPERATORS + NUM OPERANDS\n",
    "    (df.CYCLOMATIC_COMPLEXITY > (df.NUM_OPERATORS)+1).sum()                     : ['CYCLOMATIC_COMPLEXITY','NUM_OPERATORS'],                # (11) CYCLOMATIC COMPLEXITY ≤ NUM OPERATORS+1\n",
    "    (df.CALL_PAIRS > df.NUM_OPERATORS).sum()                                    : ['CALL_PAIRS','NUM_OPERATORS'],                           # (12) CALL PAIRS ≤ NUM OPERATORS\n",
    "    integrity_13.sum()                                                          : ['HALSTEAD_VOLUME','NUM_OPERATORS','NUM_OPERANDS','NUM_UNIQUE_OPERATORS','NUM_UNIQUE_OPERANDS'],\n",
    "    integrity_14.sum()                                                          : ['HALSTEAD_LEVEL','NUM_UNIQUE_OPERATORS','NUM_OPERANDS','NUM_UNIQUE_OPERANDS'],\n",
    "    integrity_15.sum()                                                          : ['HALSTEAD_DIFFICULTY','NUM_UNIQUE_OPERATORS','NUM_OPERANDS','NUM_UNIQUE_OPERANDS'],\n",
    "    integrity_16.sum()                                                          : ['HALSTEAD_CONTENT','HALSTEAD_VOLUME','HALSTEAD_DIFFICULTY'],\n",
    "    integrity_17.sum()                                                          : ['HALSTEAD_EFFORT','HALSTEAD_DIFFICULTY','HALSTEAD_VOLUME'],\n",
    "    (~np.isclose((df.HALSTEAD_PROG_TIME*18),df.HALSTEAD_EFFORT,atol=1)).sum()   : ['HALSTEAD_PROG_TIME','HALSTEAD_EFFORT'], \n",
    "\n",
    "}"
   ]
  },
  {
   "cell_type": "code",
   "execution_count": 370,
   "metadata": {},
   "outputs": [],
   "source": [
    "def table_3_D (df):\n",
    "    for v,k in integrity_checks.items():\n",
    "        if (v>0) :\n",
    "            set_error_flag(3,k)\n",
    "    result = list(df_error.sum(axis=1))\n",
    "    return result[3]\n",
    "\n",
    "table_3_D_observed = table_3_D(df)"
   ]
  },
  {
   "attachments": {},
   "cell_type": "markdown",
   "metadata": {},
   "source": [
    "### E - Featuring with implausible values"
   ]
  },
  {
   "attachments": {},
   "cell_type": "markdown",
   "metadata": {},
   "source": [
    "* LOC TOTAL = 0"
   ]
  },
  {
   "cell_type": "code",
   "execution_count": 371,
   "metadata": {},
   "outputs": [],
   "source": [
    "loc_count = ((df.LOC_TOTAL==0).sum()>0).sum()"
   ]
  },
  {
   "attachments": {},
   "cell_type": "markdown",
   "metadata": {},
   "source": [
    "* value of any attribute is < 0"
   ]
  },
  {
   "cell_type": "code",
   "execution_count": 372,
   "metadata": {},
   "outputs": [],
   "source": [
    "df_tmp = (df<0).sum()\n",
    "df_tmp = df_tmp[(df_tmp>0)]\n",
    "negative_count = df_tmp.shape[0]\n",
    "negative_columns = set(df_tmp.index)"
   ]
  },
  {
   "attachments": {},
   "cell_type": "markdown",
   "metadata": {},
   "source": [
    "* any count is a non-integer"
   ]
  },
  {
   "cell_type": "code",
   "execution_count": 373,
   "metadata": {},
   "outputs": [],
   "source": [
    "counts_columns = list([c for c in list(df.columns) if \"COUNT\" in c])\n",
    "\n",
    "df_tmp_counts = df[counts_columns]\n",
    "df_tmp_integers = df_tmp_counts.select_dtypes(['int','float'])\n",
    "\n",
    "non_integer_count = df_tmp_counts.shape[1] - df_tmp_integers.shape[1]\n",
    "non_integer_columns = counts_columns\n",
    "\n",
    "for c in df_tmp_integers.columns:\n",
    "    if c in counts_columns:\n",
    "        non_integer_columns.remove(c)"
   ]
  },
  {
   "cell_type": "code",
   "execution_count": 374,
   "metadata": {},
   "outputs": [],
   "source": [
    "def table_3_e_aux(count,names):\n",
    "    if count:\n",
    "        set_error_flag(4,names) \n",
    "    \n",
    "def table_3_E (df):\n",
    "    \n",
    "    table_3_e_aux(negative_count, list(negative_columns))\n",
    "    \n",
    "    table_3_e_aux(loc_count,'LOC_TOTAL')\n",
    "    \n",
    "    table_3_e_aux(non_integer_count, non_integer_columns)   \n",
    "       \n",
    "    result = list(df_error.sum(axis=1))\n",
    "    return result[4]\n",
    "\n",
    "table_3_E_observed = table_3_E (df)"
   ]
  },
  {
   "attachments": {},
   "cell_type": "markdown",
   "metadata": {},
   "source": [
    "### F - Total Problem Features"
   ]
  },
  {
   "cell_type": "code",
   "execution_count": 375,
   "metadata": {},
   "outputs": [
    {
     "name": "stdout",
     "output_type": "stream",
     "text": [
      "10.0\n"
     ]
    }
   ],
   "source": [
    "def table_3_F (df):\n",
    "    result = df_error.sum().sum()\n",
    "    return result\n",
    "\n",
    "table_3_F_observed = table_3_F (df)\n",
    "print(table_3_F_observed)"
   ]
  },
  {
   "attachments": {},
   "cell_type": "markdown",
   "metadata": {},
   "source": [
    "## Table 4 - by Cases (rows)"
   ]
  },
  {
   "attachments": {},
   "cell_type": "markdown",
   "metadata": {},
   "source": [
    "### G - Identical cases"
   ]
  },
  {
   "cell_type": "code",
   "execution_count": 376,
   "metadata": {},
   "outputs": [
    {
     "name": "stdout",
     "output_type": "stream",
     "text": [
      "Duplicates :  4621 {0, 1, 4, 5, 6, 7, 8, 11, 12, 13, 14, 16, 17, 18, 19, 20, 21, 22, 24, 25, 27, 29, 30, 33, 34, 35, 37, 38, 39, 40, 41, 42, 45, 46, 48, 49, 51, 52, 53, 54, 55, 56, 57, 58, 59, 60, 61, 62, 65, 66, 69, 70, 71, 72, 73, 75, 76, 79, 80, 81, 82, 83, 84, 85, 86, 87, 88, 89, 91, 92, 93, 94, 95, 96, 97, 98, 99, 100, 101, 104, 105, 106, 107, 108, 109, 110, 113, 114, 115, 116, 117, 118, 119, 120, 121, 122, 123, 124, 125, 126, 127, 128, 129, 130, 131, 132, 133, 134, 135, 136, 137, 139, 140, 141, 142, 144, 145, 148, 150, 151, 152, 153, 154, 156, 157, 159, 160, 162, 163, 164, 165, 166, 167, 169, 170, 172, 173, 175, 176, 177, 178, 179, 180, 181, 183, 184, 185, 186, 187, 188, 189, 190, 191, 192, 193, 194, 195, 196, 197, 198, 199, 200, 201, 203, 205, 206, 207, 208, 209, 212, 213, 214, 215, 216, 217, 218, 219, 220, 221, 222, 225, 226, 227, 228, 229, 230, 231, 232, 233, 236, 237, 238, 240, 241, 242, 243, 244, 245, 246, 247, 249, 250, 251, 254, 256, 257, 258, 260, 261, 262, 263, 264, 265, 267, 270, 271, 272, 273, 274, 275, 277, 278, 279, 280, 281, 282, 283, 284, 285, 286, 287, 288, 289, 290, 291, 292, 293, 294, 295, 296, 297, 298, 299, 301, 302, 303, 304, 305, 307, 308, 309, 310, 311, 313, 314, 315, 316, 317, 318, 319, 321, 322, 323, 324, 325, 327, 328, 330, 331, 332, 333, 334, 335, 336, 337, 338, 339, 340, 341, 342, 345, 346, 347, 348, 349, 350, 351, 352, 353, 354, 355, 356, 357, 358, 359, 360, 361, 363, 364, 366, 367, 368, 369, 370, 371, 372, 373, 374, 375, 376, 377, 378, 379, 380, 381, 382, 383, 385, 387, 388, 391, 392, 393, 394, 395, 396, 397, 398, 399, 401, 402, 403, 404, 405, 406, 407, 409, 410, 411, 412, 413, 414, 415, 416, 417, 418, 420, 424, 425, 426, 427, 429, 431, 432, 433, 434, 436, 437, 438, 439, 440, 441, 442, 446, 447, 448, 450, 451, 453, 454, 455, 456, 457, 458, 460, 461, 462, 463, 464, 468, 469, 470, 472, 473, 475, 476, 477, 478, 479, 480, 481, 482, 483, 484, 485, 486, 488, 491, 493, 494, 495, 497, 498, 499, 500, 501, 502, 503, 504, 505, 506, 507, 508, 510, 511, 512, 513, 514, 515, 516, 517, 518, 519, 520, 521, 522, 523, 524, 525, 526, 527, 528, 529, 530, 531, 532, 534, 535, 536, 537, 538, 539, 540, 541, 543, 544, 546, 548, 549, 550, 551, 552, 553, 554, 555, 556, 557, 558, 559, 560, 561, 562, 564, 565, 566, 567, 568, 569, 570, 571, 572, 573, 574, 575, 576, 577, 578, 579, 580, 582, 583, 584, 585, 586, 587, 589, 590, 591, 592, 594, 595, 596, 597, 598, 599, 600, 602, 604, 605, 606, 607, 608, 610, 611, 612, 613, 614, 615, 616, 617, 618, 619, 621, 622, 623, 624, 625, 626, 627, 628, 630, 631, 633, 634, 635, 636, 638, 639, 642, 644, 645, 646, 647, 648, 649, 650, 651, 652, 653, 654, 655, 656, 657, 659, 661, 662, 663, 664, 665, 666, 669, 670, 671, 672, 673, 674, 676, 679, 680, 681, 682, 683, 684, 685, 686, 687, 688, 689, 690, 691, 692, 693, 695, 697, 698, 699, 700, 701, 702, 703, 704, 705, 707, 708, 709, 710, 711, 712, 713, 716, 717, 718, 719, 721, 722, 723, 724, 725, 727, 728, 729, 730, 731, 732, 733, 734, 735, 736, 737, 738, 739, 740, 741, 742, 744, 745, 746, 747, 748, 749, 750, 751, 752, 753, 754, 756, 757, 758, 759, 760, 761, 762, 763, 765, 766, 767, 770, 771, 772, 773, 774, 775, 776, 777, 778, 780, 781, 782, 783, 784, 785, 786, 787, 789, 790, 791, 792, 793, 794, 795, 796, 797, 798, 799, 800, 801, 802, 803, 805, 806, 807, 808, 809, 812, 813, 814, 815, 816, 818, 819, 820, 821, 822, 823, 824, 825, 826, 827, 828, 829, 830, 831, 832, 834, 835, 838, 840, 842, 843, 844, 845, 846, 847, 848, 849, 850, 851, 852, 854, 856, 857, 858, 861, 862, 863, 864, 865, 867, 869, 871, 872, 873, 874, 875, 876, 877, 878, 879, 880, 881, 882, 883, 884, 885, 887, 888, 889, 890, 891, 892, 893, 895, 896, 897, 899, 900, 901, 903, 904, 905, 906, 907, 908, 909, 910, 911, 912, 913, 914, 915, 917, 918, 919, 920, 921, 922, 923, 924, 925, 927, 928, 929, 930, 931, 932, 933, 934, 935, 936, 937, 938, 942, 943, 944, 945, 946, 947, 948, 949, 951, 952, 954, 956, 957, 958, 959, 960, 961, 962, 963, 965, 966, 967, 968, 969, 970, 973, 974, 975, 976, 977, 978, 979, 980, 981, 982, 983, 984, 987, 988, 989, 990, 991, 992, 993, 994, 995, 996, 997, 998, 1000, 1001, 1002, 1004, 1005, 1007, 1008, 1009, 1010, 1012, 1014, 1015, 1016, 1017, 1018, 1019, 1020, 1021, 1022, 1024, 1025, 1026, 1027, 1030, 1031, 1033, 1034, 1035, 1036, 1037, 1038, 1039, 1040, 1041, 1042, 1043, 1044, 1045, 1046, 1047, 1048, 1049, 1050, 1051, 1052, 1053, 1054, 1055, 1056, 1057, 1058, 1059, 1060, 1061, 1062, 1064, 1065, 1066, 1067, 1068, 1070, 1071, 1072, 1073, 1074, 1075, 1076, 1077, 1078, 1079, 1080, 1081, 1082, 1083, 1084, 1085, 1086, 1087, 1088, 1089, 1090, 1091, 1092, 1093, 1094, 1095, 1096, 1097, 1098, 1099, 1100, 1102, 1103, 1106, 1107, 1110, 1111, 1113, 1114, 1115, 1116, 1117, 1118, 1119, 1121, 1122, 1123, 1126, 1127, 1128, 1129, 1130, 1132, 1133, 1134, 1136, 1137, 1138, 1139, 1140, 1141, 1142, 1143, 1144, 1146, 1147, 1148, 1149, 1150, 1151, 1152, 1155, 1156, 1157, 1158, 1160, 1161, 1162, 1163, 1164, 1165, 1166, 1167, 1168, 1169, 1170, 1171, 1172, 1173, 1174, 1175, 1176, 1177, 1178, 1179, 1180, 1181, 1182, 1184, 1185, 1186, 1188, 1189, 1191, 1192, 1193, 1194, 1198, 1199, 1200, 1201, 1203, 1204, 1205, 1206, 1207, 1208, 1210, 1211, 1212, 1213, 1214, 1216, 1217, 1218, 1219, 1220, 1222, 1223, 1224, 1225, 1226, 1228, 1229, 1231, 1232, 1235, 1236, 1237, 1238, 1239, 1241, 1242, 1243, 1245, 1246, 1247, 1248, 1250, 1251, 1252, 1253, 1254, 1255, 1257, 1259, 1260, 1261, 1262, 1263, 1264, 1265, 1266, 1267, 1268, 1269, 1270, 1272, 1273, 1274, 1275, 1276, 1278, 1279, 1280, 1282, 1283, 1284, 1285, 1286, 1287, 1289, 1290, 1291, 1293, 1294, 1296, 1298, 1300, 1301, 1302, 1303, 1304, 1305, 1306, 1307, 1308, 1309, 1310, 1311, 1312, 1313, 1314, 1315, 1316, 1317, 1318, 1319, 1320, 1321, 1322, 1323, 1324, 1325, 1327, 1328, 1329, 1330, 1331, 1332, 1333, 1334, 1335, 1336, 1337, 1338, 1339, 1340, 1342, 1343, 1344, 1345, 1347, 1348, 1349, 1350, 1351, 1352, 1354, 1356, 1357, 1358, 1359, 1360, 1361, 1363, 1364, 1365, 1366, 1367, 1368, 1371, 1372, 1373, 1374, 1375, 1376, 1377, 1378, 1380, 1381, 1382, 1384, 1387, 1388, 1389, 1390, 1391, 1393, 1394, 1395, 1396, 1397, 1398, 1399, 1400, 1401, 1402, 1403, 1406, 1407, 1408, 1409, 1410, 1411, 1414, 1415, 1416, 1418, 1419, 1420, 1422, 1423, 1424, 1425, 1426, 1427, 1428, 1429, 1430, 1431, 1432, 1433, 1434, 1435, 1436, 1437, 1439, 1440, 1442, 1443, 1444, 1445, 1446, 1447, 1448, 1449, 1450, 1451, 1452, 1453, 1454, 1455, 1456, 1457, 1458, 1459, 1460, 1461, 1462, 1463, 1465, 1466, 1467, 1468, 1469, 1470, 1471, 1472, 1473, 1474, 1475, 1476, 1477, 1478, 1479, 1480, 1481, 1482, 1483, 1484, 1486, 1487, 1488, 1489, 1490, 1491, 1492, 1493, 1494, 1495, 1496, 1497, 1498, 1500, 1501, 1502, 1503, 1504, 1506, 1507, 1508, 1509, 1510, 1511, 1512, 1513, 1514, 1515, 1517, 1518, 1519, 1520, 1521, 1522, 1524, 1526, 1527, 1528, 1529, 1530, 1531, 1532, 1533, 1534, 1537, 1538, 1539, 1540, 1541, 1543, 1544, 1545, 1546, 1547, 1548, 1550, 1551, 1552, 1553, 1554, 1556, 1557, 1559, 1560, 1561, 1562, 1563, 1564, 1565, 1566, 1567, 1569, 1570, 1571, 1572, 1574, 1575, 1576, 1577, 1578, 1580, 1581, 1582, 1583, 1585, 1586, 1587, 1588, 1589, 1590, 1591, 1592, 1593, 1594, 1595, 1596, 1599, 1600, 1601, 1602, 1603, 1604, 1605, 1606, 1608, 1609, 1611, 1612, 1613, 1614, 1615, 1616, 1617, 1619, 1620, 1621, 1622, 1624, 1625, 1627, 1628, 1630, 1631, 1633, 1634, 1635, 1636, 1637, 1638, 1639, 1640, 1641, 1642, 1643, 1644, 1645, 1646, 1647, 1649, 1650, 1652, 1653, 1654, 1655, 1658, 1659, 1660, 1661, 1662, 1664, 1665, 1667, 1669, 1670, 1671, 1672, 1673, 1674, 1675, 1676, 1677, 1678, 1680, 1682, 1683, 1684, 1685, 1686, 1687, 1688, 1689, 1690, 1691, 1692, 1693, 1695, 1698, 1699, 1700, 1701, 1703, 1704, 1706, 1707, 1708, 1709, 1710, 1711, 1713, 1714, 1715, 1716, 1717, 1719, 1722, 1723, 1725, 1726, 1727, 1729, 1730, 1731, 1732, 1733, 1734, 1735, 1736, 1737, 1738, 1739, 1741, 1742, 1744, 1745, 1746, 1747, 1752, 1753, 1755, 1756, 1757, 1758, 1759, 1760, 1761, 1762, 1763, 1764, 1765, 1768, 1769, 1770, 1772, 1773, 1774, 1775, 1776, 1777, 1778, 1779, 1780, 1781, 1783, 1784, 1785, 1788, 1789, 1790, 1791, 1792, 1793, 1794, 1795, 1796, 1797, 1799, 1800, 1801, 1802, 1804, 1805, 1806, 1807, 1808, 1809, 1811, 1812, 1813, 1814, 1815, 1816, 1819, 1820, 1821, 1822, 1823, 1825, 1827, 1828, 1829, 1831, 1832, 1833, 1835, 1836, 1837, 1838, 1839, 1840, 1842, 1843, 1844, 1845, 1846, 1847, 1849, 1852, 1853, 1854, 1855, 1856, 1857, 1858, 1859, 1860, 1861, 1862, 1863, 1865, 1867, 1868, 1869, 1871, 1873, 1874, 1875, 1876, 1877, 1879, 1881, 1882, 1883, 1884, 1885, 1886, 1887, 1888, 1889, 1890, 1891, 1892, 1893, 1894, 1896, 1897, 1898, 1899, 1900, 1901, 1902, 1903, 1904, 1905, 1906, 1908, 1909, 1910, 1911, 1912, 1913, 1914, 1915, 1916, 1917, 1918, 1919, 1920, 1921, 1922, 1923, 1924, 1925, 1926, 1927, 1928, 1930, 1931, 1932, 1933, 1934, 1935, 1936, 1937, 1938, 1939, 1941, 1942, 1944, 1946, 1947, 1948, 1949, 1950, 1951, 1952, 1953, 1954, 1955, 1956, 1957, 1960, 1961, 1962, 1963, 1964, 1965, 1966, 1967, 1968, 1969, 1970, 1971, 1972, 1973, 1974, 1975, 1976, 1977, 1978, 1979, 1981, 1982, 1983, 1984, 1985, 1986, 1987, 1988, 1989, 1991, 1993, 1994, 1997, 1999, 2000, 2001, 2002, 2003, 2004, 2005, 2006, 2008, 2009, 2010, 2011, 2013, 2014, 2015, 2016, 2017, 2018, 2019, 2020, 2022, 2023, 2025, 2026, 2027, 2029, 2032, 2033, 2034, 2035, 2036, 2037, 2038, 2039, 2040, 2041, 2042, 2044, 2047, 2049, 2051, 2052, 2054, 2055, 2056, 2057, 2058, 2059, 2060, 2061, 2062, 2063, 2065, 2066, 2071, 2072, 2073, 2074, 2075, 2076, 2077, 2078, 2079, 2080, 2081, 2082, 2084, 2085, 2087, 2088, 2089, 2090, 2091, 2092, 2093, 2094, 2095, 2097, 2098, 2099, 2100, 2101, 2102, 2103, 2105, 2106, 2107, 2109, 2110, 2111, 2112, 2113, 2114, 2115, 2117, 2118, 2119, 2120, 2121, 2122, 2123, 2124, 2125, 2126, 2128, 2129, 2130, 2131, 2132, 2133, 2134, 2135, 2138, 2139, 2140, 2141, 2142, 2143, 2144, 2145, 2146, 2147, 2148, 2149, 2150, 2152, 2153, 2154, 2155, 2157, 2158, 2160, 2161, 2162, 2163, 2166, 2167, 2169, 2172, 2173, 2175, 2176, 2179, 2180, 2181, 2182, 2183, 2184, 2185, 2186, 2187, 2188, 2189, 2190, 2191, 2193, 2194, 2195, 2196, 2197, 2198, 2200, 2201, 2202, 2203, 2204, 2205, 2206, 2207, 2208, 2209, 2210, 2211, 2212, 2214, 2215, 2216, 2217, 2218, 2219, 2220, 2221, 2222, 2223, 2224, 2225, 2226, 2228, 2229, 2230, 2231, 2233, 2234, 2235, 2236, 2237, 2238, 2239, 2241, 2242, 2243, 2244, 2245, 2246, 2247, 2248, 2249, 2250, 2252, 2253, 2254, 2255, 2256, 2257, 2258, 2259, 2262, 2263, 2264, 2265, 2266, 2267, 2268, 2270, 2271, 2272, 2273, 2274, 2275, 2276, 2277, 2279, 2281, 2282, 2284, 2285, 2287, 2289, 2290, 2291, 2292, 2293, 2294, 2296, 2297, 2298, 2299, 2300, 2301, 2303, 2305, 2306, 2307, 2308, 2309, 2310, 2311, 2312, 2313, 2314, 2317, 2318, 2319, 2320, 2321, 2322, 2323, 2324, 2325, 2326, 2327, 2328, 2329, 2331, 2332, 2333, 2334, 2336, 2337, 2338, 2339, 2340, 2341, 2342, 2343, 2344, 2345, 2346, 2347, 2348, 2349, 2351, 2352, 2354, 2355, 2356, 2357, 2358, 2359, 2361, 2366, 2367, 2368, 2370, 2371, 2372, 2373, 2374, 2375, 2376, 2377, 2378, 2379, 2380, 2381, 2382, 2383, 2384, 2385, 2386, 2387, 2388, 2389, 2390, 2391, 2392, 2393, 2394, 2396, 2397, 2398, 2399, 2400, 2401, 2403, 2404, 2405, 2406, 2407, 2408, 2409, 2410, 2413, 2414, 2415, 2416, 2417, 2421, 2423, 2424, 2425, 2426, 2427, 2428, 2429, 2430, 2431, 2432, 2433, 2434, 2435, 2437, 2438, 2439, 2440, 2441, 2445, 2446, 2448, 2449, 2450, 2451, 2452, 2453, 2454, 2455, 2456, 2457, 2458, 2459, 2460, 2461, 2462, 2463, 2464, 2465, 2466, 2467, 2468, 2469, 2470, 2471, 2472, 2473, 2474, 2475, 2476, 2478, 2479, 2480, 2481, 2482, 2484, 2485, 2486, 2487, 2488, 2489, 2490, 2491, 2492, 2493, 2494, 2495, 2496, 2498, 2500, 2501, 2502, 2503, 2504, 2505, 2506, 2507, 2509, 2510, 2512, 2513, 2514, 2515, 2516, 2517, 2518, 2519, 2520, 2522, 2523, 2524, 2525, 2526, 2527, 2528, 2530, 2531, 2536, 2540, 2541, 2542, 2543, 2544, 2545, 2546, 2547, 2548, 2549, 2550, 2551, 2552, 2553, 2554, 2555, 2556, 2558, 2560, 2561, 2562, 2563, 2564, 2565, 2567, 2570, 2571, 2572, 2573, 2574, 2575, 2576, 2577, 2578, 2579, 2580, 2581, 2582, 2583, 2584, 2586, 2587, 2589, 2590, 2591, 2592, 2593, 2594, 2595, 2596, 2597, 2598, 2599, 2600, 2602, 2603, 2604, 2605, 2606, 2608, 2609, 2610, 2611, 2612, 2613, 2614, 2616, 2617, 2618, 2619, 2620, 2621, 2622, 2623, 2624, 2625, 2626, 2627, 2628, 2629, 2630, 2632, 2633, 2634, 2635, 2637, 2638, 2639, 2640, 2641, 2642, 2643, 2644, 2645, 2646, 2647, 2648, 2649, 2651, 2652, 2653, 2654, 2655, 2657, 2658, 2659, 2660, 2661, 2662, 2663, 2664, 2665, 2666, 2668, 2669, 2670, 2671, 2672, 2673, 2674, 2675, 2677, 2678, 2679, 2680, 2681, 2682, 2683, 2684, 2685, 2687, 2688, 2689, 2690, 2691, 2693, 2694, 2695, 2697, 2698, 2699, 2700, 2701, 2702, 2703, 2704, 2705, 2706, 2707, 2708, 2709, 2710, 2711, 2713, 2714, 2715, 2716, 2717, 2718, 2721, 2722, 2723, 2724, 2725, 2726, 2728, 2729, 2730, 2731, 2734, 2735, 2737, 2738, 2739, 2741, 2743, 2745, 2746, 2748, 2749, 2750, 2751, 2752, 2753, 2754, 2755, 2756, 2757, 2758, 2760, 2761, 2762, 2763, 2764, 2765, 2766, 2767, 2768, 2770, 2773, 2774, 2775, 2776, 2778, 2779, 2780, 2781, 2782, 2783, 2785, 2786, 2788, 2789, 2791, 2792, 2793, 2794, 2795, 2796, 2797, 2798, 2799, 2800, 2801, 2802, 2804, 2805, 2806, 2807, 2808, 2809, 2810, 2811, 2812, 2813, 2814, 2815, 2817, 2818, 2820, 2821, 2822, 2823, 2824, 2825, 2826, 2827, 2828, 2829, 2830, 2831, 2832, 2834, 2835, 2836, 2837, 2838, 2839, 2840, 2841, 2842, 2843, 2844, 2845, 2846, 2847, 2848, 2849, 2851, 2852, 2856, 2857, 2858, 2859, 2860, 2861, 2862, 2863, 2864, 2866, 2868, 2869, 2870, 2871, 2872, 2873, 2875, 2876, 2877, 2878, 2880, 2882, 2883, 2884, 2885, 2886, 2888, 2889, 2890, 2891, 2892, 2893, 2894, 2895, 2896, 2897, 2898, 2899, 2901, 2902, 2903, 2904, 2905, 2906, 2907, 2908, 2909, 2910, 2911, 2912, 2914, 2915, 2916, 2917, 2918, 2919, 2920, 2921, 2922, 2923, 2924, 2925, 2926, 2928, 2929, 2930, 2931, 2932, 2933, 2934, 2935, 2936, 2938, 2939, 2940, 2941, 2942, 2943, 2944, 2945, 2946, 2947, 2948, 2949, 2950, 2951, 2952, 2953, 2954, 2955, 2957, 2958, 2959, 2960, 2963, 2964, 2965, 2966, 2967, 2968, 2969, 2970, 2971, 2973, 2974, 2975, 2976, 2977, 2981, 2982, 2984, 2985, 2986, 2987, 2988, 2989, 2990, 2991, 2992, 2993, 2994, 2995, 2996, 2997, 2998, 2999, 3000, 3002, 3003, 3004, 3005, 3006, 3007, 3008, 3009, 3010, 3011, 3012, 3014, 3015, 3018, 3019, 3020, 3021, 3022, 3023, 3024, 3025, 3026, 3028, 3029, 3030, 3031, 3032, 3033, 3034, 3035, 3036, 3037, 3038, 3039, 3040, 3041, 3043, 3044, 3045, 3046, 3048, 3049, 3050, 3051, 3052, 3053, 3054, 3056, 3057, 3058, 3059, 3060, 3061, 3062, 3063, 3064, 3065, 3066, 3068, 3069, 3070, 3071, 3072, 3073, 3075, 3077, 3079, 3081, 3082, 3083, 3084, 3085, 3086, 3087, 3088, 3089, 3090, 3091, 3092, 3095, 3096, 3097, 3099, 3100, 3101, 3102, 3103, 3104, 3108, 3109, 3110, 3111, 3112, 3113, 3114, 3115, 3116, 3117, 3118, 3119, 3122, 3123, 3124, 3126, 3127, 3128, 3129, 3131, 3132, 3133, 3134, 3136, 3137, 3138, 3139, 3141, 3142, 3143, 3144, 3145, 3146, 3147, 3149, 3150, 3151, 3152, 3153, 3155, 3156, 3157, 3158, 3159, 3160, 3161, 3162, 3163, 3164, 3166, 3168, 3169, 3170, 3171, 3172, 3174, 3175, 3176, 3177, 3179, 3180, 3181, 3182, 3183, 3184, 3185, 3187, 3188, 3189, 3190, 3191, 3193, 3194, 3195, 3196, 3197, 3198, 3199, 3200, 3201, 3203, 3207, 3208, 3209, 3211, 3212, 3213, 3214, 3215, 3216, 3219, 3220, 3221, 3222, 3223, 3224, 3225, 3226, 3227, 3228, 3229, 3230, 3231, 3232, 3233, 3234, 3235, 3236, 3237, 3238, 3240, 3241, 3242, 3243, 3244, 3245, 3247, 3248, 3249, 3250, 3251, 3252, 3254, 3255, 3256, 3257, 3259, 3260, 3261, 3262, 3265, 3266, 3267, 3268, 3270, 3272, 3273, 3274, 3276, 3279, 3280, 3281, 3282, 3283, 3284, 3286, 3287, 3288, 3289, 3291, 3292, 3293, 3294, 3295, 3297, 3298, 3299, 3300, 3301, 3303, 3304, 3305, 3307, 3308, 3310, 3311, 3312, 3313, 3314, 3315, 3316, 3317, 3318, 3319, 3320, 3322, 3323, 3324, 3325, 3327, 3328, 3329, 3330, 3331, 3333, 3334, 3335, 3337, 3338, 3339, 3341, 3342, 3343, 3344, 3345, 3346, 3347, 3348, 3349, 3350, 3351, 3352, 3354, 3355, 3356, 3357, 3359, 3360, 3363, 3364, 3365, 3366, 3367, 3368, 3370, 3371, 3372, 3373, 3374, 3375, 3376, 3377, 3378, 3379, 3380, 3381, 3382, 3383, 3384, 3385, 3386, 3389, 3391, 3392, 3393, 3394, 3395, 3396, 3397, 3398, 3399, 3401, 3402, 3405, 3406, 3407, 3408, 3409, 3410, 3411, 3413, 3414, 3415, 3416, 3417, 3418, 3419, 3420, 3421, 3422, 3423, 3424, 3425, 3427, 3428, 3429, 3431, 3432, 3433, 3434, 3435, 3438, 3439, 3440, 3441, 3442, 3443, 3444, 3445, 3446, 3447, 3448, 3449, 3451, 3453, 3454, 3455, 3456, 3457, 3458, 3459, 3460, 3461, 3462, 3463, 3465, 3466, 3468, 3469, 3470, 3471, 3472, 3474, 3475, 3476, 3477, 3478, 3479, 3480, 3482, 3483, 3486, 3487, 3489, 3490, 3491, 3494, 3499, 3500, 3502, 3503, 3504, 3505, 3506, 3507, 3508, 3509, 3511, 3513, 3514, 3515, 3517, 3518, 3519, 3520, 3524, 3527, 3528, 3529, 3530, 3531, 3532, 3533, 3534, 3535, 3536, 3537, 3538, 3539, 3540, 3541, 3542, 3543, 3544, 3545, 3547, 3548, 3549, 3550, 3551, 3552, 3553, 3554, 3555, 3556, 3557, 3558, 3559, 3560, 3563, 3565, 3566, 3568, 3569, 3570, 3571, 3572, 3573, 3574, 3575, 3576, 3577, 3579, 3580, 3581, 3583, 3584, 3585, 3586, 3587, 3588, 3589, 3590, 3591, 3592, 3593, 3594, 3595, 3596, 3597, 3598, 3599, 3601, 3602, 3603, 3605, 3606, 3608, 3609, 3611, 3612, 3615, 3617, 3618, 3620, 3621, 3622, 3624, 3625, 3626, 3629, 3630, 3632, 3633, 3634, 3635, 3636, 3637, 3638, 3639, 3640, 3641, 3642, 3644, 3645, 3646, 3647, 3650, 3652, 3653, 3654, 3655, 3656, 3657, 3658, 3660, 3661, 3662, 3663, 3664, 3665, 3667, 3668, 3669, 3670, 3671, 3672, 3673, 3675, 3676, 3678, 3679, 3680, 3681, 3682, 3683, 3684, 3685, 3686, 3687, 3689, 3691, 3692, 3693, 3694, 3695, 3697, 3698, 3699, 3700, 3701, 3702, 3703, 3704, 3705, 3706, 3707, 3708, 3709, 3710, 3711, 3712, 3713, 3714, 3715, 3716, 3717, 3719, 3720, 3721, 3722, 3723, 3724, 3725, 3726, 3727, 3728, 3729, 3730, 3731, 3732, 3733, 3735, 3736, 3737, 3738, 3740, 3742, 3743, 3745, 3746, 3747, 3748, 3749, 3750, 3751, 3752, 3754, 3756, 3758, 3760, 3762, 3763, 3764, 3765, 3766, 3767, 3768, 3769, 3771, 3773, 3774, 3776, 3777, 3778, 3780, 3781, 3782, 3783, 3784, 3785, 3787, 3788, 3789, 3790, 3792, 3793, 3794, 3795, 3796, 3797, 3798, 3799, 3800, 3801, 3802, 3803, 3804, 3805, 3806, 3807, 3808, 3809, 3810, 3811, 3812, 3813, 3814, 3815, 3816, 3817, 3818, 3819, 3821, 3822, 3823, 3824, 3825, 3827, 3828, 3829, 3830, 3831, 3832, 3833, 3834, 3835, 3836, 3837, 3838, 3839, 3842, 3843, 3844, 3845, 3846, 3847, 3848, 3850, 3852, 3853, 3854, 3855, 3856, 3857, 3858, 3859, 3860, 3861, 3862, 3863, 3864, 3865, 3867, 3868, 3869, 3870, 3871, 3872, 3874, 3876, 3877, 3878, 3879, 3880, 3882, 3885, 3886, 3887, 3888, 3889, 3890, 3891, 3892, 3893, 3894, 3895, 3896, 3897, 3898, 3899, 3901, 3903, 3904, 3905, 3906, 3907, 3908, 3909, 3910, 3911, 3912, 3913, 3914, 3915, 3916, 3917, 3918, 3920, 3921, 3922, 3923, 3924, 3925, 3926, 3927, 3928, 3929, 3930, 3931, 3933, 3936, 3937, 3938, 3939, 3941, 3942, 3943, 3944, 3945, 3946, 3948, 3949, 3950, 3951, 3952, 3953, 3954, 3955, 3956, 3957, 3959, 3962, 3963, 3964, 3965, 3966, 3967, 3969, 3970, 3971, 3972, 3974, 3975, 3976, 3977, 3978, 3979, 3980, 3981, 3982, 3983, 3984, 3985, 3989, 3990, 3991, 3993, 3994, 3995, 3997, 3998, 3999, 4002, 4003, 4004, 4005, 4006, 4007, 4008, 4009, 4010, 4011, 4012, 4013, 4014, 4017, 4018, 4020, 4022, 4023, 4024, 4025, 4026, 4027, 4028, 4029, 4031, 4032, 4034, 4035, 4036, 4037, 4038, 4039, 4040, 4041, 4042, 4043, 4044, 4045, 4046, 4047, 4048, 4049, 4050, 4051, 4052, 4053, 4054, 4055, 4056, 4057, 4058, 4059, 4060, 4061, 4063, 4064, 4065, 4066, 4067, 4068, 4070, 4071, 4072, 4073, 4074, 4075, 4076, 4077, 4078, 4079, 4080, 4081, 4082, 4083, 4085, 4086, 4088, 4089, 4090, 4091, 4092, 4093, 4094, 4095, 4096, 4097, 4098, 4099, 4100, 4101, 4102, 4103, 4105, 4106, 4107, 4108, 4109, 4114, 4115, 4116, 4117, 4118, 4119, 4120, 4121, 4122, 4123, 4124, 4125, 4126, 4127, 4128, 4131, 4132, 4134, 4135, 4136, 4137, 4138, 4139, 4140, 4141, 4142, 4144, 4145, 4146, 4147, 4148, 4149, 4151, 4152, 4153, 4154, 4155, 4156, 4158, 4159, 4160, 4161, 4162, 4163, 4164, 4166, 4167, 4168, 4169, 4171, 4172, 4173, 4174, 4175, 4176, 4177, 4179, 4180, 4181, 4182, 4183, 4184, 4185, 4186, 4187, 4188, 4189, 4191, 4192, 4193, 4194, 4195, 4196, 4197, 4198, 4200, 4201, 4203, 4204, 4205, 4206, 4207, 4209, 4211, 4212, 4216, 4218, 4220, 4221, 4222, 4223, 4224, 4225, 4226, 4227, 4228, 4230, 4231, 4232, 4233, 4234, 4236, 4237, 4238, 4239, 4240, 4241, 4243, 4245, 4246, 4247, 4248, 4250, 4252, 4253, 4254, 4257, 4258, 4259, 4260, 4261, 4262, 4263, 4264, 4265, 4266, 4267, 4268, 4269, 4270, 4271, 4272, 4274, 4276, 4277, 4278, 4279, 4280, 4281, 4282, 4283, 4284, 4285, 4286, 4287, 4289, 4290, 4291, 4292, 4294, 4296, 4297, 4298, 4299, 4300, 4301, 4302, 4303, 4304, 4305, 4306, 4307, 4308, 4310, 4311, 4312, 4313, 4314, 4315, 4316, 4318, 4319, 4320, 4321, 4323, 4324, 4325, 4326, 4328, 4330, 4331, 4332, 4333, 4334, 4335, 4336, 4337, 4338, 4339, 4340, 4341, 4342, 4343, 4344, 4345, 4347, 4348, 4349, 4351, 4353, 4354, 4355, 4356, 4358, 4361, 4362, 4363, 4364, 4365, 4366, 4368, 4369, 4371, 4372, 4373, 4374, 4375, 4376, 4377, 4379, 4380, 4382, 4383, 4384, 4385, 4386, 4387, 4388, 4390, 4391, 4392, 4393, 4394, 4396, 4397, 4399, 4401, 4402, 4403, 4404, 4405, 4406, 4407, 4408, 4409, 4410, 4411, 4412, 4413, 4414, 4415, 4417, 4418, 4421, 4422, 4423, 4424, 4425, 4427, 4429, 4430, 4431, 4432, 4433, 4434, 4435, 4436, 4437, 4438, 4439, 4440, 4441, 4442, 4444, 4445, 4446, 4448, 4449, 4450, 4451, 4452, 4453, 4454, 4455, 4456, 4458, 4459, 4460, 4461, 4462, 4463, 4464, 4465, 4466, 4467, 4468, 4469, 4472, 4474, 4475, 4477, 4478, 4479, 4480, 4481, 4482, 4484, 4485, 4486, 4488, 4489, 4490, 4491, 4492, 4495, 4496, 4497, 4499, 4500, 4501, 4502, 4503, 4505, 4507, 4508, 4509, 4510, 4511, 4512, 4513, 4514, 4515, 4517, 4518, 4520, 4521, 4522, 4523, 4524, 4525, 4529, 4530, 4531, 4532, 4533, 4534, 4535, 4536, 4537, 4538, 4539, 4540, 4541, 4543, 4544, 4545, 4546, 4549, 4551, 4552, 4553, 4554, 4555, 4556, 4558, 4559, 4560, 4562, 4564, 4566, 4568, 4569, 4570, 4571, 4572, 4573, 4574, 4575, 4576, 4577, 4578, 4580, 4581, 4582, 4585, 4586, 4587, 4588, 4590, 4591, 4593, 4594, 4595, 4597, 4598, 4599, 4602, 4603, 4605, 4606, 4607, 4608, 4609, 4610, 4611, 4612, 4613, 4615, 4618, 4619, 4620, 4623, 4624, 4626, 4627, 4628, 4630, 4631, 4632, 4633, 4635, 4636, 4637, 4638, 4641, 4642, 4643, 4644, 4645, 4646, 4647, 4649, 4650, 4651, 4652, 4653, 4654, 4655, 4656, 4657, 4658, 4660, 4661, 4662, 4663, 4664, 4665, 4666, 4667, 4669, 4670, 4671, 4672, 4673, 4674, 4675, 4676, 4677, 4678, 4679, 4680, 4681, 4682, 4684, 4685, 4686, 4687, 4688, 4689, 4693, 4694, 4695, 4697, 4699, 4700, 4703, 4704, 4705, 4707, 4708, 4709, 4710, 4711, 4712, 4713, 4714, 4715, 4716, 4717, 4718, 4719, 4720, 4721, 4722, 4723, 4724, 4726, 4727, 4730, 4732, 4733, 4734, 4735, 4736, 4737, 4738, 4739, 4741, 4742, 4743, 4744, 4746, 4747, 4748, 4750, 4751, 4754, 4756, 4758, 4760, 4761, 4762, 4763, 4764, 4765, 4766, 4767, 4768, 4769, 4770, 4774, 4775, 4776, 4777, 4779, 4780, 4781, 4782, 4783, 4784, 4786, 4787, 4789, 4790, 4791, 4792, 4794, 4795, 4796, 4797, 4798, 4799, 4800, 4802, 4803, 4804, 4805, 4806, 4807, 4808, 4809, 4810, 4811, 4812, 4813, 4814, 4815, 4816, 4817, 4820, 4821, 4822, 4825, 4826, 4827, 4828, 4829, 4830, 4832, 4833, 4834, 4835, 4837, 4838, 4839, 4840, 4841, 4842, 4843, 4844, 4845, 4847, 4848, 4851, 4852, 4854, 4855, 4856, 4857, 4858, 4859, 4860, 4861, 4862, 4863, 4864, 4865, 4866, 4867, 4868, 4869, 4870, 4871, 4872, 4873, 4874, 4875, 4876, 4877, 4878, 4879, 4880, 4881, 4882, 4883, 4884, 4886, 4887, 4889, 4890, 4892, 4893, 4894, 4895, 4896, 4898, 4899, 4900, 4901, 4902, 4904, 4905, 4906, 4907, 4908, 4909, 4910, 4912, 4913, 4914, 4915, 4916, 4917, 4918, 4919, 4920, 4921, 4922, 4926, 4927, 4928, 4929, 4930, 4931, 4932, 4933, 4934, 4936, 4937, 4938, 4939, 4940, 4941, 4942, 4944, 4945, 4946, 4947, 4948, 4949, 4950, 4951, 4952, 4953, 4954, 4955, 4956, 4957, 4959, 4960, 4961, 4962, 4963, 4964, 4966, 4967, 4968, 4970, 4971, 4973, 4974, 4975, 4976, 4977, 4978, 4979, 4981, 4982, 4983, 4984, 4985, 4986, 4987, 4988, 4989, 4991, 4992, 4994, 4996, 4997, 4998, 4999, 5000, 5001, 5002, 5003, 5004, 5006, 5007, 5008, 5010, 5011, 5013, 5014, 5015, 5016, 5017, 5018, 5020, 5023, 5024, 5026, 5027, 5028, 5029, 5030, 5031, 5034, 5035, 5036, 5037, 5038, 5039, 5041, 5042, 5043, 5045, 5046, 5047, 5048, 5049, 5050, 5052, 5053, 5054, 5056, 5057, 5059, 5061, 5062, 5063, 5064, 5065, 5068, 5069, 5071, 5072, 5073, 5074, 5075, 5077, 5078, 5080, 5081, 5083, 5084, 5086, 5087, 5089, 5090, 5091, 5092, 5093, 5094, 5095, 5096, 5098, 5099, 5100, 5101, 5102, 5103, 5106, 5109, 5110, 5111, 5112, 5114, 5116, 5117, 5119, 5120, 5121, 5123, 5124, 5125, 5126, 5127, 5129, 5130, 5132, 5133, 5134, 5135, 5136, 5139, 5140, 5141, 5142, 5143, 5145, 5146, 5147, 5148, 5149, 5150, 5151, 5152, 5153, 5154, 5155, 5156, 5157, 5159, 5160, 5161, 5163, 5164, 5165, 5166, 5167, 5168, 5170, 5171, 5172, 5173, 5175, 5177, 5178, 5179, 5180, 5181, 5182, 5183, 5184, 5186, 5187, 5188, 5189, 5190, 5192, 5193, 5194, 5195, 5196, 5197, 5199, 5200, 5201, 5203, 5205, 5206, 5208, 5210, 5211, 5212, 5213, 5214, 5216, 5217, 5218, 5219, 5220, 5221, 5222, 5223, 5224, 5227, 5228, 5229, 5230, 5231, 5232, 5233, 5234, 5235, 5236, 5237, 5238, 5239, 5240, 5241, 5242, 5243, 5244, 5245, 5246, 5247, 5248, 5249, 5251, 5252, 5253, 5254, 5255, 5256, 5259, 5260, 5262, 5264, 5265, 5268, 5269, 5270, 5272, 5274, 5276, 5277, 5278, 5279, 5280, 5282, 5285, 5286, 5287, 5288, 5289, 5290, 5291, 5292, 5293, 5294, 5295, 5297, 5298, 5299, 5300, 5301, 5302, 5303, 5304, 5305, 5306, 5307, 5309, 5312, 5315, 5316, 5317, 5318, 5319, 5321, 5323, 5324, 5325, 5326, 5327, 5328, 5329, 5330, 5331, 5334, 5335, 5336, 5338, 5339, 5340, 5341, 5342, 5343, 5345, 5347, 5348, 5349, 5350, 5351, 5352, 5353, 5354, 5356, 5357, 5358, 5359, 5360, 5361, 5362, 5363, 5364, 5366, 5367, 5370, 5371, 5372, 5374, 5375, 5376, 5377, 5378, 5379, 5380, 5381, 5382, 5383, 5384, 5385, 5386, 5387, 5389, 5390, 5391, 5392, 5393, 5394, 5395, 5396, 5397, 5398, 5399, 5400, 5402, 5403, 5404, 5405, 5406, 5408, 5409, 5410, 5411, 5412, 5414, 5415, 5416, 5417, 5418, 5419, 5420, 5421, 5422, 5423, 5424, 5425, 5426, 5429, 5430, 5431, 5433, 5434, 5435, 5436, 5437, 5438, 5439, 5440, 5441, 5442, 5445, 5446, 5447, 5448, 5449, 5450, 5451, 5452, 5453, 5454, 5455, 5456, 5457, 5458, 5460, 5461, 5462, 5463, 5464, 5465, 5466, 5469, 5470, 5471, 5472, 5473, 5474, 5475, 5477, 5478, 5479, 5480, 5482, 5483, 5484, 5485, 5486, 5487, 5488, 5489, 5490, 5491, 5493, 5494, 5495, 5496, 5497, 5498, 5500, 5501, 5503, 5506, 5507, 5508, 5510, 5511, 5512, 5513, 5514, 5515, 5516, 5517, 5518, 5519, 5520, 5521, 5523, 5524, 5525, 5526, 5527, 5528, 5529, 5530, 5531, 5532, 5533, 5534, 5535, 5536, 5537, 5539, 5540, 5541, 5542, 5543, 5544, 5545, 5547, 5550, 5551, 5552, 5553, 5554, 5555, 5556, 5557, 5558, 5559, 5560, 5561, 5562, 5563, 5565, 5566, 5567, 5568, 5569, 5571, 5572, 5573, 5574, 5575, 5576, 5578, 5580, 5581, 5583, 5585, 5586, 5587, 5588} \n",
      "Duplicates to remove :  4183 {18, 22, 37, 41, 48, 49, 52, 54, 59, 62, 65, 69, 70, 71, 73, 76, 80, 81, 83, 84, 85, 91, 94, 95, 97, 100, 105, 113, 116, 119, 121, 125, 128, 130, 133, 135, 136, 139, 140, 141, 145, 151, 152, 156, 162, 163, 167, 170, 172, 181, 183, 187, 188, 189, 193, 195, 197, 198, 199, 200, 203, 205, 206, 208, 212, 213, 215, 217, 219, 221, 222, 225, 227, 228, 230, 231, 232, 233, 236, 237, 238, 240, 243, 245, 246, 254, 256, 260, 263, 270, 271, 272, 273, 274, 277, 282, 283, 285, 286, 288, 289, 290, 294, 295, 296, 297, 299, 301, 302, 303, 305, 307, 309, 310, 311, 314, 315, 317, 318, 319, 321, 324, 327, 328, 330, 331, 335, 336, 337, 338, 339, 341, 342, 346, 347, 349, 350, 351, 353, 354, 355, 356, 357, 359, 360, 361, 363, 364, 366, 367, 369, 370, 371, 372, 374, 376, 377, 380, 382, 385, 387, 388, 392, 394, 395, 396, 397, 402, 404, 405, 406, 410, 411, 412, 413, 415, 416, 418, 420, 425, 427, 429, 432, 433, 436, 437, 438, 442, 446, 448, 450, 451, 453, 456, 457, 458, 461, 462, 463, 468, 469, 470, 472, 475, 477, 478, 480, 481, 482, 483, 486, 488, 493, 494, 495, 497, 498, 500, 501, 502, 503, 505, 506, 507, 511, 512, 513, 515, 517, 519, 520, 521, 524, 525, 526, 528, 529, 530, 531, 532, 534, 535, 537, 538, 540, 541, 546, 548, 549, 552, 556, 559, 560, 561, 565, 566, 567, 569, 570, 571, 572, 573, 574, 575, 577, 578, 579, 580, 582, 584, 585, 586, 589, 590, 591, 592, 594, 595, 596, 598, 599, 600, 602, 604, 605, 607, 608, 610, 611, 612, 613, 614, 615, 617, 619, 621, 622, 623, 624, 625, 626, 627, 630, 635, 636, 642, 644, 645, 646, 647, 649, 650, 651, 652, 653, 654, 655, 656, 657, 662, 664, 665, 666, 669, 670, 671, 672, 673, 676, 679, 680, 681, 682, 683, 685, 686, 687, 690, 691, 692, 693, 695, 698, 699, 700, 701, 702, 703, 704, 705, 707, 708, 709, 710, 712, 716, 718, 719, 721, 722, 723, 724, 727, 728, 729, 731, 732, 733, 734, 735, 736, 737, 739, 740, 741, 744, 745, 746, 747, 749, 750, 751, 752, 753, 754, 756, 757, 758, 759, 760, 761, 763, 770, 771, 772, 774, 775, 776, 777, 778, 780, 781, 782, 783, 784, 785, 786, 787, 789, 790, 792, 793, 795, 796, 797, 798, 799, 800, 801, 803, 805, 806, 807, 808, 809, 813, 815, 816, 818, 819, 820, 821, 822, 823, 824, 827, 828, 830, 831, 832, 834, 835, 840, 842, 843, 845, 846, 847, 849, 850, 851, 852, 854, 856, 857, 858, 862, 863, 864, 865, 869, 871, 872, 873, 874, 875, 876, 877, 878, 880, 881, 882, 883, 884, 885, 887, 888, 889, 890, 891, 892, 893, 895, 896, 897, 899, 900, 901, 903, 904, 905, 906, 907, 909, 910, 911, 914, 915, 917, 918, 919, 921, 922, 923, 924, 927, 929, 930, 931, 933, 934, 935, 936, 937, 938, 942, 943, 944, 945, 946, 947, 948, 949, 952, 954, 956, 957, 958, 959, 960, 962, 963, 965, 967, 968, 969, 970, 973, 974, 975, 977, 979, 980, 981, 982, 984, 987, 988, 989, 990, 991, 992, 993, 994, 995, 996, 998, 1000, 1001, 1004, 1005, 1009, 1010, 1012, 1014, 1015, 1016, 1017, 1018, 1019, 1020, 1021, 1022, 1024, 1025, 1026, 1027, 1030, 1031, 1033, 1034, 1035, 1036, 1037, 1038, 1039, 1040, 1041, 1042, 1043, 1044, 1045, 1046, 1048, 1049, 1050, 1051, 1052, 1053, 1056, 1057, 1058, 1059, 1060, 1061, 1062, 1064, 1065, 1066, 1067, 1068, 1070, 1072, 1073, 1074, 1076, 1078, 1080, 1081, 1082, 1083, 1084, 1085, 1086, 1087, 1088, 1089, 1090, 1091, 1093, 1094, 1095, 1096, 1097, 1098, 1099, 1102, 1103, 1106, 1110, 1111, 1113, 1114, 1115, 1116, 1117, 1118, 1119, 1121, 1122, 1126, 1127, 1129, 1130, 1132, 1133, 1134, 1137, 1138, 1139, 1140, 1141, 1142, 1143, 1144, 1146, 1147, 1148, 1149, 1150, 1151, 1152, 1155, 1156, 1158, 1160, 1161, 1162, 1164, 1165, 1166, 1167, 1168, 1169, 1170, 1171, 1172, 1173, 1175, 1176, 1177, 1178, 1179, 1180, 1181, 1182, 1184, 1185, 1186, 1188, 1189, 1191, 1192, 1193, 1194, 1198, 1199, 1200, 1201, 1203, 1204, 1205, 1206, 1207, 1208, 1210, 1211, 1212, 1213, 1214, 1216, 1217, 1218, 1219, 1220, 1222, 1223, 1224, 1225, 1226, 1229, 1232, 1235, 1236, 1237, 1238, 1239, 1241, 1242, 1245, 1246, 1247, 1248, 1250, 1252, 1253, 1254, 1255, 1259, 1260, 1261, 1262, 1263, 1264, 1267, 1268, 1269, 1270, 1273, 1274, 1275, 1278, 1279, 1280, 1282, 1283, 1284, 1285, 1286, 1287, 1289, 1290, 1291, 1293, 1294, 1296, 1300, 1301, 1302, 1303, 1304, 1305, 1306, 1307, 1308, 1309, 1310, 1311, 1312, 1313, 1314, 1315, 1316, 1317, 1319, 1320, 1321, 1322, 1323, 1325, 1327, 1329, 1330, 1331, 1332, 1333, 1334, 1335, 1336, 1338, 1339, 1340, 1342, 1343, 1344, 1345, 1347, 1348, 1349, 1351, 1352, 1354, 1356, 1357, 1358, 1359, 1360, 1361, 1363, 1365, 1366, 1367, 1368, 1371, 1372, 1373, 1374, 1375, 1376, 1377, 1378, 1380, 1381, 1382, 1384, 1387, 1388, 1389, 1390, 1391, 1393, 1394, 1395, 1396, 1398, 1399, 1400, 1402, 1403, 1406, 1407, 1408, 1409, 1411, 1414, 1416, 1418, 1419, 1420, 1422, 1423, 1424, 1425, 1426, 1427, 1428, 1429, 1430, 1431, 1432, 1435, 1436, 1437, 1439, 1440, 1442, 1444, 1445, 1446, 1447, 1448, 1449, 1450, 1451, 1452, 1453, 1454, 1455, 1456, 1457, 1459, 1461, 1462, 1463, 1465, 1467, 1468, 1469, 1470, 1471, 1472, 1473, 1474, 1476, 1477, 1478, 1479, 1480, 1481, 1482, 1486, 1487, 1488, 1489, 1490, 1491, 1492, 1495, 1496, 1497, 1498, 1500, 1501, 1502, 1503, 1506, 1507, 1508, 1509, 1510, 1511, 1512, 1513, 1514, 1515, 1517, 1518, 1519, 1520, 1524, 1526, 1529, 1531, 1532, 1533, 1534, 1537, 1538, 1539, 1540, 1541, 1543, 1545, 1546, 1547, 1550, 1552, 1553, 1554, 1556, 1557, 1559, 1560, 1561, 1562, 1563, 1565, 1566, 1567, 1569, 1570, 1571, 1572, 1574, 1575, 1576, 1577, 1578, 1580, 1581, 1582, 1583, 1585, 1586, 1588, 1590, 1591, 1592, 1593, 1594, 1595, 1596, 1599, 1600, 1601, 1602, 1603, 1604, 1605, 1606, 1608, 1609, 1611, 1612, 1613, 1614, 1615, 1617, 1619, 1620, 1621, 1622, 1624, 1625, 1627, 1628, 1631, 1633, 1634, 1635, 1636, 1637, 1639, 1640, 1641, 1642, 1643, 1644, 1645, 1647, 1649, 1650, 1652, 1653, 1654, 1655, 1658, 1659, 1660, 1661, 1665, 1667, 1669, 1670, 1671, 1672, 1673, 1674, 1675, 1676, 1677, 1678, 1680, 1682, 1683, 1684, 1685, 1686, 1687, 1688, 1689, 1690, 1691, 1692, 1693, 1695, 1698, 1699, 1700, 1701, 1703, 1704, 1706, 1707, 1709, 1710, 1711, 1713, 1714, 1715, 1716, 1719, 1722, 1725, 1726, 1727, 1729, 1731, 1732, 1733, 1734, 1735, 1736, 1737, 1738, 1739, 1741, 1744, 1745, 1746, 1747, 1752, 1753, 1755, 1756, 1757, 1758, 1759, 1760, 1761, 1762, 1763, 1764, 1765, 1768, 1769, 1770, 1772, 1774, 1775, 1776, 1777, 1778, 1779, 1780, 1781, 1783, 1784, 1785, 1788, 1789, 1790, 1792, 1793, 1794, 1795, 1796, 1797, 1799, 1801, 1802, 1804, 1806, 1807, 1808, 1809, 1811, 1812, 1813, 1814, 1815, 1816, 1819, 1820, 1821, 1822, 1823, 1825, 1827, 1828, 1831, 1832, 1833, 1835, 1836, 1838, 1839, 1840, 1842, 1843, 1844, 1845, 1846, 1847, 1849, 1853, 1854, 1855, 1856, 1857, 1858, 1859, 1860, 1861, 1862, 1863, 1865, 1868, 1869, 1871, 1873, 1874, 1876, 1877, 1879, 1881, 1882, 1884, 1885, 1886, 1888, 1889, 1891, 1892, 1893, 1894, 1896, 1897, 1898, 1899, 1900, 1901, 1902, 1903, 1904, 1905, 1906, 1908, 1909, 1910, 1911, 1912, 1913, 1914, 1915, 1916, 1917, 1918, 1919, 1920, 1921, 1923, 1924, 1925, 1926, 1927, 1928, 1930, 1931, 1932, 1933, 1934, 1936, 1938, 1939, 1941, 1942, 1944, 1946, 1947, 1948, 1949, 1950, 1951, 1953, 1954, 1955, 1956, 1957, 1960, 1961, 1962, 1963, 1964, 1965, 1966, 1967, 1968, 1969, 1970, 1973, 1974, 1975, 1976, 1977, 1978, 1979, 1981, 1982, 1983, 1984, 1986, 1987, 1988, 1989, 1991, 1993, 1994, 1997, 1999, 2000, 2001, 2002, 2003, 2004, 2006, 2008, 2009, 2010, 2011, 2013, 2014, 2015, 2016, 2017, 2018, 2019, 2020, 2022, 2023, 2025, 2026, 2027, 2029, 2032, 2033, 2034, 2035, 2036, 2037, 2038, 2039, 2040, 2041, 2042, 2044, 2047, 2049, 2051, 2052, 2054, 2055, 2056, 2057, 2059, 2060, 2061, 2062, 2063, 2065, 2066, 2071, 2072, 2073, 2074, 2075, 2076, 2077, 2078, 2079, 2080, 2081, 2082, 2084, 2085, 2087, 2088, 2089, 2090, 2091, 2092, 2093, 2094, 2095, 2097, 2098, 2099, 2100, 2101, 2102, 2103, 2105, 2106, 2107, 2109, 2110, 2111, 2112, 2113, 2114, 2115, 2117, 2118, 2119, 2120, 2121, 2122, 2123, 2124, 2125, 2126, 2128, 2129, 2130, 2131, 2132, 2133, 2134, 2135, 2138, 2139, 2140, 2141, 2142, 2143, 2144, 2145, 2146, 2147, 2148, 2149, 2150, 2152, 2153, 2154, 2157, 2158, 2160, 2161, 2162, 2163, 2166, 2167, 2169, 2172, 2175, 2176, 2179, 2180, 2181, 2182, 2183, 2184, 2185, 2186, 2187, 2188, 2189, 2190, 2191, 2193, 2194, 2195, 2197, 2198, 2200, 2201, 2202, 2203, 2204, 2205, 2206, 2207, 2209, 2210, 2211, 2212, 2214, 2215, 2216, 2218, 2219, 2220, 2221, 2222, 2223, 2224, 2225, 2226, 2228, 2229, 2230, 2231, 2233, 2234, 2235, 2236, 2237, 2238, 2239, 2241, 2242, 2243, 2244, 2245, 2246, 2247, 2248, 2249, 2250, 2252, 2253, 2254, 2255, 2256, 2257, 2258, 2259, 2262, 2263, 2264, 2266, 2267, 2268, 2270, 2271, 2272, 2273, 2274, 2275, 2276, 2279, 2281, 2282, 2284, 2285, 2287, 2289, 2290, 2291, 2293, 2294, 2296, 2297, 2298, 2299, 2300, 2301, 2303, 2305, 2306, 2307, 2308, 2309, 2310, 2311, 2312, 2313, 2314, 2317, 2318, 2319, 2320, 2321, 2322, 2323, 2324, 2325, 2326, 2327, 2328, 2329, 2331, 2333, 2334, 2336, 2337, 2338, 2339, 2340, 2342, 2343, 2344, 2345, 2346, 2347, 2349, 2351, 2352, 2354, 2355, 2356, 2357, 2358, 2359, 2361, 2366, 2367, 2368, 2370, 2371, 2372, 2373, 2374, 2375, 2376, 2377, 2378, 2379, 2380, 2381, 2382, 2383, 2384, 2385, 2388, 2389, 2390, 2391, 2392, 2393, 2394, 2396, 2397, 2398, 2399, 2400, 2401, 2403, 2404, 2405, 2406, 2407, 2409, 2410, 2413, 2414, 2415, 2416, 2417, 2421, 2423, 2424, 2425, 2426, 2427, 2428, 2429, 2430, 2431, 2432, 2433, 2434, 2435, 2437, 2438, 2439, 2441, 2445, 2446, 2449, 2450, 2451, 2452, 2453, 2454, 2455, 2457, 2458, 2459, 2460, 2462, 2463, 2464, 2465, 2466, 2467, 2469, 2470, 2471, 2472, 2473, 2474, 2475, 2476, 2478, 2479, 2480, 2481, 2482, 2484, 2485, 2486, 2487, 2489, 2490, 2491, 2493, 2496, 2500, 2501, 2502, 2503, 2504, 2506, 2507, 2509, 2510, 2512, 2513, 2514, 2515, 2516, 2517, 2518, 2520, 2522, 2523, 2524, 2525, 2526, 2527, 2528, 2530, 2536, 2540, 2541, 2542, 2543, 2544, 2545, 2546, 2547, 2548, 2549, 2550, 2551, 2552, 2554, 2555, 2556, 2558, 2560, 2561, 2562, 2563, 2564, 2565, 2567, 2570, 2571, 2572, 2573, 2574, 2575, 2576, 2577, 2578, 2579, 2580, 2581, 2582, 2583, 2584, 2586, 2587, 2589, 2590, 2591, 2592, 2593, 2594, 2595, 2596, 2597, 2598, 2599, 2600, 2602, 2603, 2604, 2605, 2606, 2608, 2609, 2610, 2611, 2612, 2613, 2614, 2616, 2617, 2618, 2619, 2620, 2621, 2623, 2624, 2625, 2626, 2627, 2628, 2629, 2630, 2632, 2633, 2634, 2635, 2637, 2638, 2639, 2640, 2641, 2642, 2643, 2644, 2645, 2646, 2648, 2649, 2651, 2652, 2653, 2655, 2657, 2658, 2659, 2660, 2661, 2662, 2663, 2664, 2665, 2666, 2668, 2669, 2670, 2671, 2672, 2673, 2674, 2675, 2677, 2678, 2679, 2680, 2682, 2683, 2684, 2685, 2687, 2688, 2689, 2690, 2691, 2693, 2694, 2695, 2697, 2698, 2699, 2700, 2701, 2702, 2703, 2704, 2705, 2706, 2707, 2708, 2709, 2710, 2711, 2713, 2714, 2715, 2716, 2717, 2718, 2721, 2722, 2723, 2724, 2725, 2726, 2729, 2730, 2731, 2734, 2737, 2738, 2739, 2741, 2743, 2745, 2746, 2748, 2749, 2750, 2751, 2752, 2753, 2754, 2755, 2756, 2757, 2758, 2760, 2761, 2762, 2763, 2764, 2765, 2766, 2767, 2768, 2770, 2773, 2774, 2775, 2776, 2778, 2779, 2780, 2781, 2782, 2783, 2786, 2788, 2789, 2791, 2792, 2793, 2794, 2797, 2798, 2799, 2800, 2801, 2802, 2804, 2805, 2806, 2807, 2808, 2809, 2810, 2811, 2812, 2813, 2814, 2815, 2817, 2818, 2820, 2821, 2822, 2823, 2824, 2825, 2826, 2827, 2828, 2829, 2830, 2831, 2832, 2834, 2835, 2836, 2837, 2838, 2839, 2840, 2841, 2842, 2843, 2844, 2845, 2846, 2847, 2848, 2849, 2851, 2852, 2856, 2857, 2858, 2859, 2860, 2861, 2862, 2863, 2864, 2866, 2868, 2869, 2870, 2871, 2872, 2873, 2875, 2876, 2877, 2878, 2880, 2882, 2883, 2884, 2886, 2888, 2889, 2890, 2891, 2892, 2893, 2894, 2895, 2896, 2897, 2898, 2899, 2901, 2902, 2903, 2904, 2905, 2906, 2907, 2908, 2909, 2910, 2911, 2914, 2915, 2916, 2917, 2918, 2919, 2920, 2921, 2922, 2923, 2924, 2925, 2926, 2928, 2929, 2930, 2931, 2932, 2933, 2934, 2935, 2936, 2938, 2939, 2940, 2941, 2942, 2943, 2944, 2945, 2946, 2947, 2948, 2949, 2950, 2951, 2952, 2953, 2954, 2955, 2957, 2958, 2959, 2960, 2963, 2964, 2965, 2966, 2967, 2968, 2969, 2970, 2971, 2973, 2974, 2975, 2976, 2977, 2981, 2982, 2984, 2985, 2986, 2987, 2988, 2989, 2990, 2991, 2992, 2994, 2995, 2996, 2997, 2998, 2999, 3000, 3002, 3003, 3004, 3005, 3006, 3007, 3008, 3009, 3010, 3011, 3012, 3014, 3015, 3018, 3020, 3021, 3022, 3023, 3024, 3025, 3026, 3028, 3029, 3030, 3031, 3032, 3033, 3034, 3035, 3036, 3038, 3039, 3040, 3041, 3043, 3044, 3045, 3046, 3048, 3049, 3050, 3051, 3052, 3053, 3054, 3056, 3057, 3058, 3059, 3060, 3061, 3063, 3064, 3065, 3066, 3068, 3069, 3070, 3071, 3072, 3073, 3075, 3077, 3079, 3081, 3082, 3083, 3084, 3085, 3086, 3087, 3088, 3089, 3090, 3091, 3092, 3095, 3096, 3099, 3100, 3101, 3102, 3103, 3104, 3108, 3109, 3110, 3111, 3112, 3113, 3114, 3115, 3116, 3117, 3118, 3119, 3122, 3123, 3124, 3126, 3127, 3128, 3129, 3131, 3132, 3133, 3134, 3136, 3137, 3138, 3139, 3141, 3142, 3143, 3144, 3145, 3146, 3147, 3149, 3150, 3151, 3152, 3153, 3155, 3156, 3158, 3159, 3160, 3161, 3162, 3163, 3164, 3166, 3168, 3169, 3170, 3171, 3172, 3174, 3175, 3176, 3179, 3180, 3181, 3182, 3183, 3184, 3187, 3188, 3189, 3190, 3191, 3193, 3194, 3195, 3196, 3198, 3199, 3200, 3201, 3203, 3207, 3208, 3209, 3211, 3212, 3213, 3214, 3215, 3216, 3219, 3220, 3221, 3222, 3223, 3224, 3225, 3226, 3227, 3228, 3229, 3230, 3231, 3232, 3233, 3235, 3236, 3237, 3238, 3240, 3241, 3242, 3243, 3244, 3245, 3247, 3248, 3249, 3250, 3251, 3252, 3254, 3255, 3256, 3257, 3259, 3260, 3261, 3265, 3266, 3267, 3270, 3272, 3273, 3274, 3276, 3279, 3280, 3281, 3282, 3283, 3284, 3286, 3287, 3288, 3291, 3292, 3293, 3294, 3295, 3297, 3298, 3299, 3300, 3301, 3303, 3304, 3305, 3307, 3308, 3310, 3311, 3312, 3313, 3315, 3316, 3317, 3318, 3319, 3320, 3322, 3323, 3324, 3325, 3327, 3328, 3329, 3330, 3331, 3333, 3334, 3335, 3337, 3339, 3341, 3342, 3343, 3344, 3345, 3346, 3347, 3348, 3349, 3350, 3351, 3352, 3354, 3355, 3356, 3357, 3359, 3360, 3363, 3364, 3365, 3366, 3367, 3368, 3370, 3371, 3372, 3373, 3374, 3375, 3376, 3377, 3378, 3379, 3380, 3381, 3382, 3383, 3384, 3385, 3386, 3389, 3391, 3392, 3393, 3394, 3395, 3396, 3397, 3398, 3399, 3401, 3402, 3405, 3406, 3407, 3408, 3409, 3410, 3411, 3413, 3414, 3415, 3416, 3417, 3418, 3419, 3420, 3421, 3422, 3423, 3424, 3425, 3427, 3428, 3429, 3431, 3432, 3433, 3434, 3435, 3438, 3439, 3440, 3441, 3442, 3443, 3444, 3445, 3446, 3447, 3448, 3449, 3451, 3453, 3454, 3455, 3456, 3457, 3458, 3459, 3460, 3461, 3462, 3463, 3465, 3466, 3468, 3469, 3470, 3471, 3472, 3474, 3475, 3476, 3478, 3479, 3480, 3482, 3483, 3486, 3487, 3489, 3490, 3491, 3494, 3499, 3500, 3502, 3503, 3504, 3505, 3506, 3507, 3508, 3509, 3511, 3513, 3514, 3515, 3517, 3518, 3519, 3520, 3524, 3527, 3528, 3529, 3530, 3531, 3532, 3534, 3535, 3536, 3538, 3539, 3540, 3541, 3542, 3543, 3544, 3545, 3547, 3548, 3549, 3550, 3551, 3552, 3553, 3554, 3555, 3556, 3557, 3558, 3559, 3560, 3563, 3565, 3566, 3568, 3569, 3570, 3572, 3573, 3574, 3575, 3576, 3577, 3579, 3580, 3581, 3583, 3584, 3585, 3586, 3587, 3588, 3589, 3590, 3591, 3592, 3593, 3594, 3595, 3597, 3598, 3599, 3601, 3602, 3603, 3605, 3606, 3608, 3609, 3611, 3612, 3615, 3617, 3618, 3620, 3621, 3622, 3624, 3625, 3626, 3629, 3630, 3632, 3633, 3634, 3635, 3636, 3637, 3638, 3639, 3640, 3641, 3642, 3644, 3645, 3646, 3647, 3650, 3652, 3653, 3654, 3655, 3656, 3657, 3658, 3660, 3661, 3662, 3663, 3664, 3665, 3667, 3668, 3669, 3671, 3672, 3673, 3675, 3676, 3678, 3679, 3680, 3681, 3682, 3683, 3684, 3685, 3686, 3687, 3689, 3691, 3692, 3693, 3694, 3695, 3697, 3698, 3699, 3700, 3701, 3702, 3703, 3704, 3705, 3706, 3707, 3708, 3709, 3710, 3711, 3712, 3713, 3714, 3715, 3716, 3717, 3719, 3720, 3721, 3722, 3723, 3724, 3725, 3726, 3727, 3728, 3729, 3730, 3731, 3732, 3733, 3735, 3736, 3737, 3738, 3740, 3742, 3743, 3745, 3746, 3747, 3748, 3749, 3750, 3751, 3752, 3754, 3756, 3758, 3760, 3762, 3763, 3764, 3765, 3766, 3767, 3768, 3769, 3771, 3773, 3774, 3776, 3777, 3778, 3780, 3781, 3782, 3783, 3784, 3785, 3787, 3788, 3789, 3790, 3792, 3793, 3794, 3795, 3796, 3797, 3798, 3799, 3800, 3801, 3802, 3803, 3804, 3805, 3806, 3807, 3808, 3809, 3810, 3811, 3812, 3813, 3814, 3815, 3816, 3817, 3818, 3819, 3821, 3822, 3823, 3825, 3827, 3828, 3829, 3830, 3831, 3832, 3833, 3834, 3835, 3836, 3837, 3838, 3839, 3842, 3843, 3844, 3845, 3846, 3847, 3848, 3850, 3852, 3853, 3854, 3855, 3856, 3857, 3858, 3859, 3860, 3861, 3862, 3863, 3864, 3865, 3867, 3868, 3869, 3870, 3871, 3872, 3874, 3876, 3877, 3878, 3879, 3880, 3882, 3885, 3886, 3887, 3888, 3889, 3890, 3891, 3892, 3893, 3894, 3895, 3896, 3897, 3898, 3899, 3901, 3903, 3904, 3905, 3906, 3907, 3908, 3909, 3910, 3911, 3912, 3913, 3914, 3915, 3916, 3917, 3918, 3920, 3921, 3922, 3923, 3924, 3925, 3926, 3927, 3928, 3929, 3930, 3931, 3933, 3936, 3937, 3938, 3939, 3941, 3942, 3943, 3944, 3945, 3946, 3948, 3949, 3950, 3951, 3952, 3953, 3954, 3955, 3956, 3957, 3959, 3962, 3963, 3964, 3965, 3966, 3967, 3969, 3970, 3971, 3972, 3974, 3976, 3977, 3978, 3979, 3980, 3981, 3982, 3983, 3984, 3985, 3989, 3990, 3991, 3993, 3994, 3995, 3997, 3998, 3999, 4002, 4003, 4004, 4005, 4006, 4007, 4008, 4009, 4010, 4011, 4012, 4013, 4014, 4017, 4018, 4020, 4022, 4023, 4024, 4025, 4026, 4027, 4028, 4029, 4031, 4032, 4034, 4035, 4036, 4037, 4038, 4039, 4040, 4041, 4042, 4043, 4044, 4045, 4046, 4047, 4048, 4049, 4050, 4051, 4052, 4053, 4054, 4055, 4056, 4057, 4059, 4060, 4061, 4063, 4064, 4065, 4066, 4067, 4068, 4070, 4071, 4072, 4073, 4074, 4075, 4076, 4077, 4078, 4079, 4080, 4081, 4082, 4083, 4085, 4086, 4088, 4089, 4090, 4091, 4092, 4093, 4094, 4095, 4096, 4097, 4098, 4099, 4100, 4101, 4102, 4103, 4105, 4106, 4107, 4108, 4109, 4115, 4116, 4117, 4118, 4119, 4120, 4121, 4122, 4123, 4124, 4125, 4126, 4127, 4128, 4131, 4132, 4134, 4135, 4136, 4137, 4138, 4139, 4140, 4141, 4142, 4144, 4145, 4146, 4147, 4148, 4149, 4151, 4152, 4153, 4154, 4155, 4156, 4158, 4159, 4160, 4161, 4162, 4163, 4164, 4166, 4167, 4168, 4169, 4171, 4172, 4173, 4174, 4175, 4176, 4177, 4179, 4180, 4181, 4182, 4183, 4184, 4185, 4186, 4187, 4188, 4189, 4191, 4192, 4193, 4194, 4195, 4196, 4197, 4198, 4200, 4201, 4203, 4204, 4205, 4206, 4207, 4209, 4211, 4212, 4216, 4218, 4220, 4221, 4222, 4223, 4224, 4225, 4226, 4227, 4228, 4230, 4231, 4232, 4233, 4234, 4236, 4237, 4238, 4239, 4240, 4241, 4243, 4245, 4246, 4247, 4248, 4250, 4252, 4253, 4254, 4257, 4258, 4259, 4260, 4261, 4262, 4263, 4264, 4265, 4266, 4267, 4268, 4269, 4270, 4271, 4272, 4274, 4276, 4277, 4278, 4279, 4280, 4281, 4282, 4283, 4284, 4285, 4286, 4287, 4289, 4290, 4291, 4292, 4294, 4296, 4297, 4298, 4299, 4300, 4301, 4302, 4303, 4304, 4305, 4306, 4307, 4308, 4310, 4311, 4312, 4313, 4314, 4315, 4316, 4318, 4319, 4320, 4321, 4323, 4325, 4326, 4328, 4330, 4331, 4332, 4333, 4334, 4335, 4337, 4338, 4339, 4340, 4341, 4342, 4343, 4344, 4345, 4347, 4348, 4349, 4351, 4353, 4354, 4355, 4356, 4358, 4361, 4362, 4363, 4364, 4365, 4366, 4368, 4369, 4371, 4372, 4373, 4374, 4375, 4376, 4377, 4379, 4380, 4382, 4383, 4384, 4385, 4386, 4387, 4388, 4390, 4391, 4392, 4393, 4394, 4396, 4397, 4399, 4402, 4403, 4404, 4405, 4406, 4407, 4408, 4409, 4411, 4412, 4413, 4414, 4415, 4417, 4418, 4421, 4422, 4423, 4424, 4425, 4427, 4429, 4430, 4431, 4432, 4433, 4434, 4435, 4436, 4437, 4439, 4440, 4441, 4442, 4444, 4445, 4446, 4448, 4449, 4450, 4451, 4452, 4453, 4454, 4455, 4456, 4458, 4459, 4460, 4461, 4462, 4463, 4464, 4465, 4466, 4467, 4468, 4469, 4472, 4474, 4475, 4477, 4478, 4479, 4480, 4481, 4482, 4484, 4485, 4486, 4488, 4489, 4491, 4492, 4495, 4496, 4497, 4499, 4500, 4501, 4502, 4503, 4505, 4507, 4508, 4509, 4510, 4511, 4512, 4513, 4514, 4515, 4517, 4518, 4520, 4521, 4522, 4523, 4524, 4525, 4529, 4530, 4531, 4532, 4533, 4534, 4535, 4536, 4537, 4538, 4539, 4540, 4541, 4543, 4544, 4545, 4546, 4549, 4551, 4552, 4553, 4554, 4555, 4556, 4558, 4559, 4560, 4562, 4564, 4566, 4568, 4569, 4570, 4571, 4572, 4573, 4574, 4575, 4576, 4577, 4578, 4580, 4581, 4582, 4585, 4586, 4587, 4588, 4590, 4591, 4593, 4594, 4595, 4597, 4598, 4599, 4602, 4603, 4605, 4606, 4607, 4608, 4609, 4610, 4611, 4612, 4613, 4615, 4618, 4619, 4620, 4623, 4624, 4626, 4627, 4628, 4630, 4631, 4632, 4633, 4635, 4636, 4637, 4638, 4641, 4642, 4643, 4644, 4645, 4646, 4647, 4649, 4650, 4651, 4652, 4653, 4654, 4655, 4656, 4657, 4658, 4660, 4661, 4662, 4663, 4664, 4665, 4666, 4667, 4669, 4670, 4671, 4672, 4673, 4674, 4675, 4676, 4677, 4678, 4679, 4680, 4681, 4682, 4684, 4685, 4686, 4687, 4688, 4689, 4693, 4694, 4695, 4697, 4699, 4700, 4703, 4704, 4705, 4707, 4708, 4709, 4710, 4711, 4712, 4713, 4714, 4715, 4716, 4717, 4718, 4719, 4720, 4721, 4722, 4723, 4724, 4726, 4727, 4730, 4732, 4733, 4734, 4735, 4736, 4737, 4738, 4739, 4741, 4742, 4743, 4744, 4746, 4747, 4748, 4750, 4751, 4754, 4756, 4758, 4760, 4761, 4762, 4763, 4764, 4765, 4766, 4767, 4768, 4769, 4770, 4774, 4775, 4776, 4777, 4779, 4780, 4781, 4782, 4783, 4784, 4786, 4787, 4789, 4790, 4791, 4792, 4794, 4795, 4796, 4797, 4798, 4799, 4800, 4802, 4803, 4804, 4805, 4806, 4807, 4808, 4809, 4810, 4811, 4812, 4813, 4814, 4815, 4816, 4817, 4820, 4821, 4822, 4825, 4826, 4827, 4828, 4829, 4830, 4832, 4833, 4834, 4835, 4837, 4838, 4839, 4840, 4841, 4842, 4843, 4844, 4845, 4847, 4848, 4851, 4852, 4854, 4855, 4856, 4857, 4858, 4859, 4860, 4861, 4862, 4863, 4864, 4865, 4866, 4867, 4868, 4869, 4870, 4871, 4872, 4873, 4874, 4875, 4876, 4877, 4878, 4879, 4880, 4881, 4882, 4883, 4884, 4886, 4887, 4889, 4890, 4892, 4893, 4894, 4895, 4896, 4898, 4899, 4900, 4901, 4902, 4904, 4905, 4906, 4907, 4908, 4909, 4910, 4912, 4913, 4914, 4915, 4916, 4917, 4918, 4919, 4920, 4921, 4922, 4926, 4927, 4928, 4929, 4930, 4931, 4932, 4933, 4934, 4936, 4937, 4938, 4939, 4940, 4941, 4942, 4944, 4945, 4946, 4947, 4948, 4949, 4950, 4951, 4952, 4953, 4954, 4955, 4956, 4957, 4959, 4960, 4961, 4962, 4963, 4964, 4966, 4967, 4968, 4970, 4971, 4973, 4974, 4975, 4976, 4977, 4978, 4979, 4981, 4982, 4983, 4984, 4985, 4986, 4987, 4988, 4989, 4991, 4992, 4994, 4996, 4997, 4998, 4999, 5000, 5001, 5002, 5003, 5004, 5006, 5007, 5008, 5010, 5011, 5013, 5014, 5015, 5016, 5017, 5018, 5020, 5023, 5024, 5026, 5027, 5028, 5029, 5030, 5031, 5034, 5035, 5036, 5037, 5038, 5039, 5041, 5042, 5043, 5045, 5046, 5047, 5048, 5049, 5050, 5052, 5053, 5054, 5056, 5057, 5059, 5061, 5062, 5063, 5064, 5065, 5068, 5069, 5071, 5072, 5073, 5074, 5075, 5077, 5078, 5080, 5081, 5083, 5084, 5086, 5087, 5089, 5090, 5091, 5092, 5093, 5094, 5095, 5096, 5098, 5099, 5100, 5101, 5102, 5103, 5106, 5109, 5110, 5111, 5112, 5114, 5116, 5117, 5119, 5120, 5121, 5123, 5124, 5125, 5126, 5127, 5129, 5130, 5132, 5133, 5134, 5135, 5136, 5139, 5140, 5141, 5142, 5143, 5145, 5146, 5147, 5149, 5150, 5151, 5152, 5153, 5154, 5155, 5156, 5157, 5159, 5160, 5161, 5163, 5164, 5165, 5166, 5167, 5168, 5170, 5171, 5172, 5173, 5175, 5177, 5178, 5179, 5180, 5181, 5182, 5183, 5184, 5186, 5187, 5188, 5189, 5190, 5192, 5193, 5194, 5195, 5196, 5197, 5199, 5200, 5201, 5203, 5205, 5206, 5208, 5210, 5211, 5212, 5213, 5214, 5216, 5217, 5218, 5219, 5220, 5221, 5222, 5223, 5224, 5227, 5228, 5229, 5230, 5231, 5232, 5233, 5234, 5235, 5236, 5237, 5238, 5239, 5240, 5241, 5242, 5243, 5244, 5245, 5246, 5247, 5248, 5249, 5251, 5252, 5253, 5254, 5255, 5256, 5259, 5260, 5262, 5264, 5265, 5268, 5269, 5270, 5272, 5274, 5276, 5277, 5278, 5279, 5280, 5282, 5285, 5286, 5287, 5288, 5289, 5290, 5291, 5292, 5293, 5294, 5295, 5297, 5298, 5299, 5300, 5301, 5302, 5303, 5304, 5305, 5306, 5307, 5309, 5312, 5315, 5316, 5317, 5318, 5319, 5321, 5323, 5324, 5325, 5326, 5327, 5328, 5329, 5330, 5331, 5334, 5335, 5336, 5338, 5339, 5340, 5341, 5342, 5343, 5345, 5347, 5348, 5349, 5350, 5351, 5352, 5353, 5354, 5356, 5357, 5358, 5359, 5360, 5361, 5362, 5363, 5364, 5366, 5367, 5370, 5371, 5372, 5374, 5375, 5376, 5377, 5378, 5379, 5380, 5381, 5382, 5383, 5384, 5385, 5386, 5387, 5389, 5390, 5391, 5392, 5393, 5394, 5395, 5396, 5397, 5398, 5399, 5400, 5402, 5403, 5404, 5405, 5406, 5408, 5409, 5410, 5411, 5412, 5414, 5415, 5416, 5417, 5418, 5419, 5420, 5421, 5422, 5423, 5424, 5425, 5426, 5429, 5430, 5431, 5433, 5434, 5435, 5436, 5437, 5438, 5439, 5440, 5441, 5442, 5445, 5446, 5447, 5448, 5449, 5450, 5451, 5452, 5453, 5454, 5455, 5456, 5457, 5458, 5460, 5461, 5462, 5463, 5464, 5465, 5466, 5469, 5470, 5471, 5472, 5473, 5474, 5475, 5477, 5478, 5479, 5480, 5482, 5483, 5484, 5485, 5486, 5487, 5488, 5489, 5490, 5491, 5493, 5494, 5495, 5496, 5497, 5498, 5500, 5501, 5503, 5506, 5507, 5508, 5510, 5511, 5512, 5513, 5514, 5515, 5516, 5517, 5518, 5519, 5520, 5521, 5523, 5524, 5525, 5526, 5527, 5528, 5529, 5530, 5531, 5532, 5533, 5534, 5535, 5536, 5537, 5539, 5540, 5541, 5542, 5543, 5544, 5545, 5547, 5550, 5551, 5552, 5553, 5554, 5555, 5556, 5557, 5558, 5559, 5560, 5561, 5562, 5563, 5565, 5566, 5567, 5568, 5569, 5571, 5572, 5573, 5574, 5575, 5576, 5578, 5580, 5581, 5583, 5585, 5586, 5587, 5588}\n"
     ]
    }
   ],
   "source": [
    "def table_4_G (df):\n",
    "    \n",
    "    df_tmp = df.duplicated(keep=False)\n",
    "    df_tmp = df_tmp[df_tmp]\n",
    "    p_G_count = df_tmp.shape[0]\n",
    "    p_G_rows_all = set(df_tmp.index)\n",
    "    \n",
    "    df_tmp2 = df.duplicated(keep='first')\n",
    "    df_tmp2 = df_tmp2[df_tmp2]\n",
    "    p_G_rows_except_first = set(df_tmp2.index)\n",
    "    \n",
    "    return p_G_count, p_G_rows_all, p_G_rows_except_first\n",
    "\n",
    "table_4_G_observed, p_G_rows_all, p_G_rows_except_first = table_4_G(df)\n",
    "print(\"Duplicates : \",table_4_G_observed,p_G_rows_all,\"\\nDuplicates to remove : \",len(p_G_rows_except_first), p_G_rows_except_first)"
   ]
  },
  {
   "attachments": {},
   "cell_type": "markdown",
   "metadata": {},
   "source": [
    "### H - Inconsistent cases"
   ]
  },
  {
   "cell_type": "code",
   "execution_count": 377,
   "metadata": {},
   "outputs": [],
   "source": [
    "from itertools import combinations\n",
    "\n",
    "def inconsistent_row(df,target='defects'):\n",
    "    columns = [c for c in df.columns if c != target]\n",
    "\n",
    "    df_tmp = df[df.duplicated(subset=columns, keep=False)]\n",
    "\n",
    "    inconsistent = []\n",
    "    for _, group in df_tmp.groupby(columns):\n",
    "        if len(group[target].unique()) > 1:\n",
    "            group_index = group.index.tolist()\n",
    "            for i, j in combinations(group_index, 2):\n",
    "                if df.loc[i, target] != df.loc[j, target]:\n",
    "                    inconsistent.append(i)\n",
    "                    inconsistent.append(j)\n",
    "                    \n",
    "    inconsistent = set(inconsistent)\n",
    "    return len(inconsistent), inconsistent"
   ]
  },
  {
   "cell_type": "code",
   "execution_count": 378,
   "metadata": {},
   "outputs": [
    {
     "name": "stdout",
     "output_type": "stream",
     "text": [
      "100 {5121, 1031, 8, 521, 4107, 4108, 5134, 3604, 4631, 1057, 37, 2602, 2094, 3645, 3134, 4159, 2627, 1615, 1627, 2657, 4204, 2669, 4206, 5229, 113, 2673, 2163, 116, 1140, 3705, 2169, 2697, 2700, 1677, 3728, 4775, 687, 3760, 5297, 4788, 2748, 1217, 2241, 4817, 723, 2270, 2271, 3297, 2789, 230, 236, 1262, 2804, 3834, 3323, 1794, 4354, 776, 4364, 3856, 1809, 1303, 3357, 4394, 1835, 3372, 4917, 826, 1339, 319, 1349, 1351, 5447, 1868, 3928, 2921, 875, 1387, 367, 370, 887, 4480, 3981, 2965, 1950, 418, 2466, 5552, 2482, 1461, 3515, 968, 1500, 2525, 5090, 4580, 4071, 3058, 2036, 5109}\n"
     ]
    }
   ],
   "source": [
    "def table_4_H (df):\n",
    "    return inconsistent_row(df)\n",
    "\n",
    "table_4_H_observed,p_H_rows = table_4_H(df)\n",
    "print(table_4_H_observed,p_H_rows)"
   ]
  },
  {
   "attachments": {},
   "cell_type": "markdown",
   "metadata": {},
   "source": [
    "### I - Cases with missing "
   ]
  },
  {
   "cell_type": "code",
   "execution_count": 379,
   "metadata": {},
   "outputs": [
    {
     "name": "stdout",
     "output_type": "stream",
     "text": [
      "0 set()\n"
     ]
    }
   ],
   "source": [
    "def table_4_I (df):\n",
    "    df_tmp = df.isna().sum(axis=1)\n",
    "    df_tmp = df_tmp[df_tmp>0]\n",
    "    p_I_count = df_tmp.shape[0]\n",
    "    p_I_rows = set(df_tmp.index)\n",
    "    return p_I_count, p_I_rows\n",
    "\n",
    "table_4_I_observed,p_I_rows = table_4_I(df)\n",
    "print(table_4_I_observed,p_I_rows)"
   ]
  },
  {
   "attachments": {},
   "cell_type": "markdown",
   "metadata": {},
   "source": [
    "### J - Cases with conflicting feature values"
   ]
  },
  {
   "cell_type": "code",
   "execution_count": 380,
   "metadata": {},
   "outputs": [],
   "source": [
    "integrity_checks_rows = [\n",
    "    (df.NUMBER_OF_LINES < df.LOC_TOTAL),                                    # (1) NUMBER OF LINES ≥ LOC TOTAL\n",
    "    (df.NUMBER_OF_LINES < df.LOC_CODE_AND_COMMENT),                         # (3) NUMBER OF LINES ≥ LOC CODE AND COMMENT\n",
    "    (df.NUMBER_OF_LINES < df.LOC_COMMENTS),                                 # (4) NUMBER OF LINES ≥ LOC COMMENTS\n",
    "    (df.NUMBER_OF_LINES < df.LOC_EXECUTABLE),                               # (5) NUMBER OF LINES ≥ LOC EXECUTABLE\n",
    "    (df.LOC_TOTAL < df.LOC_EXECUTABLE),                                     # (6) LOC TOTAL ≥ LOC EXECUTABLE\n",
    "    (df.LOC_TOTAL < df.LOC_CODE_AND_COMMENT),                               # (7) LOC TOTAL ≥ LOC CODE AND COMMENT\n",
    "    (df.NUM_OPERANDS < df.NUM_UNIQUE_OPERANDS),                             # (8) NUM OPERANDS ≥ NUM UNIQUE OPERANDS\n",
    "    (df.NUM_OPERATORS < df.NUM_UNIQUE_OPERATORS),                           # (9) NUM OPERATORS ≥ NUM UNIQUE OPERATORS\n",
    "    (df.HALSTEAD_LENGTH != (df.NUM_OPERATORS + df.NUM_OPERANDS)),           # (10) HALSTEAD LENGTH = NUM OPERATORS + NUM OPERANDS\n",
    "    (df.CYCLOMATIC_COMPLEXITY > (df.NUM_OPERATORS)+1),                      # (11) CYCLOMATIC COMPLEXITY ≤ NUM OPERATORS+1\n",
    "    (df.CALL_PAIRS > df.NUM_OPERATORS),                                     # (12) CALL PAIRS ≤ NUM OPERATORS\n",
    "    integrity_13,                                                           # (13) HALSTEAD VOLUME = (NUM OPERATORS+NUM OPERANDS)*log2(NUM UNIQUE OPERATORS+NUM UNIQUE OPERANDS)\n",
    "    integrity_14,                                                           # (14) HALSTEAD LEVEL = (2/NUM UNIQUE OPERATORS)*(NUM UNIQUE OPERANDS/NUM OPERANDS)\n",
    "    integrity_15,                                                           # (15) HALSTEAD DIFFICULTY = (NUM UNIQUE OPERATORS/2)*(NUM OPERANDS/NUM UNIQUE OPERANDS)\n",
    "    integrity_16,                                                           # (16) HALSTEAD CONTENT = HALSTEAD VOLUME/HALSTEAD DIFFICULTY\n",
    "    integrity_17,                                                           # (17) HALSTEAD EFFORT = HALSTEAD VOLUME*HALSTEAD DIFFICULTY\n",
    "    (~np.isclose((df.HALSTEAD_PROG_TIME*18),df.HALSTEAD_EFFORT,atol=1)),    # (18) HALSTEAD PROG TIME = HALSTEAD EFFORT/18 \n",
    "]"
   ]
  },
  {
   "cell_type": "code",
   "execution_count": 381,
   "metadata": {},
   "outputs": [
    {
     "name": "stdout",
     "output_type": "stream",
     "text": [
      "271 {1536, 1, 1540, 5127, 3592, 1033, 4105, 2059, 5139, 1046, 5144, 4633, 538, 5149, 1056, 1569, 2080, 3104, 4128, 3621, 5153, 39, 551, 2089, 5156, 5159, 5163, 2605, 5166, 4658, 1075, 1079, 4663, 2109, 1087, 4162, 4674, 1611, 2635, 5200, 4689, 595, 2644, 597, 1621, 3160, 4697, 3676, 2142, 5216, 2145, 3170, 4194, 2660, 2662, 4711, 1640, 5222, 4203, 2160, 4212, 3701, 2167, 3703, 1145, 2170, 1659, 3195, 4221, 4222, 127, 3711, 4736, 4739, 2695, 3722, 2701, 1167, 2704, 3727, 1683, 1172, 4244, 664, 1688, 2713, 3225, 4253, 672, 1185, 2210, 3748, 4265, 683, 3756, 2221, 5292, 688, 2226, 4786, 2741, 3254, 3765, 5305, 4283, 5311, 2753, 194, 1731, 4805, 3270, 4806, 4808, 1226, 1229, 2254, 3790, 4303, 5331, 3799, 2264, 218, 219, 1245, 734, 4829, 2786, 5351, 232, 2792, 2794, 1260, 4338, 2291, 244, 3829, 2806, 5367, 3832, 1275, 2300, 253, 3835, 767, 3842, 3331, 2314, 5386, 2828, 1805, 4368, 4880, 3346, 4883, 3862, 791, 2328, 4887, 3867, 4379, 1309, 3869, 1823, 800, 3359, 802, 5409, 1828, 4388, 806, 5414, 5418, 4908, 1838, 2353, 1843, 4915, 4405, 824, 1849, 3386, 828, 4927, 4417, 5442, 838, 2374, 3398, 3912, 4423, 843, 5449, 4431, 3921, 1364, 1366, 3417, 2906, 5468, 350, 2910, 352, 3422, 3938, 4961, 1892, 2404, 2405, 2406, 4453, 1898, 1389, 4462, 2416, 5490, 2935, 3966, 1919, 1920, 2431, 4994, 900, 2951, 2955, 1934, 3470, 2449, 2455, 5016, 5017, 931, 4004, 5027, 1454, 2991, 4014, 2994, 2995, 2484, 5554, 4535, 5559, 3003, 3004, 4539, 5566, 970, 1482, 974, 4048, 4049, 3538, 5073, 981, 2006, 3031, 4054, 2016, 4064, 2020, 4070, 3053, 2542, 4590, 3568, 1522, 2035, 4594, 1526, 4089, 3068}\n"
     ]
    }
   ],
   "source": [
    "def table_4_J (df):\n",
    "    index = sum(integrity_checks_rows)>0\n",
    "    p_J_rows = set([r for r in range(len(index)) if index[r]])  \n",
    "    return len(p_J_rows), p_J_rows\n",
    "\n",
    "table_4_J_observed,p_J_rows = table_4_J(df)\n",
    "print(table_4_J_observed,p_J_rows)"
   ]
  },
  {
   "attachments": {},
   "cell_type": "markdown",
   "metadata": {},
   "source": [
    "### K - Cases with implausible values"
   ]
  },
  {
   "cell_type": "markdown",
   "metadata": {},
   "source": [
    "* LOC TOTAL = 0"
   ]
  },
  {
   "cell_type": "code",
   "execution_count": 382,
   "metadata": {},
   "outputs": [],
   "source": [
    "def loc_zero_rows(df):\n",
    "    index = (df.LOC_TOTAL==0)\n",
    "    loc_rows = set([r for r in range(len(index)) if index[r]])  \n",
    "    print(\"ROWS_LOC_TOTAL = 0 :\",len(loc_rows), loc_rows)\n",
    "    return loc_rows"
   ]
  },
  {
   "cell_type": "markdown",
   "metadata": {},
   "source": [
    "* value of any attribute is < 0"
   ]
  },
  {
   "cell_type": "code",
   "execution_count": 383,
   "metadata": {},
   "outputs": [],
   "source": [
    "def negative_rows(df):\n",
    "    index = (df<0).T.sum()>0\n",
    "    negative_rows = set([r for r in range(len(index)) if index[r]])  \n",
    "    print(\"ROWS with Negative value : \", len(negative_rows), negative_rows)\n",
    "    return negative_rows"
   ]
  },
  {
   "cell_type": "markdown",
   "metadata": {},
   "source": [
    "* any count is a non-integer"
   ]
  },
  {
   "cell_type": "code",
   "execution_count": 384,
   "metadata": {},
   "outputs": [],
   "source": [
    "def non_integer_rows(df):\n",
    "    counts_columns = list([c for c in list(df.columns) if \"COUNT\" in c])\n",
    "    df_tmp_counts = df[counts_columns]\n",
    "    index = df_tmp_counts.applymap(np.isreal).sum(axis=1)<len(counts_columns)\n",
    "    non_integer_rows = set([r for r in range(len(index)) if index[r]])  \n",
    "    print(\"ROWS with non-integer value on count columns : \",len(non_integer_rows), non_integer_rows)\n",
    "    return non_integer_rows"
   ]
  },
  {
   "cell_type": "code",
   "execution_count": 385,
   "metadata": {},
   "outputs": [
    {
     "name": "stdout",
     "output_type": "stream",
     "text": [
      "ROWS_LOC_TOTAL = 0 : 1084 {0, 1, 2051, 2052, 5, 2054, 4102, 4103, 2057, 4105, 12, 2065, 18, 4115, 22, 4118, 24, 2072, 4120, 4125, 4127, 4128, 35, 38, 2087, 40, 2089, 2090, 4139, 2092, 45, 4141, 4145, 2098, 2099, 52, 2101, 54, 4147, 59, 2109, 2111, 4162, 4164, 70, 2118, 2119, 4166, 2125, 78, 80, 2128, 2132, 85, 86, 2133, 88, 4180, 4181, 2140, 93, 95, 97, 2145, 2148, 4196, 104, 2154, 4203, 2156, 4208, 4212, 2166, 119, 2167, 4215, 4216, 125, 4221, 127, 4222, 129, 4224, 2180, 133, 2182, 136, 2187, 4236, 4237, 2193, 148, 4244, 2198, 154, 2202, 2209, 2210, 4257, 2212, 2213, 4258, 167, 2215, 2216, 4260, 4264, 4265, 4270, 177, 2225, 2235, 188, 4283, 4286, 4287, 4289, 4290, 4292, 197, 198, 4295, 4297, 203, 206, 2254, 2255, 4303, 4307, 4312, 218, 2266, 2267, 4316, 4318, 4319, 2273, 228, 4325, 2281, 4332, 237, 2285, 4334, 241, 242, 2291, 244, 4338, 4339, 4342, 2298, 2300, 2301, 4348, 2305, 4356, 261, 264, 2312, 2314, 2317, 2318, 272, 4368, 274, 2323, 4373, 282, 4379, 4380, 287, 2339, 4388, 4390, 297, 4393, 303, 304, 2352, 2354, 2355, 2356, 4404, 4405, 4406, 2361, 4409, 4413, 2367, 2368, 321, 4417, 2373, 2374, 328, 2380, 2384, 2385, 338, 2387, 4436, 4439, 2392, 2393, 346, 4443, 2396, 349, 350, 352, 353, 4450, 355, 357, 4453, 361, 2409, 363, 364, 366, 2415, 2416, 373, 374, 2423, 4472, 2425, 378, 2431, 4479, 2433, 388, 2437, 4485, 395, 397, 401, 4498, 404, 2452, 4502, 2455, 411, 412, 4508, 4510, 416, 2464, 4512, 2467, 4517, 2470, 2471, 2472, 2473, 426, 427, 2474, 429, 2475, 2478, 4522, 433, 4524, 2484, 2486, 4535, 4538, 4540, 447, 2498, 4546, 2500, 453, 456, 457, 2506, 460, 461, 4556, 463, 2511, 4562, 468, 472, 473, 2523, 4571, 2528, 2530, 4586, 493, 2542, 4590, 499, 2548, 4595, 2550, 4603, 508, 4605, 4607, 4610, 4612, 517, 4613, 524, 2575, 2577, 532, 4628, 4629, 4630, 4633, 4635, 2589, 4638, 544, 546, 4642, 4644, 2598, 551, 554, 2604, 4653, 2606, 2609, 4657, 4664, 569, 2618, 571, 574, 4672, 577, 2625, 2626, 4674, 4675, 4678, 583, 2633, 4681, 4682, 4684, 2637, 4689, 594, 595, 2644, 598, 4694, 4697, 4699, 604, 605, 4702, 4706, 2660, 614, 4711, 617, 2665, 619, 4715, 2671, 4723, 631, 635, 4734, 4736, 2691, 4739, 2695, 650, 4746, 653, 2701, 655, 2704, 4751, 659, 4756, 662, 2710, 4758, 666, 2717, 672, 673, 674, 4772, 4776, 2730, 683, 4780, 686, 2735, 2737, 4786, 692, 2741, 2745, 702, 704, 2753, 2754, 2755, 4803, 4805, 4806, 4807, 2761, 2765, 718, 2767, 4816, 2773, 4822, 727, 2775, 2780, 4828, 734, 4830, 2786, 4834, 2788, 742, 4839, 2794, 2798, 2800, 4851, 758, 759, 4854, 766, 767, 4863, 4865, 4866, 2826, 780, 2828, 4880, 4881, 786, 4883, 791, 4887, 796, 797, 2844, 4893, 800, 802, 806, 4902, 4908, 813, 4910, 4913, 818, 4915, 820, 2871, 4920, 2873, 828, 2877, 832, 4928, 2882, 835, 4932, 5457, 838, 843, 2892, 2895, 2896, 2897, 4945, 2905, 2906, 4955, 865, 4961, 4963, 2919, 872, 4967, 879, 4976, 4978, 883, 2931, 2935, 2936, 4987, 892, 4994, 2947, 900, 4997, 2950, 903, 5000, 2953, 5001, 907, 2955, 2959, 2960, 913, 915, 2963, 2964, 918, 2969, 2970, 2976, 2977, 931, 5027, 2982, 936, 937, 938, 2984, 942, 2991, 944, 2994, 947, 948, 2998, 5046, 5048, 3003, 5052, 3005, 958, 5053, 3012, 5061, 5063, 969, 3019, 5069, 5073, 981, 982, 5077, 984, 3033, 5080, 3037, 990, 5086, 5087, 993, 994, 5089, 996, 3045, 5091, 5098, 5099, 1004, 3055, 5103, 3062, 1015, 5111, 3065, 1018, 3066, 3068, 5112, 1022, 5114, 5116, 5117, 3074, 1027, 5123, 1030, 5127, 5129, 1034, 5130, 1036, 5133, 1038, 1039, 1040, 3090, 5139, 5140, 1046, 3095, 1052, 1053, 1054, 5149, 3104, 5151, 5153, 3107, 3108, 5154, 3110, 5156, 5163, 1068, 1070, 5166, 1073, 3122, 3124, 5172, 1079, 1080, 3127, 5178, 3132, 1085, 1086, 1087, 3138, 1091, 1092, 1093, 3139, 1096, 3144, 3146, 5195, 1100, 3149, 3150, 1103, 3152, 5200, 5205, 5206, 3160, 5208, 1115, 5211, 5212, 3166, 5214, 3170, 5220, 3173, 3174, 1127, 3179, 1133, 3181, 3182, 3184, 5232, 5233, 1139, 1143, 5242, 1147, 1150, 1151, 5246, 3202, 5264, 3219, 1176, 3225, 3228, 3229, 5276, 3231, 5279, 1185, 5280, 1188, 1189, 3236, 5285, 3240, 3243, 5294, 1199, 3247, 3249, 5299, 1206, 1207, 3254, 3257, 1210, 5305, 1212, 3260, 5306, 3266, 1219, 3267, 1226, 5323, 5325, 1231, 3282, 5331, 3284, 5334, 1239, 3288, 5336, 5341, 3294, 1248, 5345, 1250, 3299, 5348, 5351, 5352, 3307, 1260, 1263, 5360, 3313, 5362, 3319, 5367, 1275, 5376, 3331, 1286, 5383, 3337, 5386, 1291, 3342, 5390, 3344, 5392, 3346, 1300, 3348, 1302, 5397, 5402, 5403, 1309, 5406, 3359, 5409, 1314, 1316, 3365, 1318, 5412, 3368, 5414, 5415, 3371, 5418, 1325, 1329, 1330, 3377, 3380, 5428, 1334, 3383, 3385, 3386, 1340, 5436, 1342, 1343, 1344, 3390, 1346, 3393, 1348, 3396, 5437, 5438, 1352, 5441, 3402, 5445, 5449, 5452, 3407, 1360, 1361, 3408, 3410, 1364, 5455, 5456, 1367, 1368, 1369, 3417, 5462, 5465, 3421, 3422, 3423, 3424, 1377, 5468, 5471, 1380, 3428, 5475, 3431, 5482, 1389, 1391, 5490, 3443, 1396, 5491, 3446, 5493, 1400, 5496, 1403, 1406, 3455, 5503, 3457, 1411, 3460, 1414, 3462, 3463, 5510, 5511, 5516, 3469, 3470, 1424, 1428, 3483, 3487, 1440, 3489, 3491, 5541, 1446, 5542, 5544, 1454, 3503, 5551, 1457, 1458, 1459, 5553, 5557, 5558, 1463, 3511, 5559, 1469, 5566, 3520, 3524, 1477, 1478, 5583, 3536, 3538, 3539, 1496, 1499, 1501, 3553, 1508, 3560, 1522, 3571, 1524, 3576, 3583, 3587, 3589, 1543, 1544, 3592, 1546, 1547, 3595, 3598, 3601, 1559, 3611, 1567, 3617, 1571, 1572, 3621, 1583, 1585, 3637, 1590, 3641, 1594, 1604, 1605, 1606, 3655, 1611, 1617, 1621, 3669, 3672, 3676, 3679, 3681, 1634, 1635, 3682, 1639, 1640, 1643, 1646, 3694, 3695, 1650, 3699, 3700, 3701, 3703, 3706, 1659, 3711, 3714, 1667, 1669, 3722, 3725, 3727, 1682, 1683, 3733, 3735, 1695, 1699, 3748, 3749, 1706, 3756, 3758, 1714, 3762, 3763, 3764, 3765, 1725, 3774, 3778, 1731, 3780, 1733, 1738, 1742, 3790, 1745, 3793, 3798, 3799, 1758, 1759, 3807, 3814, 1770, 1772, 3824, 1777, 3827, 3829, 1783, 1784, 1785, 1790, 3842, 1805, 3853, 1815, 1816, 1818, 3867, 3869, 1822, 1823, 1828, 3877, 3878, 1833, 3885, 1838, 3888, 3890, 1843, 1845, 3893, 1849, 1850, 3899, 1861, 1863, 3912, 3913, 3917, 1873, 3921, 3922, 1881, 1886, 1889, 3938, 1892, 3945, 1903, 1904, 3952, 3956, 3959, 1916, 1919, 1920, 1927, 3978, 1934, 1936, 1938, 1941, 1942, 1946, 1953, 4003, 1962, 1965, 1967, 1969, 4022, 4023, 4024, 4036, 4039, 1993, 2002, 2006, 4054, 4057, 2010, 4061, 4063, 2016, 4064, 4065, 4066, 2020, 4074, 2027, 4077, 2030, 4080, 4082, 4086, 4089, 4092, 4093}\n",
      "ROWS with Negative value :  0 set()\n",
      "ROWS with non-integer value on count columns :  0 set()\n",
      "1084 {0, 1, 5, 4102, 4103, 4105, 12, 18, 4115, 22, 4118, 24, 4120, 4125, 4127, 4128, 35, 38, 40, 4139, 45, 4141, 4145, 4147, 52, 54, 59, 4162, 4164, 70, 4166, 78, 80, 4180, 85, 86, 4181, 88, 93, 95, 97, 4196, 104, 4203, 4208, 4212, 119, 4215, 4216, 125, 4221, 127, 4222, 129, 4224, 133, 136, 4236, 4237, 148, 4244, 154, 4257, 4258, 4260, 167, 4264, 4265, 4270, 177, 4283, 188, 4286, 4287, 4289, 4290, 4292, 197, 198, 4295, 4297, 203, 206, 4303, 4307, 4312, 218, 4316, 4318, 4319, 228, 4325, 4332, 237, 4334, 241, 242, 4338, 244, 4339, 4342, 4348, 4356, 261, 264, 272, 4368, 274, 4373, 282, 4379, 4380, 287, 4388, 4390, 297, 4393, 303, 304, 4404, 4405, 4406, 4409, 4413, 321, 4417, 328, 338, 4436, 4439, 346, 4443, 349, 350, 352, 353, 4450, 355, 357, 4453, 361, 363, 364, 366, 373, 374, 4472, 378, 4479, 388, 4485, 395, 397, 401, 4498, 404, 4502, 411, 412, 4508, 4510, 416, 4512, 4517, 426, 427, 4522, 429, 4524, 433, 4535, 4538, 4540, 447, 4546, 453, 456, 457, 460, 461, 4556, 463, 4562, 468, 472, 473, 4571, 4586, 493, 4590, 499, 4595, 4603, 508, 4605, 4607, 4610, 4612, 517, 4613, 524, 532, 4628, 4629, 4630, 4633, 4635, 4638, 544, 546, 4642, 4644, 551, 554, 4653, 4657, 4664, 569, 571, 574, 4672, 577, 4674, 4675, 4678, 583, 4681, 4682, 4684, 4689, 594, 595, 598, 4694, 4697, 4699, 604, 605, 4702, 4706, 614, 4711, 617, 619, 4715, 4723, 631, 635, 4734, 4736, 4739, 650, 4746, 653, 655, 4751, 659, 4756, 662, 4758, 666, 672, 673, 674, 4772, 4776, 683, 4780, 686, 4786, 692, 702, 704, 4803, 4805, 4806, 4807, 718, 4816, 4822, 727, 4828, 734, 4830, 4834, 742, 4839, 4851, 758, 759, 4854, 766, 767, 4863, 4865, 4866, 780, 4880, 4881, 786, 4883, 791, 4887, 796, 797, 4893, 800, 802, 806, 4902, 4908, 813, 4910, 4913, 818, 4915, 820, 4920, 828, 832, 4928, 835, 4932, 838, 843, 4945, 4955, 865, 4961, 4963, 4967, 872, 879, 4976, 4978, 883, 4987, 892, 4994, 900, 4997, 903, 5000, 5001, 907, 913, 915, 918, 931, 5027, 936, 937, 938, 942, 944, 947, 948, 5046, 5048, 5052, 5053, 958, 5061, 5063, 969, 5069, 5073, 981, 982, 5077, 984, 5080, 990, 5086, 5087, 993, 994, 5089, 996, 5091, 5098, 5099, 1004, 5103, 1015, 5111, 5112, 1018, 5114, 5116, 5117, 1022, 1027, 5123, 1030, 5127, 5129, 1034, 5130, 1036, 5133, 1038, 1039, 1040, 5139, 5140, 1046, 1052, 1053, 1054, 5149, 5151, 5153, 5154, 5156, 5163, 1068, 1070, 5166, 1073, 5172, 1079, 1080, 5178, 1085, 1086, 1087, 1091, 1092, 1093, 1096, 5195, 1100, 1103, 5200, 5205, 5206, 5208, 1115, 5211, 5212, 5214, 5220, 1127, 1133, 5232, 5233, 1139, 1143, 5242, 1147, 1150, 1151, 5246, 5264, 1176, 5276, 5279, 5280, 1185, 1188, 1189, 5285, 5294, 1199, 5299, 1206, 1207, 5305, 1210, 5306, 1212, 1219, 1226, 5323, 5325, 1231, 5331, 5334, 1239, 5336, 5341, 1248, 5345, 1250, 5348, 5351, 5352, 1260, 1263, 5360, 5362, 5367, 1275, 5376, 1286, 5383, 5386, 1291, 5390, 5392, 1300, 5397, 1302, 5402, 5403, 1309, 5406, 5409, 1314, 1316, 5412, 1318, 5414, 5415, 5418, 1325, 1329, 1330, 5428, 1334, 1340, 5436, 1342, 1343, 1344, 5437, 1346, 5438, 1348, 5441, 5445, 1352, 5449, 5452, 5455, 1360, 5457, 1361, 5456, 1364, 5462, 1367, 1368, 1369, 5465, 5468, 5471, 1377, 5475, 1380, 5482, 1389, 1391, 5490, 5491, 1396, 5493, 1400, 5496, 1403, 1406, 5503, 1411, 1414, 5510, 5511, 5516, 1424, 1428, 1440, 5541, 1446, 5542, 5544, 1454, 5551, 1457, 1458, 1459, 5553, 5557, 5558, 1463, 5559, 1469, 5566, 1477, 1478, 5583, 1496, 1499, 1501, 1508, 1522, 1524, 1543, 1544, 1546, 1547, 1559, 1567, 1571, 1572, 1583, 1585, 1590, 1594, 1604, 1605, 1606, 1611, 1617, 1621, 1634, 1635, 1639, 1640, 1643, 1646, 1650, 1659, 1667, 1669, 1682, 1683, 1695, 1699, 1706, 1714, 1725, 1731, 1733, 1738, 1742, 1745, 1758, 1759, 1770, 1772, 1777, 1783, 1784, 1785, 1790, 1805, 1815, 1816, 1818, 1822, 1823, 1828, 1833, 1838, 1843, 1845, 1849, 1850, 1861, 1863, 1873, 1881, 1886, 1889, 1892, 1903, 1904, 1916, 1919, 1920, 1927, 1934, 1936, 1938, 1941, 1942, 1946, 1953, 1962, 1965, 1967, 1969, 1993, 2002, 2006, 2010, 2016, 2020, 2027, 2030, 2051, 2052, 2054, 2057, 2065, 2072, 2087, 2089, 2090, 2092, 2098, 2099, 2101, 2109, 2111, 2118, 2119, 2125, 2128, 2132, 2133, 2140, 2145, 2148, 2154, 2156, 2166, 2167, 2180, 2182, 2187, 2193, 2198, 2202, 2209, 2210, 2212, 2213, 2215, 2216, 2225, 2235, 2254, 2255, 2266, 2267, 2273, 2281, 2285, 2291, 2298, 2300, 2301, 2305, 2312, 2314, 2317, 2318, 2323, 2339, 2352, 2354, 2355, 2356, 2361, 2367, 2368, 2373, 2374, 2380, 2384, 2385, 2387, 2392, 2393, 2396, 2409, 2415, 2416, 2423, 2425, 2431, 2433, 2437, 2452, 2455, 2464, 2467, 2470, 2471, 2472, 2473, 2474, 2475, 2478, 2484, 2486, 2498, 2500, 2506, 2511, 2523, 2528, 2530, 2542, 2548, 2550, 2575, 2577, 2589, 2598, 2604, 2606, 2609, 2618, 2625, 2626, 2633, 2637, 2644, 2660, 2665, 2671, 2691, 2695, 2701, 2704, 2710, 2717, 2730, 2735, 2737, 2741, 2745, 2753, 2754, 2755, 2761, 2765, 2767, 2773, 2775, 2780, 2786, 2788, 2794, 2798, 2800, 2826, 2828, 2844, 2871, 2873, 2877, 2882, 2892, 2895, 2896, 2897, 2905, 2906, 2919, 2931, 2935, 2936, 2947, 2950, 2953, 2955, 2959, 2960, 2963, 2964, 2969, 2970, 2976, 2977, 2982, 2984, 2991, 2994, 2998, 3003, 3005, 3012, 3019, 3033, 3037, 3045, 3055, 3062, 3065, 3066, 3068, 3074, 3090, 3095, 3104, 3107, 3108, 3110, 3122, 3124, 3127, 3132, 3138, 3139, 3144, 3146, 3149, 3150, 3152, 3160, 3166, 3170, 3173, 3174, 3179, 3181, 3182, 3184, 3202, 3219, 3225, 3228, 3229, 3231, 3236, 3240, 3243, 3247, 3249, 3254, 3257, 3260, 3266, 3267, 3282, 3284, 3288, 3294, 3299, 3307, 3313, 3319, 3331, 3337, 3342, 3344, 3346, 3348, 3359, 3365, 3368, 3371, 3377, 3380, 3383, 3385, 3386, 3390, 3393, 3396, 3402, 3407, 3408, 3410, 3417, 3421, 3422, 3423, 3424, 3428, 3431, 3443, 3446, 3455, 3457, 3460, 3462, 3463, 3469, 3470, 3483, 3487, 3489, 3491, 3503, 3511, 3520, 3524, 3536, 3538, 3539, 3553, 3560, 3571, 3576, 3583, 3587, 3589, 3592, 3595, 3598, 3601, 3611, 3617, 3621, 3637, 3641, 3655, 3669, 3672, 3676, 3679, 3681, 3682, 3694, 3695, 3699, 3700, 3701, 3703, 3706, 3711, 3714, 3722, 3725, 3727, 3733, 3735, 3748, 3749, 3756, 3758, 3762, 3763, 3764, 3765, 3774, 3778, 3780, 3790, 3793, 3798, 3799, 3807, 3814, 3824, 3827, 3829, 3842, 3853, 3867, 3869, 3877, 3878, 3885, 3888, 3890, 3893, 3899, 3912, 3913, 3917, 3921, 3922, 3938, 3945, 3952, 3956, 3959, 3978, 4003, 4022, 4023, 4024, 4036, 4039, 4054, 4057, 4061, 4063, 4064, 4065, 4066, 4074, 4077, 4080, 4082, 4086, 4089, 4092, 4093}\n"
     ]
    }
   ],
   "source": [
    "def table_4_K (df):\n",
    "    p_K_rows = loc_zero_rows(df) | negative_rows(df) | non_integer_rows(df)\n",
    "    return len(p_K_rows), p_K_rows\n",
    "\n",
    "table_4_K_observed, p_K_rows = table_4_K(df)\n",
    "print(table_4_K_observed,p_K_rows)"
   ]
  },
  {
   "attachments": {},
   "cell_type": "markdown",
   "metadata": {},
   "source": [
    "### L - Total Problem cases, DS' (I - k)"
   ]
  },
  {
   "cell_type": "code",
   "execution_count": 386,
   "metadata": {},
   "outputs": [
    {
     "name": "stdout",
     "output_type": "stream",
     "text": [
      "1174 {0, 1, 5, 4102, 4103, 4105, 12, 18, 4115, 22, 4118, 24, 4120, 4125, 4127, 4128, 35, 38, 39, 40, 4139, 45, 4141, 4145, 4147, 52, 54, 59, 4162, 4164, 70, 4166, 78, 80, 4180, 85, 86, 4181, 88, 93, 95, 97, 4194, 4196, 104, 4203, 4208, 4212, 119, 4215, 4216, 125, 4221, 127, 4222, 129, 4224, 133, 136, 4236, 4237, 148, 4244, 154, 4253, 4257, 4258, 4260, 167, 4264, 4265, 4270, 177, 4283, 188, 4286, 4287, 4289, 4290, 194, 4292, 197, 198, 4295, 4297, 203, 206, 4303, 4307, 4312, 218, 219, 4316, 4318, 4319, 228, 4325, 232, 4332, 237, 4334, 241, 242, 4338, 244, 4339, 4342, 4348, 253, 4356, 261, 264, 272, 4368, 274, 4373, 282, 4379, 4380, 287, 4388, 4390, 297, 4393, 303, 304, 4404, 4405, 4406, 4409, 4413, 321, 4417, 4423, 328, 4431, 338, 4436, 4439, 346, 4443, 349, 350, 352, 353, 4450, 355, 357, 4453, 361, 363, 364, 366, 4462, 373, 374, 4472, 378, 4479, 388, 4485, 395, 397, 401, 4498, 404, 4502, 411, 412, 4508, 4510, 416, 4512, 4517, 426, 427, 4522, 429, 4524, 433, 4535, 4538, 4539, 4540, 447, 4546, 453, 456, 457, 460, 461, 4556, 463, 4562, 468, 472, 473, 4571, 4586, 493, 4590, 4594, 499, 4595, 4603, 508, 4605, 4607, 4610, 4612, 517, 4613, 524, 532, 4628, 4629, 4630, 4633, 538, 4635, 4638, 544, 546, 4642, 4644, 551, 554, 4653, 4657, 4658, 4663, 4664, 569, 571, 574, 4672, 577, 4674, 4675, 4678, 583, 4681, 4682, 4684, 4689, 594, 595, 597, 598, 4694, 4697, 4699, 604, 605, 4702, 4706, 614, 4711, 617, 619, 4715, 4723, 631, 635, 4734, 4736, 4739, 650, 4746, 653, 655, 4751, 659, 4756, 662, 4758, 664, 666, 672, 673, 674, 4772, 4776, 683, 4780, 686, 688, 4786, 692, 702, 704, 4803, 4805, 4806, 4807, 4808, 718, 4816, 4822, 727, 4828, 4829, 734, 4830, 4834, 742, 4839, 4851, 758, 759, 4854, 766, 767, 4863, 4865, 4866, 780, 4880, 4881, 786, 4883, 791, 4887, 796, 797, 4893, 800, 802, 806, 4902, 4908, 813, 4910, 4913, 818, 4915, 820, 4920, 824, 828, 4927, 832, 4928, 835, 4932, 838, 843, 4945, 4955, 865, 4961, 4963, 4967, 872, 879, 4976, 4978, 883, 4987, 892, 4994, 900, 4997, 903, 5000, 5001, 907, 913, 915, 918, 5016, 5017, 931, 5027, 936, 937, 938, 942, 944, 947, 948, 5046, 5048, 5052, 5053, 958, 5061, 5063, 969, 970, 5069, 974, 5073, 981, 982, 5077, 984, 5080, 990, 5086, 5087, 993, 994, 5089, 996, 5091, 5098, 5099, 1004, 5103, 1015, 5111, 5112, 1018, 5114, 5116, 5117, 1022, 1027, 5123, 1030, 5127, 5129, 1034, 5130, 1036, 5133, 1038, 1039, 1040, 1033, 5139, 5140, 1046, 5144, 1052, 1053, 1054, 5149, 5151, 5153, 5154, 1056, 5156, 5159, 5163, 1068, 1070, 5166, 1073, 1075, 5172, 1079, 1080, 5178, 1085, 1086, 1087, 1091, 1092, 1093, 1096, 5195, 1100, 1103, 5200, 5205, 5206, 5208, 1115, 5211, 5212, 5214, 5216, 5220, 5222, 1127, 1133, 5232, 5233, 1139, 1143, 1145, 5242, 1147, 1150, 1151, 5246, 1167, 5264, 1172, 1176, 5276, 5279, 5280, 1185, 1188, 1189, 5285, 5292, 5294, 1199, 5299, 1206, 1207, 5305, 1210, 5306, 1212, 5311, 1219, 1226, 5323, 5325, 1229, 1231, 5331, 5334, 1239, 5336, 5341, 1245, 1248, 5345, 1250, 5348, 5351, 5352, 1260, 1263, 5360, 5362, 5367, 1275, 5376, 1286, 5383, 5386, 1291, 5390, 5392, 1300, 5397, 1302, 5402, 5403, 1309, 5406, 5409, 1314, 1316, 5412, 1318, 5414, 5415, 5418, 1325, 1329, 1330, 5428, 1334, 1340, 5436, 1342, 1343, 1344, 5437, 1346, 5438, 1348, 5441, 5445, 5442, 1352, 5449, 5452, 5455, 1360, 5457, 1361, 5456, 1364, 5462, 1367, 1368, 1369, 5465, 1366, 5468, 5471, 1377, 5475, 1380, 5482, 1389, 1391, 5490, 5491, 1396, 5493, 1400, 5496, 1403, 1406, 5503, 1411, 1414, 5510, 5511, 5516, 1424, 1428, 1440, 5541, 1446, 5542, 5544, 1454, 5551, 1457, 1458, 1459, 5553, 5557, 5558, 1463, 5559, 5554, 1469, 5566, 1477, 1478, 1482, 5583, 1496, 1499, 1501, 1508, 1522, 1524, 1526, 1536, 1540, 1543, 1544, 1546, 1547, 1559, 1567, 1569, 1571, 1572, 1583, 1585, 1590, 1594, 1604, 1605, 1606, 1611, 1617, 1621, 1634, 1635, 1639, 1640, 1643, 1646, 1650, 1659, 1667, 1669, 1682, 1683, 1688, 1695, 1699, 1706, 1714, 1725, 1731, 1733, 1738, 1742, 1745, 1758, 1759, 1770, 1772, 1777, 1783, 1784, 1785, 1790, 1805, 1815, 1816, 1818, 1822, 1823, 1828, 1833, 1838, 1843, 1845, 1849, 1850, 1861, 1863, 1873, 1881, 1886, 1889, 1892, 1898, 1903, 1904, 1916, 1919, 1920, 1927, 1934, 1936, 1938, 1941, 1942, 1946, 1953, 1962, 1965, 1967, 1969, 1993, 2002, 2006, 2010, 2016, 2020, 2027, 2030, 2035, 2051, 2052, 2054, 2057, 2059, 2065, 2072, 2080, 2087, 2089, 2090, 2092, 2098, 2099, 2101, 2109, 2111, 2118, 2119, 2125, 2128, 2132, 2133, 2140, 2142, 2145, 2148, 2154, 2156, 2160, 2166, 2167, 2170, 2180, 2182, 2187, 2193, 2198, 2202, 2209, 2210, 2212, 2213, 2215, 2216, 2221, 2225, 2226, 2235, 2254, 2255, 2264, 2266, 2267, 2273, 2281, 2285, 2291, 2298, 2300, 2301, 2305, 2312, 2314, 2317, 2318, 2323, 2328, 2339, 2352, 2353, 2354, 2355, 2356, 2361, 2367, 2368, 2373, 2374, 2380, 2384, 2385, 2387, 2392, 2393, 2396, 2404, 2405, 2406, 2409, 2415, 2416, 2423, 2425, 2431, 2433, 2437, 2449, 2452, 2455, 2464, 2467, 2470, 2471, 2472, 2473, 2474, 2475, 2478, 2484, 2486, 2498, 2500, 2506, 2511, 2523, 2528, 2530, 2542, 2548, 2550, 2575, 2577, 2589, 2598, 2604, 2605, 2606, 2609, 2618, 2625, 2626, 2633, 2635, 2637, 2644, 2660, 2662, 2665, 2671, 2691, 2695, 2701, 2704, 2710, 2713, 2717, 2730, 2735, 2737, 2741, 2745, 2753, 2754, 2755, 2761, 2765, 2767, 2773, 2775, 2780, 2786, 2788, 2792, 2794, 2798, 2800, 2806, 2826, 2828, 2844, 2871, 2873, 2877, 2882, 2892, 2895, 2896, 2897, 2905, 2906, 2910, 2919, 2931, 2935, 2936, 2947, 2950, 2951, 2953, 2955, 2959, 2960, 2963, 2964, 2969, 2970, 2976, 2977, 2982, 2984, 2991, 2994, 2995, 2998, 3003, 3004, 3005, 3012, 3019, 3031, 3033, 3037, 3045, 3053, 3055, 3062, 3065, 3066, 3068, 3074, 3090, 3095, 3104, 3107, 3108, 3110, 3122, 3124, 3127, 3132, 3138, 3139, 3144, 3146, 3149, 3150, 3152, 3160, 3166, 3170, 3173, 3174, 3179, 3181, 3182, 3184, 3195, 3202, 3219, 3225, 3228, 3229, 3231, 3236, 3240, 3243, 3247, 3249, 3254, 3257, 3260, 3266, 3267, 3270, 3282, 3284, 3288, 3294, 3299, 3307, 3313, 3319, 3331, 3337, 3342, 3344, 3346, 3348, 3359, 3365, 3368, 3371, 3377, 3380, 3383, 3385, 3386, 3390, 3393, 3396, 3398, 3402, 3407, 3408, 3410, 3417, 3421, 3422, 3423, 3424, 3428, 3431, 3443, 3446, 3455, 3457, 3460, 3462, 3463, 3469, 3470, 3483, 3487, 3489, 3491, 3503, 3511, 3520, 3524, 3536, 3538, 3539, 3553, 3560, 3568, 3571, 3576, 3583, 3587, 3589, 3592, 3595, 3598, 3601, 3611, 3617, 3621, 3637, 3641, 3655, 3669, 3672, 3676, 3679, 3681, 3682, 3694, 3695, 3699, 3700, 3701, 3703, 3706, 3711, 3714, 3722, 3725, 3727, 3733, 3735, 3748, 3749, 3756, 3758, 3762, 3763, 3764, 3765, 3774, 3778, 3780, 3790, 3793, 3798, 3799, 3807, 3814, 3824, 3827, 3829, 3832, 3835, 3842, 3853, 3862, 3867, 3869, 3877, 3878, 3885, 3888, 3890, 3893, 3899, 3912, 3913, 3917, 3921, 3922, 3938, 3945, 3952, 3956, 3959, 3966, 3978, 4003, 4004, 4014, 4022, 4023, 4024, 4036, 4039, 4048, 4049, 4054, 4057, 4061, 4063, 4064, 4065, 4066, 4070, 4074, 4077, 4080, 4082, 4086, 4089, 4092, 4093}\n"
     ]
    }
   ],
   "source": [
    "def table_4_L ():\n",
    "    p_L_rows = set(p_K_rows | p_J_rows | p_I_rows)\n",
    "    p_L_count = len(p_L_rows)\n",
    "    return p_L_count,p_L_rows\n",
    "\n",
    "table_4_L_observed, p_L_rows = table_4_L()\n",
    "print(table_4_L_observed,p_L_rows)"
   ]
  },
  {
   "attachments": {},
   "cell_type": "markdown",
   "metadata": {},
   "source": [
    "### M - Total Problem cases, DS'' (G - K)"
   ]
  },
  {
   "cell_type": "code",
   "execution_count": 387,
   "metadata": {},
   "outputs": [
    {
     "name": "stdout",
     "output_type": "stream",
     "text": [
      "4658 {0, 1, 4, 5, 6, 7, 8, 11, 12, 13, 14, 16, 17, 18, 19, 20, 21, 22, 24, 25, 27, 29, 30, 33, 34, 35, 37, 38, 39, 40, 41, 42, 45, 46, 48, 49, 51, 52, 53, 54, 55, 56, 57, 58, 59, 60, 61, 62, 65, 66, 69, 70, 71, 72, 73, 75, 76, 78, 79, 80, 81, 82, 83, 84, 85, 86, 87, 88, 89, 91, 92, 93, 94, 95, 96, 97, 98, 99, 100, 101, 104, 105, 106, 107, 108, 109, 110, 113, 114, 115, 116, 117, 118, 119, 120, 121, 122, 123, 124, 125, 126, 127, 128, 129, 130, 131, 132, 133, 134, 135, 136, 137, 139, 140, 141, 142, 144, 145, 148, 150, 151, 152, 153, 154, 156, 157, 159, 160, 162, 163, 164, 165, 166, 167, 169, 170, 172, 173, 175, 176, 177, 178, 179, 180, 181, 183, 184, 185, 186, 187, 188, 189, 190, 191, 192, 193, 194, 195, 196, 197, 198, 199, 200, 201, 203, 205, 206, 207, 208, 209, 212, 213, 214, 215, 216, 217, 218, 219, 220, 221, 222, 225, 226, 227, 228, 229, 230, 231, 232, 233, 236, 237, 238, 240, 241, 242, 243, 244, 245, 246, 247, 249, 250, 251, 253, 254, 256, 257, 258, 260, 261, 262, 263, 264, 265, 267, 270, 271, 272, 273, 274, 275, 277, 278, 279, 280, 281, 282, 283, 284, 285, 286, 287, 288, 289, 290, 291, 292, 293, 294, 295, 296, 297, 298, 299, 301, 302, 303, 304, 305, 307, 308, 309, 310, 311, 313, 314, 315, 316, 317, 318, 319, 321, 322, 323, 324, 325, 327, 328, 330, 331, 332, 333, 334, 335, 336, 337, 338, 339, 340, 341, 342, 345, 346, 347, 348, 349, 350, 351, 352, 353, 354, 355, 356, 357, 358, 359, 360, 361, 363, 364, 366, 367, 368, 369, 370, 371, 372, 373, 374, 375, 376, 377, 378, 379, 380, 381, 382, 383, 385, 387, 388, 391, 392, 393, 394, 395, 396, 397, 398, 399, 401, 402, 403, 404, 405, 406, 407, 409, 410, 411, 412, 413, 414, 415, 416, 417, 418, 420, 424, 425, 426, 427, 429, 431, 432, 433, 434, 436, 437, 438, 439, 440, 441, 442, 446, 447, 448, 450, 451, 453, 454, 455, 456, 457, 458, 460, 461, 462, 463, 464, 468, 469, 470, 472, 473, 475, 476, 477, 478, 479, 480, 481, 482, 483, 484, 485, 486, 488, 491, 493, 494, 495, 497, 498, 499, 500, 501, 502, 503, 504, 505, 506, 507, 508, 510, 511, 512, 513, 514, 515, 516, 517, 518, 519, 520, 521, 522, 523, 524, 525, 526, 527, 528, 529, 530, 531, 532, 534, 535, 536, 537, 538, 539, 540, 541, 543, 544, 546, 548, 549, 550, 551, 552, 553, 554, 555, 556, 557, 558, 559, 560, 561, 562, 564, 565, 566, 567, 568, 569, 570, 571, 572, 573, 574, 575, 576, 577, 578, 579, 580, 582, 583, 584, 585, 586, 587, 589, 590, 591, 592, 594, 595, 596, 597, 598, 599, 600, 602, 604, 605, 606, 607, 608, 610, 611, 612, 613, 614, 615, 616, 617, 618, 619, 621, 622, 623, 624, 625, 626, 627, 628, 630, 631, 633, 634, 635, 636, 638, 639, 642, 644, 645, 646, 647, 648, 649, 650, 651, 652, 653, 654, 655, 656, 657, 659, 661, 662, 663, 664, 665, 666, 669, 670, 671, 672, 673, 674, 676, 679, 680, 681, 682, 683, 684, 685, 686, 687, 688, 689, 690, 691, 692, 693, 695, 697, 698, 699, 700, 701, 702, 703, 704, 705, 707, 708, 709, 710, 711, 712, 713, 716, 717, 718, 719, 721, 722, 723, 724, 725, 727, 728, 729, 730, 731, 732, 733, 734, 735, 736, 737, 738, 739, 740, 741, 742, 744, 745, 746, 747, 748, 749, 750, 751, 752, 753, 754, 756, 757, 758, 759, 760, 761, 762, 763, 765, 766, 767, 770, 771, 772, 773, 774, 775, 776, 777, 778, 780, 781, 782, 783, 784, 785, 786, 787, 789, 790, 791, 792, 793, 794, 795, 796, 797, 798, 799, 800, 801, 802, 803, 805, 806, 807, 808, 809, 812, 813, 814, 815, 816, 818, 819, 820, 821, 822, 823, 824, 825, 826, 827, 828, 829, 830, 831, 832, 834, 835, 838, 840, 842, 843, 844, 845, 846, 847, 848, 849, 850, 851, 852, 854, 856, 857, 858, 861, 862, 863, 864, 865, 867, 869, 871, 872, 873, 874, 875, 876, 877, 878, 879, 880, 881, 882, 883, 884, 885, 887, 888, 889, 890, 891, 892, 893, 895, 896, 897, 899, 900, 901, 903, 904, 905, 906, 907, 908, 909, 910, 911, 912, 913, 914, 915, 917, 918, 919, 920, 921, 922, 923, 924, 925, 927, 928, 929, 930, 931, 932, 933, 934, 935, 936, 937, 938, 942, 943, 944, 945, 946, 947, 948, 949, 951, 952, 954, 956, 957, 958, 959, 960, 961, 962, 963, 965, 966, 967, 968, 969, 970, 973, 974, 975, 976, 977, 978, 979, 980, 981, 982, 983, 984, 987, 988, 989, 990, 991, 992, 993, 994, 995, 996, 997, 998, 1000, 1001, 1002, 1004, 1005, 1007, 1008, 1009, 1010, 1012, 1014, 1015, 1016, 1017, 1018, 1019, 1020, 1021, 1022, 1024, 1025, 1026, 1027, 1030, 1031, 1033, 1034, 1035, 1036, 1037, 1038, 1039, 1040, 1041, 1042, 1043, 1044, 1045, 1046, 1047, 1048, 1049, 1050, 1051, 1052, 1053, 1054, 1055, 1056, 1057, 1058, 1059, 1060, 1061, 1062, 1064, 1065, 1066, 1067, 1068, 1070, 1071, 1072, 1073, 1074, 1075, 1076, 1077, 1078, 1079, 1080, 1081, 1082, 1083, 1084, 1085, 1086, 1087, 1088, 1089, 1090, 1091, 1092, 1093, 1094, 1095, 1096, 1097, 1098, 1099, 1100, 1102, 1103, 1106, 1107, 1110, 1111, 1113, 1114, 1115, 1116, 1117, 1118, 1119, 1121, 1122, 1123, 1126, 1127, 1128, 1129, 1130, 1132, 1133, 1134, 1136, 1137, 1138, 1139, 1140, 1141, 1142, 1143, 1144, 1145, 1146, 1147, 1148, 1149, 1150, 1151, 1152, 1155, 1156, 1157, 1158, 1160, 1161, 1162, 1163, 1164, 1165, 1166, 1167, 1168, 1169, 1170, 1171, 1172, 1173, 1174, 1175, 1176, 1177, 1178, 1179, 1180, 1181, 1182, 1184, 1185, 1186, 1188, 1189, 1191, 1192, 1193, 1194, 1198, 1199, 1200, 1201, 1203, 1204, 1205, 1206, 1207, 1208, 1210, 1211, 1212, 1213, 1214, 1216, 1217, 1218, 1219, 1220, 1222, 1223, 1224, 1225, 1226, 1228, 1229, 1231, 1232, 1235, 1236, 1237, 1238, 1239, 1241, 1242, 1243, 1245, 1246, 1247, 1248, 1250, 1251, 1252, 1253, 1254, 1255, 1257, 1259, 1260, 1261, 1262, 1263, 1264, 1265, 1266, 1267, 1268, 1269, 1270, 1272, 1273, 1274, 1275, 1276, 1278, 1279, 1280, 1282, 1283, 1284, 1285, 1286, 1287, 1289, 1290, 1291, 1293, 1294, 1296, 1298, 1300, 1301, 1302, 1303, 1304, 1305, 1306, 1307, 1308, 1309, 1310, 1311, 1312, 1313, 1314, 1315, 1316, 1317, 1318, 1319, 1320, 1321, 1322, 1323, 1324, 1325, 1327, 1328, 1329, 1330, 1331, 1332, 1333, 1334, 1335, 1336, 1337, 1338, 1339, 1340, 1342, 1343, 1344, 1345, 1346, 1347, 1348, 1349, 1350, 1351, 1352, 1354, 1356, 1357, 1358, 1359, 1360, 1361, 1363, 1364, 1365, 1366, 1367, 1368, 1369, 1371, 1372, 1373, 1374, 1375, 1376, 1377, 1378, 1380, 1381, 1382, 1384, 1387, 1388, 1389, 1390, 1391, 1393, 1394, 1395, 1396, 1397, 1398, 1399, 1400, 1401, 1402, 1403, 1406, 1407, 1408, 1409, 1410, 1411, 1414, 1415, 1416, 1418, 1419, 1420, 1422, 1423, 1424, 1425, 1426, 1427, 1428, 1429, 1430, 1431, 1432, 1433, 1434, 1435, 1436, 1437, 1439, 1440, 1442, 1443, 1444, 1445, 1446, 1447, 1448, 1449, 1450, 1451, 1452, 1453, 1454, 1455, 1456, 1457, 1458, 1459, 1460, 1461, 1462, 1463, 1465, 1466, 1467, 1468, 1469, 1470, 1471, 1472, 1473, 1474, 1475, 1476, 1477, 1478, 1479, 1480, 1481, 1482, 1483, 1484, 1486, 1487, 1488, 1489, 1490, 1491, 1492, 1493, 1494, 1495, 1496, 1497, 1498, 1499, 1500, 1501, 1502, 1503, 1504, 1506, 1507, 1508, 1509, 1510, 1511, 1512, 1513, 1514, 1515, 1517, 1518, 1519, 1520, 1521, 1522, 1524, 1526, 1527, 1528, 1529, 1530, 1531, 1532, 1533, 1534, 1536, 1537, 1538, 1539, 1540, 1541, 1543, 1544, 1545, 1546, 1547, 1548, 1550, 1551, 1552, 1553, 1554, 1556, 1557, 1559, 1560, 1561, 1562, 1563, 1564, 1565, 1566, 1567, 1569, 1570, 1571, 1572, 1574, 1575, 1576, 1577, 1578, 1580, 1581, 1582, 1583, 1585, 1586, 1587, 1588, 1589, 1590, 1591, 1592, 1593, 1594, 1595, 1596, 1599, 1600, 1601, 1602, 1603, 1604, 1605, 1606, 1608, 1609, 1611, 1612, 1613, 1614, 1615, 1616, 1617, 1619, 1620, 1621, 1622, 1624, 1625, 1627, 1628, 1630, 1631, 1633, 1634, 1635, 1636, 1637, 1638, 1639, 1640, 1641, 1642, 1643, 1644, 1645, 1646, 1647, 1649, 1650, 1652, 1653, 1654, 1655, 1658, 1659, 1660, 1661, 1662, 1664, 1665, 1667, 1669, 1670, 1671, 1672, 1673, 1674, 1675, 1676, 1677, 1678, 1680, 1682, 1683, 1684, 1685, 1686, 1687, 1688, 1689, 1690, 1691, 1692, 1693, 1695, 1698, 1699, 1700, 1701, 1703, 1704, 1706, 1707, 1708, 1709, 1710, 1711, 1713, 1714, 1715, 1716, 1717, 1719, 1722, 1723, 1725, 1726, 1727, 1729, 1730, 1731, 1732, 1733, 1734, 1735, 1736, 1737, 1738, 1739, 1741, 1742, 1744, 1745, 1746, 1747, 1752, 1753, 1755, 1756, 1757, 1758, 1759, 1760, 1761, 1762, 1763, 1764, 1765, 1768, 1769, 1770, 1772, 1773, 1774, 1775, 1776, 1777, 1778, 1779, 1780, 1781, 1783, 1784, 1785, 1788, 1789, 1790, 1791, 1792, 1793, 1794, 1795, 1796, 1797, 1799, 1800, 1801, 1802, 1804, 1805, 1806, 1807, 1808, 1809, 1811, 1812, 1813, 1814, 1815, 1816, 1818, 1819, 1820, 1821, 1822, 1823, 1825, 1827, 1828, 1829, 1831, 1832, 1833, 1835, 1836, 1837, 1838, 1839, 1840, 1842, 1843, 1844, 1845, 1846, 1847, 1849, 1850, 1852, 1853, 1854, 1855, 1856, 1857, 1858, 1859, 1860, 1861, 1862, 1863, 1865, 1867, 1868, 1869, 1871, 1873, 1874, 1875, 1876, 1877, 1879, 1881, 1882, 1883, 1884, 1885, 1886, 1887, 1888, 1889, 1890, 1891, 1892, 1893, 1894, 1896, 1897, 1898, 1899, 1900, 1901, 1902, 1903, 1904, 1905, 1906, 1908, 1909, 1910, 1911, 1912, 1913, 1914, 1915, 1916, 1917, 1918, 1919, 1920, 1921, 1922, 1923, 1924, 1925, 1926, 1927, 1928, 1930, 1931, 1932, 1933, 1934, 1935, 1936, 1937, 1938, 1939, 1941, 1942, 1944, 1946, 1947, 1948, 1949, 1950, 1951, 1952, 1953, 1954, 1955, 1956, 1957, 1960, 1961, 1962, 1963, 1964, 1965, 1966, 1967, 1968, 1969, 1970, 1971, 1972, 1973, 1974, 1975, 1976, 1977, 1978, 1979, 1981, 1982, 1983, 1984, 1985, 1986, 1987, 1988, 1989, 1991, 1993, 1994, 1997, 1999, 2000, 2001, 2002, 2003, 2004, 2005, 2006, 2008, 2009, 2010, 2011, 2013, 2014, 2015, 2016, 2017, 2018, 2019, 2020, 2022, 2023, 2025, 2026, 2027, 2029, 2030, 2032, 2033, 2034, 2035, 2036, 2037, 2038, 2039, 2040, 2041, 2042, 2044, 2047, 2049, 2051, 2052, 2054, 2055, 2056, 2057, 2058, 2059, 2060, 2061, 2062, 2063, 2065, 2066, 2071, 2072, 2073, 2074, 2075, 2076, 2077, 2078, 2079, 2080, 2081, 2082, 2084, 2085, 2087, 2088, 2089, 2090, 2091, 2092, 2093, 2094, 2095, 2097, 2098, 2099, 2100, 2101, 2102, 2103, 2105, 2106, 2107, 2109, 2110, 2111, 2112, 2113, 2114, 2115, 2117, 2118, 2119, 2120, 2121, 2122, 2123, 2124, 2125, 2126, 2128, 2129, 2130, 2131, 2132, 2133, 2134, 2135, 2138, 2139, 2140, 2141, 2142, 2143, 2144, 2145, 2146, 2147, 2148, 2149, 2150, 2152, 2153, 2154, 2155, 2156, 2157, 2158, 2160, 2161, 2162, 2163, 2166, 2167, 2169, 2170, 2172, 2173, 2175, 2176, 2179, 2180, 2181, 2182, 2183, 2184, 2185, 2186, 2187, 2188, 2189, 2190, 2191, 2193, 2194, 2195, 2196, 2197, 2198, 2200, 2201, 2202, 2203, 2204, 2205, 2206, 2207, 2208, 2209, 2210, 2211, 2212, 2213, 2214, 2215, 2216, 2217, 2218, 2219, 2220, 2221, 2222, 2223, 2224, 2225, 2226, 2228, 2229, 2230, 2231, 2233, 2234, 2235, 2236, 2237, 2238, 2239, 2241, 2242, 2243, 2244, 2245, 2246, 2247, 2248, 2249, 2250, 2252, 2253, 2254, 2255, 2256, 2257, 2258, 2259, 2262, 2263, 2264, 2265, 2266, 2267, 2268, 2270, 2271, 2272, 2273, 2274, 2275, 2276, 2277, 2279, 2281, 2282, 2284, 2285, 2287, 2289, 2290, 2291, 2292, 2293, 2294, 2296, 2297, 2298, 2299, 2300, 2301, 2303, 2305, 2306, 2307, 2308, 2309, 2310, 2311, 2312, 2313, 2314, 2317, 2318, 2319, 2320, 2321, 2322, 2323, 2324, 2325, 2326, 2327, 2328, 2329, 2331, 2332, 2333, 2334, 2336, 2337, 2338, 2339, 2340, 2341, 2342, 2343, 2344, 2345, 2346, 2347, 2348, 2349, 2351, 2352, 2353, 2354, 2355, 2356, 2357, 2358, 2359, 2361, 2366, 2367, 2368, 2370, 2371, 2372, 2373, 2374, 2375, 2376, 2377, 2378, 2379, 2380, 2381, 2382, 2383, 2384, 2385, 2386, 2387, 2388, 2389, 2390, 2391, 2392, 2393, 2394, 2396, 2397, 2398, 2399, 2400, 2401, 2403, 2404, 2405, 2406, 2407, 2408, 2409, 2410, 2413, 2414, 2415, 2416, 2417, 2421, 2423, 2424, 2425, 2426, 2427, 2428, 2429, 2430, 2431, 2432, 2433, 2434, 2435, 2437, 2438, 2439, 2440, 2441, 2445, 2446, 2448, 2449, 2450, 2451, 2452, 2453, 2454, 2455, 2456, 2457, 2458, 2459, 2460, 2461, 2462, 2463, 2464, 2465, 2466, 2467, 2468, 2469, 2470, 2471, 2472, 2473, 2474, 2475, 2476, 2478, 2479, 2480, 2481, 2482, 2484, 2485, 2486, 2487, 2488, 2489, 2490, 2491, 2492, 2493, 2494, 2495, 2496, 2498, 2500, 2501, 2502, 2503, 2504, 2505, 2506, 2507, 2509, 2510, 2511, 2512, 2513, 2514, 2515, 2516, 2517, 2518, 2519, 2520, 2522, 2523, 2524, 2525, 2526, 2527, 2528, 2530, 2531, 2536, 2540, 2541, 2542, 2543, 2544, 2545, 2546, 2547, 2548, 2549, 2550, 2551, 2552, 2553, 2554, 2555, 2556, 2558, 2560, 2561, 2562, 2563, 2564, 2565, 2567, 2570, 2571, 2572, 2573, 2574, 2575, 2576, 2577, 2578, 2579, 2580, 2581, 2582, 2583, 2584, 2586, 2587, 2589, 2590, 2591, 2592, 2593, 2594, 2595, 2596, 2597, 2598, 2599, 2600, 2602, 2603, 2604, 2605, 2606, 2608, 2609, 2610, 2611, 2612, 2613, 2614, 2616, 2617, 2618, 2619, 2620, 2621, 2622, 2623, 2624, 2625, 2626, 2627, 2628, 2629, 2630, 2632, 2633, 2634, 2635, 2637, 2638, 2639, 2640, 2641, 2642, 2643, 2644, 2645, 2646, 2647, 2648, 2649, 2651, 2652, 2653, 2654, 2655, 2657, 2658, 2659, 2660, 2661, 2662, 2663, 2664, 2665, 2666, 2668, 2669, 2670, 2671, 2672, 2673, 2674, 2675, 2677, 2678, 2679, 2680, 2681, 2682, 2683, 2684, 2685, 2687, 2688, 2689, 2690, 2691, 2693, 2694, 2695, 2697, 2698, 2699, 2700, 2701, 2702, 2703, 2704, 2705, 2706, 2707, 2708, 2709, 2710, 2711, 2713, 2714, 2715, 2716, 2717, 2718, 2721, 2722, 2723, 2724, 2725, 2726, 2728, 2729, 2730, 2731, 2734, 2735, 2737, 2738, 2739, 2741, 2743, 2745, 2746, 2748, 2749, 2750, 2751, 2752, 2753, 2754, 2755, 2756, 2757, 2758, 2760, 2761, 2762, 2763, 2764, 2765, 2766, 2767, 2768, 2770, 2773, 2774, 2775, 2776, 2778, 2779, 2780, 2781, 2782, 2783, 2785, 2786, 2788, 2789, 2791, 2792, 2793, 2794, 2795, 2796, 2797, 2798, 2799, 2800, 2801, 2802, 2804, 2805, 2806, 2807, 2808, 2809, 2810, 2811, 2812, 2813, 2814, 2815, 2817, 2818, 2820, 2821, 2822, 2823, 2824, 2825, 2826, 2827, 2828, 2829, 2830, 2831, 2832, 2834, 2835, 2836, 2837, 2838, 2839, 2840, 2841, 2842, 2843, 2844, 2845, 2846, 2847, 2848, 2849, 2851, 2852, 2856, 2857, 2858, 2859, 2860, 2861, 2862, 2863, 2864, 2866, 2868, 2869, 2870, 2871, 2872, 2873, 2875, 2876, 2877, 2878, 2880, 2882, 2883, 2884, 2885, 2886, 2888, 2889, 2890, 2891, 2892, 2893, 2894, 2895, 2896, 2897, 2898, 2899, 2901, 2902, 2903, 2904, 2905, 2906, 2907, 2908, 2909, 2910, 2911, 2912, 2914, 2915, 2916, 2917, 2918, 2919, 2920, 2921, 2922, 2923, 2924, 2925, 2926, 2928, 2929, 2930, 2931, 2932, 2933, 2934, 2935, 2936, 2938, 2939, 2940, 2941, 2942, 2943, 2944, 2945, 2946, 2947, 2948, 2949, 2950, 2951, 2952, 2953, 2954, 2955, 2957, 2958, 2959, 2960, 2963, 2964, 2965, 2966, 2967, 2968, 2969, 2970, 2971, 2973, 2974, 2975, 2976, 2977, 2981, 2982, 2984, 2985, 2986, 2987, 2988, 2989, 2990, 2991, 2992, 2993, 2994, 2995, 2996, 2997, 2998, 2999, 3000, 3002, 3003, 3004, 3005, 3006, 3007, 3008, 3009, 3010, 3011, 3012, 3014, 3015, 3018, 3019, 3020, 3021, 3022, 3023, 3024, 3025, 3026, 3028, 3029, 3030, 3031, 3032, 3033, 3034, 3035, 3036, 3037, 3038, 3039, 3040, 3041, 3043, 3044, 3045, 3046, 3048, 3049, 3050, 3051, 3052, 3053, 3054, 3055, 3056, 3057, 3058, 3059, 3060, 3061, 3062, 3063, 3064, 3065, 3066, 3068, 3069, 3070, 3071, 3072, 3073, 3074, 3075, 3077, 3079, 3081, 3082, 3083, 3084, 3085, 3086, 3087, 3088, 3089, 3090, 3091, 3092, 3095, 3096, 3097, 3099, 3100, 3101, 3102, 3103, 3104, 3107, 3108, 3109, 3110, 3111, 3112, 3113, 3114, 3115, 3116, 3117, 3118, 3119, 3122, 3123, 3124, 3126, 3127, 3128, 3129, 3131, 3132, 3133, 3134, 3136, 3137, 3138, 3139, 3141, 3142, 3143, 3144, 3145, 3146, 3147, 3149, 3150, 3151, 3152, 3153, 3155, 3156, 3157, 3158, 3159, 3160, 3161, 3162, 3163, 3164, 3166, 3168, 3169, 3170, 3171, 3172, 3173, 3174, 3175, 3176, 3177, 3179, 3180, 3181, 3182, 3183, 3184, 3185, 3187, 3188, 3189, 3190, 3191, 3193, 3194, 3195, 3196, 3197, 3198, 3199, 3200, 3201, 3202, 3203, 3207, 3208, 3209, 3211, 3212, 3213, 3214, 3215, 3216, 3219, 3220, 3221, 3222, 3223, 3224, 3225, 3226, 3227, 3228, 3229, 3230, 3231, 3232, 3233, 3234, 3235, 3236, 3237, 3238, 3240, 3241, 3242, 3243, 3244, 3245, 3247, 3248, 3249, 3250, 3251, 3252, 3254, 3255, 3256, 3257, 3259, 3260, 3261, 3262, 3265, 3266, 3267, 3268, 3270, 3272, 3273, 3274, 3276, 3279, 3280, 3281, 3282, 3283, 3284, 3286, 3287, 3288, 3289, 3291, 3292, 3293, 3294, 3295, 3297, 3298, 3299, 3300, 3301, 3303, 3304, 3305, 3307, 3308, 3310, 3311, 3312, 3313, 3314, 3315, 3316, 3317, 3318, 3319, 3320, 3322, 3323, 3324, 3325, 3327, 3328, 3329, 3330, 3331, 3333, 3334, 3335, 3337, 3338, 3339, 3341, 3342, 3343, 3344, 3345, 3346, 3347, 3348, 3349, 3350, 3351, 3352, 3354, 3355, 3356, 3357, 3359, 3360, 3363, 3364, 3365, 3366, 3367, 3368, 3370, 3371, 3372, 3373, 3374, 3375, 3376, 3377, 3378, 3379, 3380, 3381, 3382, 3383, 3384, 3385, 3386, 3389, 3390, 3391, 3392, 3393, 3394, 3395, 3396, 3397, 3398, 3399, 3401, 3402, 3405, 3406, 3407, 3408, 3409, 3410, 3411, 3413, 3414, 3415, 3416, 3417, 3418, 3419, 3420, 3421, 3422, 3423, 3424, 3425, 3427, 3428, 3429, 3431, 3432, 3433, 3434, 3435, 3438, 3439, 3440, 3441, 3442, 3443, 3444, 3445, 3446, 3447, 3448, 3449, 3451, 3453, 3454, 3455, 3456, 3457, 3458, 3459, 3460, 3461, 3462, 3463, 3465, 3466, 3468, 3469, 3470, 3471, 3472, 3474, 3475, 3476, 3477, 3478, 3479, 3480, 3482, 3483, 3486, 3487, 3489, 3490, 3491, 3494, 3499, 3500, 3502, 3503, 3504, 3505, 3506, 3507, 3508, 3509, 3511, 3513, 3514, 3515, 3517, 3518, 3519, 3520, 3524, 3527, 3528, 3529, 3530, 3531, 3532, 3533, 3534, 3535, 3536, 3537, 3538, 3539, 3540, 3541, 3542, 3543, 3544, 3545, 3547, 3548, 3549, 3550, 3551, 3552, 3553, 3554, 3555, 3556, 3557, 3558, 3559, 3560, 3563, 3565, 3566, 3568, 3569, 3570, 3571, 3572, 3573, 3574, 3575, 3576, 3577, 3579, 3580, 3581, 3583, 3584, 3585, 3586, 3587, 3588, 3589, 3590, 3591, 3592, 3593, 3594, 3595, 3596, 3597, 3598, 3599, 3601, 3602, 3603, 3604, 3605, 3606, 3608, 3609, 3611, 3612, 3615, 3617, 3618, 3620, 3621, 3622, 3624, 3625, 3626, 3629, 3630, 3632, 3633, 3634, 3635, 3636, 3637, 3638, 3639, 3640, 3641, 3642, 3644, 3645, 3646, 3647, 3650, 3652, 3653, 3654, 3655, 3656, 3657, 3658, 3660, 3661, 3662, 3663, 3664, 3665, 3667, 3668, 3669, 3670, 3671, 3672, 3673, 3675, 3676, 3678, 3679, 3680, 3681, 3682, 3683, 3684, 3685, 3686, 3687, 3689, 3691, 3692, 3693, 3694, 3695, 3697, 3698, 3699, 3700, 3701, 3702, 3703, 3704, 3705, 3706, 3707, 3708, 3709, 3710, 3711, 3712, 3713, 3714, 3715, 3716, 3717, 3719, 3720, 3721, 3722, 3723, 3724, 3725, 3726, 3727, 3728, 3729, 3730, 3731, 3732, 3733, 3735, 3736, 3737, 3738, 3740, 3742, 3743, 3745, 3746, 3747, 3748, 3749, 3750, 3751, 3752, 3754, 3756, 3758, 3760, 3762, 3763, 3764, 3765, 3766, 3767, 3768, 3769, 3771, 3773, 3774, 3776, 3777, 3778, 3780, 3781, 3782, 3783, 3784, 3785, 3787, 3788, 3789, 3790, 3792, 3793, 3794, 3795, 3796, 3797, 3798, 3799, 3800, 3801, 3802, 3803, 3804, 3805, 3806, 3807, 3808, 3809, 3810, 3811, 3812, 3813, 3814, 3815, 3816, 3817, 3818, 3819, 3821, 3822, 3823, 3824, 3825, 3827, 3828, 3829, 3830, 3831, 3832, 3833, 3834, 3835, 3836, 3837, 3838, 3839, 3842, 3843, 3844, 3845, 3846, 3847, 3848, 3850, 3852, 3853, 3854, 3855, 3856, 3857, 3858, 3859, 3860, 3861, 3862, 3863, 3864, 3865, 3867, 3868, 3869, 3870, 3871, 3872, 3874, 3876, 3877, 3878, 3879, 3880, 3882, 3885, 3886, 3887, 3888, 3889, 3890, 3891, 3892, 3893, 3894, 3895, 3896, 3897, 3898, 3899, 3901, 3903, 3904, 3905, 3906, 3907, 3908, 3909, 3910, 3911, 3912, 3913, 3914, 3915, 3916, 3917, 3918, 3920, 3921, 3922, 3923, 3924, 3925, 3926, 3927, 3928, 3929, 3930, 3931, 3933, 3936, 3937, 3938, 3939, 3941, 3942, 3943, 3944, 3945, 3946, 3948, 3949, 3950, 3951, 3952, 3953, 3954, 3955, 3956, 3957, 3959, 3962, 3963, 3964, 3965, 3966, 3967, 3969, 3970, 3971, 3972, 3974, 3975, 3976, 3977, 3978, 3979, 3980, 3981, 3982, 3983, 3984, 3985, 3989, 3990, 3991, 3993, 3994, 3995, 3997, 3998, 3999, 4002, 4003, 4004, 4005, 4006, 4007, 4008, 4009, 4010, 4011, 4012, 4013, 4014, 4017, 4018, 4020, 4022, 4023, 4024, 4025, 4026, 4027, 4028, 4029, 4031, 4032, 4034, 4035, 4036, 4037, 4038, 4039, 4040, 4041, 4042, 4043, 4044, 4045, 4046, 4047, 4048, 4049, 4050, 4051, 4052, 4053, 4054, 4055, 4056, 4057, 4058, 4059, 4060, 4061, 4063, 4064, 4065, 4066, 4067, 4068, 4070, 4071, 4072, 4073, 4074, 4075, 4076, 4077, 4078, 4079, 4080, 4081, 4082, 4083, 4085, 4086, 4088, 4089, 4090, 4091, 4092, 4093, 4094, 4095, 4096, 4097, 4098, 4099, 4100, 4101, 4102, 4103, 4105, 4106, 4107, 4108, 4109, 4114, 4115, 4116, 4117, 4118, 4119, 4120, 4121, 4122, 4123, 4124, 4125, 4126, 4127, 4128, 4131, 4132, 4134, 4135, 4136, 4137, 4138, 4139, 4140, 4141, 4142, 4144, 4145, 4146, 4147, 4148, 4149, 4151, 4152, 4153, 4154, 4155, 4156, 4158, 4159, 4160, 4161, 4162, 4163, 4164, 4166, 4167, 4168, 4169, 4171, 4172, 4173, 4174, 4175, 4176, 4177, 4179, 4180, 4181, 4182, 4183, 4184, 4185, 4186, 4187, 4188, 4189, 4191, 4192, 4193, 4194, 4195, 4196, 4197, 4198, 4200, 4201, 4203, 4204, 4205, 4206, 4207, 4208, 4209, 4211, 4212, 4215, 4216, 4218, 4220, 4221, 4222, 4223, 4224, 4225, 4226, 4227, 4228, 4230, 4231, 4232, 4233, 4234, 4236, 4237, 4238, 4239, 4240, 4241, 4243, 4244, 4245, 4246, 4247, 4248, 4250, 4252, 4253, 4254, 4257, 4258, 4259, 4260, 4261, 4262, 4263, 4264, 4265, 4266, 4267, 4268, 4269, 4270, 4271, 4272, 4274, 4276, 4277, 4278, 4279, 4280, 4281, 4282, 4283, 4284, 4285, 4286, 4287, 4289, 4290, 4291, 4292, 4294, 4295, 4296, 4297, 4298, 4299, 4300, 4301, 4302, 4303, 4304, 4305, 4306, 4307, 4308, 4310, 4311, 4312, 4313, 4314, 4315, 4316, 4318, 4319, 4320, 4321, 4323, 4324, 4325, 4326, 4328, 4330, 4331, 4332, 4333, 4334, 4335, 4336, 4337, 4338, 4339, 4340, 4341, 4342, 4343, 4344, 4345, 4347, 4348, 4349, 4351, 4353, 4354, 4355, 4356, 4358, 4361, 4362, 4363, 4364, 4365, 4366, 4368, 4369, 4371, 4372, 4373, 4374, 4375, 4376, 4377, 4379, 4380, 4382, 4383, 4384, 4385, 4386, 4387, 4388, 4390, 4391, 4392, 4393, 4394, 4396, 4397, 4399, 4401, 4402, 4403, 4404, 4405, 4406, 4407, 4408, 4409, 4410, 4411, 4412, 4413, 4414, 4415, 4417, 4418, 4421, 4422, 4423, 4424, 4425, 4427, 4429, 4430, 4431, 4432, 4433, 4434, 4435, 4436, 4437, 4438, 4439, 4440, 4441, 4442, 4443, 4444, 4445, 4446, 4448, 4449, 4450, 4451, 4452, 4453, 4454, 4455, 4456, 4458, 4459, 4460, 4461, 4462, 4463, 4464, 4465, 4466, 4467, 4468, 4469, 4472, 4474, 4475, 4477, 4478, 4479, 4480, 4481, 4482, 4484, 4485, 4486, 4488, 4489, 4490, 4491, 4492, 4495, 4496, 4497, 4498, 4499, 4500, 4501, 4502, 4503, 4505, 4507, 4508, 4509, 4510, 4511, 4512, 4513, 4514, 4515, 4517, 4518, 4520, 4521, 4522, 4523, 4524, 4525, 4529, 4530, 4531, 4532, 4533, 4534, 4535, 4536, 4537, 4538, 4539, 4540, 4541, 4543, 4544, 4545, 4546, 4549, 4551, 4552, 4553, 4554, 4555, 4556, 4558, 4559, 4560, 4562, 4564, 4566, 4568, 4569, 4570, 4571, 4572, 4573, 4574, 4575, 4576, 4577, 4578, 4580, 4581, 4582, 4585, 4586, 4587, 4588, 4590, 4591, 4593, 4594, 4595, 4597, 4598, 4599, 4602, 4603, 4605, 4606, 4607, 4608, 4609, 4610, 4611, 4612, 4613, 4615, 4618, 4619, 4620, 4623, 4624, 4626, 4627, 4628, 4629, 4630, 4631, 4632, 4633, 4635, 4636, 4637, 4638, 4641, 4642, 4643, 4644, 4645, 4646, 4647, 4649, 4650, 4651, 4652, 4653, 4654, 4655, 4656, 4657, 4658, 4660, 4661, 4662, 4663, 4664, 4665, 4666, 4667, 4669, 4670, 4671, 4672, 4673, 4674, 4675, 4676, 4677, 4678, 4679, 4680, 4681, 4682, 4684, 4685, 4686, 4687, 4688, 4689, 4693, 4694, 4695, 4697, 4699, 4700, 4702, 4703, 4704, 4705, 4706, 4707, 4708, 4709, 4710, 4711, 4712, 4713, 4714, 4715, 4716, 4717, 4718, 4719, 4720, 4721, 4722, 4723, 4724, 4726, 4727, 4730, 4732, 4733, 4734, 4735, 4736, 4737, 4738, 4739, 4741, 4742, 4743, 4744, 4746, 4747, 4748, 4750, 4751, 4754, 4756, 4758, 4760, 4761, 4762, 4763, 4764, 4765, 4766, 4767, 4768, 4769, 4770, 4772, 4774, 4775, 4776, 4777, 4779, 4780, 4781, 4782, 4783, 4784, 4786, 4787, 4788, 4789, 4790, 4791, 4792, 4794, 4795, 4796, 4797, 4798, 4799, 4800, 4802, 4803, 4804, 4805, 4806, 4807, 4808, 4809, 4810, 4811, 4812, 4813, 4814, 4815, 4816, 4817, 4820, 4821, 4822, 4825, 4826, 4827, 4828, 4829, 4830, 4832, 4833, 4834, 4835, 4837, 4838, 4839, 4840, 4841, 4842, 4843, 4844, 4845, 4847, 4848, 4851, 4852, 4854, 4855, 4856, 4857, 4858, 4859, 4860, 4861, 4862, 4863, 4864, 4865, 4866, 4867, 4868, 4869, 4870, 4871, 4872, 4873, 4874, 4875, 4876, 4877, 4878, 4879, 4880, 4881, 4882, 4883, 4884, 4886, 4887, 4889, 4890, 4892, 4893, 4894, 4895, 4896, 4898, 4899, 4900, 4901, 4902, 4904, 4905, 4906, 4907, 4908, 4909, 4910, 4912, 4913, 4914, 4915, 4916, 4917, 4918, 4919, 4920, 4921, 4922, 4926, 4927, 4928, 4929, 4930, 4931, 4932, 4933, 4934, 4936, 4937, 4938, 4939, 4940, 4941, 4942, 4944, 4945, 4946, 4947, 4948, 4949, 4950, 4951, 4952, 4953, 4954, 4955, 4956, 4957, 4959, 4960, 4961, 4962, 4963, 4964, 4966, 4967, 4968, 4970, 4971, 4973, 4974, 4975, 4976, 4977, 4978, 4979, 4981, 4982, 4983, 4984, 4985, 4986, 4987, 4988, 4989, 4991, 4992, 4994, 4996, 4997, 4998, 4999, 5000, 5001, 5002, 5003, 5004, 5006, 5007, 5008, 5010, 5011, 5013, 5014, 5015, 5016, 5017, 5018, 5020, 5023, 5024, 5026, 5027, 5028, 5029, 5030, 5031, 5034, 5035, 5036, 5037, 5038, 5039, 5041, 5042, 5043, 5045, 5046, 5047, 5048, 5049, 5050, 5052, 5053, 5054, 5056, 5057, 5059, 5061, 5062, 5063, 5064, 5065, 5068, 5069, 5071, 5072, 5073, 5074, 5075, 5077, 5078, 5080, 5081, 5083, 5084, 5086, 5087, 5089, 5090, 5091, 5092, 5093, 5094, 5095, 5096, 5098, 5099, 5100, 5101, 5102, 5103, 5106, 5109, 5110, 5111, 5112, 5114, 5116, 5117, 5119, 5120, 5121, 5123, 5124, 5125, 5126, 5127, 5129, 5130, 5132, 5133, 5134, 5135, 5136, 5139, 5140, 5141, 5142, 5143, 5144, 5145, 5146, 5147, 5148, 5149, 5150, 5151, 5152, 5153, 5154, 5155, 5156, 5157, 5159, 5160, 5161, 5163, 5164, 5165, 5166, 5167, 5168, 5170, 5171, 5172, 5173, 5175, 5177, 5178, 5179, 5180, 5181, 5182, 5183, 5184, 5186, 5187, 5188, 5189, 5190, 5192, 5193, 5194, 5195, 5196, 5197, 5199, 5200, 5201, 5203, 5205, 5206, 5208, 5210, 5211, 5212, 5213, 5214, 5216, 5217, 5218, 5219, 5220, 5221, 5222, 5223, 5224, 5227, 5228, 5229, 5230, 5231, 5232, 5233, 5234, 5235, 5236, 5237, 5238, 5239, 5240, 5241, 5242, 5243, 5244, 5245, 5246, 5247, 5248, 5249, 5251, 5252, 5253, 5254, 5255, 5256, 5259, 5260, 5262, 5264, 5265, 5268, 5269, 5270, 5272, 5274, 5276, 5277, 5278, 5279, 5280, 5282, 5285, 5286, 5287, 5288, 5289, 5290, 5291, 5292, 5293, 5294, 5295, 5297, 5298, 5299, 5300, 5301, 5302, 5303, 5304, 5305, 5306, 5307, 5309, 5311, 5312, 5315, 5316, 5317, 5318, 5319, 5321, 5323, 5324, 5325, 5326, 5327, 5328, 5329, 5330, 5331, 5334, 5335, 5336, 5338, 5339, 5340, 5341, 5342, 5343, 5345, 5347, 5348, 5349, 5350, 5351, 5352, 5353, 5354, 5356, 5357, 5358, 5359, 5360, 5361, 5362, 5363, 5364, 5366, 5367, 5370, 5371, 5372, 5374, 5375, 5376, 5377, 5378, 5379, 5380, 5381, 5382, 5383, 5384, 5385, 5386, 5387, 5389, 5390, 5391, 5392, 5393, 5394, 5395, 5396, 5397, 5398, 5399, 5400, 5402, 5403, 5404, 5405, 5406, 5408, 5409, 5410, 5411, 5412, 5414, 5415, 5416, 5417, 5418, 5419, 5420, 5421, 5422, 5423, 5424, 5425, 5426, 5428, 5429, 5430, 5431, 5433, 5434, 5435, 5436, 5437, 5438, 5439, 5440, 5441, 5442, 5445, 5446, 5447, 5448, 5449, 5450, 5451, 5452, 5453, 5454, 5455, 5456, 5457, 5458, 5460, 5461, 5462, 5463, 5464, 5465, 5466, 5468, 5469, 5470, 5471, 5472, 5473, 5474, 5475, 5477, 5478, 5479, 5480, 5482, 5483, 5484, 5485, 5486, 5487, 5488, 5489, 5490, 5491, 5493, 5494, 5495, 5496, 5497, 5498, 5500, 5501, 5503, 5506, 5507, 5508, 5510, 5511, 5512, 5513, 5514, 5515, 5516, 5517, 5518, 5519, 5520, 5521, 5523, 5524, 5525, 5526, 5527, 5528, 5529, 5530, 5531, 5532, 5533, 5534, 5535, 5536, 5537, 5539, 5540, 5541, 5542, 5543, 5544, 5545, 5547, 5550, 5551, 5552, 5553, 5554, 5555, 5556, 5557, 5558, 5559, 5560, 5561, 5562, 5563, 5565, 5566, 5567, 5568, 5569, 5571, 5572, 5573, 5574, 5575, 5576, 5578, 5580, 5581, 5583, 5585, 5586, 5587, 5588}\n"
     ]
    }
   ],
   "source": [
    "def table_4_M ():\n",
    "    p_M_rows = set(p_L_rows | p_G_rows_all | p_H_rows)\n",
    "    p_M_count = len(p_M_rows)\n",
    "    return p_M_count,p_M_rows\n",
    "\n",
    "table_4_M_observed, p_M_rows = table_4_M()\n",
    "print(table_4_M_observed,p_M_rows)"
   ]
  },
  {
   "cell_type": "code",
   "execution_count": 388,
   "metadata": {},
   "outputs": [
    {
     "name": "stdout",
     "output_type": "stream",
     "text": [
      "4299 {0, 1, 5, 8, 12, 18, 22, 24, 35, 37, 38, 39, 40, 41, 45, 48, 49, 52, 54, 59, 62, 65, 69, 70, 71, 73, 76, 78, 80, 81, 83, 84, 85, 86, 88, 91, 93, 94, 95, 97, 100, 104, 105, 113, 116, 119, 121, 125, 127, 128, 129, 130, 133, 135, 136, 139, 140, 141, 145, 148, 151, 152, 154, 156, 162, 163, 167, 170, 172, 177, 181, 183, 187, 188, 189, 193, 194, 195, 197, 198, 199, 200, 203, 205, 206, 208, 212, 213, 215, 217, 218, 219, 221, 222, 225, 227, 228, 230, 231, 232, 233, 236, 237, 238, 240, 241, 242, 243, 244, 245, 246, 253, 254, 256, 260, 261, 263, 264, 270, 271, 272, 273, 274, 277, 282, 283, 285, 286, 287, 288, 289, 290, 294, 295, 296, 297, 299, 301, 302, 303, 304, 305, 307, 309, 310, 311, 314, 315, 317, 318, 319, 321, 324, 327, 328, 330, 331, 335, 336, 337, 338, 339, 341, 342, 346, 347, 349, 350, 351, 352, 353, 354, 355, 356, 357, 359, 360, 361, 363, 364, 366, 367, 369, 370, 371, 372, 373, 374, 376, 377, 378, 380, 382, 385, 387, 388, 392, 394, 395, 396, 397, 401, 402, 404, 405, 406, 410, 411, 412, 413, 415, 416, 418, 420, 425, 426, 427, 429, 432, 433, 436, 437, 438, 442, 446, 447, 448, 450, 451, 453, 456, 457, 458, 460, 461, 462, 463, 468, 469, 470, 472, 473, 475, 477, 478, 480, 481, 482, 483, 486, 488, 493, 494, 495, 497, 498, 499, 500, 501, 502, 503, 505, 506, 507, 508, 511, 512, 513, 515, 517, 519, 520, 521, 524, 525, 526, 528, 529, 530, 531, 532, 534, 535, 537, 538, 540, 541, 544, 546, 548, 549, 551, 552, 554, 556, 559, 560, 561, 565, 566, 567, 569, 570, 571, 572, 573, 574, 575, 577, 578, 579, 580, 582, 583, 584, 585, 586, 589, 590, 591, 592, 594, 595, 596, 597, 598, 599, 600, 602, 604, 605, 607, 608, 610, 611, 612, 613, 614, 615, 617, 619, 621, 622, 623, 624, 625, 626, 627, 630, 631, 635, 636, 642, 644, 645, 646, 647, 649, 650, 651, 652, 653, 654, 655, 656, 657, 659, 662, 664, 665, 666, 669, 670, 671, 672, 673, 674, 676, 679, 680, 681, 682, 683, 685, 686, 687, 688, 690, 691, 692, 693, 695, 698, 699, 700, 701, 702, 703, 704, 705, 707, 708, 709, 710, 712, 716, 718, 719, 721, 722, 723, 724, 727, 728, 729, 731, 732, 733, 734, 735, 736, 737, 739, 740, 741, 742, 744, 745, 746, 747, 749, 750, 751, 752, 753, 754, 756, 757, 758, 759, 760, 761, 763, 766, 767, 770, 771, 772, 774, 775, 776, 777, 778, 780, 781, 782, 783, 784, 785, 786, 787, 789, 790, 791, 792, 793, 795, 796, 797, 798, 799, 800, 801, 802, 803, 805, 806, 807, 808, 809, 813, 815, 816, 818, 819, 820, 821, 822, 823, 824, 826, 827, 828, 830, 831, 832, 834, 835, 838, 840, 842, 843, 845, 846, 847, 849, 850, 851, 852, 854, 856, 857, 858, 862, 863, 864, 865, 869, 871, 872, 873, 874, 875, 876, 877, 878, 879, 880, 881, 882, 883, 884, 885, 887, 888, 889, 890, 891, 892, 893, 895, 896, 897, 899, 900, 901, 903, 904, 905, 906, 907, 909, 910, 911, 913, 914, 915, 917, 918, 919, 921, 922, 923, 924, 927, 929, 930, 931, 933, 934, 935, 936, 937, 938, 942, 943, 944, 945, 946, 947, 948, 949, 952, 954, 956, 957, 958, 959, 960, 962, 963, 965, 967, 968, 969, 970, 973, 974, 975, 977, 979, 980, 981, 982, 984, 987, 988, 989, 990, 991, 992, 993, 994, 995, 996, 998, 1000, 1001, 1004, 1005, 1009, 1010, 1012, 1014, 1015, 1016, 1017, 1018, 1019, 1020, 1021, 1022, 1024, 1025, 1026, 1027, 1030, 1031, 1033, 1034, 1035, 1036, 1037, 1038, 1039, 1040, 1041, 1042, 1043, 1044, 1045, 1046, 1048, 1049, 1050, 1051, 1052, 1053, 1054, 1056, 1057, 1058, 1059, 1060, 1061, 1062, 1064, 1065, 1066, 1067, 1068, 1070, 1072, 1073, 1074, 1075, 1076, 1078, 1079, 1080, 1081, 1082, 1083, 1084, 1085, 1086, 1087, 1088, 1089, 1090, 1091, 1092, 1093, 1094, 1095, 1096, 1097, 1098, 1099, 1100, 1102, 1103, 1106, 1110, 1111, 1113, 1114, 1115, 1116, 1117, 1118, 1119, 1121, 1122, 1126, 1127, 1129, 1130, 1132, 1133, 1134, 1137, 1138, 1139, 1140, 1141, 1142, 1143, 1144, 1145, 1146, 1147, 1148, 1149, 1150, 1151, 1152, 1155, 1156, 1158, 1160, 1161, 1162, 1164, 1165, 1166, 1167, 1168, 1169, 1170, 1171, 1172, 1173, 1175, 1176, 1177, 1178, 1179, 1180, 1181, 1182, 1184, 1185, 1186, 1188, 1189, 1191, 1192, 1193, 1194, 1198, 1199, 1200, 1201, 1203, 1204, 1205, 1206, 1207, 1208, 1210, 1211, 1212, 1213, 1214, 1216, 1217, 1218, 1219, 1220, 1222, 1223, 1224, 1225, 1226, 1229, 1231, 1232, 1235, 1236, 1237, 1238, 1239, 1241, 1242, 1245, 1246, 1247, 1248, 1250, 1252, 1253, 1254, 1255, 1259, 1260, 1261, 1262, 1263, 1264, 1267, 1268, 1269, 1270, 1273, 1274, 1275, 1278, 1279, 1280, 1282, 1283, 1284, 1285, 1286, 1287, 1289, 1290, 1291, 1293, 1294, 1296, 1300, 1301, 1302, 1303, 1304, 1305, 1306, 1307, 1308, 1309, 1310, 1311, 1312, 1313, 1314, 1315, 1316, 1317, 1318, 1319, 1320, 1321, 1322, 1323, 1325, 1327, 1329, 1330, 1331, 1332, 1333, 1334, 1335, 1336, 1338, 1339, 1340, 1342, 1343, 1344, 1345, 1346, 1347, 1348, 1349, 1351, 1352, 1354, 1356, 1357, 1358, 1359, 1360, 1361, 1363, 1364, 1365, 1366, 1367, 1368, 1369, 1371, 1372, 1373, 1374, 1375, 1376, 1377, 1378, 1380, 1381, 1382, 1384, 1387, 1388, 1389, 1390, 1391, 1393, 1394, 1395, 1396, 1398, 1399, 1400, 1402, 1403, 1406, 1407, 1408, 1409, 1411, 1414, 1416, 1418, 1419, 1420, 1422, 1423, 1424, 1425, 1426, 1427, 1428, 1429, 1430, 1431, 1432, 1435, 1436, 1437, 1439, 1440, 1442, 1444, 1445, 1446, 1447, 1448, 1449, 1450, 1451, 1452, 1453, 1454, 1455, 1456, 1457, 1458, 1459, 1461, 1462, 1463, 1465, 1467, 1468, 1469, 1470, 1471, 1472, 1473, 1474, 1476, 1477, 1478, 1479, 1480, 1481, 1482, 1486, 1487, 1488, 1489, 1490, 1491, 1492, 1495, 1496, 1497, 1498, 1499, 1500, 1501, 1502, 1503, 1506, 1507, 1508, 1509, 1510, 1511, 1512, 1513, 1514, 1515, 1517, 1518, 1519, 1520, 1522, 1524, 1526, 1529, 1531, 1532, 1533, 1534, 1536, 1537, 1538, 1539, 1540, 1541, 1543, 1544, 1545, 1546, 1547, 1550, 1552, 1553, 1554, 1556, 1557, 1559, 1560, 1561, 1562, 1563, 1565, 1566, 1567, 1569, 1570, 1571, 1572, 1574, 1575, 1576, 1577, 1578, 1580, 1581, 1582, 1583, 1585, 1586, 1588, 1590, 1591, 1592, 1593, 1594, 1595, 1596, 1599, 1600, 1601, 1602, 1603, 1604, 1605, 1606, 1608, 1609, 1611, 1612, 1613, 1614, 1615, 1617, 1619, 1620, 1621, 1622, 1624, 1625, 1627, 1628, 1631, 1633, 1634, 1635, 1636, 1637, 1639, 1640, 1641, 1642, 1643, 1644, 1645, 1646, 1647, 1649, 1650, 1652, 1653, 1654, 1655, 1658, 1659, 1660, 1661, 1665, 1667, 1669, 1670, 1671, 1672, 1673, 1674, 1675, 1676, 1677, 1678, 1680, 1682, 1683, 1684, 1685, 1686, 1687, 1688, 1689, 1690, 1691, 1692, 1693, 1695, 1698, 1699, 1700, 1701, 1703, 1704, 1706, 1707, 1709, 1710, 1711, 1713, 1714, 1715, 1716, 1719, 1722, 1725, 1726, 1727, 1729, 1731, 1732, 1733, 1734, 1735, 1736, 1737, 1738, 1739, 1741, 1742, 1744, 1745, 1746, 1747, 1752, 1753, 1755, 1756, 1757, 1758, 1759, 1760, 1761, 1762, 1763, 1764, 1765, 1768, 1769, 1770, 1772, 1774, 1775, 1776, 1777, 1778, 1779, 1780, 1781, 1783, 1784, 1785, 1788, 1789, 1790, 1792, 1793, 1794, 1795, 1796, 1797, 1799, 1801, 1802, 1804, 1805, 1806, 1807, 1808, 1809, 1811, 1812, 1813, 1814, 1815, 1816, 1818, 1819, 1820, 1821, 1822, 1823, 1825, 1827, 1828, 1831, 1832, 1833, 1835, 1836, 1838, 1839, 1840, 1842, 1843, 1844, 1845, 1846, 1847, 1849, 1850, 1853, 1854, 1855, 1856, 1857, 1858, 1859, 1860, 1861, 1862, 1863, 1865, 1868, 1869, 1871, 1873, 1874, 1876, 1877, 1879, 1881, 1882, 1884, 1885, 1886, 1888, 1889, 1891, 1892, 1893, 1894, 1896, 1897, 1898, 1899, 1900, 1901, 1902, 1903, 1904, 1905, 1906, 1908, 1909, 1910, 1911, 1912, 1913, 1914, 1915, 1916, 1917, 1918, 1919, 1920, 1921, 1923, 1924, 1925, 1926, 1927, 1928, 1930, 1931, 1932, 1933, 1934, 1936, 1938, 1939, 1941, 1942, 1944, 1946, 1947, 1948, 1949, 1950, 1951, 1953, 1954, 1955, 1956, 1957, 1960, 1961, 1962, 1963, 1964, 1965, 1966, 1967, 1968, 1969, 1970, 1973, 1974, 1975, 1976, 1977, 1978, 1979, 1981, 1982, 1983, 1984, 1986, 1987, 1988, 1989, 1991, 1993, 1994, 1997, 1999, 2000, 2001, 2002, 2003, 2004, 2006, 2008, 2009, 2010, 2011, 2013, 2014, 2015, 2016, 2017, 2018, 2019, 2020, 2022, 2023, 2025, 2026, 2027, 2029, 2030, 2032, 2033, 2034, 2035, 2036, 2037, 2038, 2039, 2040, 2041, 2042, 2044, 2047, 2049, 2051, 2052, 2054, 2055, 2056, 2057, 2059, 2060, 2061, 2062, 2063, 2065, 2066, 2071, 2072, 2073, 2074, 2075, 2076, 2077, 2078, 2079, 2080, 2081, 2082, 2084, 2085, 2087, 2088, 2089, 2090, 2091, 2092, 2093, 2094, 2095, 2097, 2098, 2099, 2100, 2101, 2102, 2103, 2105, 2106, 2107, 2109, 2110, 2111, 2112, 2113, 2114, 2115, 2117, 2118, 2119, 2120, 2121, 2122, 2123, 2124, 2125, 2126, 2128, 2129, 2130, 2131, 2132, 2133, 2134, 2135, 2138, 2139, 2140, 2141, 2142, 2143, 2144, 2145, 2146, 2147, 2148, 2149, 2150, 2152, 2153, 2154, 2156, 2157, 2158, 2160, 2161, 2162, 2163, 2166, 2167, 2169, 2170, 2172, 2175, 2176, 2179, 2180, 2181, 2182, 2183, 2184, 2185, 2186, 2187, 2188, 2189, 2190, 2191, 2193, 2194, 2195, 2197, 2198, 2200, 2201, 2202, 2203, 2204, 2205, 2206, 2207, 2209, 2210, 2211, 2212, 2213, 2214, 2215, 2216, 2218, 2219, 2220, 2221, 2222, 2223, 2224, 2225, 2226, 2228, 2229, 2230, 2231, 2233, 2234, 2235, 2236, 2237, 2238, 2239, 2241, 2242, 2243, 2244, 2245, 2246, 2247, 2248, 2249, 2250, 2252, 2253, 2254, 2255, 2256, 2257, 2258, 2259, 2262, 2263, 2264, 2266, 2267, 2268, 2270, 2271, 2272, 2273, 2274, 2275, 2276, 2279, 2281, 2282, 2284, 2285, 2287, 2289, 2290, 2291, 2293, 2294, 2296, 2297, 2298, 2299, 2300, 2301, 2303, 2305, 2306, 2307, 2308, 2309, 2310, 2311, 2312, 2313, 2314, 2317, 2318, 2319, 2320, 2321, 2322, 2323, 2324, 2325, 2326, 2327, 2328, 2329, 2331, 2333, 2334, 2336, 2337, 2338, 2339, 2340, 2342, 2343, 2344, 2345, 2346, 2347, 2349, 2351, 2352, 2353, 2354, 2355, 2356, 2357, 2358, 2359, 2361, 2366, 2367, 2368, 2370, 2371, 2372, 2373, 2374, 2375, 2376, 2377, 2378, 2379, 2380, 2381, 2382, 2383, 2384, 2385, 2387, 2388, 2389, 2390, 2391, 2392, 2393, 2394, 2396, 2397, 2398, 2399, 2400, 2401, 2403, 2404, 2405, 2406, 2407, 2409, 2410, 2413, 2414, 2415, 2416, 2417, 2421, 2423, 2424, 2425, 2426, 2427, 2428, 2429, 2430, 2431, 2432, 2433, 2434, 2435, 2437, 2438, 2439, 2441, 2445, 2446, 2449, 2450, 2451, 2452, 2453, 2454, 2455, 2457, 2458, 2459, 2460, 2462, 2463, 2464, 2465, 2466, 2467, 2469, 2470, 2471, 2472, 2473, 2474, 2475, 2476, 2478, 2479, 2480, 2481, 2482, 2484, 2485, 2486, 2487, 2489, 2490, 2491, 2493, 2496, 2498, 2500, 2501, 2502, 2503, 2504, 2506, 2507, 2509, 2510, 2511, 2512, 2513, 2514, 2515, 2516, 2517, 2518, 2520, 2522, 2523, 2524, 2525, 2526, 2527, 2528, 2530, 2536, 2540, 2541, 2542, 2543, 2544, 2545, 2546, 2547, 2548, 2549, 2550, 2551, 2552, 2554, 2555, 2556, 2558, 2560, 2561, 2562, 2563, 2564, 2565, 2567, 2570, 2571, 2572, 2573, 2574, 2575, 2576, 2577, 2578, 2579, 2580, 2581, 2582, 2583, 2584, 2586, 2587, 2589, 2590, 2591, 2592, 2593, 2594, 2595, 2596, 2597, 2598, 2599, 2600, 2602, 2603, 2604, 2605, 2606, 2608, 2609, 2610, 2611, 2612, 2613, 2614, 2616, 2617, 2618, 2619, 2620, 2621, 2623, 2624, 2625, 2626, 2627, 2628, 2629, 2630, 2632, 2633, 2634, 2635, 2637, 2638, 2639, 2640, 2641, 2642, 2643, 2644, 2645, 2646, 2648, 2649, 2651, 2652, 2653, 2655, 2657, 2658, 2659, 2660, 2661, 2662, 2663, 2664, 2665, 2666, 2668, 2669, 2670, 2671, 2672, 2673, 2674, 2675, 2677, 2678, 2679, 2680, 2682, 2683, 2684, 2685, 2687, 2688, 2689, 2690, 2691, 2693, 2694, 2695, 2697, 2698, 2699, 2700, 2701, 2702, 2703, 2704, 2705, 2706, 2707, 2708, 2709, 2710, 2711, 2713, 2714, 2715, 2716, 2717, 2718, 2721, 2722, 2723, 2724, 2725, 2726, 2729, 2730, 2731, 2734, 2735, 2737, 2738, 2739, 2741, 2743, 2745, 2746, 2748, 2749, 2750, 2751, 2752, 2753, 2754, 2755, 2756, 2757, 2758, 2760, 2761, 2762, 2763, 2764, 2765, 2766, 2767, 2768, 2770, 2773, 2774, 2775, 2776, 2778, 2779, 2780, 2781, 2782, 2783, 2786, 2788, 2789, 2791, 2792, 2793, 2794, 2797, 2798, 2799, 2800, 2801, 2802, 2804, 2805, 2806, 2807, 2808, 2809, 2810, 2811, 2812, 2813, 2814, 2815, 2817, 2818, 2820, 2821, 2822, 2823, 2824, 2825, 2826, 2827, 2828, 2829, 2830, 2831, 2832, 2834, 2835, 2836, 2837, 2838, 2839, 2840, 2841, 2842, 2843, 2844, 2845, 2846, 2847, 2848, 2849, 2851, 2852, 2856, 2857, 2858, 2859, 2860, 2861, 2862, 2863, 2864, 2866, 2868, 2869, 2870, 2871, 2872, 2873, 2875, 2876, 2877, 2878, 2880, 2882, 2883, 2884, 2886, 2888, 2889, 2890, 2891, 2892, 2893, 2894, 2895, 2896, 2897, 2898, 2899, 2901, 2902, 2903, 2904, 2905, 2906, 2907, 2908, 2909, 2910, 2911, 2914, 2915, 2916, 2917, 2918, 2919, 2920, 2921, 2922, 2923, 2924, 2925, 2926, 2928, 2929, 2930, 2931, 2932, 2933, 2934, 2935, 2936, 2938, 2939, 2940, 2941, 2942, 2943, 2944, 2945, 2946, 2947, 2948, 2949, 2950, 2951, 2952, 2953, 2954, 2955, 2957, 2958, 2959, 2960, 2963, 2964, 2965, 2966, 2967, 2968, 2969, 2970, 2971, 2973, 2974, 2975, 2976, 2977, 2981, 2982, 2984, 2985, 2986, 2987, 2988, 2989, 2990, 2991, 2992, 2994, 2995, 2996, 2997, 2998, 2999, 3000, 3002, 3003, 3004, 3005, 3006, 3007, 3008, 3009, 3010, 3011, 3012, 3014, 3015, 3018, 3019, 3020, 3021, 3022, 3023, 3024, 3025, 3026, 3028, 3029, 3030, 3031, 3032, 3033, 3034, 3035, 3036, 3037, 3038, 3039, 3040, 3041, 3043, 3044, 3045, 3046, 3048, 3049, 3050, 3051, 3052, 3053, 3054, 3055, 3056, 3057, 3058, 3059, 3060, 3061, 3062, 3063, 3064, 3065, 3066, 3068, 3069, 3070, 3071, 3072, 3073, 3074, 3075, 3077, 3079, 3081, 3082, 3083, 3084, 3085, 3086, 3087, 3088, 3089, 3090, 3091, 3092, 3095, 3096, 3099, 3100, 3101, 3102, 3103, 3104, 3107, 3108, 3109, 3110, 3111, 3112, 3113, 3114, 3115, 3116, 3117, 3118, 3119, 3122, 3123, 3124, 3126, 3127, 3128, 3129, 3131, 3132, 3133, 3134, 3136, 3137, 3138, 3139, 3141, 3142, 3143, 3144, 3145, 3146, 3147, 3149, 3150, 3151, 3152, 3153, 3155, 3156, 3158, 3159, 3160, 3161, 3162, 3163, 3164, 3166, 3168, 3169, 3170, 3171, 3172, 3173, 3174, 3175, 3176, 3179, 3180, 3181, 3182, 3183, 3184, 3187, 3188, 3189, 3190, 3191, 3193, 3194, 3195, 3196, 3198, 3199, 3200, 3201, 3202, 3203, 3207, 3208, 3209, 3211, 3212, 3213, 3214, 3215, 3216, 3219, 3220, 3221, 3222, 3223, 3224, 3225, 3226, 3227, 3228, 3229, 3230, 3231, 3232, 3233, 3235, 3236, 3237, 3238, 3240, 3241, 3242, 3243, 3244, 3245, 3247, 3248, 3249, 3250, 3251, 3252, 3254, 3255, 3256, 3257, 3259, 3260, 3261, 3265, 3266, 3267, 3270, 3272, 3273, 3274, 3276, 3279, 3280, 3281, 3282, 3283, 3284, 3286, 3287, 3288, 3291, 3292, 3293, 3294, 3295, 3297, 3298, 3299, 3300, 3301, 3303, 3304, 3305, 3307, 3308, 3310, 3311, 3312, 3313, 3315, 3316, 3317, 3318, 3319, 3320, 3322, 3323, 3324, 3325, 3327, 3328, 3329, 3330, 3331, 3333, 3334, 3335, 3337, 3339, 3341, 3342, 3343, 3344, 3345, 3346, 3347, 3348, 3349, 3350, 3351, 3352, 3354, 3355, 3356, 3357, 3359, 3360, 3363, 3364, 3365, 3366, 3367, 3368, 3370, 3371, 3372, 3373, 3374, 3375, 3376, 3377, 3378, 3379, 3380, 3381, 3382, 3383, 3384, 3385, 3386, 3389, 3390, 3391, 3392, 3393, 3394, 3395, 3396, 3397, 3398, 3399, 3401, 3402, 3405, 3406, 3407, 3408, 3409, 3410, 3411, 3413, 3414, 3415, 3416, 3417, 3418, 3419, 3420, 3421, 3422, 3423, 3424, 3425, 3427, 3428, 3429, 3431, 3432, 3433, 3434, 3435, 3438, 3439, 3440, 3441, 3442, 3443, 3444, 3445, 3446, 3447, 3448, 3449, 3451, 3453, 3454, 3455, 3456, 3457, 3458, 3459, 3460, 3461, 3462, 3463, 3465, 3466, 3468, 3469, 3470, 3471, 3472, 3474, 3475, 3476, 3478, 3479, 3480, 3482, 3483, 3486, 3487, 3489, 3490, 3491, 3494, 3499, 3500, 3502, 3503, 3504, 3505, 3506, 3507, 3508, 3509, 3511, 3513, 3514, 3515, 3517, 3518, 3519, 3520, 3524, 3527, 3528, 3529, 3530, 3531, 3532, 3534, 3535, 3536, 3538, 3539, 3540, 3541, 3542, 3543, 3544, 3545, 3547, 3548, 3549, 3550, 3551, 3552, 3553, 3554, 3555, 3556, 3557, 3558, 3559, 3560, 3563, 3565, 3566, 3568, 3569, 3570, 3571, 3572, 3573, 3574, 3575, 3576, 3577, 3579, 3580, 3581, 3583, 3584, 3585, 3586, 3587, 3588, 3589, 3590, 3591, 3592, 3593, 3594, 3595, 3597, 3598, 3599, 3601, 3602, 3603, 3604, 3605, 3606, 3608, 3609, 3611, 3612, 3615, 3617, 3618, 3620, 3621, 3622, 3624, 3625, 3626, 3629, 3630, 3632, 3633, 3634, 3635, 3636, 3637, 3638, 3639, 3640, 3641, 3642, 3644, 3645, 3646, 3647, 3650, 3652, 3653, 3654, 3655, 3656, 3657, 3658, 3660, 3661, 3662, 3663, 3664, 3665, 3667, 3668, 3669, 3671, 3672, 3673, 3675, 3676, 3678, 3679, 3680, 3681, 3682, 3683, 3684, 3685, 3686, 3687, 3689, 3691, 3692, 3693, 3694, 3695, 3697, 3698, 3699, 3700, 3701, 3702, 3703, 3704, 3705, 3706, 3707, 3708, 3709, 3710, 3711, 3712, 3713, 3714, 3715, 3716, 3717, 3719, 3720, 3721, 3722, 3723, 3724, 3725, 3726, 3727, 3728, 3729, 3730, 3731, 3732, 3733, 3735, 3736, 3737, 3738, 3740, 3742, 3743, 3745, 3746, 3747, 3748, 3749, 3750, 3751, 3752, 3754, 3756, 3758, 3760, 3762, 3763, 3764, 3765, 3766, 3767, 3768, 3769, 3771, 3773, 3774, 3776, 3777, 3778, 3780, 3781, 3782, 3783, 3784, 3785, 3787, 3788, 3789, 3790, 3792, 3793, 3794, 3795, 3796, 3797, 3798, 3799, 3800, 3801, 3802, 3803, 3804, 3805, 3806, 3807, 3808, 3809, 3810, 3811, 3812, 3813, 3814, 3815, 3816, 3817, 3818, 3819, 3821, 3822, 3823, 3824, 3825, 3827, 3828, 3829, 3830, 3831, 3832, 3833, 3834, 3835, 3836, 3837, 3838, 3839, 3842, 3843, 3844, 3845, 3846, 3847, 3848, 3850, 3852, 3853, 3854, 3855, 3856, 3857, 3858, 3859, 3860, 3861, 3862, 3863, 3864, 3865, 3867, 3868, 3869, 3870, 3871, 3872, 3874, 3876, 3877, 3878, 3879, 3880, 3882, 3885, 3886, 3887, 3888, 3889, 3890, 3891, 3892, 3893, 3894, 3895, 3896, 3897, 3898, 3899, 3901, 3903, 3904, 3905, 3906, 3907, 3908, 3909, 3910, 3911, 3912, 3913, 3914, 3915, 3916, 3917, 3918, 3920, 3921, 3922, 3923, 3924, 3925, 3926, 3927, 3928, 3929, 3930, 3931, 3933, 3936, 3937, 3938, 3939, 3941, 3942, 3943, 3944, 3945, 3946, 3948, 3949, 3950, 3951, 3952, 3953, 3954, 3955, 3956, 3957, 3959, 3962, 3963, 3964, 3965, 3966, 3967, 3969, 3970, 3971, 3972, 3974, 3976, 3977, 3978, 3979, 3980, 3981, 3982, 3983, 3984, 3985, 3989, 3990, 3991, 3993, 3994, 3995, 3997, 3998, 3999, 4002, 4003, 4004, 4005, 4006, 4007, 4008, 4009, 4010, 4011, 4012, 4013, 4014, 4017, 4018, 4020, 4022, 4023, 4024, 4025, 4026, 4027, 4028, 4029, 4031, 4032, 4034, 4035, 4036, 4037, 4038, 4039, 4040, 4041, 4042, 4043, 4044, 4045, 4046, 4047, 4048, 4049, 4050, 4051, 4052, 4053, 4054, 4055, 4056, 4057, 4059, 4060, 4061, 4063, 4064, 4065, 4066, 4067, 4068, 4070, 4071, 4072, 4073, 4074, 4075, 4076, 4077, 4078, 4079, 4080, 4081, 4082, 4083, 4085, 4086, 4088, 4089, 4090, 4091, 4092, 4093, 4094, 4095, 4096, 4097, 4098, 4099, 4100, 4101, 4102, 4103, 4105, 4106, 4107, 4108, 4109, 4115, 4116, 4117, 4118, 4119, 4120, 4121, 4122, 4123, 4124, 4125, 4126, 4127, 4128, 4131, 4132, 4134, 4135, 4136, 4137, 4138, 4139, 4140, 4141, 4142, 4144, 4145, 4146, 4147, 4148, 4149, 4151, 4152, 4153, 4154, 4155, 4156, 4158, 4159, 4160, 4161, 4162, 4163, 4164, 4166, 4167, 4168, 4169, 4171, 4172, 4173, 4174, 4175, 4176, 4177, 4179, 4180, 4181, 4182, 4183, 4184, 4185, 4186, 4187, 4188, 4189, 4191, 4192, 4193, 4194, 4195, 4196, 4197, 4198, 4200, 4201, 4203, 4204, 4205, 4206, 4207, 4208, 4209, 4211, 4212, 4215, 4216, 4218, 4220, 4221, 4222, 4223, 4224, 4225, 4226, 4227, 4228, 4230, 4231, 4232, 4233, 4234, 4236, 4237, 4238, 4239, 4240, 4241, 4243, 4244, 4245, 4246, 4247, 4248, 4250, 4252, 4253, 4254, 4257, 4258, 4259, 4260, 4261, 4262, 4263, 4264, 4265, 4266, 4267, 4268, 4269, 4270, 4271, 4272, 4274, 4276, 4277, 4278, 4279, 4280, 4281, 4282, 4283, 4284, 4285, 4286, 4287, 4289, 4290, 4291, 4292, 4294, 4295, 4296, 4297, 4298, 4299, 4300, 4301, 4302, 4303, 4304, 4305, 4306, 4307, 4308, 4310, 4311, 4312, 4313, 4314, 4315, 4316, 4318, 4319, 4320, 4321, 4323, 4325, 4326, 4328, 4330, 4331, 4332, 4333, 4334, 4335, 4337, 4338, 4339, 4340, 4341, 4342, 4343, 4344, 4345, 4347, 4348, 4349, 4351, 4353, 4354, 4355, 4356, 4358, 4361, 4362, 4363, 4364, 4365, 4366, 4368, 4369, 4371, 4372, 4373, 4374, 4375, 4376, 4377, 4379, 4380, 4382, 4383, 4384, 4385, 4386, 4387, 4388, 4390, 4391, 4392, 4393, 4394, 4396, 4397, 4399, 4402, 4403, 4404, 4405, 4406, 4407, 4408, 4409, 4411, 4412, 4413, 4414, 4415, 4417, 4418, 4421, 4422, 4423, 4424, 4425, 4427, 4429, 4430, 4431, 4432, 4433, 4434, 4435, 4436, 4437, 4439, 4440, 4441, 4442, 4443, 4444, 4445, 4446, 4448, 4449, 4450, 4451, 4452, 4453, 4454, 4455, 4456, 4458, 4459, 4460, 4461, 4462, 4463, 4464, 4465, 4466, 4467, 4468, 4469, 4472, 4474, 4475, 4477, 4478, 4479, 4480, 4481, 4482, 4484, 4485, 4486, 4488, 4489, 4491, 4492, 4495, 4496, 4497, 4498, 4499, 4500, 4501, 4502, 4503, 4505, 4507, 4508, 4509, 4510, 4511, 4512, 4513, 4514, 4515, 4517, 4518, 4520, 4521, 4522, 4523, 4524, 4525, 4529, 4530, 4531, 4532, 4533, 4534, 4535, 4536, 4537, 4538, 4539, 4540, 4541, 4543, 4544, 4545, 4546, 4549, 4551, 4552, 4553, 4554, 4555, 4556, 4558, 4559, 4560, 4562, 4564, 4566, 4568, 4569, 4570, 4571, 4572, 4573, 4574, 4575, 4576, 4577, 4578, 4580, 4581, 4582, 4585, 4586, 4587, 4588, 4590, 4591, 4593, 4594, 4595, 4597, 4598, 4599, 4602, 4603, 4605, 4606, 4607, 4608, 4609, 4610, 4611, 4612, 4613, 4615, 4618, 4619, 4620, 4623, 4624, 4626, 4627, 4628, 4629, 4630, 4631, 4632, 4633, 4635, 4636, 4637, 4638, 4641, 4642, 4643, 4644, 4645, 4646, 4647, 4649, 4650, 4651, 4652, 4653, 4654, 4655, 4656, 4657, 4658, 4660, 4661, 4662, 4663, 4664, 4665, 4666, 4667, 4669, 4670, 4671, 4672, 4673, 4674, 4675, 4676, 4677, 4678, 4679, 4680, 4681, 4682, 4684, 4685, 4686, 4687, 4688, 4689, 4693, 4694, 4695, 4697, 4699, 4700, 4702, 4703, 4704, 4705, 4706, 4707, 4708, 4709, 4710, 4711, 4712, 4713, 4714, 4715, 4716, 4717, 4718, 4719, 4720, 4721, 4722, 4723, 4724, 4726, 4727, 4730, 4732, 4733, 4734, 4735, 4736, 4737, 4738, 4739, 4741, 4742, 4743, 4744, 4746, 4747, 4748, 4750, 4751, 4754, 4756, 4758, 4760, 4761, 4762, 4763, 4764, 4765, 4766, 4767, 4768, 4769, 4770, 4772, 4774, 4775, 4776, 4777, 4779, 4780, 4781, 4782, 4783, 4784, 4786, 4787, 4788, 4789, 4790, 4791, 4792, 4794, 4795, 4796, 4797, 4798, 4799, 4800, 4802, 4803, 4804, 4805, 4806, 4807, 4808, 4809, 4810, 4811, 4812, 4813, 4814, 4815, 4816, 4817, 4820, 4821, 4822, 4825, 4826, 4827, 4828, 4829, 4830, 4832, 4833, 4834, 4835, 4837, 4838, 4839, 4840, 4841, 4842, 4843, 4844, 4845, 4847, 4848, 4851, 4852, 4854, 4855, 4856, 4857, 4858, 4859, 4860, 4861, 4862, 4863, 4864, 4865, 4866, 4867, 4868, 4869, 4870, 4871, 4872, 4873, 4874, 4875, 4876, 4877, 4878, 4879, 4880, 4881, 4882, 4883, 4884, 4886, 4887, 4889, 4890, 4892, 4893, 4894, 4895, 4896, 4898, 4899, 4900, 4901, 4902, 4904, 4905, 4906, 4907, 4908, 4909, 4910, 4912, 4913, 4914, 4915, 4916, 4917, 4918, 4919, 4920, 4921, 4922, 4926, 4927, 4928, 4929, 4930, 4931, 4932, 4933, 4934, 4936, 4937, 4938, 4939, 4940, 4941, 4942, 4944, 4945, 4946, 4947, 4948, 4949, 4950, 4951, 4952, 4953, 4954, 4955, 4956, 4957, 4959, 4960, 4961, 4962, 4963, 4964, 4966, 4967, 4968, 4970, 4971, 4973, 4974, 4975, 4976, 4977, 4978, 4979, 4981, 4982, 4983, 4984, 4985, 4986, 4987, 4988, 4989, 4991, 4992, 4994, 4996, 4997, 4998, 4999, 5000, 5001, 5002, 5003, 5004, 5006, 5007, 5008, 5010, 5011, 5013, 5014, 5015, 5016, 5017, 5018, 5020, 5023, 5024, 5026, 5027, 5028, 5029, 5030, 5031, 5034, 5035, 5036, 5037, 5038, 5039, 5041, 5042, 5043, 5045, 5046, 5047, 5048, 5049, 5050, 5052, 5053, 5054, 5056, 5057, 5059, 5061, 5062, 5063, 5064, 5065, 5068, 5069, 5071, 5072, 5073, 5074, 5075, 5077, 5078, 5080, 5081, 5083, 5084, 5086, 5087, 5089, 5090, 5091, 5092, 5093, 5094, 5095, 5096, 5098, 5099, 5100, 5101, 5102, 5103, 5106, 5109, 5110, 5111, 5112, 5114, 5116, 5117, 5119, 5120, 5121, 5123, 5124, 5125, 5126, 5127, 5129, 5130, 5132, 5133, 5134, 5135, 5136, 5139, 5140, 5141, 5142, 5143, 5144, 5145, 5146, 5147, 5149, 5150, 5151, 5152, 5153, 5154, 5155, 5156, 5157, 5159, 5160, 5161, 5163, 5164, 5165, 5166, 5167, 5168, 5170, 5171, 5172, 5173, 5175, 5177, 5178, 5179, 5180, 5181, 5182, 5183, 5184, 5186, 5187, 5188, 5189, 5190, 5192, 5193, 5194, 5195, 5196, 5197, 5199, 5200, 5201, 5203, 5205, 5206, 5208, 5210, 5211, 5212, 5213, 5214, 5216, 5217, 5218, 5219, 5220, 5221, 5222, 5223, 5224, 5227, 5228, 5229, 5230, 5231, 5232, 5233, 5234, 5235, 5236, 5237, 5238, 5239, 5240, 5241, 5242, 5243, 5244, 5245, 5246, 5247, 5248, 5249, 5251, 5252, 5253, 5254, 5255, 5256, 5259, 5260, 5262, 5264, 5265, 5268, 5269, 5270, 5272, 5274, 5276, 5277, 5278, 5279, 5280, 5282, 5285, 5286, 5287, 5288, 5289, 5290, 5291, 5292, 5293, 5294, 5295, 5297, 5298, 5299, 5300, 5301, 5302, 5303, 5304, 5305, 5306, 5307, 5309, 5311, 5312, 5315, 5316, 5317, 5318, 5319, 5321, 5323, 5324, 5325, 5326, 5327, 5328, 5329, 5330, 5331, 5334, 5335, 5336, 5338, 5339, 5340, 5341, 5342, 5343, 5345, 5347, 5348, 5349, 5350, 5351, 5352, 5353, 5354, 5356, 5357, 5358, 5359, 5360, 5361, 5362, 5363, 5364, 5366, 5367, 5370, 5371, 5372, 5374, 5375, 5376, 5377, 5378, 5379, 5380, 5381, 5382, 5383, 5384, 5385, 5386, 5387, 5389, 5390, 5391, 5392, 5393, 5394, 5395, 5396, 5397, 5398, 5399, 5400, 5402, 5403, 5404, 5405, 5406, 5408, 5409, 5410, 5411, 5412, 5414, 5415, 5416, 5417, 5418, 5419, 5420, 5421, 5422, 5423, 5424, 5425, 5426, 5428, 5429, 5430, 5431, 5433, 5434, 5435, 5436, 5437, 5438, 5439, 5440, 5441, 5442, 5445, 5446, 5447, 5448, 5449, 5450, 5451, 5452, 5453, 5454, 5455, 5456, 5457, 5458, 5460, 5461, 5462, 5463, 5464, 5465, 5466, 5468, 5469, 5470, 5471, 5472, 5473, 5474, 5475, 5477, 5478, 5479, 5480, 5482, 5483, 5484, 5485, 5486, 5487, 5488, 5489, 5490, 5491, 5493, 5494, 5495, 5496, 5497, 5498, 5500, 5501, 5503, 5506, 5507, 5508, 5510, 5511, 5512, 5513, 5514, 5515, 5516, 5517, 5518, 5519, 5520, 5521, 5523, 5524, 5525, 5526, 5527, 5528, 5529, 5530, 5531, 5532, 5533, 5534, 5535, 5536, 5537, 5539, 5540, 5541, 5542, 5543, 5544, 5545, 5547, 5550, 5551, 5552, 5553, 5554, 5555, 5556, 5557, 5558, 5559, 5560, 5561, 5562, 5563, 5565, 5566, 5567, 5568, 5569, 5571, 5572, 5573, 5574, 5575, 5576, 5578, 5580, 5581, 5583, 5585, 5586, 5587, 5588}\n"
     ]
    }
   ],
   "source": [
    "def to_remove ():\n",
    "    p_Total_rows = set (p_K_rows | p_J_rows | p_I_rows | p_G_rows_except_first | p_H_rows)\n",
    "    p_Total_count = len(p_Total_rows)\n",
    "    return p_Total_count,p_Total_rows\n",
    "\n",
    "p_Total_count,p_Total_rows = to_remove()\n",
    "print(p_Total_count,p_Total_rows)"
   ]
  },
  {
   "attachments": {},
   "cell_type": "markdown",
   "metadata": {},
   "source": [
    "## Results"
   ]
  },
  {
   "cell_type": "code",
   "execution_count": 410,
   "metadata": {},
   "outputs": [],
   "source": [
    "def highlight_col(x):\n",
    "    unmatch_color = 'background-color: #FFFFE0'\n",
    "    label_color = ['background-color: #8DCFEC','background-color: #B8E2F4']\n",
    "    \n",
    "    df1 = pd.DataFrame('', index=x.index, columns=x.columns)\n",
    "    index = list(x.query(\"Expected != Observed\").index)\n",
    "    \n",
    "    for k in range (df1.shape[0]):\n",
    "        df1.iloc[k,0:3] = label_color[~k%2]\n",
    "    \n",
    "    for k in index:\n",
    "        df1.iloc[k,1:3] = unmatch_color\n",
    "    \n",
    "    \n",
    "    return df1 "
   ]
  },
  {
   "cell_type": "code",
   "execution_count": 413,
   "metadata": {},
   "outputs": [
    {
     "data": {
      "text/markdown": [
       "# Results - Table III and IV \n",
       " #### Comments about the unmatched values:"
      ],
      "text/plain": [
       "<IPython.core.display.Markdown object>"
      ]
     },
     "metadata": {},
     "output_type": "display_data"
    },
    {
     "data": {
      "text/markdown": [
       "` Features with conflicting values / Cases with conflicting feature values : `"
      ],
      "text/plain": [
       "<IPython.core.display.Markdown object>"
      ]
     },
     "metadata": {},
     "output_type": "display_data"
    },
    {
     "data": {
      "text/markdown": [
       "A/B == C -> can return NaN (0/0) or Inf (n/0) , if the expression is rearranged to A == C*B the outcomes for NaN will be 0 == 0"
      ],
      "text/plain": [
       "<IPython.core.display.Markdown object>"
      ]
     },
     "metadata": {},
     "output_type": "display_data"
    },
    {
     "data": {
      "text/markdown": [
       "but for Inf will be n == 0, in conclusion is plausible only to replace NaN by 0."
      ],
      "text/plain": [
       "<IPython.core.display.Markdown object>"
      ]
     },
     "metadata": {},
     "output_type": "display_data"
    },
    {
     "data": {
      "text/markdown": [
       "` Total Problem cases, DS'' / Total cases to remove : `"
      ],
      "text/plain": [
       "<IPython.core.display.Markdown object>"
      ]
     },
     "metadata": {},
     "output_type": "display_data"
    },
    {
     "data": {
      "text/markdown": [
       "It is notable that for DS''(M) they considered all duplicates except the first one... but for the Identical cases(G) all duplicates were counted."
      ],
      "text/plain": [
       "<IPython.core.display.Markdown object>"
      ]
     },
     "metadata": {},
     "output_type": "display_data"
    },
    {
     "data": {
      "text/markdown": [
       "Considering the definition of (M) is {Count of cases impacted by one or more of G to K} the correct value should be as shown on observed"
      ],
      "text/plain": [
       "<IPython.core.display.Markdown object>"
      ]
     },
     "metadata": {},
     "output_type": "display_data"
    },
    {
     "data": {
      "text/html": [
       "<style type=\"text/css\">\n",
       "#T_8ec2e_row0_col0, #T_8ec2e_row0_col1, #T_8ec2e_row0_col2, #T_8ec2e_row2_col0, #T_8ec2e_row2_col1, #T_8ec2e_row2_col2, #T_8ec2e_row4_col0, #T_8ec2e_row4_col1, #T_8ec2e_row4_col2, #T_8ec2e_row6_col0, #T_8ec2e_row6_col1, #T_8ec2e_row6_col2, #T_8ec2e_row8_col0, #T_8ec2e_row8_col1, #T_8ec2e_row8_col2, #T_8ec2e_row10_col0, #T_8ec2e_row10_col1, #T_8ec2e_row10_col2, #T_8ec2e_row12_col0 {\n",
       "  background-color: #B8E2F4;\n",
       "}\n",
       "#T_8ec2e_row1_col0, #T_8ec2e_row1_col1, #T_8ec2e_row1_col2, #T_8ec2e_row3_col0, #T_8ec2e_row5_col0, #T_8ec2e_row7_col0, #T_8ec2e_row7_col1, #T_8ec2e_row7_col2, #T_8ec2e_row9_col0, #T_8ec2e_row11_col0, #T_8ec2e_row13_col0 {\n",
       "  background-color: #8DCFEC;\n",
       "}\n",
       "#T_8ec2e_row3_col1, #T_8ec2e_row3_col2, #T_8ec2e_row5_col1, #T_8ec2e_row5_col2, #T_8ec2e_row9_col1, #T_8ec2e_row9_col2, #T_8ec2e_row11_col1, #T_8ec2e_row11_col2, #T_8ec2e_row12_col1, #T_8ec2e_row12_col2, #T_8ec2e_row13_col1, #T_8ec2e_row13_col2 {\n",
       "  background-color: #FFFFE0;\n",
       "}\n",
       "</style>\n",
       "<table id=\"T_8ec2e\">\n",
       "  <thead>\n",
       "    <tr>\n",
       "      <th class=\"blank level0\" >&nbsp;</th>\n",
       "      <th id=\"T_8ec2e_level0_col0\" class=\"col_heading level0 col0\" >Message</th>\n",
       "      <th id=\"T_8ec2e_level0_col1\" class=\"col_heading level0 col1\" >Expected</th>\n",
       "      <th id=\"T_8ec2e_level0_col2\" class=\"col_heading level0 col2\" >Observed</th>\n",
       "    </tr>\n",
       "  </thead>\n",
       "  <tbody>\n",
       "    <tr>\n",
       "      <th id=\"T_8ec2e_level0_row0\" class=\"row_heading level0 row0\" >0</th>\n",
       "      <td id=\"T_8ec2e_row0_col0\" class=\"data row0 col0\" >Identical features</td>\n",
       "      <td id=\"T_8ec2e_row0_col1\" class=\"data row0 col1\" >0</td>\n",
       "      <td id=\"T_8ec2e_row0_col2\" class=\"data row0 col2\" >0.000000</td>\n",
       "    </tr>\n",
       "    <tr>\n",
       "      <th id=\"T_8ec2e_level0_row1\" class=\"row_heading level0 row1\" >1</th>\n",
       "      <td id=\"T_8ec2e_row1_col0\" class=\"data row1 col0\" >Constant features</td>\n",
       "      <td id=\"T_8ec2e_row1_col1\" class=\"data row1 col1\" >0</td>\n",
       "      <td id=\"T_8ec2e_row1_col2\" class=\"data row1 col2\" >0.000000</td>\n",
       "    </tr>\n",
       "    <tr>\n",
       "      <th id=\"T_8ec2e_level0_row2\" class=\"row_heading level0 row2\" >2</th>\n",
       "      <td id=\"T_8ec2e_row2_col0\" class=\"data row2 col0\" >Features with missing values</td>\n",
       "      <td id=\"T_8ec2e_row2_col1\" class=\"data row2 col1\" >0</td>\n",
       "      <td id=\"T_8ec2e_row2_col2\" class=\"data row2 col2\" >0.000000</td>\n",
       "    </tr>\n",
       "    <tr>\n",
       "      <th id=\"T_8ec2e_level0_row3\" class=\"row_heading level0 row3\" >3</th>\n",
       "      <td id=\"T_8ec2e_row3_col0\" class=\"data row3 col0\" >Features with conflicting values</td>\n",
       "      <td id=\"T_8ec2e_row3_col1\" class=\"data row3 col1\" >2</td>\n",
       "      <td id=\"T_8ec2e_row3_col2\" class=\"data row3 col2\" >9.000000</td>\n",
       "    </tr>\n",
       "    <tr>\n",
       "      <th id=\"T_8ec2e_level0_row4\" class=\"row_heading level0 row4\" >4</th>\n",
       "      <td id=\"T_8ec2e_row4_col0\" class=\"data row4 col0\" >Features with implausible values</td>\n",
       "      <td id=\"T_8ec2e_row4_col1\" class=\"data row4 col1\" >1</td>\n",
       "      <td id=\"T_8ec2e_row4_col2\" class=\"data row4 col2\" >1.000000</td>\n",
       "    </tr>\n",
       "    <tr>\n",
       "      <th id=\"T_8ec2e_level0_row5\" class=\"row_heading level0 row5\" >5</th>\n",
       "      <td id=\"T_8ec2e_row5_col0\" class=\"data row5 col0\" >Total Problem Features</td>\n",
       "      <td id=\"T_8ec2e_row5_col1\" class=\"data row5 col1\" >3</td>\n",
       "      <td id=\"T_8ec2e_row5_col2\" class=\"data row5 col2\" >10.000000</td>\n",
       "    </tr>\n",
       "    <tr>\n",
       "      <th id=\"T_8ec2e_level0_row6\" class=\"row_heading level0 row6\" >6</th>\n",
       "      <td id=\"T_8ec2e_row6_col0\" class=\"data row6 col0\" >Identical cases</td>\n",
       "      <td id=\"T_8ec2e_row6_col1\" class=\"data row6 col1\" >4621</td>\n",
       "      <td id=\"T_8ec2e_row6_col2\" class=\"data row6 col2\" >4621.000000</td>\n",
       "    </tr>\n",
       "    <tr>\n",
       "      <th id=\"T_8ec2e_level0_row7\" class=\"row_heading level0 row7\" >7</th>\n",
       "      <td id=\"T_8ec2e_row7_col0\" class=\"data row7 col0\" >Inconsistent cases</td>\n",
       "      <td id=\"T_8ec2e_row7_col1\" class=\"data row7 col1\" >100</td>\n",
       "      <td id=\"T_8ec2e_row7_col2\" class=\"data row7 col2\" >100.000000</td>\n",
       "    </tr>\n",
       "    <tr>\n",
       "      <th id=\"T_8ec2e_level0_row8\" class=\"row_heading level0 row8\" >8</th>\n",
       "      <td id=\"T_8ec2e_row8_col0\" class=\"data row8 col0\" >Cases with missing values</td>\n",
       "      <td id=\"T_8ec2e_row8_col1\" class=\"data row8 col1\" >0</td>\n",
       "      <td id=\"T_8ec2e_row8_col2\" class=\"data row8 col2\" >0.000000</td>\n",
       "    </tr>\n",
       "    <tr>\n",
       "      <th id=\"T_8ec2e_level0_row9\" class=\"row_heading level0 row9\" >9</th>\n",
       "      <td id=\"T_8ec2e_row9_col0\" class=\"data row9 col0\" >Cases with conflicting feature values</td>\n",
       "      <td id=\"T_8ec2e_row9_col1\" class=\"data row9 col1\" >129</td>\n",
       "      <td id=\"T_8ec2e_row9_col2\" class=\"data row9 col2\" >271.000000</td>\n",
       "    </tr>\n",
       "    <tr>\n",
       "      <th id=\"T_8ec2e_level0_row10\" class=\"row_heading level0 row10\" >10</th>\n",
       "      <td id=\"T_8ec2e_row10_col0\" class=\"data row10 col0\" >Cases with implausible values</td>\n",
       "      <td id=\"T_8ec2e_row10_col1\" class=\"data row10 col1\" >1084</td>\n",
       "      <td id=\"T_8ec2e_row10_col2\" class=\"data row10 col2\" >1084.000000</td>\n",
       "    </tr>\n",
       "    <tr>\n",
       "      <th id=\"T_8ec2e_level0_row11\" class=\"row_heading level0 row11\" >11</th>\n",
       "      <td id=\"T_8ec2e_row11_col0\" class=\"data row11 col0\" >Total Problem cases, DS'</td>\n",
       "      <td id=\"T_8ec2e_row11_col1\" class=\"data row11 col1\" >1163</td>\n",
       "      <td id=\"T_8ec2e_row11_col2\" class=\"data row11 col2\" >1174.000000</td>\n",
       "    </tr>\n",
       "    <tr>\n",
       "      <th id=\"T_8ec2e_level0_row12\" class=\"row_heading level0 row12\" >12</th>\n",
       "      <td id=\"T_8ec2e_row12_col0\" class=\"data row12 col0\" >Total Problem cases, DS''</td>\n",
       "      <td id=\"T_8ec2e_row12_col1\" class=\"data row12 col1\" >4297</td>\n",
       "      <td id=\"T_8ec2e_row12_col2\" class=\"data row12 col2\" >4658.000000</td>\n",
       "    </tr>\n",
       "    <tr>\n",
       "      <th id=\"T_8ec2e_level0_row13\" class=\"row_heading level0 row13\" >13</th>\n",
       "      <td id=\"T_8ec2e_row13_col0\" class=\"data row13 col0\" >Total cases to remove</td>\n",
       "      <td id=\"T_8ec2e_row13_col1\" class=\"data row13 col1\" >4297</td>\n",
       "      <td id=\"T_8ec2e_row13_col2\" class=\"data row13 col2\" >4299.000000</td>\n",
       "    </tr>\n",
       "  </tbody>\n",
       "</table>\n"
      ],
      "text/plain": [
       "<pandas.io.formats.style.Styler at 0x1a184ad0670>"
      ]
     },
     "execution_count": 413,
     "metadata": {},
     "output_type": "execute_result"
    }
   ],
   "source": [
    "data = []\n",
    "for message, expected, observed in [\n",
    "    (\"Identical features\", 0, table_3_A_observed),\n",
    "    (\"Constant features\", 0, table_3_B_observed),\n",
    "    (\"Features with missing values\", 0, table_3_C_observed),\n",
    "    (\"Features with conflicting values\", 2, table_3_D_observed),\n",
    "    (\"Features with implausible values\", 1, table_3_E_observed),\n",
    "    (\"Total Problem Features\", 3, table_3_F_observed),\n",
    "    (\"Identical cases\", 4621, table_4_G_observed),\n",
    "    (\"Inconsistent cases\", 100, table_4_H_observed),\n",
    "    (\"Cases with missing values\", 0, table_4_I_observed),\n",
    "    (\"Cases with conflicting feature values\", 129, table_4_J_observed),\n",
    "    (\"Cases with implausible values\", 1084, table_4_K_observed),\n",
    "    (\"Total Problem cases, DS'\",1163,table_4_L_observed),\n",
    "    (\"Total Problem cases, DS''\",4297,table_4_M_observed),\n",
    "    (\"Total cases to remove\",4297,p_Total_count),\n",
    "]:\n",
    "    data.append([message,expected,observed])\n",
    "    \n",
    "df_result = pd.DataFrame(data, columns=['Message','Expected','Observed'])\n",
    "\n",
    "display(Markdown(\"# Results - Table III and IV \\n #### Comments about the unmatched values:\"))\n",
    "display(Markdown(\"` Features with conflicting values / Cases with conflicting feature values : `\"))\n",
    "display(Markdown(\"A/B == C -> can return NaN (0/0) or Inf (n/0) , if the expression is rearranged to A == C*B the outcomes for NaN will be 0 == 0\"))\n",
    "display(Markdown(\"but for Inf will be n == 0, in conclusion is plausible only to replace NaN by 0.\"))\n",
    "display(Markdown(\"` Total Problem cases, DS'' / Total cases to remove : `\"))\n",
    "display(Markdown(\"It is notable that for DS''(M) they considered all duplicates except the first one... but for the Identical cases(G) all duplicates were counted.\"))\n",
    "display(Markdown(\"Considering the definition of (M) is {Count of cases impacted by one or more of G to K} the correct value should be as shown on observed\"))\n",
    "\n",
    "df_result.style.apply(highlight_col, axis=None)\n"
   ]
  },
  {
   "attachments": {},
   "cell_type": "markdown",
   "metadata": {},
   "source": [
    "## Clean"
   ]
  },
  {
   "attachments": {},
   "cell_type": "markdown",
   "metadata": {},
   "source": [
    "### Step 1 - remove cases with implausible values or conflict feature values    "
   ]
  },
  {
   "cell_type": "code",
   "execution_count": 391,
   "metadata": {},
   "outputs": [
    {
     "data": {
      "text/plain": [
       "((4415, 37), (5589, 37))"
      ]
     },
     "execution_count": 391,
     "metadata": {},
     "output_type": "execute_result"
    }
   ],
   "source": [
    "df_DS1 = df.copy()\n",
    "df_index_to_remove_1 = set(p_K_rows | p_J_rows)\n",
    "df_DS1 = df_DS1.drop(df_index_to_remove_1)\n",
    "df_DS1.shape,df.shape"
   ]
  },
  {
   "attachments": {},
   "cell_type": "markdown",
   "metadata": {},
   "source": [
    "### Step 2 - remove identical cases   "
   ]
  },
  {
   "cell_type": "code",
   "execution_count": 392,
   "metadata": {},
   "outputs": [
    {
     "data": {
      "text/plain": [
       "(1294, 37)"
      ]
     },
     "execution_count": 392,
     "metadata": {},
     "output_type": "execute_result"
    }
   ],
   "source": [
    "df_index_to_remove_2 = p_G_rows_except_first - df_index_to_remove_1\n",
    "df_DS2 = df_DS1.drop(df_index_to_remove_2)\n",
    "df_DS2.shape"
   ]
  },
  {
   "attachments": {},
   "cell_type": "markdown",
   "metadata": {},
   "source": [
    "### Step 3 - remove inconsistent cases"
   ]
  },
  {
   "cell_type": "code",
   "execution_count": 393,
   "metadata": {},
   "outputs": [
    {
     "data": {
      "text/plain": [
       "(1290, 37)"
      ]
     },
     "execution_count": 393,
     "metadata": {},
     "output_type": "execute_result"
    }
   ],
   "source": [
    "df_index_to_remove_3 = p_H_rows - df_index_to_remove_2 - df_index_to_remove_1\n",
    "df_DS3 = df_DS2.drop(df_index_to_remove_3)\n",
    "df_DS3.shape"
   ]
  },
  {
   "attachments": {},
   "cell_type": "markdown",
   "metadata": {},
   "source": [
    "### Step 4 - remove cases missing values"
   ]
  },
  {
   "cell_type": "code",
   "execution_count": 394,
   "metadata": {},
   "outputs": [
    {
     "data": {
      "text/plain": [
       "(1290, 37)"
      ]
     },
     "execution_count": 394,
     "metadata": {},
     "output_type": "execute_result"
    }
   ],
   "source": [
    "df_index_to_remove_4 = p_I_rows - df_index_to_remove_3 - df_index_to_remove_2 - df_index_to_remove_1\n",
    "df_DS4 = df_DS3.drop(df_index_to_remove_4)\n",
    "df_DS4.shape"
   ]
  },
  {
   "attachments": {},
   "cell_type": "markdown",
   "metadata": {},
   "source": [
    "### Step 5 - remove constant features"
   ]
  },
  {
   "cell_type": "code",
   "execution_count": 395,
   "metadata": {},
   "outputs": [
    {
     "data": {
      "text/plain": [
       "(1290, 37)"
      ]
     },
     "execution_count": 395,
     "metadata": {},
     "output_type": "execute_result"
    }
   ],
   "source": [
    "df_columns_to_remove_1 = p_B_columns\n",
    "df_DS5 = df_DS4.drop(df_columns_to_remove_1,axis='columns')\n",
    "df_DS5.shape"
   ]
  },
  {
   "attachments": {},
   "cell_type": "markdown",
   "metadata": {},
   "source": [
    "### Step 6 - remove identical features"
   ]
  },
  {
   "cell_type": "code",
   "execution_count": 396,
   "metadata": {},
   "outputs": [
    {
     "data": {
      "text/plain": [
       "(1290, 37)"
      ]
     },
     "execution_count": 396,
     "metadata": {},
     "output_type": "execute_result"
    }
   ],
   "source": [
    "df_columns_to_remove_2 = p_A_columns - df_columns_to_remove_1    \n",
    "df_DS6 = df_DS5.drop(df_columns_to_remove_2,axis='columns')\n",
    "df_DS6.shape"
   ]
  },
  {
   "attachments": {},
   "cell_type": "markdown",
   "metadata": {},
   "source": [
    "## Save Dataset"
   ]
  },
  {
   "cell_type": "code",
   "execution_count": 397,
   "metadata": {},
   "outputs": [
    {
     "name": "stdout",
     "output_type": "stream",
     "text": [
      "(1290, 37)\n"
     ]
    },
    {
     "data": {
      "text/html": [
       "<div>\n",
       "<style scoped>\n",
       "    .dataframe tbody tr th:only-of-type {\n",
       "        vertical-align: middle;\n",
       "    }\n",
       "\n",
       "    .dataframe tbody tr th {\n",
       "        vertical-align: top;\n",
       "    }\n",
       "\n",
       "    .dataframe thead th {\n",
       "        text-align: right;\n",
       "    }\n",
       "</style>\n",
       "<table border=\"1\" class=\"dataframe\">\n",
       "  <thead>\n",
       "    <tr style=\"text-align: right;\">\n",
       "      <th></th>\n",
       "      <th>BRANCH_COUNT</th>\n",
       "      <th>CALL_PAIRS</th>\n",
       "      <th>LOC_CODE_AND_COMMENT</th>\n",
       "      <th>LOC_COMMENTS</th>\n",
       "      <th>CONDITION_COUNT</th>\n",
       "      <th>CYCLOMATIC_COMPLEXITY</th>\n",
       "      <th>CYCLOMATIC_DENSITY</th>\n",
       "      <th>DECISION_COUNT</th>\n",
       "      <th>DECISION_DENSITY</th>\n",
       "      <th>DESIGN_COMPLEXITY</th>\n",
       "      <th>DESIGN_DENSITY</th>\n",
       "      <th>EDGE_COUNT</th>\n",
       "      <th>ESSENTIAL_COMPLEXITY</th>\n",
       "      <th>ESSENTIAL_DENSITY</th>\n",
       "      <th>LOC_EXECUTABLE</th>\n",
       "      <th>PARAMETER_COUNT</th>\n",
       "      <th>HALSTEAD_CONTENT</th>\n",
       "      <th>HALSTEAD_DIFFICULTY</th>\n",
       "      <th>HALSTEAD_EFFORT</th>\n",
       "      <th>HALSTEAD_ERROR_EST</th>\n",
       "      <th>HALSTEAD_LENGTH</th>\n",
       "      <th>HALSTEAD_LEVEL</th>\n",
       "      <th>HALSTEAD_PROG_TIME</th>\n",
       "      <th>HALSTEAD_VOLUME</th>\n",
       "      <th>MAINTENANCE_SEVERITY</th>\n",
       "      <th>MODIFIED_CONDITION_COUNT</th>\n",
       "      <th>MULTIPLE_CONDITION_COUNT</th>\n",
       "      <th>NODE_COUNT</th>\n",
       "      <th>NORMALIZED_CYLOMATIC_COMPLEXITY</th>\n",
       "      <th>NUM_OPERANDS</th>\n",
       "      <th>NUM_OPERATORS</th>\n",
       "      <th>NUM_UNIQUE_OPERANDS</th>\n",
       "      <th>NUM_UNIQUE_OPERATORS</th>\n",
       "      <th>NUMBER_OF_LINES</th>\n",
       "      <th>PERCENT_COMMENTS</th>\n",
       "      <th>LOC_TOTAL</th>\n",
       "      <th>defects</th>\n",
       "    </tr>\n",
       "  </thead>\n",
       "  <tbody>\n",
       "    <tr>\n",
       "      <th>0</th>\n",
       "      <td>1.0</td>\n",
       "      <td>4.0</td>\n",
       "      <td>7.0</td>\n",
       "      <td>24.0</td>\n",
       "      <td>0.0</td>\n",
       "      <td>1.0</td>\n",
       "      <td>0.13</td>\n",
       "      <td>0.0</td>\n",
       "      <td>0.0</td>\n",
       "      <td>1.0</td>\n",
       "      <td>1.0</td>\n",
       "      <td>6.0</td>\n",
       "      <td>1.0</td>\n",
       "      <td>0.0</td>\n",
       "      <td>1.0</td>\n",
       "      <td>0.0</td>\n",
       "      <td>17.88</td>\n",
       "      <td>7.43</td>\n",
       "      <td>986.77</td>\n",
       "      <td>0.04</td>\n",
       "      <td>34.0</td>\n",
       "      <td>0.13</td>\n",
       "      <td>54.82</td>\n",
       "      <td>132.83</td>\n",
       "      <td>1.0</td>\n",
       "      <td>0.0</td>\n",
       "      <td>0.0</td>\n",
       "      <td>7.0</td>\n",
       "      <td>0.03</td>\n",
       "      <td>13.0</td>\n",
       "      <td>21.0</td>\n",
       "      <td>7.0</td>\n",
       "      <td>8.0</td>\n",
       "      <td>34.0</td>\n",
       "      <td>96.88</td>\n",
       "      <td>8.0</td>\n",
       "      <td>False</td>\n",
       "    </tr>\n",
       "    <tr>\n",
       "      <th>1</th>\n",
       "      <td>1.0</td>\n",
       "      <td>1.0</td>\n",
       "      <td>11.0</td>\n",
       "      <td>3.0</td>\n",
       "      <td>0.0</td>\n",
       "      <td>1.0</td>\n",
       "      <td>0.08</td>\n",
       "      <td>0.0</td>\n",
       "      <td>0.0</td>\n",
       "      <td>1.0</td>\n",
       "      <td>1.0</td>\n",
       "      <td>2.0</td>\n",
       "      <td>1.0</td>\n",
       "      <td>0.0</td>\n",
       "      <td>1.0</td>\n",
       "      <td>0.0</td>\n",
       "      <td>42.62</td>\n",
       "      <td>7.81</td>\n",
       "      <td>2598.31</td>\n",
       "      <td>0.11</td>\n",
       "      <td>77.0</td>\n",
       "      <td>0.13</td>\n",
       "      <td>144.35</td>\n",
       "      <td>332.79</td>\n",
       "      <td>1.0</td>\n",
       "      <td>0.0</td>\n",
       "      <td>0.0</td>\n",
       "      <td>3.0</td>\n",
       "      <td>0.06</td>\n",
       "      <td>29.0</td>\n",
       "      <td>48.0</td>\n",
       "      <td>13.0</td>\n",
       "      <td>7.0</td>\n",
       "      <td>17.0</td>\n",
       "      <td>93.33</td>\n",
       "      <td>12.0</td>\n",
       "      <td>False</td>\n",
       "    </tr>\n",
       "    <tr>\n",
       "      <th>2</th>\n",
       "      <td>1.0</td>\n",
       "      <td>1.0</td>\n",
       "      <td>0.0</td>\n",
       "      <td>0.0</td>\n",
       "      <td>0.0</td>\n",
       "      <td>1.0</td>\n",
       "      <td>1.00</td>\n",
       "      <td>0.0</td>\n",
       "      <td>0.0</td>\n",
       "      <td>1.0</td>\n",
       "      <td>1.0</td>\n",
       "      <td>2.0</td>\n",
       "      <td>1.0</td>\n",
       "      <td>0.0</td>\n",
       "      <td>1.0</td>\n",
       "      <td>3.0</td>\n",
       "      <td>33.44</td>\n",
       "      <td>0.63</td>\n",
       "      <td>13.06</td>\n",
       "      <td>0.01</td>\n",
       "      <td>9.0</td>\n",
       "      <td>1.60</td>\n",
       "      <td>0.73</td>\n",
       "      <td>20.90</td>\n",
       "      <td>1.0</td>\n",
       "      <td>0.0</td>\n",
       "      <td>0.0</td>\n",
       "      <td>3.0</td>\n",
       "      <td>0.33</td>\n",
       "      <td>5.0</td>\n",
       "      <td>4.0</td>\n",
       "      <td>4.0</td>\n",
       "      <td>1.0</td>\n",
       "      <td>3.0</td>\n",
       "      <td>0.00</td>\n",
       "      <td>1.0</td>\n",
       "      <td>False</td>\n",
       "    </tr>\n",
       "    <tr>\n",
       "      <th>3</th>\n",
       "      <td>1.0</td>\n",
       "      <td>0.0</td>\n",
       "      <td>1.0</td>\n",
       "      <td>0.0</td>\n",
       "      <td>0.0</td>\n",
       "      <td>1.0</td>\n",
       "      <td>0.50</td>\n",
       "      <td>0.0</td>\n",
       "      <td>0.0</td>\n",
       "      <td>1.0</td>\n",
       "      <td>1.0</td>\n",
       "      <td>1.0</td>\n",
       "      <td>1.0</td>\n",
       "      <td>0.0</td>\n",
       "      <td>1.0</td>\n",
       "      <td>2.0</td>\n",
       "      <td>10.87</td>\n",
       "      <td>3.50</td>\n",
       "      <td>133.19</td>\n",
       "      <td>0.01</td>\n",
       "      <td>11.0</td>\n",
       "      <td>0.29</td>\n",
       "      <td>7.40</td>\n",
       "      <td>38.05</td>\n",
       "      <td>1.0</td>\n",
       "      <td>0.0</td>\n",
       "      <td>0.0</td>\n",
       "      <td>2.0</td>\n",
       "      <td>0.33</td>\n",
       "      <td>4.0</td>\n",
       "      <td>7.0</td>\n",
       "      <td>4.0</td>\n",
       "      <td>7.0</td>\n",
       "      <td>3.0</td>\n",
       "      <td>50.00</td>\n",
       "      <td>2.0</td>\n",
       "      <td>False</td>\n",
       "    </tr>\n",
       "    <tr>\n",
       "      <th>4</th>\n",
       "      <td>3.0</td>\n",
       "      <td>1.0</td>\n",
       "      <td>1.0</td>\n",
       "      <td>0.0</td>\n",
       "      <td>6.0</td>\n",
       "      <td>2.0</td>\n",
       "      <td>1.00</td>\n",
       "      <td>2.0</td>\n",
       "      <td>3.0</td>\n",
       "      <td>1.0</td>\n",
       "      <td>0.5</td>\n",
       "      <td>5.0</td>\n",
       "      <td>1.0</td>\n",
       "      <td>0.0</td>\n",
       "      <td>1.0</td>\n",
       "      <td>1.0</td>\n",
       "      <td>11.07</td>\n",
       "      <td>4.38</td>\n",
       "      <td>211.89</td>\n",
       "      <td>0.02</td>\n",
       "      <td>14.0</td>\n",
       "      <td>0.23</td>\n",
       "      <td>11.77</td>\n",
       "      <td>48.43</td>\n",
       "      <td>0.5</td>\n",
       "      <td>2.0</td>\n",
       "      <td>3.0</td>\n",
       "      <td>5.0</td>\n",
       "      <td>0.50</td>\n",
       "      <td>5.0</td>\n",
       "      <td>9.0</td>\n",
       "      <td>4.0</td>\n",
       "      <td>7.0</td>\n",
       "      <td>4.0</td>\n",
       "      <td>50.00</td>\n",
       "      <td>2.0</td>\n",
       "      <td>False</td>\n",
       "    </tr>\n",
       "  </tbody>\n",
       "</table>\n",
       "</div>"
      ],
      "text/plain": [
       "   BRANCH_COUNT  CALL_PAIRS  LOC_CODE_AND_COMMENT  LOC_COMMENTS  CONDITION_COUNT  CYCLOMATIC_COMPLEXITY  CYCLOMATIC_DENSITY  DECISION_COUNT  DECISION_DENSITY  DESIGN_COMPLEXITY  DESIGN_DENSITY  EDGE_COUNT  ESSENTIAL_COMPLEXITY  ESSENTIAL_DENSITY  LOC_EXECUTABLE  PARAMETER_COUNT  HALSTEAD_CONTENT  HALSTEAD_DIFFICULTY  HALSTEAD_EFFORT  HALSTEAD_ERROR_EST  HALSTEAD_LENGTH  HALSTEAD_LEVEL  HALSTEAD_PROG_TIME  HALSTEAD_VOLUME  MAINTENANCE_SEVERITY  MODIFIED_CONDITION_COUNT  MULTIPLE_CONDITION_COUNT  NODE_COUNT  NORMALIZED_CYLOMATIC_COMPLEXITY  NUM_OPERANDS  NUM_OPERATORS  NUM_UNIQUE_OPERANDS  NUM_UNIQUE_OPERATORS  NUMBER_OF_LINES  PERCENT_COMMENTS  LOC_TOTAL  defects\n",
       "0           1.0         4.0                   7.0          24.0              0.0                    1.0                0.13             0.0               0.0                1.0             1.0         6.0                   1.0                0.0             1.0              0.0             17.88                 7.43           986.77                0.04             34.0            0.13               54.82           132.83                   1.0                       0.0                       0.0         7.0                             0.03          13.0           21.0                  7.0                   8.0             34.0             96.88        8.0    False\n",
       "1           1.0         1.0                  11.0           3.0              0.0                    1.0                0.08             0.0               0.0                1.0             1.0         2.0                   1.0                0.0             1.0              0.0             42.62                 7.81          2598.31                0.11             77.0            0.13              144.35           332.79                   1.0                       0.0                       0.0         3.0                             0.06          29.0           48.0                 13.0                   7.0             17.0             93.33       12.0    False\n",
       "2           1.0         1.0                   0.0           0.0              0.0                    1.0                1.00             0.0               0.0                1.0             1.0         2.0                   1.0                0.0             1.0              3.0             33.44                 0.63            13.06                0.01              9.0            1.60                0.73            20.90                   1.0                       0.0                       0.0         3.0                             0.33           5.0            4.0                  4.0                   1.0              3.0              0.00        1.0    False\n",
       "3           1.0         0.0                   1.0           0.0              0.0                    1.0                0.50             0.0               0.0                1.0             1.0         1.0                   1.0                0.0             1.0              2.0             10.87                 3.50           133.19                0.01             11.0            0.29                7.40            38.05                   1.0                       0.0                       0.0         2.0                             0.33           4.0            7.0                  4.0                   7.0              3.0             50.00        2.0    False\n",
       "4           3.0         1.0                   1.0           0.0              6.0                    2.0                1.00             2.0               3.0                1.0             0.5         5.0                   1.0                0.0             1.0              1.0             11.07                 4.38           211.89                0.02             14.0            0.23               11.77            48.43                   0.5                       2.0                       3.0         5.0                             0.50           5.0            9.0                  4.0                   7.0              4.0             50.00        2.0    False"
      ]
     },
     "execution_count": 397,
     "metadata": {},
     "output_type": "execute_result"
    }
   ],
   "source": [
    "df_clean = df_DS6.reset_index(drop=True)\n",
    "print(df_clean.shape)\n",
    "df_clean.head()"
   ]
  },
  {
   "cell_type": "code",
   "execution_count": 398,
   "metadata": {},
   "outputs": [],
   "source": [
    "df_clean.to_pickle(f\"{ROOT}/data/data.pkl\")"
   ]
  }
 ],
 "metadata": {
  "kernelspec": {
   "display_name": "Python 3",
   "language": "python",
   "name": "python3"
  },
  "language_info": {
   "codemirror_mode": {
    "name": "ipython",
    "version": 3
   },
   "file_extension": ".py",
   "mimetype": "text/x-python",
   "name": "python",
   "nbconvert_exporter": "python",
   "pygments_lexer": "ipython3",
   "version": "3.10.6"
  },
  "orig_nbformat": 4,
  "vscode": {
   "interpreter": {
    "hash": "c3503f95e0e8f4afdf6702396a7a2a29cae9f67572acfe092405dcaa2579b817"
   }
  }
 },
 "nbformat": 4,
 "nbformat_minor": 2
}
