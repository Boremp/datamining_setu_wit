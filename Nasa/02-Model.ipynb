{
 "cells": [
  {
   "attachments": {},
   "cell_type": "markdown",
   "metadata": {},
   "source": [
    "# NASA - MODEL"
   ]
  },
  {
   "cell_type": "markdown",
   "metadata": {},
   "source": [
    "## Setup "
   ]
  },
  {
   "cell_type": "code",
   "execution_count": 1,
   "metadata": {},
   "outputs": [],
   "source": [
    "import numpy as np\n",
    "import pandas as pd\n",
    "import matplotlib.pyplot as plt\n",
    "import seaborn as sns\n",
    "from scipy import stats\n",
    "import sys, os, yaml\n",
    "\n",
    "pd.set_option('display.max_columns', None)\n",
    "pd.set_option('display.width', 1000)\n",
    "pd.set_option('display.max_rows', None)\n",
    "\n",
    "sns.set_style(\"darkgrid\")\n",
    "\n",
    "DATASET = \"NASA\"\n",
    "COLAB = 'google.colab' in sys.modules\n",
    "\n",
    "from IPython.display import display, Markdown\n",
    "from pprint import pprint \n",
    "\n",
    "SEED = 666\n",
    "DEBUG = True"
   ]
  },
  {
   "cell_type": "code",
   "execution_count": 2,
   "metadata": {},
   "outputs": [],
   "source": [
    "COLAB = 'google.colab' in sys.modules\n",
    "\n",
    "if COLAB:\n",
    "  from google.colab import drive\n",
    "  if not os.path.isdir(\"/content/gdrive\"):\n",
    "    drive.mount(\"/content/gdrive\")\n",
    "    d = \"/content/gdrive/MyDrive/datasets\"\n",
    "    if not os.path.isdir(ROOT+d): os.makedirs(ROOT+d)\n",
    "  ROOT = f\"/content/gdrive/MyDrive/datasets/{DATASET.replace(' ','_')}/\"\n",
    "  if not os.path.isdir(ROOT): os.makedirs(ROOT)\n",
    "else:\n",
    "  ROOT = \"./\"\n",
    "\n",
    "def makedirs(d):\n",
    "  if COLAB:\n",
    "    if not os.path.isdir(ROOT+d): os.makedirs(ROOT+d)\n",
    "  else:\n",
    "    if not os.path.isdir(ROOT+d): os.makedirs(ROOT+d, mode=0o777, exist_ok=True)\n",
    "\n",
    "for d in ['orig','data','output']: makedirs(d)"
   ]
  },
  {
   "cell_type": "markdown",
   "metadata": {},
   "source": [
    "## Load Dataset"
   ]
  },
  {
   "cell_type": "code",
   "execution_count": 3,
   "metadata": {},
   "outputs": [
    {
     "name": "stdout",
     "output_type": "stream",
     "text": [
      "(1290, 37)\n"
     ]
    },
    {
     "data": {
      "text/html": [
       "<div>\n",
       "<style scoped>\n",
       "    .dataframe tbody tr th:only-of-type {\n",
       "        vertical-align: middle;\n",
       "    }\n",
       "\n",
       "    .dataframe tbody tr th {\n",
       "        vertical-align: top;\n",
       "    }\n",
       "\n",
       "    .dataframe thead th {\n",
       "        text-align: right;\n",
       "    }\n",
       "</style>\n",
       "<table border=\"1\" class=\"dataframe\">\n",
       "  <thead>\n",
       "    <tr style=\"text-align: right;\">\n",
       "      <th></th>\n",
       "      <th>BRANCH_COUNT</th>\n",
       "      <th>CALL_PAIRS</th>\n",
       "      <th>LOC_CODE_AND_COMMENT</th>\n",
       "      <th>LOC_COMMENTS</th>\n",
       "      <th>CONDITION_COUNT</th>\n",
       "      <th>CYCLOMATIC_COMPLEXITY</th>\n",
       "      <th>CYCLOMATIC_DENSITY</th>\n",
       "      <th>DECISION_COUNT</th>\n",
       "      <th>DECISION_DENSITY</th>\n",
       "      <th>DESIGN_COMPLEXITY</th>\n",
       "      <th>DESIGN_DENSITY</th>\n",
       "      <th>EDGE_COUNT</th>\n",
       "      <th>ESSENTIAL_COMPLEXITY</th>\n",
       "      <th>ESSENTIAL_DENSITY</th>\n",
       "      <th>LOC_EXECUTABLE</th>\n",
       "      <th>PARAMETER_COUNT</th>\n",
       "      <th>HALSTEAD_CONTENT</th>\n",
       "      <th>HALSTEAD_DIFFICULTY</th>\n",
       "      <th>HALSTEAD_EFFORT</th>\n",
       "      <th>HALSTEAD_ERROR_EST</th>\n",
       "      <th>HALSTEAD_LENGTH</th>\n",
       "      <th>HALSTEAD_LEVEL</th>\n",
       "      <th>HALSTEAD_PROG_TIME</th>\n",
       "      <th>HALSTEAD_VOLUME</th>\n",
       "      <th>MAINTENANCE_SEVERITY</th>\n",
       "      <th>MODIFIED_CONDITION_COUNT</th>\n",
       "      <th>MULTIPLE_CONDITION_COUNT</th>\n",
       "      <th>NODE_COUNT</th>\n",
       "      <th>NORMALIZED_CYLOMATIC_COMPLEXITY</th>\n",
       "      <th>NUM_OPERANDS</th>\n",
       "      <th>NUM_OPERATORS</th>\n",
       "      <th>NUM_UNIQUE_OPERANDS</th>\n",
       "      <th>NUM_UNIQUE_OPERATORS</th>\n",
       "      <th>NUMBER_OF_LINES</th>\n",
       "      <th>PERCENT_COMMENTS</th>\n",
       "      <th>LOC_TOTAL</th>\n",
       "      <th>defects</th>\n",
       "    </tr>\n",
       "  </thead>\n",
       "  <tbody>\n",
       "    <tr>\n",
       "      <th>0</th>\n",
       "      <td>1.0</td>\n",
       "      <td>4.0</td>\n",
       "      <td>7.0</td>\n",
       "      <td>24.0</td>\n",
       "      <td>0.0</td>\n",
       "      <td>1.0</td>\n",
       "      <td>0.13</td>\n",
       "      <td>0.0</td>\n",
       "      <td>0.0</td>\n",
       "      <td>1.0</td>\n",
       "      <td>1.0</td>\n",
       "      <td>6.0</td>\n",
       "      <td>1.0</td>\n",
       "      <td>0.0</td>\n",
       "      <td>1.0</td>\n",
       "      <td>0.0</td>\n",
       "      <td>17.88</td>\n",
       "      <td>7.43</td>\n",
       "      <td>986.77</td>\n",
       "      <td>0.04</td>\n",
       "      <td>34.0</td>\n",
       "      <td>0.13</td>\n",
       "      <td>54.82</td>\n",
       "      <td>132.83</td>\n",
       "      <td>1.0</td>\n",
       "      <td>0.0</td>\n",
       "      <td>0.0</td>\n",
       "      <td>7.0</td>\n",
       "      <td>0.03</td>\n",
       "      <td>13.0</td>\n",
       "      <td>21.0</td>\n",
       "      <td>7.0</td>\n",
       "      <td>8.0</td>\n",
       "      <td>34.0</td>\n",
       "      <td>96.88</td>\n",
       "      <td>8.0</td>\n",
       "      <td>False</td>\n",
       "    </tr>\n",
       "    <tr>\n",
       "      <th>1</th>\n",
       "      <td>1.0</td>\n",
       "      <td>1.0</td>\n",
       "      <td>11.0</td>\n",
       "      <td>3.0</td>\n",
       "      <td>0.0</td>\n",
       "      <td>1.0</td>\n",
       "      <td>0.08</td>\n",
       "      <td>0.0</td>\n",
       "      <td>0.0</td>\n",
       "      <td>1.0</td>\n",
       "      <td>1.0</td>\n",
       "      <td>2.0</td>\n",
       "      <td>1.0</td>\n",
       "      <td>0.0</td>\n",
       "      <td>1.0</td>\n",
       "      <td>0.0</td>\n",
       "      <td>42.62</td>\n",
       "      <td>7.81</td>\n",
       "      <td>2598.31</td>\n",
       "      <td>0.11</td>\n",
       "      <td>77.0</td>\n",
       "      <td>0.13</td>\n",
       "      <td>144.35</td>\n",
       "      <td>332.79</td>\n",
       "      <td>1.0</td>\n",
       "      <td>0.0</td>\n",
       "      <td>0.0</td>\n",
       "      <td>3.0</td>\n",
       "      <td>0.06</td>\n",
       "      <td>29.0</td>\n",
       "      <td>48.0</td>\n",
       "      <td>13.0</td>\n",
       "      <td>7.0</td>\n",
       "      <td>17.0</td>\n",
       "      <td>93.33</td>\n",
       "      <td>12.0</td>\n",
       "      <td>False</td>\n",
       "    </tr>\n",
       "    <tr>\n",
       "      <th>2</th>\n",
       "      <td>1.0</td>\n",
       "      <td>1.0</td>\n",
       "      <td>0.0</td>\n",
       "      <td>0.0</td>\n",
       "      <td>0.0</td>\n",
       "      <td>1.0</td>\n",
       "      <td>1.00</td>\n",
       "      <td>0.0</td>\n",
       "      <td>0.0</td>\n",
       "      <td>1.0</td>\n",
       "      <td>1.0</td>\n",
       "      <td>2.0</td>\n",
       "      <td>1.0</td>\n",
       "      <td>0.0</td>\n",
       "      <td>1.0</td>\n",
       "      <td>3.0</td>\n",
       "      <td>33.44</td>\n",
       "      <td>0.63</td>\n",
       "      <td>13.06</td>\n",
       "      <td>0.01</td>\n",
       "      <td>9.0</td>\n",
       "      <td>1.60</td>\n",
       "      <td>0.73</td>\n",
       "      <td>20.90</td>\n",
       "      <td>1.0</td>\n",
       "      <td>0.0</td>\n",
       "      <td>0.0</td>\n",
       "      <td>3.0</td>\n",
       "      <td>0.33</td>\n",
       "      <td>5.0</td>\n",
       "      <td>4.0</td>\n",
       "      <td>4.0</td>\n",
       "      <td>1.0</td>\n",
       "      <td>3.0</td>\n",
       "      <td>0.00</td>\n",
       "      <td>1.0</td>\n",
       "      <td>False</td>\n",
       "    </tr>\n",
       "    <tr>\n",
       "      <th>3</th>\n",
       "      <td>1.0</td>\n",
       "      <td>0.0</td>\n",
       "      <td>1.0</td>\n",
       "      <td>0.0</td>\n",
       "      <td>0.0</td>\n",
       "      <td>1.0</td>\n",
       "      <td>0.50</td>\n",
       "      <td>0.0</td>\n",
       "      <td>0.0</td>\n",
       "      <td>1.0</td>\n",
       "      <td>1.0</td>\n",
       "      <td>1.0</td>\n",
       "      <td>1.0</td>\n",
       "      <td>0.0</td>\n",
       "      <td>1.0</td>\n",
       "      <td>2.0</td>\n",
       "      <td>10.87</td>\n",
       "      <td>3.50</td>\n",
       "      <td>133.19</td>\n",
       "      <td>0.01</td>\n",
       "      <td>11.0</td>\n",
       "      <td>0.29</td>\n",
       "      <td>7.40</td>\n",
       "      <td>38.05</td>\n",
       "      <td>1.0</td>\n",
       "      <td>0.0</td>\n",
       "      <td>0.0</td>\n",
       "      <td>2.0</td>\n",
       "      <td>0.33</td>\n",
       "      <td>4.0</td>\n",
       "      <td>7.0</td>\n",
       "      <td>4.0</td>\n",
       "      <td>7.0</td>\n",
       "      <td>3.0</td>\n",
       "      <td>50.00</td>\n",
       "      <td>2.0</td>\n",
       "      <td>False</td>\n",
       "    </tr>\n",
       "    <tr>\n",
       "      <th>4</th>\n",
       "      <td>3.0</td>\n",
       "      <td>1.0</td>\n",
       "      <td>1.0</td>\n",
       "      <td>0.0</td>\n",
       "      <td>6.0</td>\n",
       "      <td>2.0</td>\n",
       "      <td>1.00</td>\n",
       "      <td>2.0</td>\n",
       "      <td>3.0</td>\n",
       "      <td>1.0</td>\n",
       "      <td>0.5</td>\n",
       "      <td>5.0</td>\n",
       "      <td>1.0</td>\n",
       "      <td>0.0</td>\n",
       "      <td>1.0</td>\n",
       "      <td>1.0</td>\n",
       "      <td>11.07</td>\n",
       "      <td>4.38</td>\n",
       "      <td>211.89</td>\n",
       "      <td>0.02</td>\n",
       "      <td>14.0</td>\n",
       "      <td>0.23</td>\n",
       "      <td>11.77</td>\n",
       "      <td>48.43</td>\n",
       "      <td>0.5</td>\n",
       "      <td>2.0</td>\n",
       "      <td>3.0</td>\n",
       "      <td>5.0</td>\n",
       "      <td>0.50</td>\n",
       "      <td>5.0</td>\n",
       "      <td>9.0</td>\n",
       "      <td>4.0</td>\n",
       "      <td>7.0</td>\n",
       "      <td>4.0</td>\n",
       "      <td>50.00</td>\n",
       "      <td>2.0</td>\n",
       "      <td>False</td>\n",
       "    </tr>\n",
       "  </tbody>\n",
       "</table>\n",
       "</div>"
      ],
      "text/plain": [
       "   BRANCH_COUNT  CALL_PAIRS  LOC_CODE_AND_COMMENT  LOC_COMMENTS  CONDITION_COUNT  CYCLOMATIC_COMPLEXITY  CYCLOMATIC_DENSITY  DECISION_COUNT  DECISION_DENSITY  DESIGN_COMPLEXITY  DESIGN_DENSITY  EDGE_COUNT  ESSENTIAL_COMPLEXITY  ESSENTIAL_DENSITY  LOC_EXECUTABLE  PARAMETER_COUNT  HALSTEAD_CONTENT  HALSTEAD_DIFFICULTY  HALSTEAD_EFFORT  HALSTEAD_ERROR_EST  HALSTEAD_LENGTH  HALSTEAD_LEVEL  HALSTEAD_PROG_TIME  HALSTEAD_VOLUME  MAINTENANCE_SEVERITY  MODIFIED_CONDITION_COUNT  MULTIPLE_CONDITION_COUNT  NODE_COUNT  NORMALIZED_CYLOMATIC_COMPLEXITY  NUM_OPERANDS  NUM_OPERATORS  NUM_UNIQUE_OPERANDS  NUM_UNIQUE_OPERATORS  NUMBER_OF_LINES  PERCENT_COMMENTS  LOC_TOTAL  defects\n",
       "0           1.0         4.0                   7.0          24.0              0.0                    1.0                0.13             0.0               0.0                1.0             1.0         6.0                   1.0                0.0             1.0              0.0             17.88                 7.43           986.77                0.04             34.0            0.13               54.82           132.83                   1.0                       0.0                       0.0         7.0                             0.03          13.0           21.0                  7.0                   8.0             34.0             96.88        8.0    False\n",
       "1           1.0         1.0                  11.0           3.0              0.0                    1.0                0.08             0.0               0.0                1.0             1.0         2.0                   1.0                0.0             1.0              0.0             42.62                 7.81          2598.31                0.11             77.0            0.13              144.35           332.79                   1.0                       0.0                       0.0         3.0                             0.06          29.0           48.0                 13.0                   7.0             17.0             93.33       12.0    False\n",
       "2           1.0         1.0                   0.0           0.0              0.0                    1.0                1.00             0.0               0.0                1.0             1.0         2.0                   1.0                0.0             1.0              3.0             33.44                 0.63            13.06                0.01              9.0            1.60                0.73            20.90                   1.0                       0.0                       0.0         3.0                             0.33           5.0            4.0                  4.0                   1.0              3.0              0.00        1.0    False\n",
       "3           1.0         0.0                   1.0           0.0              0.0                    1.0                0.50             0.0               0.0                1.0             1.0         1.0                   1.0                0.0             1.0              2.0             10.87                 3.50           133.19                0.01             11.0            0.29                7.40            38.05                   1.0                       0.0                       0.0         2.0                             0.33           4.0            7.0                  4.0                   7.0              3.0             50.00        2.0    False\n",
       "4           3.0         1.0                   1.0           0.0              6.0                    2.0                1.00             2.0               3.0                1.0             0.5         5.0                   1.0                0.0             1.0              1.0             11.07                 4.38           211.89                0.02             14.0            0.23               11.77            48.43                   0.5                       2.0                       3.0         5.0                             0.50           5.0            9.0                  4.0                   7.0              4.0             50.00        2.0    False"
      ]
     },
     "execution_count": 3,
     "metadata": {},
     "output_type": "execute_result"
    }
   ],
   "source": [
    "df = pd.read_pickle(f\"{ROOT}/data/data.pkl\")\n",
    "print(df.shape)\n",
    "df.head()"
   ]
  },
  {
   "attachments": {},
   "cell_type": "markdown",
   "metadata": {},
   "source": [
    "# Model"
   ]
  },
  {
   "cell_type": "code",
   "execution_count": 4,
   "metadata": {},
   "outputs": [
    {
     "name": "stdout",
     "output_type": "stream",
     "text": [
      "<class 'pandas.core.frame.DataFrame'>\n",
      "RangeIndex: 1290 entries, 0 to 1289\n",
      "Data columns (total 37 columns):\n",
      " #   Column                           Non-Null Count  Dtype  \n",
      "---  ------                           --------------  -----  \n",
      " 0   BRANCH_COUNT                     1290 non-null   float64\n",
      " 1   CALL_PAIRS                       1290 non-null   float64\n",
      " 2   LOC_CODE_AND_COMMENT             1290 non-null   float64\n",
      " 3   LOC_COMMENTS                     1290 non-null   float64\n",
      " 4   CONDITION_COUNT                  1290 non-null   float64\n",
      " 5   CYCLOMATIC_COMPLEXITY            1290 non-null   float64\n",
      " 6   CYCLOMATIC_DENSITY               1290 non-null   float64\n",
      " 7   DECISION_COUNT                   1290 non-null   float64\n",
      " 8   DECISION_DENSITY                 1290 non-null   float64\n",
      " 9   DESIGN_COMPLEXITY                1290 non-null   float64\n",
      " 10  DESIGN_DENSITY                   1290 non-null   float64\n",
      " 11  EDGE_COUNT                       1290 non-null   float64\n",
      " 12  ESSENTIAL_COMPLEXITY             1290 non-null   float64\n",
      " 13  ESSENTIAL_DENSITY                1290 non-null   float64\n",
      " 14  LOC_EXECUTABLE                   1290 non-null   float64\n",
      " 15  PARAMETER_COUNT                  1290 non-null   float64\n",
      " 16  HALSTEAD_CONTENT                 1290 non-null   float64\n",
      " 17  HALSTEAD_DIFFICULTY              1290 non-null   float64\n",
      " 18  HALSTEAD_EFFORT                  1290 non-null   float64\n",
      " 19  HALSTEAD_ERROR_EST               1290 non-null   float64\n",
      " 20  HALSTEAD_LENGTH                  1290 non-null   float64\n",
      " 21  HALSTEAD_LEVEL                   1290 non-null   float64\n",
      " 22  HALSTEAD_PROG_TIME               1290 non-null   float64\n",
      " 23  HALSTEAD_VOLUME                  1290 non-null   float64\n",
      " 24  MAINTENANCE_SEVERITY             1290 non-null   float64\n",
      " 25  MODIFIED_CONDITION_COUNT         1290 non-null   float64\n",
      " 26  MULTIPLE_CONDITION_COUNT         1290 non-null   float64\n",
      " 27  NODE_COUNT                       1290 non-null   float64\n",
      " 28  NORMALIZED_CYLOMATIC_COMPLEXITY  1290 non-null   float64\n",
      " 29  NUM_OPERANDS                     1290 non-null   float64\n",
      " 30  NUM_OPERATORS                    1290 non-null   float64\n",
      " 31  NUM_UNIQUE_OPERANDS              1290 non-null   float64\n",
      " 32  NUM_UNIQUE_OPERATORS             1290 non-null   float64\n",
      " 33  NUMBER_OF_LINES                  1290 non-null   float64\n",
      " 34  PERCENT_COMMENTS                 1290 non-null   float64\n",
      " 35  LOC_TOTAL                        1290 non-null   float64\n",
      " 36  defects                          1290 non-null   bool   \n",
      "dtypes: bool(1), float64(36)\n",
      "memory usage: 364.2 KB\n"
     ]
    }
   ],
   "source": [
    "df.info()"
   ]
  },
  {
   "cell_type": "code",
   "execution_count": 5,
   "metadata": {},
   "outputs": [
    {
     "data": {
      "text/plain": [
       "False    0.983721\n",
       "True     0.016279\n",
       "Name: defects, dtype: float64"
      ]
     },
     "execution_count": 5,
     "metadata": {},
     "output_type": "execute_result"
    }
   ],
   "source": [
    "target = 'defects'\n",
    "df[target].value_counts(normalize=True)"
   ]
  },
  {
   "attachments": {},
   "cell_type": "markdown",
   "metadata": {},
   "source": [
    "Dealing with `imbalanced` dataset"
   ]
  },
  {
   "cell_type": "code",
   "execution_count": 6,
   "metadata": {},
   "outputs": [
    {
     "name": "stdout",
     "output_type": "stream",
     "text": [
      "Number of features 36\n",
      "['BRANCH_COUNT', 'CALL_PAIRS', 'LOC_CODE_AND_COMMENT', 'LOC_COMMENTS', 'CONDITION_COUNT', 'CYCLOMATIC_COMPLEXITY', 'CYCLOMATIC_DENSITY', 'DECISION_COUNT', 'DECISION_DENSITY', 'DESIGN_COMPLEXITY', 'DESIGN_DENSITY', 'EDGE_COUNT', 'ESSENTIAL_COMPLEXITY', 'ESSENTIAL_DENSITY', 'LOC_EXECUTABLE', 'PARAMETER_COUNT', 'HALSTEAD_CONTENT', 'HALSTEAD_DIFFICULTY', 'HALSTEAD_EFFORT', 'HALSTEAD_ERROR_EST', 'HALSTEAD_LENGTH', 'HALSTEAD_LEVEL', 'HALSTEAD_PROG_TIME', 'HALSTEAD_VOLUME', 'MAINTENANCE_SEVERITY', 'MODIFIED_CONDITION_COUNT', 'MULTIPLE_CONDITION_COUNT', 'NODE_COUNT', 'NORMALIZED_CYLOMATIC_COMPLEXITY', 'NUM_OPERANDS', 'NUM_OPERATORS', 'NUM_UNIQUE_OPERANDS', 'NUM_UNIQUE_OPERATORS', 'NUMBER_OF_LINES', 'PERCENT_COMMENTS', 'LOC_TOTAL']\n"
     ]
    }
   ],
   "source": [
    "features = [c for c in df.columns if c != target]\n",
    "print(f\"Number of features {len(features)}\\n{features}\")"
   ]
  },
  {
   "cell_type": "code",
   "execution_count": 7,
   "metadata": {},
   "outputs": [],
   "source": [
    "from sklearn.preprocessing import StandardScaler\n",
    "from sklearn.metrics import precision_recall_curve, auc, make_scorer\n",
    "from sklearn.linear_model import LogisticRegression\n",
    "from sklearn.tree import DecisionTreeClassifier\n",
    "from sklearn.neighbors import KNeighborsClassifier\n",
    "from sklearn.svm import SVC\n",
    "from sklearn.model_selection import cross_val_score\n",
    "from sklearn.ensemble import RandomForestClassifier\n",
    "from imblearn.over_sampling import SMOTE\n",
    "from sklearn.model_selection import train_test_split\n",
    "import warnings\n",
    "\n",
    "scaler = StandardScaler()"
   ]
  },
  {
   "cell_type": "code",
   "execution_count": 8,
   "metadata": {},
   "outputs": [
    {
     "data": {
      "text/plain": [
       "((1290, 36), (1290,))"
      ]
     },
     "execution_count": 8,
     "metadata": {},
     "output_type": "execute_result"
    }
   ],
   "source": [
    "df_tmp = df.drop(target,axis=1)\n",
    "X = scaler.fit_transform(df.loc[:,features].values)\n",
    "y = df[target].values\n",
    "X.shape, y.shape"
   ]
  },
  {
   "attachments": {},
   "cell_type": "markdown",
   "metadata": {},
   "source": [
    "SMOTE to generate synthetic samples for the minority class."
   ]
  },
  {
   "cell_type": "code",
   "execution_count": 9,
   "metadata": {},
   "outputs": [
    {
     "name": "stdout",
     "output_type": "stream",
     "text": [
      "(2538, 36) (2538,)\n",
      "y - True values -> 1.63%,\n",
      "y_res - True values -> 50.0%\n"
     ]
    }
   ],
   "source": [
    "sm = SMOTE(random_state=42)\n",
    "X_res, y_res = sm.fit_resample(X, y)\n",
    "print(X_res.shape, y_res.shape)\n",
    "print(f\"y - True values -> {y.sum()/y.shape[0]*100:.2f}%,\\ny_res - True values -> {sum(y_res)/y_res.shape[0]*100}%\")"
   ]
  },
  {
   "cell_type": "code",
   "execution_count": 10,
   "metadata": {},
   "outputs": [],
   "source": [
    "models = {\n",
    "    \"LR\": LogisticRegression(),\n",
    "    \"DT\": DecisionTreeClassifier(),\n",
    "    \"KNN\": KNeighborsClassifier(),\n",
    "    \"SVC\" : SVC(probability=True),\n",
    "    \"RF\": RandomForestClassifier(),\n",
    "}\n",
    "\n",
    "def pr_auc(model, X, y):\n",
    "    model.fit(X, y)\n",
    "    y_prob = model.predict_proba(X)[:, 1]\n",
    "    precision, recall, thresholds = precision_recall_curve(y, y_prob)\n",
    "    pr_auc_r = auc(recall, precision)\n",
    "    # Plot the precision-recall curve\n",
    "    plt.plot(recall, precision, label=f\"PR AUC = {pr_auc_r:.2f}\")\n",
    "    plt.xlabel('Recall')\n",
    "    plt.ylabel('Precision')\n",
    "    plt.legend(loc='lower left')\n",
    "    plt.show()\n",
    "    return auc(recall, precision)\n",
    "    \n",
    "def train_models(x_pr,y_pr,x_cv,y_cv):\n",
    "    warnings.filterwarnings(\"ignore\")\n",
    "\n",
    "    best_pr = {'name_pr': None, 'pr_auc': 0 }\n",
    "    best_cv = {'name_cv' : None, 'mean': 0 }\n",
    "    for name,model in models.items():\n",
    "        \n",
    "        pr_auc_score = pr_auc(model,x_pr,y_pr)\n",
    "        \n",
    "        scores = cross_val_score(model, x_cv, y_cv, scoring='accuracy', cv=10)\n",
    "        mean = scores.mean()\n",
    "        std = scores.std()\n",
    "        \n",
    "        print (\"\\nModel %s\" % name)\n",
    "        print(f\"\\tPR AUC: {pr_auc_score:.3f}\")\n",
    "        print (\"\\tCV scores: \" +  \", \".join([f\"{s:.2f}\" for s in scores]))\n",
    "        print (f\"\\tmean={mean:.2%} std={std:.4f}\")\n",
    "        \n",
    "        if pr_auc_score>best_pr['pr_auc']:\n",
    "            best_pr = {'name_pr':name, 'pr_auc':pr_auc_score}\n",
    "            \n",
    "        if mean>best_cv['mean']:\n",
    "            best_cv = {'name_cv':name, 'mean':mean}\n",
    "            \n",
    "    print (f\"\\nBest Performing Model {best_pr['name_pr']} with PR AUC = {best_pr['pr_auc']:.2%}\" )\n",
    "    print (f\"\\nBest Performing Model {best_cv['name_cv']} with (mean CV of) accuracy = {best_cv['mean']:.2%}\" )\n",
    "    return best_pr['name_pr'],best_cv['name_cv']"
   ]
  },
  {
   "cell_type": "code",
   "execution_count": 11,
   "metadata": {},
   "outputs": [
    {
     "data": {
      "image/png": "[encoded data removed]",
      "text/plain": [
       "<Figure size 432x288 with 1 Axes>"
      ]
     },
     "metadata": {
      "needs_background": "light"
     },
     "output_type": "display_data"
    },
    {
     "name": "stdout",
     "output_type": "stream",
     "text": [
      "\n",
      "Model LR\n",
      "\tPR AUC: 0.287\n",
      "\tCV scores: 0.87, 0.87, 0.87, 0.86, 0.78, 0.85, 0.80, 0.86, 0.80, 0.79\n",
      "\tmean=83.53% std=0.0355\n"
     ]
    },
    {
     "data": {
      "image/png": "[encoded data removed]",
      "text/plain": [
       "<Figure size 432x288 with 1 Axes>"
      ]
     },
     "metadata": {
      "needs_background": "light"
     },
     "output_type": "display_data"
    },
    {
     "name": "stdout",
     "output_type": "stream",
     "text": [
      "\n",
      "Model DT\n",
      "\tPR AUC: 1.000\n",
      "\tCV scores: 0.94, 0.99, 0.98, 0.96, 0.96, 0.97, 0.97, 0.96, 0.97, 0.98\n",
      "\tmean=96.97% std=0.0135\n"
     ]
    },
    {
     "data": {
      "image/png": "[encoded data removed]",
      "text/plain": [
       "<Figure size 432x288 with 1 Axes>"
      ]
     },
     "metadata": {
      "needs_background": "light"
     },
     "output_type": "display_data"
    },
    {
     "name": "stdout",
     "output_type": "stream",
     "text": [
      "\n",
      "Model KNN\n",
      "\tPR AUC: 0.530\n",
      "\tCV scores: 0.96, 0.97, 0.97, 0.96, 0.92, 0.97, 0.94, 0.92, 0.94, 0.93\n",
      "\tmean=94.80% std=0.0209\n"
     ]
    },
    {
     "data": {
      "image/png": "[encoded data removed]",
      "text/plain": [
       "<Figure size 432x288 with 1 Axes>"
      ]
     },
     "metadata": {
      "needs_background": "light"
     },
     "output_type": "display_data"
    },
    {
     "name": "stdout",
     "output_type": "stream",
     "text": [
      "\n",
      "Model SVC\n",
      "\tPR AUC: 0.737\n",
      "\tCV scores: 0.92, 0.88, 0.85, 0.88, 0.83, 0.89, 0.85, 0.89, 0.85, 0.84\n",
      "\tmean=86.92% std=0.0255\n"
     ]
    },
    {
     "data": {
      "image/png": "[encoded data removed]",
      "text/plain": [
       "<Figure size 432x288 with 1 Axes>"
      ]
     },
     "metadata": {
      "needs_background": "light"
     },
     "output_type": "display_data"
    },
    {
     "name": "stdout",
     "output_type": "stream",
     "text": [
      "\n",
      "Model RF\n",
      "\tPR AUC: 1.000\n",
      "\tCV scores: 0.95, 1.00, 1.00, 1.00, 0.99, 0.99, 0.99, 0.99, 0.97, 0.99\n",
      "\tmean=98.66% std=0.0131\n",
      "\n",
      "Best Performing Model DT with PR AUC = 100.00%\n",
      "\n",
      "Best Performing Model RF with (mean CV of) accuracy = 98.66%\n"
     ]
    }
   ],
   "source": [
    "best_model_cross_val, best_model_pr_auc = train_models(X,y,X_res,y_res)"
   ]
  },
  {
   "cell_type": "code",
   "execution_count": 12,
   "metadata": {},
   "outputs": [
    {
     "name": "stdout",
     "output_type": "stream",
     "text": [
      "Number of features starting: 36\n"
     ]
    }
   ],
   "source": [
    "print(\"Number of features starting:\", len(features))"
   ]
  },
  {
   "cell_type": "code",
   "execution_count": 13,
   "metadata": {},
   "outputs": [
    {
     "name": "stdout",
     "output_type": "stream",
     "text": [
      "Optimal number of features : 31\n"
     ]
    },
    {
     "data": {
      "image/png": "[encoded data removed]",
      "text/plain": [
       "<Figure size 432x288 with 1 Axes>"
      ]
     },
     "metadata": {
      "needs_background": "light"
     },
     "output_type": "display_data"
    }
   ],
   "source": [
    "from sklearn.model_selection import StratifiedKFold\n",
    "from sklearn.feature_selection import RFECV\n",
    "\n",
    "name = best_model_pr_auc\n",
    "model = models[name]\n",
    "\n",
    "def pr_auc_scorer(y_true, y_prob):\n",
    "    precision, recall, thresholds = precision_recall_curve(y_true, y_prob)\n",
    "    return auc(recall, precision)\n",
    "\n",
    "rfecv = RFECV(estimator=model, step=1, cv=5, scoring=make_scorer(pr_auc_scorer, needs_proba=True),n_jobs=-1)\n",
    "rfecv.fit(X, y)\n",
    "print(\"Optimal number of features : %d\" % rfecv.n_features_)\n",
    "\n",
    "plt.figure()\n",
    "plt.title(f\"{name} with RFECV\")\n",
    "plt.xlabel(\"Number of features selected\")\n",
    "plt.ylabel(\"Cross validation score\")\n",
    "results = rfecv.cv_results_\n",
    "plt.plot(range(1, len(results['mean_test_score']) + 1), results['split0_test_score'], label='split0')\n",
    "plt.plot(range(1, len(results['mean_test_score']) + 1), results['split1_test_score'], label='split1')\n",
    "plt.plot(range(1, len(results['mean_test_score']) + 1), results['mean_test_score'], label='mean')\n",
    "plt.legend()\n",
    "plt.show()"
   ]
  },
  {
   "cell_type": "code",
   "execution_count": 14,
   "metadata": {},
   "outputs": [
    {
     "data": {
      "text/plain": [
       "(36, 36)"
      ]
     },
     "execution_count": 14,
     "metadata": {},
     "output_type": "execute_result"
    }
   ],
   "source": [
    "len(rfecv.support_), len(features)"
   ]
  },
  {
   "cell_type": "code",
   "execution_count": 15,
   "metadata": {},
   "outputs": [
    {
     "name": "stdout",
     "output_type": "stream",
     "text": [
      "31\n"
     ]
    },
    {
     "data": {
      "text/plain": [
       "['CALL_PAIRS',\n",
       " 'LOC_CODE_AND_COMMENT',\n",
       " 'LOC_COMMENTS',\n",
       " 'CONDITION_COUNT',\n",
       " 'CYCLOMATIC_COMPLEXITY',\n",
       " 'CYCLOMATIC_DENSITY',\n",
       " 'DECISION_DENSITY',\n",
       " 'DESIGN_COMPLEXITY',\n",
       " 'DESIGN_DENSITY',\n",
       " 'EDGE_COUNT',\n",
       " 'LOC_EXECUTABLE',\n",
       " 'PARAMETER_COUNT',\n",
       " 'HALSTEAD_CONTENT',\n",
       " 'HALSTEAD_DIFFICULTY',\n",
       " 'HALSTEAD_EFFORT',\n",
       " 'HALSTEAD_ERROR_EST',\n",
       " 'HALSTEAD_LENGTH',\n",
       " 'HALSTEAD_LEVEL',\n",
       " 'HALSTEAD_PROG_TIME',\n",
       " 'HALSTEAD_VOLUME',\n",
       " 'MAINTENANCE_SEVERITY',\n",
       " 'MULTIPLE_CONDITION_COUNT',\n",
       " 'NODE_COUNT',\n",
       " 'NORMALIZED_CYLOMATIC_COMPLEXITY',\n",
       " 'NUM_OPERANDS',\n",
       " 'NUM_OPERATORS',\n",
       " 'NUM_UNIQUE_OPERANDS',\n",
       " 'NUM_UNIQUE_OPERATORS',\n",
       " 'NUMBER_OF_LINES',\n",
       " 'PERCENT_COMMENTS',\n",
       " 'LOC_TOTAL']"
      ]
     },
     "execution_count": 15,
     "metadata": {},
     "output_type": "execute_result"
    }
   ],
   "source": [
    "# list of features selected\n",
    "if len(rfecv.support_)<len(features):\n",
    "    print(\"It looks like you have run cells out of order. Runn cells from Pre-Processing Data (2)\")\n",
    "\n",
    "features_selected_pr = np.array(features)[rfecv.support_].tolist()\n",
    "print(len(features_selected_pr))\n",
    "features_selected_pr"
   ]
  },
  {
   "cell_type": "code",
   "execution_count": 16,
   "metadata": {},
   "outputs": [
    {
     "name": "stdout",
     "output_type": "stream",
     "text": [
      "Optimal number of features : 30\n"
     ]
    },
    {
     "data": {
      "image/png": "[encoded data removed]",
      "text/plain": [
       "<Figure size 432x288 with 1 Axes>"
      ]
     },
     "metadata": {
      "needs_background": "light"
     },
     "output_type": "display_data"
    }
   ],
   "source": [
    "from sklearn.model_selection import StratifiedKFold\n",
    "from sklearn.feature_selection import RFECV\n",
    "\n",
    "name = best_model_cross_val\n",
    "model = models[name]\n",
    "\n",
    "rfecv = RFECV(estimator=model, step=1, cv=StratifiedKFold(2), scoring=\"accuracy\",n_jobs=-1)\n",
    "rfecv.fit(X_res, y_res)\n",
    "print(\"Optimal number of features : %d\" % rfecv.n_features_)\n",
    "\n",
    "# Plot number of features VS. cross-validation scores\n",
    "plt.figure()\n",
    "plt.title(f\"{name} with RFECV\")\n",
    "plt.xlabel(\"Number of features selected\")\n",
    "plt.ylabel(\"Cross validation score\")\n",
    "results = rfecv.cv_results_\n",
    "plt.plot(range(1, len(results['mean_test_score']) + 1), results['split0_test_score'], label='split0')\n",
    "plt.plot(range(1, len(results['mean_test_score']) + 1), results['split1_test_score'], label='split1')\n",
    "plt.plot(range(1, len(results['mean_test_score']) + 1), results['mean_test_score'], label='mean')\n",
    "plt.legend()\n",
    "plt.show()"
   ]
  },
  {
   "cell_type": "code",
   "execution_count": 17,
   "metadata": {},
   "outputs": [
    {
     "data": {
      "text/plain": [
       "(36, 36)"
      ]
     },
     "execution_count": 17,
     "metadata": {},
     "output_type": "execute_result"
    }
   ],
   "source": [
    "len(rfecv.support_), len(features)"
   ]
  },
  {
   "cell_type": "code",
   "execution_count": 18,
   "metadata": {},
   "outputs": [
    {
     "name": "stdout",
     "output_type": "stream",
     "text": [
      "30\n"
     ]
    },
    {
     "data": {
      "text/plain": [
       "['CALL_PAIRS',\n",
       " 'LOC_CODE_AND_COMMENT',\n",
       " 'LOC_COMMENTS',\n",
       " 'CYCLOMATIC_COMPLEXITY',\n",
       " 'CYCLOMATIC_DENSITY',\n",
       " 'DECISION_COUNT',\n",
       " 'DECISION_DENSITY',\n",
       " 'DESIGN_COMPLEXITY',\n",
       " 'DESIGN_DENSITY',\n",
       " 'EDGE_COUNT',\n",
       " 'ESSENTIAL_COMPLEXITY',\n",
       " 'ESSENTIAL_DENSITY',\n",
       " 'LOC_EXECUTABLE',\n",
       " 'PARAMETER_COUNT',\n",
       " 'HALSTEAD_CONTENT',\n",
       " 'HALSTEAD_DIFFICULTY',\n",
       " 'HALSTEAD_EFFORT',\n",
       " 'HALSTEAD_LEVEL',\n",
       " 'HALSTEAD_PROG_TIME',\n",
       " 'MAINTENANCE_SEVERITY',\n",
       " 'MODIFIED_CONDITION_COUNT',\n",
       " 'MULTIPLE_CONDITION_COUNT',\n",
       " 'NODE_COUNT',\n",
       " 'NORMALIZED_CYLOMATIC_COMPLEXITY',\n",
       " 'NUM_OPERANDS',\n",
       " 'NUM_OPERATORS',\n",
       " 'NUM_UNIQUE_OPERANDS',\n",
       " 'NUM_UNIQUE_OPERATORS',\n",
       " 'NUMBER_OF_LINES',\n",
       " 'PERCENT_COMMENTS']"
      ]
     },
     "execution_count": 18,
     "metadata": {},
     "output_type": "execute_result"
    }
   ],
   "source": [
    "# list of features selected\n",
    "if len(rfecv.support_)<len(features):\n",
    "    print(\"It looks like you have run cells out of order. Runn cells from Pre-Processing Data (2)\")\n",
    "\n",
    "features_selected_cv = np.array(features)[rfecv.support_].tolist()\n",
    "print(len(features_selected_cv))\n",
    "features_selected_cv"
   ]
  },
  {
   "cell_type": "code",
   "execution_count": 19,
   "metadata": {},
   "outputs": [],
   "source": [
    "# normalise \n",
    "X_pr = scaler.fit_transform(df.loc[:,features_selected_pr].values)\n",
    "y_pr = df[target].values\n",
    "X_cv = scaler.fit_transform(df.loc[:,features_selected_cv].values)\n",
    "X_cv, y_cv = sm.fit_resample(X_pr, y_pr)"
   ]
  },
  {
   "cell_type": "code",
   "execution_count": 20,
   "metadata": {},
   "outputs": [
    {
     "data": {
      "image/png": "[encoded data removed]",
      "text/plain": [
       "<Figure size 432x288 with 1 Axes>"
      ]
     },
     "metadata": {
      "needs_background": "light"
     },
     "output_type": "display_data"
    },
    {
     "name": "stdout",
     "output_type": "stream",
     "text": [
      "\n",
      "Model LR\n",
      "\tPR AUC: 0.258\n",
      "\tCV scores: 0.89, 0.84, 0.87, 0.83, 0.77, 0.84, 0.80, 0.85, 0.80, 0.80\n",
      "\tmean=82.86% std=0.0349\n"
     ]
    },
    {
     "data": {
      "image/png": "[encoded data removed]",
      "text/plain": [
       "<Figure size 432x288 with 1 Axes>"
      ]
     },
     "metadata": {
      "needs_background": "light"
     },
     "output_type": "display_data"
    },
    {
     "name": "stdout",
     "output_type": "stream",
     "text": [
      "\n",
      "Model DT\n",
      "\tPR AUC: 1.000\n",
      "\tCV scores: 0.94, 0.98, 0.98, 0.97, 0.96, 0.98, 0.96, 0.97, 0.98, 0.97\n",
      "\tmean=97.12% std=0.0126\n"
     ]
    },
    {
     "data": {
      "image/png": "[encoded data removed]",
      "text/plain": [
       "<Figure size 432x288 with 1 Axes>"
      ]
     },
     "metadata": {
      "needs_background": "light"
     },
     "output_type": "display_data"
    },
    {
     "name": "stdout",
     "output_type": "stream",
     "text": [
      "\n",
      "Model KNN\n",
      "\tPR AUC: 0.489\n",
      "\tCV scores: 0.96, 0.97, 0.97, 0.96, 0.91, 0.96, 0.94, 0.92, 0.94, 0.93\n",
      "\tmean=94.64% std=0.0207\n"
     ]
    },
    {
     "data": {
      "image/png": "[encoded data removed]",
      "text/plain": [
       "<Figure size 432x288 with 1 Axes>"
      ]
     },
     "metadata": {
      "needs_background": "light"
     },
     "output_type": "display_data"
    },
    {
     "name": "stdout",
     "output_type": "stream",
     "text": [
      "\n",
      "Model SVC\n",
      "\tPR AUC: 0.698\n",
      "\tCV scores: 0.90, 0.89, 0.87, 0.88, 0.84, 0.90, 0.85, 0.88, 0.85, 0.83\n",
      "\tmean=87.00% std=0.0236\n"
     ]
    },
    {
     "data": {
      "image/png": "[encoded data removed]",
      "text/plain": [
       "<Figure size 432x288 with 1 Axes>"
      ]
     },
     "metadata": {
      "needs_background": "light"
     },
     "output_type": "display_data"
    },
    {
     "name": "stdout",
     "output_type": "stream",
     "text": [
      "\n",
      "Model RF\n",
      "\tPR AUC: 1.000\n",
      "\tCV scores: 0.96, 1.00, 1.00, 0.99, 0.99, 0.98, 0.99, 0.99, 0.98, 0.98\n",
      "\tmean=98.86% std=0.0097\n",
      "\n",
      "Best Performing Model DT with PR AUC = 100.00%\n",
      "\n",
      "Best Performing Model RF with (mean CV of) accuracy = 98.86%\n"
     ]
    },
    {
     "data": {
      "text/plain": [
       "('DT', 'RF')"
      ]
     },
     "execution_count": 20,
     "metadata": {},
     "output_type": "execute_result"
    }
   ],
   "source": [
    "train_models(X_pr,y_pr,X_cv,y_cv)"
   ]
  }
 ],
 "metadata": {
  "kernelspec": {
   "display_name": "Python 3",
   "language": "python",
   "name": "python3"
  },
  "language_info": {
   "codemirror_mode": {
    "name": "ipython",
    "version": 3
   },
   "file_extension": ".py",
   "mimetype": "text/x-python",
   "name": "python",
   "nbconvert_exporter": "python",
   "pygments_lexer": "ipython3",
   "version": "3.10.6"
  },
  "orig_nbformat": 4
 },
 "nbformat": 4,
 "nbformat_minor": 2
}
