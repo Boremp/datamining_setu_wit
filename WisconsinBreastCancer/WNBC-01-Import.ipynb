{
 "cells": [
  {
   "attachments": {},
   "cell_type": "markdown",
   "metadata": {},
   "source": [
    "# Wisconsin Breast Cancer - Import"
   ]
  },
  {
   "attachments": {},
   "cell_type": "markdown",
   "metadata": {},
   "source": [
    "## Setup"
   ]
  },
  {
   "cell_type": "code",
   "execution_count": null,
   "metadata": {},
   "outputs": [],
   "source": [
    "import numpy as np\n",
    "import pandas as pd\n",
    "import matplotlib.pyplot as plt\n",
    "import seaborn as sns\n",
    "from scipy import stats\n",
    "import yaml, time, sys, os\n",
    "\n",
    "from IPython.display import display, Markdown\n",
    "plt.style.use(\"seaborn-darkgrid\")\n",
    "pd.set_option('display.max_columns', None)  \n",
    "sns.set_style(\"darkgrid\")\n",
    "\n",
    "DATASET = \"BC_Wisconsin\"\n",
    "\n",
    "COLAB = 'google.colab' in sys.modules\n",
    "if COLAB:\n",
    "    ROOT = f\"/content/gdrive/MyDrive/datasets/{DATASET.replace(' ','_')}/\"\n",
    "else:\n",
    "    ROOT = \"./\"\n",
    "\n",
    "DEBUG = True\n"
   ]
  },
  {
   "cell_type": "code",
   "execution_count": null,
   "metadata": {},
   "outputs": [],
   "source": [
    "if COLAB:\n",
    "  from google.colab import drive\n",
    "  if not os.path.isdir(\"/content/gdrive\"):\n",
    "    drive.mount(\"/content/gdrive\")\n",
    "    d = \"/content/gdrive/MyDrive/datasets\"\n",
    "    if not os.path.isdir(d): os.makedirs(d)\n",
    "  if not os.path.isdir(ROOT): os.makedirs(ROOT)\n",
    "\n",
    "def makedirs(d):\n",
    "  if COLAB:\n",
    "    if not os.path.isdir(ROOT+d): os.makedirs(ROOT+d)\n",
    "  else:\n",
    "    if not os.path.isdir(ROOT+d): os.makedirs(ROOT+d, mode=0o777, exist_ok=True)\n",
    "\n",
    "for d in ['orig','data','output']: makedirs(d)\n"
   ]
  },
  {
   "attachments": {},
   "cell_type": "markdown",
   "metadata": {},
   "source": [
    "## Load Dataset"
   ]
  },
  {
   "cell_type": "code",
   "execution_count": null,
   "metadata": {},
   "outputs": [],
   "source": [
    "UCI = \"https://archive.ics.uci.edu/ml/machine-learning-databases/breast-cancer-wisconsin/\"\n",
    "\n",
    "for filename in [\"wdbc.data\", \"wdbc.names\"]:\n",
    "    source = f\"{UCI}/{filename}\"\n",
    "    target = f\"{ROOT}/orig/{filename}\"\n",
    "    if not os.path.isfile(target):\n",
    "        print (f\"Downloading remote file {filename}\", sep=\"\")\n",
    "        import urllib.request\n",
    "        urllib.request.urlretrieve(source, target)\n",
    "    else:\n",
    "        print(f\"Using local copy of {filename}\")\n"
   ]
  },
  {
   "cell_type": "code",
   "execution_count": null,
   "metadata": {},
   "outputs": [],
   "source": [
    "names = ['id_number', 'diagnosis', 'radius_mean', \n",
    "         'texture_mean', 'perimeter_mean', 'area_mean', \n",
    "         'smoothness_mean', 'compactness_mean', 'concavity_mean',\n",
    "         'concave_points_mean', 'symmetry_mean', \n",
    "         'fractal_dimension_mean', 'radius_se', 'texture_se', \n",
    "         'perimeter_se', 'area_se', 'smoothness_se', \n",
    "         'compactness_se', 'concavity_se', 'concave_points_se', \n",
    "         'symmetry_se', 'fractal_dimension_se', \n",
    "         'radius_worst', 'texture_worst', 'perimeter_worst',\n",
    "         'area_worst', 'smoothness_worst', \n",
    "         'compactness_worst', 'concavity_worst', \n",
    "         'concave_points_worst', 'symmetry_worst', \n",
    "         'fractal_dimension_worst'] \n",
    "\n",
    "if not os.path.isfile(f\"{ROOT}/data/wdbc.data\"):\n",
    "    print(\"Reading original data ...\")\n",
    "    df = pd.read_csv(f\"{ROOT}/orig/wdbc.data\",header=None, names=names)\n",
    "\n",
    "    print(\"Encoding target ...\")\n",
    "    df.diagnosis = df.diagnosis.map( {\"M\":0, \"B\":1} )\n",
    "\n",
    "    print(\"Drop unique identifieer ...\")\n",
    "    df.drop(columns=[\"id_number\"], inplace=True)\n",
    "\n",
    "    print(\"Save to folder data/  ...\")\n",
    "    df.to_csv(f\"{ROOT}/data/wdbc.data\", index=False)\n",
    "\n",
    "print(\"Load from folder data/ ...\")\n",
    "df = pd.read_csv(f\"{ROOT}/data/wdbc.data\")\n",
    "\n",
    "print(df.shape)\n",
    "df.head(10)"
   ]
  },
  {
   "attachments": {},
   "cell_type": "markdown",
   "metadata": {},
   "source": [
    "## Preprocessing"
   ]
  },
  {
   "cell_type": "code",
   "execution_count": null,
   "metadata": {},
   "outputs": [],
   "source": [
    "X = df.values[:,1:]\n",
    "y = df.diagnosis.values\n",
    "X.shape, y.shape"
   ]
  },
  {
   "attachments": {},
   "cell_type": "markdown",
   "metadata": {},
   "source": [
    "## Model Selection"
   ]
  },
  {
   "cell_type": "code",
   "execution_count": null,
   "metadata": {},
   "outputs": [],
   "source": [
    "from sklearn.ensemble import RandomForestClassifier"
   ]
  },
  {
   "attachments": {},
   "cell_type": "markdown",
   "metadata": {},
   "source": [
    "## Baseline Model"
   ]
  },
  {
   "cell_type": "code",
   "execution_count": null,
   "metadata": {},
   "outputs": [],
   "source": [
    "from sklearn.model_selection import cross_val_score\n",
    "\n",
    "model = RandomForestClassifier()\n",
    "scores = cross_val_score(model, X, y, cv=10)\n",
    "scores.mean(), scores.std()\n"
   ]
  },
  {
   "attachments": {},
   "cell_type": "markdown",
   "metadata": {},
   "source": [
    "## Grid Search"
   ]
  },
  {
   "attachments": {},
   "cell_type": "markdown",
   "metadata": {},
   "source": [
    "Import module"
   ]
  },
  {
   "cell_type": "code",
   "execution_count": null,
   "metadata": {},
   "outputs": [],
   "source": [
    "from sklearn.model_selection import GridSearchCV"
   ]
  },
  {
   "attachments": {},
   "cell_type": "markdown",
   "metadata": {},
   "source": [
    "Defining the parameter search space"
   ]
  },
  {
   "cell_type": "code",
   "execution_count": null,
   "metadata": {},
   "outputs": [],
   "source": [
    "parameter_space = {\n",
    "    \"criterion\": ['gini', 'entropy'],\n",
    "    'max_depth': range(1,20),\n",
    "    'max_features': np.linspace(0.1, 0.9, 9),\n",
    "    \"n_estimators\": range(2,21),\n",
    "}"
   ]
  },
  {
   "attachments": {},
   "cell_type": "markdown",
   "metadata": {},
   "source": [
    "Defining the search"
   ]
  },
  {
   "cell_type": "code",
   "execution_count": null,
   "metadata": {},
   "outputs": [],
   "source": [
    "grid_search = GridSearchCV(model, parameter_space, n_jobs=-1)"
   ]
  },
  {
   "attachments": {},
   "cell_type": "markdown",
   "metadata": {},
   "source": [
    "Carring out  the search"
   ]
  },
  {
   "cell_type": "code",
   "execution_count": null,
   "metadata": {},
   "outputs": [],
   "source": [
    "start = time.time()\n",
    "grid_search.fit(X, y)\n",
    "end = time.time()"
   ]
  },
  {
   "attachments": {},
   "cell_type": "markdown",
   "metadata": {},
   "source": [
    "Reporting results"
   ]
  },
  {
   "cell_type": "code",
   "execution_count": null,
   "metadata": {},
   "outputs": [],
   "source": [
    "print(\"Fit Time:\", end - start)\n",
    "print(\"Best param:\", grid_search.best_params_)\n",
    "print(\"Best score:\", grid_search.best_score_)"
   ]
  },
  {
   "attachments": {},
   "cell_type": "markdown",
   "metadata": {},
   "source": [
    "## Optuna"
   ]
  },
  {
   "attachments": {},
   "cell_type": "markdown",
   "metadata": {},
   "source": [
    "Import module"
   ]
  },
  {
   "cell_type": "code",
   "execution_count": null,
   "metadata": {},
   "outputs": [],
   "source": [
    "import optuna"
   ]
  },
  {
   "attachments": {},
   "cell_type": "markdown",
   "metadata": {},
   "source": [
    "Define objective function (to maximise/minimise) "
   ]
  },
  {
   "cell_type": "code",
   "execution_count": null,
   "metadata": {},
   "outputs": [],
   "source": [
    "def objective(trial):\n",
    "\n",
    "    # Parameter space\n",
    "    parameter_space = {\n",
    "        \"criterion\": trial.suggest_categorical('criterion', ['gini','entropy']),\n",
    "        \"max_depth\": trial.suggest_int(\"max_depth\", 1, 20),\n",
    "        \"max_features\": trial.suggest_float(\"max_features\", 0.1, 0.9),\n",
    "        \"n_estimators\": trial.suggest_int(\"n_estimators\", 2, 10),\n",
    "    }\n",
    "\n",
    "    # Setup model using hyper-parameters values\n",
    "    model = RandomForestClassifier(**parameter_space)\n",
    "\n",
    "    # Scoring model\n",
    "    score = cross_val_score(model, X, y, n_jobs=-1, cv=10)\n",
    "\n",
    "    return score.mean()"
   ]
  },
  {
   "attachments": {},
   "cell_type": "markdown",
   "metadata": {},
   "source": [
    "Defining the search"
   ]
  },
  {
   "cell_type": "code",
   "execution_count": null,
   "metadata": {},
   "outputs": [],
   "source": [
    "study = optuna.create_study(direction=\"maximize\")"
   ]
  },
  {
   "attachments": {},
   "cell_type": "markdown",
   "metadata": {},
   "source": [
    "Carring out  the search"
   ]
  },
  {
   "cell_type": "code",
   "execution_count": null,
   "metadata": {},
   "outputs": [],
   "source": [
    "start = time.time()\n",
    "study.optimize(objective, n_trials=100)\n",
    "end = time.time()"
   ]
  },
  {
   "cell_type": "markdown",
   "metadata": {},
   "source": [
    "Reporting results"
   ]
  },
  {
   "cell_type": "code",
   "execution_count": null,
   "metadata": {},
   "outputs": [],
   "source": [
    "print(\"Fit Time:\", end - start)\n",
    "print(\"Best Param:\", study.best_params)\n",
    "print(\"Best score:\", study.best_value)"
   ]
  },
  {
   "attachments": {},
   "cell_type": "markdown",
   "metadata": {},
   "source": [
    "## Hyperopt"
   ]
  },
  {
   "cell_type": "code",
   "execution_count": 78,
   "metadata": {},
   "outputs": [],
   "source": [
    "from hyperopt import fmin, tpe, hp, STATUS_OK, Trials"
   ]
  },
  {
   "cell_type": "code",
   "execution_count": 79,
   "metadata": {},
   "outputs": [],
   "source": [
    "parmeter_space = {\n",
    "    'criterion': hp.choice('criterion', [\"gini\", \"entropy\"]),\n",
    "    'max_depth': hp.choice('max_depth', range(1,20)),\n",
    "    'max_features': hp.uniform('max_features', 0.1,0.9),\n",
    "    'n_estimators': hp.choice('n_estimators', range(1,10)),\n",
    "}"
   ]
  },
  {
   "cell_type": "code",
   "execution_count": 80,
   "metadata": {},
   "outputs": [],
   "source": [
    "def objective(params):\n",
    "    model = RandomForestClassifier(**params)\n",
    "    return cross_val_score(model, X, y).mean()"
   ]
  },
  {
   "cell_type": "code",
   "execution_count": 81,
   "metadata": {},
   "outputs": [],
   "source": [
    "best = 0\n",
    "best_param = {}\n",
    "\n",
    "def f(params):\n",
    "    global best, best_param\n",
    "    acc = objective(params)\n",
    "    if acc > best:\n",
    "        best = acc\n",
    "        best_param = params\n",
    "        print( 'new best:', best, params)\n",
    "    return {'loss': -acc, 'status': STATUS_OK}\n",
    "trials = Trials()"
   ]
  },
  {
   "cell_type": "code",
   "execution_count": 82,
   "metadata": {},
   "outputs": [
    {
     "name": "stdout",
     "output_type": "stream",
     "text": [
      "new best:                                              \n",
      "0.9209594783418724                                     \n",
      "{'criterion': 'entropy', 'max_depth': 1, 'max_features': 0.8125342871681082, 'n_estimators': 5}\n",
      "new best:                                                                         \n",
      "0.9508306163639186                                                                \n",
      "{'criterion': 'entropy', 'max_depth': 11, 'max_features': 0.2761617577615303, 'n_estimators': 9}\n",
      "new best:                                                                         \n",
      "0.9525384257102933                                                                \n",
      "{'criterion': 'gini', 'max_depth': 15, 'max_features': 0.6760393398030533, 'n_estimators': 6}\n",
      "new best:                                                                         \n",
      "0.9596335972675052                                                                \n",
      "{'criterion': 'gini', 'max_depth': 9, 'max_features': 0.7561581423414493, 'n_estimators': 9}\n",
      "new best:                                                                          \n",
      "0.9631113181183046                                                                 \n",
      "{'criterion': 'entropy', 'max_depth': 16, 'max_features': 0.5631512680915749, 'n_estimators': 9}\n",
      "new best:                                                                          \n",
      "0.9666356155876418                                                                 \n",
      "{'criterion': 'entropy', 'max_depth': 8, 'max_features': 0.22090615287571563, 'n_estimators': 9}\n",
      "new best:                                                                           \n",
      "0.9701288619779538                                                                  \n",
      "{'criterion': 'entropy', 'max_depth': 5, 'max_features': 0.23492833392247894, 'n_estimators': 9}\n",
      "100%|██████████| 300/300 [00:31<00:00,  9.48trial/s, best loss: -0.9701288619779538]\n"
     ]
    }
   ],
   "source": [
    "start = time.time()\n",
    "hyperopt_search = fmin(f, parmeter_space, algo=tpe.suggest, max_evals=300, trials=trials)\n",
    "end = time.time()"
   ]
  },
  {
   "cell_type": "code",
   "execution_count": 83,
   "metadata": {},
   "outputs": [
    {
     "name": "stdout",
     "output_type": "stream",
     "text": [
      "Fit Time: 31.647873878479004\n",
      "Best Param: {'criterion': 'entropy', 'max_depth': 5, 'max_features': 0.23492833392247894, 'n_estimators': 9}\n",
      "Best score: 0.9701288619779538\n"
     ]
    }
   ],
   "source": [
    "print(\"Fit Time:\", end - start)\n",
    "print(\"Best Param:\", best_param)\n",
    "print(\"Best score:\", best)"
   ]
  }
 ],
 "metadata": {
  "kernelspec": {
   "display_name": "base",
   "language": "python",
   "name": "python3"
  },
  "language_info": {
   "codemirror_mode": {
    "name": "ipython",
    "version": 3
   },
   "file_extension": ".py",
   "mimetype": "text/x-python",
   "name": "python",
   "nbconvert_exporter": "python",
   "pygments_lexer": "ipython3",
   "version": "3.10.6"
  },
  "orig_nbformat": 4
 },
 "nbformat": 4,
 "nbformat_minor": 2
}
